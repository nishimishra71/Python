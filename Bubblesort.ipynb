{
 "cells": [
  {
   "cell_type": "code",
   "execution_count": 16,
   "metadata": {},
   "outputs": [
    {
     "name": "stdout",
     "output_type": "stream",
     "text": [
      "[1, 2, 3, 4, 5, 7, 76, 89]\n"
     ]
    }
   ],
   "source": [
    "def bsort(List1=[]):\n",
    "    l = len(List1)\n",
    "    for i in range (l):\n",
    "        for j in range (0,l-i-1):\n",
    "            if List1[j]> List1[j+1]:\n",
    "                temp =List1[j]\n",
    "                List1[j]= List1[j+1]\n",
    "                List1[j+1]= temp\n",
    "    return List1            \n",
    "num =[4,76,1,7,89,5,3,2]\n",
    "bsort(num)\n",
    "print(num)"
   ]
  },
  {
   "cell_type": "code",
   "execution_count": null,
   "metadata": {},
   "outputs": [],
   "source": []
  }
 ],
 "metadata": {
  "kernelspec": {
   "display_name": "Python 3",
   "language": "python",
   "name": "python3"
  },
  "language_info": {
   "codemirror_mode": {
    "name": "ipython",
    "version": 3
   },
   "file_extension": ".py",
   "mimetype": "text/x-python",
   "name": "python",
   "nbconvert_exporter": "python",
   "pygments_lexer": "ipython3",
   "version": "3.7.3"
  }
 },
 "nbformat": 4,
 "nbformat_minor": 2
}
