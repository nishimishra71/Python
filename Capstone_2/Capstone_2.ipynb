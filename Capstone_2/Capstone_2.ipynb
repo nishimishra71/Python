{
 "cells": [
  {
   "cell_type": "markdown",
   "metadata": {},
   "source": [
    "#                              Yelp review dataset analysis"
   ]
  },
  {
   "cell_type": "code",
   "execution_count": 460,
   "metadata": {},
   "outputs": [],
   "source": [
    "## Importing necessary modules\n",
    "import pandas as pd\n",
    "import matplotlib.pyplot as plt\n",
    "import seaborn as sns\n",
    "import numpy as np\n"
   ]
  },
  {
   "cell_type": "code",
   "execution_count": 461,
   "metadata": {},
   "outputs": [],
   "source": [
    "## Modules for Data PreProcessing and text visualization\n",
    "import nltk\n",
    "from collections import Counter\n",
    "from bs4 import BeautifulSoup\n",
    "from nltk.corpus import stopwords\n",
    "from nltk.tokenize import RegexpTokenizer\n",
    "from nltk.stem import WordNetLemmatizer\n",
    "from nltk.stem.porter import PorterStemmer\n",
    "from nltk.tokenize import sent_tokenize,word_tokenize\n",
    "import string\n",
    "from textblob import TextBlob\n",
    "from itertools import islice\n",
    "from wordcloud import STOPWORDS\n",
    "from wordcloud import WordCloud"
   ]
  },
  {
   "cell_type": "code",
   "execution_count": 462,
   "metadata": {},
   "outputs": [],
   "source": [
    "## Importing necessary modelues for Model Building\n",
    "from sklearn.naive_bayes import MultinomialNB\n",
    "from sklearn.feature_extraction.text import TfidfVectorizer \n",
    "from sklearn.feature_extraction.text import CountVectorizer\n",
    "from sklearn.model_selection import train_test_split\n",
    "from sklearn import metrics\n"
   ]
  },
  {
   "cell_type": "code",
   "execution_count": 463,
   "metadata": {},
   "outputs": [],
   "source": [
    "file='/Users/ankit/Downloads/yelp_dataset/yelp_review_short.csv'"
   ]
  },
  {
   "cell_type": "code",
   "execution_count": 464,
   "metadata": {},
   "outputs": [],
   "source": [
    "df= pd.read_csv(file)"
   ]
  },
  {
   "cell_type": "code",
   "execution_count": 465,
   "metadata": {},
   "outputs": [
    {
     "data": {
      "text/html": [
       "<div>\n",
       "<style scoped>\n",
       "    .dataframe tbody tr th:only-of-type {\n",
       "        vertical-align: middle;\n",
       "    }\n",
       "\n",
       "    .dataframe tbody tr th {\n",
       "        vertical-align: top;\n",
       "    }\n",
       "\n",
       "    .dataframe thead th {\n",
       "        text-align: right;\n",
       "    }\n",
       "</style>\n",
       "<table border=\"1\" class=\"dataframe\">\n",
       "  <thead>\n",
       "    <tr style=\"text-align: right;\">\n",
       "      <th></th>\n",
       "      <th>review_id</th>\n",
       "      <th>user_id</th>\n",
       "      <th>business_id</th>\n",
       "      <th>stars</th>\n",
       "      <th>useful</th>\n",
       "      <th>funny</th>\n",
       "      <th>cool</th>\n",
       "      <th>text</th>\n",
       "      <th>date</th>\n",
       "    </tr>\n",
       "  </thead>\n",
       "  <tbody>\n",
       "    <tr>\n",
       "      <th>0</th>\n",
       "      <td>Q1sbwvVQXV2734tPgoKj4Q</td>\n",
       "      <td>hG7b0MtEbXx5QzbzE6C_VA</td>\n",
       "      <td>ujmEBvifdJM6h6RLv4wQIg</td>\n",
       "      <td>1</td>\n",
       "      <td>6</td>\n",
       "      <td>1</td>\n",
       "      <td>0</td>\n",
       "      <td>Total bill for this horrible service? Over $8G...</td>\n",
       "      <td>2013-05-07 04:34:36</td>\n",
       "    </tr>\n",
       "    <tr>\n",
       "      <th>1</th>\n",
       "      <td>GJXCdrto3ASJOqKeVWPi6Q</td>\n",
       "      <td>yXQM5uF2jS6es16SJzNHfg</td>\n",
       "      <td>NZnhc2sEQy3RmzKTZnqtwQ</td>\n",
       "      <td>5</td>\n",
       "      <td>0</td>\n",
       "      <td>0</td>\n",
       "      <td>0</td>\n",
       "      <td>I *adore* Travis at the Hard Rock's new Kelly ...</td>\n",
       "      <td>2017-01-14 21:30:33</td>\n",
       "    </tr>\n",
       "    <tr>\n",
       "      <th>2</th>\n",
       "      <td>2TzJjDVDEuAW6MR5Vuc1ug</td>\n",
       "      <td>n6-Gk65cPZL6Uz8qRm3NYw</td>\n",
       "      <td>WTqjgwHlXbSFevF32_DJVw</td>\n",
       "      <td>5</td>\n",
       "      <td>3</td>\n",
       "      <td>0</td>\n",
       "      <td>0</td>\n",
       "      <td>I have to say that this office really has it t...</td>\n",
       "      <td>2016-11-09 20:09:03</td>\n",
       "    </tr>\n",
       "    <tr>\n",
       "      <th>3</th>\n",
       "      <td>yi0R0Ugj_xUx_Nek0-_Qig</td>\n",
       "      <td>dacAIZ6fTM6mqwW5uxkskg</td>\n",
       "      <td>ikCg8xy5JIg_NGPx-MSIDA</td>\n",
       "      <td>5</td>\n",
       "      <td>0</td>\n",
       "      <td>0</td>\n",
       "      <td>0</td>\n",
       "      <td>Went in for a lunch. Steak sandwich was delici...</td>\n",
       "      <td>2018-01-09 20:56:38</td>\n",
       "    </tr>\n",
       "    <tr>\n",
       "      <th>4</th>\n",
       "      <td>11a8sVPMUFtaC7_ABRkmtw</td>\n",
       "      <td>ssoyf2_x0EQMed6fgHeMyQ</td>\n",
       "      <td>b1b1eb3uo-w561D0ZfCEiQ</td>\n",
       "      <td>1</td>\n",
       "      <td>7</td>\n",
       "      <td>0</td>\n",
       "      <td>0</td>\n",
       "      <td>Today was my second out of three sessions I ha...</td>\n",
       "      <td>2018-01-30 23:07:38</td>\n",
       "    </tr>\n",
       "  </tbody>\n",
       "</table>\n",
       "</div>"
      ],
      "text/plain": [
       "                review_id                 user_id             business_id  \\\n",
       "0  Q1sbwvVQXV2734tPgoKj4Q  hG7b0MtEbXx5QzbzE6C_VA  ujmEBvifdJM6h6RLv4wQIg   \n",
       "1  GJXCdrto3ASJOqKeVWPi6Q  yXQM5uF2jS6es16SJzNHfg  NZnhc2sEQy3RmzKTZnqtwQ   \n",
       "2  2TzJjDVDEuAW6MR5Vuc1ug  n6-Gk65cPZL6Uz8qRm3NYw  WTqjgwHlXbSFevF32_DJVw   \n",
       "3  yi0R0Ugj_xUx_Nek0-_Qig  dacAIZ6fTM6mqwW5uxkskg  ikCg8xy5JIg_NGPx-MSIDA   \n",
       "4  11a8sVPMUFtaC7_ABRkmtw  ssoyf2_x0EQMed6fgHeMyQ  b1b1eb3uo-w561D0ZfCEiQ   \n",
       "\n",
       "   stars  useful  funny  cool  \\\n",
       "0      1       6      1     0   \n",
       "1      5       0      0     0   \n",
       "2      5       3      0     0   \n",
       "3      5       0      0     0   \n",
       "4      1       7      0     0   \n",
       "\n",
       "                                                text                 date  \n",
       "0  Total bill for this horrible service? Over $8G...  2013-05-07 04:34:36  \n",
       "1  I *adore* Travis at the Hard Rock's new Kelly ...  2017-01-14 21:30:33  \n",
       "2  I have to say that this office really has it t...  2016-11-09 20:09:03  \n",
       "3  Went in for a lunch. Steak sandwich was delici...  2018-01-09 20:56:38  \n",
       "4  Today was my second out of three sessions I ha...  2018-01-30 23:07:38  "
      ]
     },
     "execution_count": 465,
     "metadata": {},
     "output_type": "execute_result"
    }
   ],
   "source": [
    "df.head()"
   ]
  },
  {
   "cell_type": "code",
   "execution_count": 466,
   "metadata": {},
   "outputs": [
    {
     "data": {
      "text/html": [
       "<div>\n",
       "<style scoped>\n",
       "    .dataframe tbody tr th:only-of-type {\n",
       "        vertical-align: middle;\n",
       "    }\n",
       "\n",
       "    .dataframe tbody tr th {\n",
       "        vertical-align: top;\n",
       "    }\n",
       "\n",
       "    .dataframe thead th {\n",
       "        text-align: right;\n",
       "    }\n",
       "</style>\n",
       "<table border=\"1\" class=\"dataframe\">\n",
       "  <thead>\n",
       "    <tr style=\"text-align: right;\">\n",
       "      <th></th>\n",
       "      <th>stars</th>\n",
       "      <th>useful</th>\n",
       "      <th>funny</th>\n",
       "      <th>cool</th>\n",
       "    </tr>\n",
       "  </thead>\n",
       "  <tbody>\n",
       "    <tr>\n",
       "      <th>count</th>\n",
       "      <td>10000.000000</td>\n",
       "      <td>10000.00000</td>\n",
       "      <td>10000.000000</td>\n",
       "      <td>10000.000000</td>\n",
       "    </tr>\n",
       "    <tr>\n",
       "      <th>mean</th>\n",
       "      <td>3.716700</td>\n",
       "      <td>1.29820</td>\n",
       "      <td>0.458000</td>\n",
       "      <td>0.559000</td>\n",
       "    </tr>\n",
       "    <tr>\n",
       "      <th>std</th>\n",
       "      <td>1.471549</td>\n",
       "      <td>2.90264</td>\n",
       "      <td>1.557973</td>\n",
       "      <td>2.056682</td>\n",
       "    </tr>\n",
       "    <tr>\n",
       "      <th>min</th>\n",
       "      <td>1.000000</td>\n",
       "      <td>0.00000</td>\n",
       "      <td>0.000000</td>\n",
       "      <td>0.000000</td>\n",
       "    </tr>\n",
       "    <tr>\n",
       "      <th>25%</th>\n",
       "      <td>3.000000</td>\n",
       "      <td>0.00000</td>\n",
       "      <td>0.000000</td>\n",
       "      <td>0.000000</td>\n",
       "    </tr>\n",
       "    <tr>\n",
       "      <th>50%</th>\n",
       "      <td>4.000000</td>\n",
       "      <td>0.00000</td>\n",
       "      <td>0.000000</td>\n",
       "      <td>0.000000</td>\n",
       "    </tr>\n",
       "    <tr>\n",
       "      <th>75%</th>\n",
       "      <td>5.000000</td>\n",
       "      <td>1.00000</td>\n",
       "      <td>0.000000</td>\n",
       "      <td>0.000000</td>\n",
       "    </tr>\n",
       "    <tr>\n",
       "      <th>max</th>\n",
       "      <td>5.000000</td>\n",
       "      <td>91.00000</td>\n",
       "      <td>42.000000</td>\n",
       "      <td>86.000000</td>\n",
       "    </tr>\n",
       "  </tbody>\n",
       "</table>\n",
       "</div>"
      ],
      "text/plain": [
       "              stars       useful         funny          cool\n",
       "count  10000.000000  10000.00000  10000.000000  10000.000000\n",
       "mean       3.716700      1.29820      0.458000      0.559000\n",
       "std        1.471549      2.90264      1.557973      2.056682\n",
       "min        1.000000      0.00000      0.000000      0.000000\n",
       "25%        3.000000      0.00000      0.000000      0.000000\n",
       "50%        4.000000      0.00000      0.000000      0.000000\n",
       "75%        5.000000      1.00000      0.000000      0.000000\n",
       "max        5.000000     91.00000     42.000000     86.000000"
      ]
     },
     "execution_count": 466,
     "metadata": {},
     "output_type": "execute_result"
    }
   ],
   "source": [
    "df.describe()"
   ]
  },
  {
   "cell_type": "code",
   "execution_count": 467,
   "metadata": {},
   "outputs": [
    {
     "name": "stdout",
     "output_type": "stream",
     "text": [
      "<class 'pandas.core.frame.DataFrame'>\n",
      "RangeIndex: 10000 entries, 0 to 9999\n",
      "Data columns (total 9 columns):\n",
      "review_id      10000 non-null object\n",
      "user_id        10000 non-null object\n",
      "business_id    10000 non-null object\n",
      "stars          10000 non-null int64\n",
      "useful         10000 non-null int64\n",
      "funny          10000 non-null int64\n",
      "cool           10000 non-null int64\n",
      "text           10000 non-null object\n",
      "date           10000 non-null object\n",
      "dtypes: int64(4), object(5)\n",
      "memory usage: 703.2+ KB\n"
     ]
    }
   ],
   "source": [
    "df.info()"
   ]
  },
  {
   "cell_type": "code",
   "execution_count": 468,
   "metadata": {},
   "outputs": [],
   "source": [
    "df.dropna(inplace=True)"
   ]
  },
  {
   "cell_type": "code",
   "execution_count": 469,
   "metadata": {},
   "outputs": [
    {
     "data": {
      "text/plain": [
       "review_id      10000\n",
       "user_id        10000\n",
       "business_id    10000\n",
       "stars          10000\n",
       "useful         10000\n",
       "funny          10000\n",
       "cool           10000\n",
       "text           10000\n",
       "date           10000\n",
       "dtype: int64"
      ]
     },
     "execution_count": 469,
     "metadata": {},
     "output_type": "execute_result"
    }
   ],
   "source": [
    "df.count()"
   ]
  },
  {
   "cell_type": "code",
   "execution_count": 470,
   "metadata": {},
   "outputs": [],
   "source": [
    "df['length'] = df['text'].apply(len)\n"
   ]
  },
  {
   "cell_type": "code",
   "execution_count": 471,
   "metadata": {},
   "outputs": [
    {
     "data": {
      "text/html": [
       "<div>\n",
       "<style scoped>\n",
       "    .dataframe tbody tr th:only-of-type {\n",
       "        vertical-align: middle;\n",
       "    }\n",
       "\n",
       "    .dataframe tbody tr th {\n",
       "        vertical-align: top;\n",
       "    }\n",
       "\n",
       "    .dataframe thead th {\n",
       "        text-align: right;\n",
       "    }\n",
       "</style>\n",
       "<table border=\"1\" class=\"dataframe\">\n",
       "  <thead>\n",
       "    <tr style=\"text-align: right;\">\n",
       "      <th></th>\n",
       "      <th>review_id</th>\n",
       "      <th>user_id</th>\n",
       "      <th>business_id</th>\n",
       "      <th>stars</th>\n",
       "      <th>useful</th>\n",
       "      <th>funny</th>\n",
       "      <th>cool</th>\n",
       "      <th>text</th>\n",
       "      <th>date</th>\n",
       "      <th>length</th>\n",
       "    </tr>\n",
       "  </thead>\n",
       "  <tbody>\n",
       "    <tr>\n",
       "      <th>0</th>\n",
       "      <td>Q1sbwvVQXV2734tPgoKj4Q</td>\n",
       "      <td>hG7b0MtEbXx5QzbzE6C_VA</td>\n",
       "      <td>ujmEBvifdJM6h6RLv4wQIg</td>\n",
       "      <td>1</td>\n",
       "      <td>6</td>\n",
       "      <td>1</td>\n",
       "      <td>0</td>\n",
       "      <td>Total bill for this horrible service? Over $8G...</td>\n",
       "      <td>2013-05-07 04:34:36</td>\n",
       "      <td>204</td>\n",
       "    </tr>\n",
       "    <tr>\n",
       "      <th>1</th>\n",
       "      <td>GJXCdrto3ASJOqKeVWPi6Q</td>\n",
       "      <td>yXQM5uF2jS6es16SJzNHfg</td>\n",
       "      <td>NZnhc2sEQy3RmzKTZnqtwQ</td>\n",
       "      <td>5</td>\n",
       "      <td>0</td>\n",
       "      <td>0</td>\n",
       "      <td>0</td>\n",
       "      <td>I *adore* Travis at the Hard Rock's new Kelly ...</td>\n",
       "      <td>2017-01-14 21:30:33</td>\n",
       "      <td>1567</td>\n",
       "    </tr>\n",
       "    <tr>\n",
       "      <th>2</th>\n",
       "      <td>2TzJjDVDEuAW6MR5Vuc1ug</td>\n",
       "      <td>n6-Gk65cPZL6Uz8qRm3NYw</td>\n",
       "      <td>WTqjgwHlXbSFevF32_DJVw</td>\n",
       "      <td>5</td>\n",
       "      <td>3</td>\n",
       "      <td>0</td>\n",
       "      <td>0</td>\n",
       "      <td>I have to say that this office really has it t...</td>\n",
       "      <td>2016-11-09 20:09:03</td>\n",
       "      <td>615</td>\n",
       "    </tr>\n",
       "    <tr>\n",
       "      <th>3</th>\n",
       "      <td>yi0R0Ugj_xUx_Nek0-_Qig</td>\n",
       "      <td>dacAIZ6fTM6mqwW5uxkskg</td>\n",
       "      <td>ikCg8xy5JIg_NGPx-MSIDA</td>\n",
       "      <td>5</td>\n",
       "      <td>0</td>\n",
       "      <td>0</td>\n",
       "      <td>0</td>\n",
       "      <td>Went in for a lunch. Steak sandwich was delici...</td>\n",
       "      <td>2018-01-09 20:56:38</td>\n",
       "      <td>413</td>\n",
       "    </tr>\n",
       "    <tr>\n",
       "      <th>4</th>\n",
       "      <td>11a8sVPMUFtaC7_ABRkmtw</td>\n",
       "      <td>ssoyf2_x0EQMed6fgHeMyQ</td>\n",
       "      <td>b1b1eb3uo-w561D0ZfCEiQ</td>\n",
       "      <td>1</td>\n",
       "      <td>7</td>\n",
       "      <td>0</td>\n",
       "      <td>0</td>\n",
       "      <td>Today was my second out of three sessions I ha...</td>\n",
       "      <td>2018-01-30 23:07:38</td>\n",
       "      <td>3509</td>\n",
       "    </tr>\n",
       "  </tbody>\n",
       "</table>\n",
       "</div>"
      ],
      "text/plain": [
       "                review_id                 user_id             business_id  \\\n",
       "0  Q1sbwvVQXV2734tPgoKj4Q  hG7b0MtEbXx5QzbzE6C_VA  ujmEBvifdJM6h6RLv4wQIg   \n",
       "1  GJXCdrto3ASJOqKeVWPi6Q  yXQM5uF2jS6es16SJzNHfg  NZnhc2sEQy3RmzKTZnqtwQ   \n",
       "2  2TzJjDVDEuAW6MR5Vuc1ug  n6-Gk65cPZL6Uz8qRm3NYw  WTqjgwHlXbSFevF32_DJVw   \n",
       "3  yi0R0Ugj_xUx_Nek0-_Qig  dacAIZ6fTM6mqwW5uxkskg  ikCg8xy5JIg_NGPx-MSIDA   \n",
       "4  11a8sVPMUFtaC7_ABRkmtw  ssoyf2_x0EQMed6fgHeMyQ  b1b1eb3uo-w561D0ZfCEiQ   \n",
       "\n",
       "   stars  useful  funny  cool  \\\n",
       "0      1       6      1     0   \n",
       "1      5       0      0     0   \n",
       "2      5       3      0     0   \n",
       "3      5       0      0     0   \n",
       "4      1       7      0     0   \n",
       "\n",
       "                                                text                 date  \\\n",
       "0  Total bill for this horrible service? Over $8G...  2013-05-07 04:34:36   \n",
       "1  I *adore* Travis at the Hard Rock's new Kelly ...  2017-01-14 21:30:33   \n",
       "2  I have to say that this office really has it t...  2016-11-09 20:09:03   \n",
       "3  Went in for a lunch. Steak sandwich was delici...  2018-01-09 20:56:38   \n",
       "4  Today was my second out of three sessions I ha...  2018-01-30 23:07:38   \n",
       "\n",
       "   length  \n",
       "0     204  \n",
       "1    1567  \n",
       "2     615  \n",
       "3     413  \n",
       "4    3509  "
      ]
     },
     "execution_count": 471,
     "metadata": {},
     "output_type": "execute_result"
    }
   ],
   "source": [
    "df.head()"
   ]
  },
  {
   "cell_type": "code",
   "execution_count": 472,
   "metadata": {},
   "outputs": [
    {
     "data": {
      "text/plain": [
       "<seaborn.axisgrid.FacetGrid at 0x1a333c75c0>"
      ]
     },
     "execution_count": 472,
     "metadata": {},
     "output_type": "execute_result"
    },
    {
     "data": {
      "image/png": "[encoded data removed]",
      "text/plain": [
       "<Figure size 1080x216 with 5 Axes>"
      ]
     },
     "metadata": {
      "needs_background": "light"
     },
     "output_type": "display_data"
    }
   ],
   "source": [
    "# COMPARING TEXT LENGTH TO STARS\n",
    "graph = sns.FacetGrid(data=df,col='stars')\n",
    "graph.map(plt.hist,'length',bins=50,color='blue')"
   ]
  },
  {
   "cell_type": "markdown",
   "metadata": {},
   "source": [
    "We can see the length of reviews was more for 5 stars."
   ]
  },
  {
   "cell_type": "code",
   "execution_count": 473,
   "metadata": {},
   "outputs": [
    {
     "data": {
      "text/html": [
       "<div>\n",
       "<style scoped>\n",
       "    .dataframe tbody tr th:only-of-type {\n",
       "        vertical-align: middle;\n",
       "    }\n",
       "\n",
       "    .dataframe tbody tr th {\n",
       "        vertical-align: top;\n",
       "    }\n",
       "\n",
       "    .dataframe thead th {\n",
       "        text-align: right;\n",
       "    }\n",
       "</style>\n",
       "<table border=\"1\" class=\"dataframe\">\n",
       "  <thead>\n",
       "    <tr style=\"text-align: right;\">\n",
       "      <th></th>\n",
       "      <th>useful</th>\n",
       "      <th>funny</th>\n",
       "      <th>cool</th>\n",
       "      <th>length</th>\n",
       "    </tr>\n",
       "    <tr>\n",
       "      <th>stars</th>\n",
       "      <th></th>\n",
       "      <th></th>\n",
       "      <th></th>\n",
       "      <th></th>\n",
       "    </tr>\n",
       "  </thead>\n",
       "  <tbody>\n",
       "    <tr>\n",
       "      <th>1</th>\n",
       "      <td>1.901897</td>\n",
       "      <td>0.576848</td>\n",
       "      <td>0.243950</td>\n",
       "      <td>711.079137</td>\n",
       "    </tr>\n",
       "    <tr>\n",
       "      <th>2</th>\n",
       "      <td>1.518750</td>\n",
       "      <td>0.655000</td>\n",
       "      <td>0.426250</td>\n",
       "      <td>730.323750</td>\n",
       "    </tr>\n",
       "    <tr>\n",
       "      <th>3</th>\n",
       "      <td>1.292523</td>\n",
       "      <td>0.514019</td>\n",
       "      <td>0.609346</td>\n",
       "      <td>681.386916</td>\n",
       "    </tr>\n",
       "    <tr>\n",
       "      <th>4</th>\n",
       "      <td>1.332568</td>\n",
       "      <td>0.562701</td>\n",
       "      <td>0.847037</td>\n",
       "      <td>623.055122</td>\n",
       "    </tr>\n",
       "    <tr>\n",
       "      <th>5</th>\n",
       "      <td>1.034132</td>\n",
       "      <td>0.316230</td>\n",
       "      <td>0.537975</td>\n",
       "      <td>470.524638</td>\n",
       "    </tr>\n",
       "  </tbody>\n",
       "</table>\n",
       "</div>"
      ],
      "text/plain": [
       "         useful     funny      cool      length\n",
       "stars                                          \n",
       "1      1.901897  0.576848  0.243950  711.079137\n",
       "2      1.518750  0.655000  0.426250  730.323750\n",
       "3      1.292523  0.514019  0.609346  681.386916\n",
       "4      1.332568  0.562701  0.847037  623.055122\n",
       "5      1.034132  0.316230  0.537975  470.524638"
      ]
     },
     "execution_count": 473,
     "metadata": {},
     "output_type": "execute_result"
    }
   ],
   "source": [
    "# GETTING THE MEAN VALUES OF THE VOTE COLUMNS WRT THE STARS ON THE REVIEW\n",
    "stval = df.groupby('stars').mean()\n",
    "stval"
   ]
  },
  {
   "cell_type": "code",
   "execution_count": 474,
   "metadata": {},
   "outputs": [
    {
     "data": {
      "text/html": [
       "<div>\n",
       "<style scoped>\n",
       "    .dataframe tbody tr th:only-of-type {\n",
       "        vertical-align: middle;\n",
       "    }\n",
       "\n",
       "    .dataframe tbody tr th {\n",
       "        vertical-align: top;\n",
       "    }\n",
       "\n",
       "    .dataframe thead th {\n",
       "        text-align: right;\n",
       "    }\n",
       "</style>\n",
       "<table border=\"1\" class=\"dataframe\">\n",
       "  <thead>\n",
       "    <tr style=\"text-align: right;\">\n",
       "      <th></th>\n",
       "      <th>useful</th>\n",
       "      <th>funny</th>\n",
       "      <th>cool</th>\n",
       "      <th>length</th>\n",
       "    </tr>\n",
       "  </thead>\n",
       "  <tbody>\n",
       "    <tr>\n",
       "      <th>useful</th>\n",
       "      <td>1.000000</td>\n",
       "      <td>0.711053</td>\n",
       "      <td>-0.657042</td>\n",
       "      <td>0.777206</td>\n",
       "    </tr>\n",
       "    <tr>\n",
       "      <th>funny</th>\n",
       "      <td>0.711053</td>\n",
       "      <td>1.000000</td>\n",
       "      <td>-0.166384</td>\n",
       "      <td>0.932967</td>\n",
       "    </tr>\n",
       "    <tr>\n",
       "      <th>cool</th>\n",
       "      <td>-0.657042</td>\n",
       "      <td>-0.166384</td>\n",
       "      <td>1.000000</td>\n",
       "      <td>-0.354818</td>\n",
       "    </tr>\n",
       "    <tr>\n",
       "      <th>length</th>\n",
       "      <td>0.777206</td>\n",
       "      <td>0.932967</td>\n",
       "      <td>-0.354818</td>\n",
       "      <td>1.000000</td>\n",
       "    </tr>\n",
       "  </tbody>\n",
       "</table>\n",
       "</div>"
      ],
      "text/plain": [
       "          useful     funny      cool    length\n",
       "useful  1.000000  0.711053 -0.657042  0.777206\n",
       "funny   0.711053  1.000000 -0.166384  0.932967\n",
       "cool   -0.657042 -0.166384  1.000000 -0.354818\n",
       "length  0.777206  0.932967 -0.354818  1.000000"
      ]
     },
     "execution_count": 474,
     "metadata": {},
     "output_type": "execute_result"
    }
   ],
   "source": [
    "stval.corr()\n"
   ]
  },
  {
   "cell_type": "markdown",
   "metadata": {},
   "source": [
    "Thus, we can see that there is negative correlation between:\n",
    "\n",
    "* Cool and Useful\n",
    "* Cool and Funny\n",
    "* Cool and Length  \n",
    "Thus, we can say that the reviews marked cool tend to be curt, not very useful to others and short.\n",
    "Whereas, there is a positive correlation between:\n",
    "\n",
    "* Funny and Useful    \n",
    "* Funny and Length\n",
    "* Useful and Length    \n",
    "Thus, we can say that longer reviews tend to be funny and useful."
   ]
  },
  {
   "cell_type": "code",
   "execution_count": 475,
   "metadata": {},
   "outputs": [
    {
     "data": {
      "text/plain": [
       "<matplotlib.axes._subplots.AxesSubplot at 0x1a36cdf710>"
      ]
     },
     "execution_count": 475,
     "metadata": {},
     "output_type": "execute_result"
    },
    {
     "data": {
      "image/png": "[encoded data removed]",
      "text/plain": [
       "<Figure size 432x288 with 1 Axes>"
      ]
     },
     "metadata": {
      "needs_background": "light"
     },
     "output_type": "display_data"
    }
   ],
   "source": [
    "sns.countplot(x='stars',data=df,palette = 'rainbow')\n"
   ]
  },
  {
   "cell_type": "code",
   "execution_count": 476,
   "metadata": {},
   "outputs": [
    {
     "data": {
      "text/plain": [
       "<matplotlib.axes._subplots.AxesSubplot at 0x1a613f1c50>"
      ]
     },
     "execution_count": 476,
     "metadata": {},
     "output_type": "execute_result"
    },
    {
     "data": {
      "image/png": "[encoded data removed]",
      "text/plain": [
       "<Figure size 432x288 with 2 Axes>"
      ]
     },
     "metadata": {
      "needs_background": "light"
     },
     "output_type": "display_data"
    }
   ],
   "source": [
    "sns.heatmap(stval.corr(),cmap='coolwarm',annot=True)\n"
   ]
  },
  {
   "cell_type": "markdown",
   "metadata": {},
   "source": [
    "Let's move on to the actual task. To make things a little easier, go ahead and only grab reviews that were either 1 star or 5 stars.\n",
    "\n",
    "Create a dataframe called yelp_class that contains the columns of yelp dataframe but for only the 1 or 5 star reviews.\n",
    "\n"
   ]
  },
  {
   "cell_type": "code",
   "execution_count": 477,
   "metadata": {},
   "outputs": [
    {
     "data": {
      "text/html": [
       "<div>\n",
       "<style scoped>\n",
       "    .dataframe tbody tr th:only-of-type {\n",
       "        vertical-align: middle;\n",
       "    }\n",
       "\n",
       "    .dataframe tbody tr th {\n",
       "        vertical-align: top;\n",
       "    }\n",
       "\n",
       "    .dataframe thead th {\n",
       "        text-align: right;\n",
       "    }\n",
       "</style>\n",
       "<table border=\"1\" class=\"dataframe\">\n",
       "  <thead>\n",
       "    <tr style=\"text-align: right;\">\n",
       "      <th></th>\n",
       "      <th>review_id</th>\n",
       "      <th>user_id</th>\n",
       "      <th>business_id</th>\n",
       "      <th>stars</th>\n",
       "      <th>useful</th>\n",
       "      <th>funny</th>\n",
       "      <th>cool</th>\n",
       "      <th>text</th>\n",
       "      <th>date</th>\n",
       "      <th>length</th>\n",
       "    </tr>\n",
       "  </thead>\n",
       "  <tbody>\n",
       "    <tr>\n",
       "      <th>0</th>\n",
       "      <td>Q1sbwvVQXV2734tPgoKj4Q</td>\n",
       "      <td>hG7b0MtEbXx5QzbzE6C_VA</td>\n",
       "      <td>ujmEBvifdJM6h6RLv4wQIg</td>\n",
       "      <td>1</td>\n",
       "      <td>6</td>\n",
       "      <td>1</td>\n",
       "      <td>0</td>\n",
       "      <td>Total bill for this horrible service? Over $8G...</td>\n",
       "      <td>2013-05-07 04:34:36</td>\n",
       "      <td>204</td>\n",
       "    </tr>\n",
       "    <tr>\n",
       "      <th>1</th>\n",
       "      <td>GJXCdrto3ASJOqKeVWPi6Q</td>\n",
       "      <td>yXQM5uF2jS6es16SJzNHfg</td>\n",
       "      <td>NZnhc2sEQy3RmzKTZnqtwQ</td>\n",
       "      <td>5</td>\n",
       "      <td>0</td>\n",
       "      <td>0</td>\n",
       "      <td>0</td>\n",
       "      <td>I *adore* Travis at the Hard Rock's new Kelly ...</td>\n",
       "      <td>2017-01-14 21:30:33</td>\n",
       "      <td>1567</td>\n",
       "    </tr>\n",
       "    <tr>\n",
       "      <th>2</th>\n",
       "      <td>2TzJjDVDEuAW6MR5Vuc1ug</td>\n",
       "      <td>n6-Gk65cPZL6Uz8qRm3NYw</td>\n",
       "      <td>WTqjgwHlXbSFevF32_DJVw</td>\n",
       "      <td>5</td>\n",
       "      <td>3</td>\n",
       "      <td>0</td>\n",
       "      <td>0</td>\n",
       "      <td>I have to say that this office really has it t...</td>\n",
       "      <td>2016-11-09 20:09:03</td>\n",
       "      <td>615</td>\n",
       "    </tr>\n",
       "    <tr>\n",
       "      <th>3</th>\n",
       "      <td>yi0R0Ugj_xUx_Nek0-_Qig</td>\n",
       "      <td>dacAIZ6fTM6mqwW5uxkskg</td>\n",
       "      <td>ikCg8xy5JIg_NGPx-MSIDA</td>\n",
       "      <td>5</td>\n",
       "      <td>0</td>\n",
       "      <td>0</td>\n",
       "      <td>0</td>\n",
       "      <td>Went in for a lunch. Steak sandwich was delici...</td>\n",
       "      <td>2018-01-09 20:56:38</td>\n",
       "      <td>413</td>\n",
       "    </tr>\n",
       "    <tr>\n",
       "      <th>4</th>\n",
       "      <td>11a8sVPMUFtaC7_ABRkmtw</td>\n",
       "      <td>ssoyf2_x0EQMed6fgHeMyQ</td>\n",
       "      <td>b1b1eb3uo-w561D0ZfCEiQ</td>\n",
       "      <td>1</td>\n",
       "      <td>7</td>\n",
       "      <td>0</td>\n",
       "      <td>0</td>\n",
       "      <td>Today was my second out of three sessions I ha...</td>\n",
       "      <td>2018-01-30 23:07:38</td>\n",
       "      <td>3509</td>\n",
       "    </tr>\n",
       "  </tbody>\n",
       "</table>\n",
       "</div>"
      ],
      "text/plain": [
       "                review_id                 user_id             business_id  \\\n",
       "0  Q1sbwvVQXV2734tPgoKj4Q  hG7b0MtEbXx5QzbzE6C_VA  ujmEBvifdJM6h6RLv4wQIg   \n",
       "1  GJXCdrto3ASJOqKeVWPi6Q  yXQM5uF2jS6es16SJzNHfg  NZnhc2sEQy3RmzKTZnqtwQ   \n",
       "2  2TzJjDVDEuAW6MR5Vuc1ug  n6-Gk65cPZL6Uz8qRm3NYw  WTqjgwHlXbSFevF32_DJVw   \n",
       "3  yi0R0Ugj_xUx_Nek0-_Qig  dacAIZ6fTM6mqwW5uxkskg  ikCg8xy5JIg_NGPx-MSIDA   \n",
       "4  11a8sVPMUFtaC7_ABRkmtw  ssoyf2_x0EQMed6fgHeMyQ  b1b1eb3uo-w561D0ZfCEiQ   \n",
       "\n",
       "   stars  useful  funny  cool  \\\n",
       "0      1       6      1     0   \n",
       "1      5       0      0     0   \n",
       "2      5       3      0     0   \n",
       "3      5       0      0     0   \n",
       "4      1       7      0     0   \n",
       "\n",
       "                                                text                 date  \\\n",
       "0  Total bill for this horrible service? Over $8G...  2013-05-07 04:34:36   \n",
       "1  I *adore* Travis at the Hard Rock's new Kelly ...  2017-01-14 21:30:33   \n",
       "2  I have to say that this office really has it t...  2016-11-09 20:09:03   \n",
       "3  Went in for a lunch. Steak sandwich was delici...  2018-01-09 20:56:38   \n",
       "4  Today was my second out of three sessions I ha...  2018-01-30 23:07:38   \n",
       "\n",
       "   length  \n",
       "0     204  \n",
       "1    1567  \n",
       "2     615  \n",
       "3     413  \n",
       "4    3509  "
      ]
     },
     "execution_count": 477,
     "metadata": {},
     "output_type": "execute_result"
    }
   ],
   "source": [
    "yelp_class=df[(df['stars']==1)|(df['stars']==5)]\n",
    "yelp_class.head()"
   ]
  },
  {
   "cell_type": "markdown",
   "metadata": {},
   "source": [
    "Set the index with review_id"
   ]
  },
  {
   "cell_type": "code",
   "execution_count": 478,
   "metadata": {},
   "outputs": [
    {
     "data": {
      "text/html": [
       "<div>\n",
       "<style scoped>\n",
       "    .dataframe tbody tr th:only-of-type {\n",
       "        vertical-align: middle;\n",
       "    }\n",
       "\n",
       "    .dataframe tbody tr th {\n",
       "        vertical-align: top;\n",
       "    }\n",
       "\n",
       "    .dataframe thead th {\n",
       "        text-align: right;\n",
       "    }\n",
       "</style>\n",
       "<table border=\"1\" class=\"dataframe\">\n",
       "  <thead>\n",
       "    <tr style=\"text-align: right;\">\n",
       "      <th></th>\n",
       "      <th>user_id</th>\n",
       "      <th>business_id</th>\n",
       "      <th>stars</th>\n",
       "      <th>useful</th>\n",
       "      <th>funny</th>\n",
       "      <th>cool</th>\n",
       "      <th>text</th>\n",
       "      <th>date</th>\n",
       "      <th>length</th>\n",
       "    </tr>\n",
       "    <tr>\n",
       "      <th>review_id</th>\n",
       "      <th></th>\n",
       "      <th></th>\n",
       "      <th></th>\n",
       "      <th></th>\n",
       "      <th></th>\n",
       "      <th></th>\n",
       "      <th></th>\n",
       "      <th></th>\n",
       "      <th></th>\n",
       "    </tr>\n",
       "  </thead>\n",
       "  <tbody>\n",
       "    <tr>\n",
       "      <th>Q1sbwvVQXV2734tPgoKj4Q</th>\n",
       "      <td>hG7b0MtEbXx5QzbzE6C_VA</td>\n",
       "      <td>ujmEBvifdJM6h6RLv4wQIg</td>\n",
       "      <td>1</td>\n",
       "      <td>6</td>\n",
       "      <td>1</td>\n",
       "      <td>0</td>\n",
       "      <td>Total bill for this horrible service? Over $8G...</td>\n",
       "      <td>2013-05-07 04:34:36</td>\n",
       "      <td>204</td>\n",
       "    </tr>\n",
       "    <tr>\n",
       "      <th>GJXCdrto3ASJOqKeVWPi6Q</th>\n",
       "      <td>yXQM5uF2jS6es16SJzNHfg</td>\n",
       "      <td>NZnhc2sEQy3RmzKTZnqtwQ</td>\n",
       "      <td>5</td>\n",
       "      <td>0</td>\n",
       "      <td>0</td>\n",
       "      <td>0</td>\n",
       "      <td>I *adore* Travis at the Hard Rock's new Kelly ...</td>\n",
       "      <td>2017-01-14 21:30:33</td>\n",
       "      <td>1567</td>\n",
       "    </tr>\n",
       "    <tr>\n",
       "      <th>2TzJjDVDEuAW6MR5Vuc1ug</th>\n",
       "      <td>n6-Gk65cPZL6Uz8qRm3NYw</td>\n",
       "      <td>WTqjgwHlXbSFevF32_DJVw</td>\n",
       "      <td>5</td>\n",
       "      <td>3</td>\n",
       "      <td>0</td>\n",
       "      <td>0</td>\n",
       "      <td>I have to say that this office really has it t...</td>\n",
       "      <td>2016-11-09 20:09:03</td>\n",
       "      <td>615</td>\n",
       "    </tr>\n",
       "    <tr>\n",
       "      <th>yi0R0Ugj_xUx_Nek0-_Qig</th>\n",
       "      <td>dacAIZ6fTM6mqwW5uxkskg</td>\n",
       "      <td>ikCg8xy5JIg_NGPx-MSIDA</td>\n",
       "      <td>5</td>\n",
       "      <td>0</td>\n",
       "      <td>0</td>\n",
       "      <td>0</td>\n",
       "      <td>Went in for a lunch. Steak sandwich was delici...</td>\n",
       "      <td>2018-01-09 20:56:38</td>\n",
       "      <td>413</td>\n",
       "    </tr>\n",
       "    <tr>\n",
       "      <th>11a8sVPMUFtaC7_ABRkmtw</th>\n",
       "      <td>ssoyf2_x0EQMed6fgHeMyQ</td>\n",
       "      <td>b1b1eb3uo-w561D0ZfCEiQ</td>\n",
       "      <td>1</td>\n",
       "      <td>7</td>\n",
       "      <td>0</td>\n",
       "      <td>0</td>\n",
       "      <td>Today was my second out of three sessions I ha...</td>\n",
       "      <td>2018-01-30 23:07:38</td>\n",
       "      <td>3509</td>\n",
       "    </tr>\n",
       "    <tr>\n",
       "      <th>8e9HxxLjjqc9ez5ezzN7iQ</th>\n",
       "      <td>d6xvYpyzcfbF_AZ8vMB7QA</td>\n",
       "      <td>zvO-PJCpNk4fgAVUnExYAA</td>\n",
       "      <td>1</td>\n",
       "      <td>3</td>\n",
       "      <td>1</td>\n",
       "      <td>1</td>\n",
       "      <td>This place has gone down hill.  Clearly they h...</td>\n",
       "      <td>2010-10-05 19:12:35</td>\n",
       "      <td>380</td>\n",
       "    </tr>\n",
       "    <tr>\n",
       "      <th>-I5umRTkhw15RqpKMl_o1Q</th>\n",
       "      <td>-mA3-1mN4JIEkqOtdbNXCQ</td>\n",
       "      <td>mRUVMJkUGxrByzMQ2MuOpA</td>\n",
       "      <td>1</td>\n",
       "      <td>0</td>\n",
       "      <td>1</td>\n",
       "      <td>0</td>\n",
       "      <td>Walked in around 4 on a Friday afternoon, we s...</td>\n",
       "      <td>2017-12-15 23:27:08</td>\n",
       "      <td>434</td>\n",
       "    </tr>\n",
       "    <tr>\n",
       "      <th>JVcjMhlavKKn3UIt9p9OXA</th>\n",
       "      <td>TpyOT5E16YASd7EWjLQlrw</td>\n",
       "      <td>AakkkTuGZA2KBodKi2_u8A</td>\n",
       "      <td>1</td>\n",
       "      <td>1</td>\n",
       "      <td>1</td>\n",
       "      <td>0</td>\n",
       "      <td>I cannot believe how things have changed in 3 ...</td>\n",
       "      <td>2012-07-16 00:37:14</td>\n",
       "      <td>968</td>\n",
       "    </tr>\n",
       "    <tr>\n",
       "      <th>svK3nBU7Rk8VfGorlrN52A</th>\n",
       "      <td>NJlxGtouq06hhC7sS2ECYw</td>\n",
       "      <td>YvrylyuWgbP90RgMqZQVnQ</td>\n",
       "      <td>5</td>\n",
       "      <td>0</td>\n",
       "      <td>0</td>\n",
       "      <td>0</td>\n",
       "      <td>You can't really find anything wrong with this...</td>\n",
       "      <td>2017-04-07 21:27:49</td>\n",
       "      <td>405</td>\n",
       "    </tr>\n",
       "    <tr>\n",
       "      <th>rEITo90tpyKmEfNDp3Ou3A</th>\n",
       "      <td>6Fz_nus_OG4gar721OKgZA</td>\n",
       "      <td>6lj2BJ4tJeu7db5asGHQ4w</td>\n",
       "      <td>5</td>\n",
       "      <td>0</td>\n",
       "      <td>0</td>\n",
       "      <td>0</td>\n",
       "      <td>We've been a huge Slim's fan since they opened...</td>\n",
       "      <td>2017-05-26 01:23:19</td>\n",
       "      <td>243</td>\n",
       "    </tr>\n",
       "    <tr>\n",
       "      <th>Amo5gZBvCuPc_tZNpHwtsA</th>\n",
       "      <td>DzZ7piLBF-WsJxqosfJgtA</td>\n",
       "      <td>qx6WhZ42eDKmBchZDax4dQ</td>\n",
       "      <td>5</td>\n",
       "      <td>1</td>\n",
       "      <td>0</td>\n",
       "      <td>0</td>\n",
       "      <td>Our family LOVES the food here. Quick, friendl...</td>\n",
       "      <td>2017-03-27 01:14:37</td>\n",
       "      <td>108</td>\n",
       "    </tr>\n",
       "    <tr>\n",
       "      <th>IPw8yWiyqnfBzzWmypUHgg</th>\n",
       "      <td>5JVY32_bmTBfIGpCCsnAfw</td>\n",
       "      <td>Mem13A3C202RzT53npn4NA</td>\n",
       "      <td>5</td>\n",
       "      <td>9</td>\n",
       "      <td>6</td>\n",
       "      <td>9</td>\n",
       "      <td>If you are looking for the best pierogies in P...</td>\n",
       "      <td>2017-05-13 10:41:43</td>\n",
       "      <td>743</td>\n",
       "    </tr>\n",
       "    <tr>\n",
       "      <th>S337tATeouQJdoPYyir29w</th>\n",
       "      <td>2mxBNBeFrgDszqGS5tdEHA</td>\n",
       "      <td>d_L-rfS1vT3JMzgCUGtiow</td>\n",
       "      <td>5</td>\n",
       "      <td>0</td>\n",
       "      <td>0</td>\n",
       "      <td>0</td>\n",
       "      <td>Pick any meat on the planet and the chef will ...</td>\n",
       "      <td>2016-07-25 03:57:19</td>\n",
       "      <td>155</td>\n",
       "    </tr>\n",
       "    <tr>\n",
       "      <th>D_UvaenM25iNd6aehTZ0MA</th>\n",
       "      <td>8NwU4TRsD3S6gIfBqFzDMQ</td>\n",
       "      <td>Sfc8Haz2Yri8Mo1L0E0TsA</td>\n",
       "      <td>5</td>\n",
       "      <td>0</td>\n",
       "      <td>0</td>\n",
       "      <td>0</td>\n",
       "      <td>Great food, great service. Obviously fried chi...</td>\n",
       "      <td>2012-11-06 03:41:43</td>\n",
       "      <td>232</td>\n",
       "    </tr>\n",
       "    <tr>\n",
       "      <th>I9HBDyzCqLhTYHCAZIFZQQ</th>\n",
       "      <td>vXZeHaLvdfCPATz5BDavow</td>\n",
       "      <td>FQ1wBQb3aNeRMThSQEV0Qg</td>\n",
       "      <td>5</td>\n",
       "      <td>4</td>\n",
       "      <td>0</td>\n",
       "      <td>0</td>\n",
       "      <td>PlumbSmart provided superior service from begi...</td>\n",
       "      <td>2013-12-07 02:32:45</td>\n",
       "      <td>413</td>\n",
       "    </tr>\n",
       "    <tr>\n",
       "      <th>W1wbNaUnbMy4b9QqY3_SAg</th>\n",
       "      <td>vDr8hBNYigiY70fk1kF5iQ</td>\n",
       "      <td>hd5xm20tfSa70-6UqD9-bg</td>\n",
       "      <td>1</td>\n",
       "      <td>7</td>\n",
       "      <td>1</td>\n",
       "      <td>1</td>\n",
       "      <td>Unfortunately, I must recommend not to conduct...</td>\n",
       "      <td>2014-08-10 22:07:35</td>\n",
       "      <td>1332</td>\n",
       "    </tr>\n",
       "    <tr>\n",
       "      <th>qm97yMwREr7BKkexlwLFbg</th>\n",
       "      <td>TTRVdTXKcq-xn6-1IWbwEw</td>\n",
       "      <td>Gyrez6K8f1AyR7dzW9fvAw</td>\n",
       "      <td>5</td>\n",
       "      <td>0</td>\n",
       "      <td>0</td>\n",
       "      <td>1</td>\n",
       "      <td>their pettuccine was fresh-made in the morning...</td>\n",
       "      <td>2013-12-28 22:28:08</td>\n",
       "      <td>195</td>\n",
       "    </tr>\n",
       "    <tr>\n",
       "      <th>1daGBpea0sleayFeeXuoYw</th>\n",
       "      <td>q3GeSW9dWN9r_ocqFkhrvg</td>\n",
       "      <td>9nTF596jDvBBia2EXXiOOg</td>\n",
       "      <td>1</td>\n",
       "      <td>1</td>\n",
       "      <td>0</td>\n",
       "      <td>0</td>\n",
       "      <td>if i can give this place no stars i would, i o...</td>\n",
       "      <td>2014-04-19 15:03:17</td>\n",
       "      <td>626</td>\n",
       "    </tr>\n",
       "    <tr>\n",
       "      <th>DAC4zWY2ZMa1vxpN9RrDvA</th>\n",
       "      <td>yxyRt-zoh_A6PMThX-h9Vw</td>\n",
       "      <td>SNL64axQhCO6Z7ohcWg3wA</td>\n",
       "      <td>1</td>\n",
       "      <td>0</td>\n",
       "      <td>0</td>\n",
       "      <td>0</td>\n",
       "      <td>This review is in regards to our experience wa...</td>\n",
       "      <td>2017-02-09 03:43:25</td>\n",
       "      <td>2424</td>\n",
       "    </tr>\n",
       "    <tr>\n",
       "      <th>0AsmPiAQduxh5jE_si8cLA</th>\n",
       "      <td>C_hUvw2z0R-Rv0yZb6QCZA</td>\n",
       "      <td>dm6sO_Y8JdKTE1ZM955yug</td>\n",
       "      <td>5</td>\n",
       "      <td>0</td>\n",
       "      <td>0</td>\n",
       "      <td>0</td>\n",
       "      <td>ended up here because Raku was closed and it r...</td>\n",
       "      <td>2014-12-17 19:04:33</td>\n",
       "      <td>521</td>\n",
       "    </tr>\n",
       "    <tr>\n",
       "      <th>bjD0Dqn3k-fi00BXatrytg</th>\n",
       "      <td>1fi6x4tnJtlVWaJmoIO9XA</td>\n",
       "      <td>XTzKRvWciP_BZ9imk8mmPQ</td>\n",
       "      <td>1</td>\n",
       "      <td>5</td>\n",
       "      <td>1</td>\n",
       "      <td>0</td>\n",
       "      <td>I tried this place because my girls are away f...</td>\n",
       "      <td>2014-06-27 21:32:31</td>\n",
       "      <td>1635</td>\n",
       "    </tr>\n",
       "    <tr>\n",
       "      <th>CelUWzp-GnJIiiV1mDUb-g</th>\n",
       "      <td>tFICmdLtwgFIRcwtlbYQOg</td>\n",
       "      <td>CDpoJiqgM04wqQTZ6QkTqQ</td>\n",
       "      <td>1</td>\n",
       "      <td>0</td>\n",
       "      <td>0</td>\n",
       "      <td>0</td>\n",
       "      <td>Love this place downtown but the Scottsdale lo...</td>\n",
       "      <td>2015-12-05 02:37:03</td>\n",
       "      <td>183</td>\n",
       "    </tr>\n",
       "    <tr>\n",
       "      <th>hUUfzKeDLo930LA9-v2tWQ</th>\n",
       "      <td>uFVAAe0JC81IPmxgT49Hcw</td>\n",
       "      <td>3JxKzWquEbPC3yPIfoCiLw</td>\n",
       "      <td>5</td>\n",
       "      <td>0</td>\n",
       "      <td>0</td>\n",
       "      <td>0</td>\n",
       "      <td>Best chinese resto. Highly recommended. 5 star...</td>\n",
       "      <td>2016-03-07 01:03:08</td>\n",
       "      <td>151</td>\n",
       "    </tr>\n",
       "    <tr>\n",
       "      <th>E6B-2U2sGG3xgmnNWZAEew</th>\n",
       "      <td>DbccYu3OppWKl21OanZnTg</td>\n",
       "      <td>YSUcHqlKMPHHJ_cTrqtNrA</td>\n",
       "      <td>1</td>\n",
       "      <td>0</td>\n",
       "      <td>0</td>\n",
       "      <td>0</td>\n",
       "      <td>Came here on a Thursday night at 6:30 p.m. My ...</td>\n",
       "      <td>2017-12-29 13:55:19</td>\n",
       "      <td>1082</td>\n",
       "    </tr>\n",
       "    <tr>\n",
       "      <th>RLbWoIri29BcQ8yjzsvQLQ</th>\n",
       "      <td>_o740mSNRhMNYuPjSJoPLg</td>\n",
       "      <td>sMzNLdhJZGzYirIWt-fMAg</td>\n",
       "      <td>5</td>\n",
       "      <td>0</td>\n",
       "      <td>0</td>\n",
       "      <td>0</td>\n",
       "      <td>This place epitomizes the rumored transformati...</td>\n",
       "      <td>2015-06-21 00:59:14</td>\n",
       "      <td>275</td>\n",
       "    </tr>\n",
       "    <tr>\n",
       "      <th>vBRxlgkpDTXjWiYBp1V6GA</th>\n",
       "      <td>wNyiw6GfVfn5Kphqmux1gw</td>\n",
       "      <td>5OZlLXjU0FXUbrw8Scja6g</td>\n",
       "      <td>1</td>\n",
       "      <td>0</td>\n",
       "      <td>0</td>\n",
       "      <td>0</td>\n",
       "      <td>They keep there appointments on time and are p...</td>\n",
       "      <td>2018-02-01 19:01:16</td>\n",
       "      <td>919</td>\n",
       "    </tr>\n",
       "    <tr>\n",
       "      <th>eed44nI0eZ4BGKtKXsRJhQ</th>\n",
       "      <td>tAcB1ZohRtjozsymvqqHzQ</td>\n",
       "      <td>m7ommfJFalI47UksyX04Iw</td>\n",
       "      <td>1</td>\n",
       "      <td>6</td>\n",
       "      <td>2</td>\n",
       "      <td>1</td>\n",
       "      <td>Met a friend for dinner there tonight. The ser...</td>\n",
       "      <td>2014-09-25 08:15:44</td>\n",
       "      <td>746</td>\n",
       "    </tr>\n",
       "    <tr>\n",
       "      <th>NqYSX93Amv4sd5pPPr3Gag</th>\n",
       "      <td>zFYFuufYWQSPj0r5lrKQKg</td>\n",
       "      <td>wJj1EwYcXHdvA9zKqmb5hQ</td>\n",
       "      <td>5</td>\n",
       "      <td>0</td>\n",
       "      <td>0</td>\n",
       "      <td>0</td>\n",
       "      <td>I called the number provided and same day they...</td>\n",
       "      <td>2018-10-04 11:20:42</td>\n",
       "      <td>284</td>\n",
       "    </tr>\n",
       "    <tr>\n",
       "      <th>j3vP8537KHvoXNHQIr3haA</th>\n",
       "      <td>Z_HE_KKT7N-WddPTzUQC7A</td>\n",
       "      <td>jScBTQtdAt-8RshaiBEHgw</td>\n",
       "      <td>5</td>\n",
       "      <td>1</td>\n",
       "      <td>0</td>\n",
       "      <td>1</td>\n",
       "      <td>Party of 3 ordered the fish tacos, pork belly ...</td>\n",
       "      <td>2018-05-28 20:56:05</td>\n",
       "      <td>495</td>\n",
       "    </tr>\n",
       "    <tr>\n",
       "      <th>f0B9-r14-bLudyu5S7aLhw</th>\n",
       "      <td>SvMGr_Oih7ivtzmnCL-Tmg</td>\n",
       "      <td>ujHiaprwCQ5ewziu0Vi9rw</td>\n",
       "      <td>1</td>\n",
       "      <td>1</td>\n",
       "      <td>0</td>\n",
       "      <td>0</td>\n",
       "      <td>We had dinner at the Bellagio Buffet last nigh...</td>\n",
       "      <td>2013-12-07 00:14:06</td>\n",
       "      <td>791</td>\n",
       "    </tr>\n",
       "    <tr>\n",
       "      <th>...</th>\n",
       "      <td>...</td>\n",
       "      <td>...</td>\n",
       "      <td>...</td>\n",
       "      <td>...</td>\n",
       "      <td>...</td>\n",
       "      <td>...</td>\n",
       "      <td>...</td>\n",
       "      <td>...</td>\n",
       "      <td>...</td>\n",
       "    </tr>\n",
       "    <tr>\n",
       "      <th>AbceaV-Un_yF0PwJaNYUQQ</th>\n",
       "      <td>w3bQVkvNNmPip0uyUUQTmg</td>\n",
       "      <td>yW9IIc1cBIlFlbOG_1pp_Q</td>\n",
       "      <td>5</td>\n",
       "      <td>1</td>\n",
       "      <td>1</td>\n",
       "      <td>2</td>\n",
       "      <td>Absolutely fantastic place. Looks like an Ital...</td>\n",
       "      <td>2018-08-14 16:07:10</td>\n",
       "      <td>610</td>\n",
       "    </tr>\n",
       "    <tr>\n",
       "      <th>oO9U3VhsprN-f08NtVprDg</th>\n",
       "      <td>rIkrBCOdYnN46MT1GLZStw</td>\n",
       "      <td>XXgiclB5kjH38YD29pshvg</td>\n",
       "      <td>5</td>\n",
       "      <td>0</td>\n",
       "      <td>0</td>\n",
       "      <td>0</td>\n",
       "      <td>Wow! So far I am VERY happy with my experience...</td>\n",
       "      <td>2017-06-28 03:41:52</td>\n",
       "      <td>477</td>\n",
       "    </tr>\n",
       "    <tr>\n",
       "      <th>fC41-sj0w7LEx23K4I3sAQ</th>\n",
       "      <td>NsyDv_NPPN3ICQBprOlqBw</td>\n",
       "      <td>YmOWkved7K8q3eXgf4NNnA</td>\n",
       "      <td>5</td>\n",
       "      <td>0</td>\n",
       "      <td>0</td>\n",
       "      <td>0</td>\n",
       "      <td>I had the flu and just needed something in my ...</td>\n",
       "      <td>2017-12-29 18:20:28</td>\n",
       "      <td>569</td>\n",
       "    </tr>\n",
       "    <tr>\n",
       "      <th>nuWlsNUbvlg5jDzaW3CTkw</th>\n",
       "      <td>VSOV3BDJDeftVVg0wBG-qw</td>\n",
       "      <td>dua9DKkJSN-fRheoTaQexA</td>\n",
       "      <td>5</td>\n",
       "      <td>2</td>\n",
       "      <td>1</td>\n",
       "      <td>0</td>\n",
       "      <td>I've wanted to start vaping for a while. I was...</td>\n",
       "      <td>2013-07-13 13:41:29</td>\n",
       "      <td>494</td>\n",
       "    </tr>\n",
       "    <tr>\n",
       "      <th>Te2MlHHxLcAqL5fK_8RBMw</th>\n",
       "      <td>BzdJ_kRPQ27BViVcgCi-IQ</td>\n",
       "      <td>K49O6DtxT2hyjcJcpgNr-A</td>\n",
       "      <td>1</td>\n",
       "      <td>0</td>\n",
       "      <td>0</td>\n",
       "      <td>0</td>\n",
       "      <td>Choice Home Warranty assigned this company to ...</td>\n",
       "      <td>2018-07-26 16:07:57</td>\n",
       "      <td>765</td>\n",
       "    </tr>\n",
       "    <tr>\n",
       "      <th>4HD4Bq3xecY5y-4WEvBjDw</th>\n",
       "      <td>6iXtag80B_Ccgb16MYZ3CQ</td>\n",
       "      <td>wUKzaS1MHg94RGM6z8u9mw</td>\n",
       "      <td>5</td>\n",
       "      <td>0</td>\n",
       "      <td>0</td>\n",
       "      <td>0</td>\n",
       "      <td>I absolutely loved the vibe at Olive and Ivy! ...</td>\n",
       "      <td>2014-09-25 19:02:55</td>\n",
       "      <td>397</td>\n",
       "    </tr>\n",
       "    <tr>\n",
       "      <th>N8cz04NauKzOfJw885YnEA</th>\n",
       "      <td>Se63qrFB6TiNsrAnaxHkhw</td>\n",
       "      <td>nQPYSFpUPHrvlHImR-XbqA</td>\n",
       "      <td>5</td>\n",
       "      <td>3</td>\n",
       "      <td>2</td>\n",
       "      <td>2</td>\n",
       "      <td>. I use to take my dry cleaning to a high-end ...</td>\n",
       "      <td>2012-04-28 19:44:50</td>\n",
       "      <td>781</td>\n",
       "    </tr>\n",
       "    <tr>\n",
       "      <th>uvNxd_T6y8_1FOqK-9FPdg</th>\n",
       "      <td>GR-93c0v3PQh3pks4jNERQ</td>\n",
       "      <td>VMXl3Dm1Nwvgwo1PVYTXbg</td>\n",
       "      <td>5</td>\n",
       "      <td>0</td>\n",
       "      <td>0</td>\n",
       "      <td>0</td>\n",
       "      <td>Good vibes. Stayed at oasis. Bar is awesome/ f...</td>\n",
       "      <td>2015-06-09 00:26:23</td>\n",
       "      <td>117</td>\n",
       "    </tr>\n",
       "    <tr>\n",
       "      <th>0oKCnvNsWUrr39eFhO540A</th>\n",
       "      <td>GcSyxYcRTcgJBbk3W4G0sw</td>\n",
       "      <td>EAs61Wm1O6tLjCs8t2eP-Q</td>\n",
       "      <td>5</td>\n",
       "      <td>1</td>\n",
       "      <td>0</td>\n",
       "      <td>0</td>\n",
       "      <td>Best Chinese food in the west valley.  I've be...</td>\n",
       "      <td>2016-09-18 21:54:41</td>\n",
       "      <td>161</td>\n",
       "    </tr>\n",
       "    <tr>\n",
       "      <th>vt15sIYI4l6izTYCIXYXog</th>\n",
       "      <td>q8pmzCDH48Nacibowi85TA</td>\n",
       "      <td>faPVqws-x-5k2CQKDNtHxw</td>\n",
       "      <td>5</td>\n",
       "      <td>0</td>\n",
       "      <td>0</td>\n",
       "      <td>0</td>\n",
       "      <td>Ok Chicken and waffle and watermelon dish was ...</td>\n",
       "      <td>2018-05-28 21:25:49</td>\n",
       "      <td>313</td>\n",
       "    </tr>\n",
       "    <tr>\n",
       "      <th>CX77JmILKKFTe5DLl8hHLA</th>\n",
       "      <td>nHc2XXcOLpeUH_mkgUeWDQ</td>\n",
       "      <td>XhUec_6-kgPy1_ZYUrzvPQ</td>\n",
       "      <td>5</td>\n",
       "      <td>0</td>\n",
       "      <td>0</td>\n",
       "      <td>0</td>\n",
       "      <td>My wife and I went there last night to celebra...</td>\n",
       "      <td>2014-11-12 18:09:15</td>\n",
       "      <td>1612</td>\n",
       "    </tr>\n",
       "    <tr>\n",
       "      <th>2gTcwJ8yMD0uLenRm9mvBg</th>\n",
       "      <td>CG-oUO4PoE0OiLzc90nicg</td>\n",
       "      <td>QqJFnv7q3b2VSSvqlUr4Cg</td>\n",
       "      <td>5</td>\n",
       "      <td>0</td>\n",
       "      <td>0</td>\n",
       "      <td>0</td>\n",
       "      <td>My man Edgar! He's finally opened his own plac...</td>\n",
       "      <td>2015-11-18 19:48:04</td>\n",
       "      <td>521</td>\n",
       "    </tr>\n",
       "    <tr>\n",
       "      <th>bo3oprc_VjmUrjIBsX5LAg</th>\n",
       "      <td>X49waIz4kJJeu1Gu4lvGwA</td>\n",
       "      <td>mfVrZNl4HHc8sxTl8rjztg</td>\n",
       "      <td>1</td>\n",
       "      <td>5</td>\n",
       "      <td>2</td>\n",
       "      <td>1</td>\n",
       "      <td>Just say no. \\r\\nFirst off, they don't warn yo...</td>\n",
       "      <td>2015-07-28 16:35:25</td>\n",
       "      <td>1432</td>\n",
       "    </tr>\n",
       "    <tr>\n",
       "      <th>F5XXd8eyqrHPiXQ3WA5qzg</th>\n",
       "      <td>sJ_3mQYp6kcx8aI7eovO7Q</td>\n",
       "      <td>4ritTGFnNxmKnKm-UX3kPQ</td>\n",
       "      <td>5</td>\n",
       "      <td>0</td>\n",
       "      <td>0</td>\n",
       "      <td>0</td>\n",
       "      <td>Hubby and i came for their non veg Thali dinne...</td>\n",
       "      <td>2016-08-13 00:10:44</td>\n",
       "      <td>510</td>\n",
       "    </tr>\n",
       "    <tr>\n",
       "      <th>vSL2AhlVIYZkFrUooxL_Vw</th>\n",
       "      <td>dipVxaat-2-XN3OHWcZjmg</td>\n",
       "      <td>77h11eWv6HKJAgojLx8G4w</td>\n",
       "      <td>5</td>\n",
       "      <td>0</td>\n",
       "      <td>0</td>\n",
       "      <td>0</td>\n",
       "      <td>Worth the hype and the wait! The line moves fa...</td>\n",
       "      <td>2018-04-04 14:30:20</td>\n",
       "      <td>108</td>\n",
       "    </tr>\n",
       "    <tr>\n",
       "      <th>CcC-KRpwFpnqCydR-R20LA</th>\n",
       "      <td>PYnnzS_3-0oDAT3cmcfs9Q</td>\n",
       "      <td>FRfB3ZCY2szqp9ETT0tfjg</td>\n",
       "      <td>5</td>\n",
       "      <td>1</td>\n",
       "      <td>1</td>\n",
       "      <td>0</td>\n",
       "      <td>THEY REDEEMED THEMSELVES IN A BIG WAY\\r\\n\\r\\nA...</td>\n",
       "      <td>2013-12-07 10:40:47</td>\n",
       "      <td>537</td>\n",
       "    </tr>\n",
       "    <tr>\n",
       "      <th>CKhUQeyb8zbgQAnkRG_NxA</th>\n",
       "      <td>ZUVHNrHuJQVXmjyOPkofnA</td>\n",
       "      <td>SVhM3Pxjw-PUPr1sBghqlw</td>\n",
       "      <td>1</td>\n",
       "      <td>3</td>\n",
       "      <td>0</td>\n",
       "      <td>0</td>\n",
       "      <td>Do these people ever pick up the phone? I need...</td>\n",
       "      <td>2017-06-06 21:01:18</td>\n",
       "      <td>355</td>\n",
       "    </tr>\n",
       "    <tr>\n",
       "      <th>OD-SGCp6hElAeyBgoOwEHQ</th>\n",
       "      <td>vmJsMEkf193Np76t5mKjRQ</td>\n",
       "      <td>KxmzyLoX_u9Dx2ZoMwSYzg</td>\n",
       "      <td>1</td>\n",
       "      <td>0</td>\n",
       "      <td>0</td>\n",
       "      <td>0</td>\n",
       "      <td>Came in for propane before football started an...</td>\n",
       "      <td>2016-01-17 18:09:33</td>\n",
       "      <td>127</td>\n",
       "    </tr>\n",
       "    <tr>\n",
       "      <th>jtrwv623G7hWCzl_v5ZhWQ</th>\n",
       "      <td>oCX8Ckb8a9EkmgRxhQBGdw</td>\n",
       "      <td>CpyDEbemEm8F4vaUYcL_VQ</td>\n",
       "      <td>5</td>\n",
       "      <td>0</td>\n",
       "      <td>0</td>\n",
       "      <td>0</td>\n",
       "      <td>Always have a good experience with Parking Spo...</td>\n",
       "      <td>2017-08-28 20:09:17</td>\n",
       "      <td>285</td>\n",
       "    </tr>\n",
       "    <tr>\n",
       "      <th>_iXLfe9zp0QuWP0gF3Oc4A</th>\n",
       "      <td>KX-V0AGnu_E4i8PNiAkHYg</td>\n",
       "      <td>yYkvonvBGZB6UMnpzr6Ryw</td>\n",
       "      <td>1</td>\n",
       "      <td>0</td>\n",
       "      <td>0</td>\n",
       "      <td>0</td>\n",
       "      <td>Went here yesterday April 18th nigh time. Frie...</td>\n",
       "      <td>2017-04-19 08:08:49</td>\n",
       "      <td>439</td>\n",
       "    </tr>\n",
       "    <tr>\n",
       "      <th>IAwg4BOiKPq8D-HvEr7_eQ</th>\n",
       "      <td>edCPA-6lvh5wqclDBZPggQ</td>\n",
       "      <td>tjAeaGdxf7I4xN9M7wGJNQ</td>\n",
       "      <td>5</td>\n",
       "      <td>1</td>\n",
       "      <td>0</td>\n",
       "      <td>0</td>\n",
       "      <td>Only place worth eating pizza if you are comin...</td>\n",
       "      <td>2015-08-07 02:19:55</td>\n",
       "      <td>445</td>\n",
       "    </tr>\n",
       "    <tr>\n",
       "      <th>FMdyw0_6T72xh3WWtneMBg</th>\n",
       "      <td>SMYeSQlq8Q7fZx1giUG3Uw</td>\n",
       "      <td>46hnat0aLao-qYWZkN9aBg</td>\n",
       "      <td>5</td>\n",
       "      <td>0</td>\n",
       "      <td>0</td>\n",
       "      <td>0</td>\n",
       "      <td>The roasted pork special was really amazing. W...</td>\n",
       "      <td>2016-11-22 00:31:54</td>\n",
       "      <td>287</td>\n",
       "    </tr>\n",
       "    <tr>\n",
       "      <th>OSjyy9eWdmXbLipiKNxkpA</th>\n",
       "      <td>enKET02ZEpDNWE7JJOWtHA</td>\n",
       "      <td>jYU4Nd71giCWpLuj5JIxgg</td>\n",
       "      <td>5</td>\n",
       "      <td>2</td>\n",
       "      <td>0</td>\n",
       "      <td>0</td>\n",
       "      <td>Charlie and his wife are so talented! More imp...</td>\n",
       "      <td>2018-01-21 08:59:34</td>\n",
       "      <td>701</td>\n",
       "    </tr>\n",
       "    <tr>\n",
       "      <th>3HBysY6hsR1I8GPnmTaywg</th>\n",
       "      <td>RtGqdDBvvBCjcu5dUqwfzA</td>\n",
       "      <td>EneqsOFGCK4KXofNHsc5aQ</td>\n",
       "      <td>5</td>\n",
       "      <td>1</td>\n",
       "      <td>2</td>\n",
       "      <td>2</td>\n",
       "      <td>I was actually nervous about eating at the In ...</td>\n",
       "      <td>2017-12-29 19:19:14</td>\n",
       "      <td>1131</td>\n",
       "    </tr>\n",
       "    <tr>\n",
       "      <th>4N_HiM2d5-dIHSfKhlUgBA</th>\n",
       "      <td>ODU4UwsSnKNJ0PNfb9x5_w</td>\n",
       "      <td>i0mkpJFYJizVsOSfsivRVg</td>\n",
       "      <td>5</td>\n",
       "      <td>1</td>\n",
       "      <td>0</td>\n",
       "      <td>0</td>\n",
       "      <td>Probably the coolest little record store to fi...</td>\n",
       "      <td>2015-08-19 18:00:03</td>\n",
       "      <td>214</td>\n",
       "    </tr>\n",
       "    <tr>\n",
       "      <th>lnMvooeE9Agy2KQD8qg2bg</th>\n",
       "      <td>DEsJoqBSjCSA2iu-pe5QYA</td>\n",
       "      <td>JYzP9hYTwOQhFeCEAx2zng</td>\n",
       "      <td>1</td>\n",
       "      <td>3</td>\n",
       "      <td>0</td>\n",
       "      <td>0</td>\n",
       "      <td>I still have nothing from Natalie Pyles, Perso...</td>\n",
       "      <td>2017-05-13 19:15:50</td>\n",
       "      <td>485</td>\n",
       "    </tr>\n",
       "    <tr>\n",
       "      <th>NXpXkRxs4FkBMIzZnuaEhg</th>\n",
       "      <td>esIMplx-b4ilSvoh1PEh9Q</td>\n",
       "      <td>vNPJbqYuJEFDPOLhoq3bFA</td>\n",
       "      <td>5</td>\n",
       "      <td>0</td>\n",
       "      <td>0</td>\n",
       "      <td>0</td>\n",
       "      <td>I love EWC Crocker Park!  \\r\\n\\r\\nThe staff is...</td>\n",
       "      <td>2015-04-28 20:31:58</td>\n",
       "      <td>437</td>\n",
       "    </tr>\n",
       "    <tr>\n",
       "      <th>cAumKmSXMLrR0ryjPHotog</th>\n",
       "      <td>GrbKHOcLurbZhuXHxEW3RQ</td>\n",
       "      <td>ZCYCNWA98718SZ0A4bHD7A</td>\n",
       "      <td>5</td>\n",
       "      <td>1</td>\n",
       "      <td>0</td>\n",
       "      <td>0</td>\n",
       "      <td>Delicious! Came here today and tried the Oreo ...</td>\n",
       "      <td>2018-06-09 00:24:40</td>\n",
       "      <td>681</td>\n",
       "    </tr>\n",
       "    <tr>\n",
       "      <th>szg4VhzreMH42PINK-WTzA</th>\n",
       "      <td>sqhLA00LZoWO7_lIVFlXpw</td>\n",
       "      <td>4z_hAnw2UV5CzfcjtVvWsg</td>\n",
       "      <td>1</td>\n",
       "      <td>0</td>\n",
       "      <td>0</td>\n",
       "      <td>0</td>\n",
       "      <td>I'm here to comment on the conduct of one of t...</td>\n",
       "      <td>2017-11-18 21:07:11</td>\n",
       "      <td>2284</td>\n",
       "    </tr>\n",
       "    <tr>\n",
       "      <th>ckYAOCkCmybeYAH6KsmL8g</th>\n",
       "      <td>OCTRLL2xuLS_ma8iLjlYvQ</td>\n",
       "      <td>gRMYm-CeEdjXtaQcVo8vsw</td>\n",
       "      <td>5</td>\n",
       "      <td>0</td>\n",
       "      <td>0</td>\n",
       "      <td>0</td>\n",
       "      <td>This place was really great!  I know all Teppa...</td>\n",
       "      <td>2018-04-04 04:12:28</td>\n",
       "      <td>388</td>\n",
       "    </tr>\n",
       "  </tbody>\n",
       "</table>\n",
       "<p>5953 rows × 9 columns</p>\n",
       "</div>"
      ],
      "text/plain": [
       "                                       user_id             business_id  stars  \\\n",
       "review_id                                                                       \n",
       "Q1sbwvVQXV2734tPgoKj4Q  hG7b0MtEbXx5QzbzE6C_VA  ujmEBvifdJM6h6RLv4wQIg      1   \n",
       "GJXCdrto3ASJOqKeVWPi6Q  yXQM5uF2jS6es16SJzNHfg  NZnhc2sEQy3RmzKTZnqtwQ      5   \n",
       "2TzJjDVDEuAW6MR5Vuc1ug  n6-Gk65cPZL6Uz8qRm3NYw  WTqjgwHlXbSFevF32_DJVw      5   \n",
       "yi0R0Ugj_xUx_Nek0-_Qig  dacAIZ6fTM6mqwW5uxkskg  ikCg8xy5JIg_NGPx-MSIDA      5   \n",
       "11a8sVPMUFtaC7_ABRkmtw  ssoyf2_x0EQMed6fgHeMyQ  b1b1eb3uo-w561D0ZfCEiQ      1   \n",
       "8e9HxxLjjqc9ez5ezzN7iQ  d6xvYpyzcfbF_AZ8vMB7QA  zvO-PJCpNk4fgAVUnExYAA      1   \n",
       "-I5umRTkhw15RqpKMl_o1Q  -mA3-1mN4JIEkqOtdbNXCQ  mRUVMJkUGxrByzMQ2MuOpA      1   \n",
       "JVcjMhlavKKn3UIt9p9OXA  TpyOT5E16YASd7EWjLQlrw  AakkkTuGZA2KBodKi2_u8A      1   \n",
       "svK3nBU7Rk8VfGorlrN52A  NJlxGtouq06hhC7sS2ECYw  YvrylyuWgbP90RgMqZQVnQ      5   \n",
       "rEITo90tpyKmEfNDp3Ou3A  6Fz_nus_OG4gar721OKgZA  6lj2BJ4tJeu7db5asGHQ4w      5   \n",
       "Amo5gZBvCuPc_tZNpHwtsA  DzZ7piLBF-WsJxqosfJgtA  qx6WhZ42eDKmBchZDax4dQ      5   \n",
       "IPw8yWiyqnfBzzWmypUHgg  5JVY32_bmTBfIGpCCsnAfw  Mem13A3C202RzT53npn4NA      5   \n",
       "S337tATeouQJdoPYyir29w  2mxBNBeFrgDszqGS5tdEHA  d_L-rfS1vT3JMzgCUGtiow      5   \n",
       "D_UvaenM25iNd6aehTZ0MA  8NwU4TRsD3S6gIfBqFzDMQ  Sfc8Haz2Yri8Mo1L0E0TsA      5   \n",
       "I9HBDyzCqLhTYHCAZIFZQQ  vXZeHaLvdfCPATz5BDavow  FQ1wBQb3aNeRMThSQEV0Qg      5   \n",
       "W1wbNaUnbMy4b9QqY3_SAg  vDr8hBNYigiY70fk1kF5iQ  hd5xm20tfSa70-6UqD9-bg      1   \n",
       "qm97yMwREr7BKkexlwLFbg  TTRVdTXKcq-xn6-1IWbwEw  Gyrez6K8f1AyR7dzW9fvAw      5   \n",
       "1daGBpea0sleayFeeXuoYw  q3GeSW9dWN9r_ocqFkhrvg  9nTF596jDvBBia2EXXiOOg      1   \n",
       "DAC4zWY2ZMa1vxpN9RrDvA  yxyRt-zoh_A6PMThX-h9Vw  SNL64axQhCO6Z7ohcWg3wA      1   \n",
       "0AsmPiAQduxh5jE_si8cLA  C_hUvw2z0R-Rv0yZb6QCZA  dm6sO_Y8JdKTE1ZM955yug      5   \n",
       "bjD0Dqn3k-fi00BXatrytg  1fi6x4tnJtlVWaJmoIO9XA  XTzKRvWciP_BZ9imk8mmPQ      1   \n",
       "CelUWzp-GnJIiiV1mDUb-g  tFICmdLtwgFIRcwtlbYQOg  CDpoJiqgM04wqQTZ6QkTqQ      1   \n",
       "hUUfzKeDLo930LA9-v2tWQ  uFVAAe0JC81IPmxgT49Hcw  3JxKzWquEbPC3yPIfoCiLw      5   \n",
       "E6B-2U2sGG3xgmnNWZAEew  DbccYu3OppWKl21OanZnTg  YSUcHqlKMPHHJ_cTrqtNrA      1   \n",
       "RLbWoIri29BcQ8yjzsvQLQ  _o740mSNRhMNYuPjSJoPLg  sMzNLdhJZGzYirIWt-fMAg      5   \n",
       "vBRxlgkpDTXjWiYBp1V6GA  wNyiw6GfVfn5Kphqmux1gw  5OZlLXjU0FXUbrw8Scja6g      1   \n",
       "eed44nI0eZ4BGKtKXsRJhQ  tAcB1ZohRtjozsymvqqHzQ  m7ommfJFalI47UksyX04Iw      1   \n",
       "NqYSX93Amv4sd5pPPr3Gag  zFYFuufYWQSPj0r5lrKQKg  wJj1EwYcXHdvA9zKqmb5hQ      5   \n",
       "j3vP8537KHvoXNHQIr3haA  Z_HE_KKT7N-WddPTzUQC7A  jScBTQtdAt-8RshaiBEHgw      5   \n",
       "f0B9-r14-bLudyu5S7aLhw  SvMGr_Oih7ivtzmnCL-Tmg  ujHiaprwCQ5ewziu0Vi9rw      1   \n",
       "...                                        ...                     ...    ...   \n",
       "AbceaV-Un_yF0PwJaNYUQQ  w3bQVkvNNmPip0uyUUQTmg  yW9IIc1cBIlFlbOG_1pp_Q      5   \n",
       "oO9U3VhsprN-f08NtVprDg  rIkrBCOdYnN46MT1GLZStw  XXgiclB5kjH38YD29pshvg      5   \n",
       "fC41-sj0w7LEx23K4I3sAQ  NsyDv_NPPN3ICQBprOlqBw  YmOWkved7K8q3eXgf4NNnA      5   \n",
       "nuWlsNUbvlg5jDzaW3CTkw  VSOV3BDJDeftVVg0wBG-qw  dua9DKkJSN-fRheoTaQexA      5   \n",
       "Te2MlHHxLcAqL5fK_8RBMw  BzdJ_kRPQ27BViVcgCi-IQ  K49O6DtxT2hyjcJcpgNr-A      1   \n",
       "4HD4Bq3xecY5y-4WEvBjDw  6iXtag80B_Ccgb16MYZ3CQ  wUKzaS1MHg94RGM6z8u9mw      5   \n",
       "N8cz04NauKzOfJw885YnEA  Se63qrFB6TiNsrAnaxHkhw  nQPYSFpUPHrvlHImR-XbqA      5   \n",
       "uvNxd_T6y8_1FOqK-9FPdg  GR-93c0v3PQh3pks4jNERQ  VMXl3Dm1Nwvgwo1PVYTXbg      5   \n",
       "0oKCnvNsWUrr39eFhO540A  GcSyxYcRTcgJBbk3W4G0sw  EAs61Wm1O6tLjCs8t2eP-Q      5   \n",
       "vt15sIYI4l6izTYCIXYXog  q8pmzCDH48Nacibowi85TA  faPVqws-x-5k2CQKDNtHxw      5   \n",
       "CX77JmILKKFTe5DLl8hHLA  nHc2XXcOLpeUH_mkgUeWDQ  XhUec_6-kgPy1_ZYUrzvPQ      5   \n",
       "2gTcwJ8yMD0uLenRm9mvBg  CG-oUO4PoE0OiLzc90nicg  QqJFnv7q3b2VSSvqlUr4Cg      5   \n",
       "bo3oprc_VjmUrjIBsX5LAg  X49waIz4kJJeu1Gu4lvGwA  mfVrZNl4HHc8sxTl8rjztg      1   \n",
       "F5XXd8eyqrHPiXQ3WA5qzg  sJ_3mQYp6kcx8aI7eovO7Q  4ritTGFnNxmKnKm-UX3kPQ      5   \n",
       "vSL2AhlVIYZkFrUooxL_Vw  dipVxaat-2-XN3OHWcZjmg  77h11eWv6HKJAgojLx8G4w      5   \n",
       "CcC-KRpwFpnqCydR-R20LA  PYnnzS_3-0oDAT3cmcfs9Q  FRfB3ZCY2szqp9ETT0tfjg      5   \n",
       "CKhUQeyb8zbgQAnkRG_NxA  ZUVHNrHuJQVXmjyOPkofnA  SVhM3Pxjw-PUPr1sBghqlw      1   \n",
       "OD-SGCp6hElAeyBgoOwEHQ  vmJsMEkf193Np76t5mKjRQ  KxmzyLoX_u9Dx2ZoMwSYzg      1   \n",
       "jtrwv623G7hWCzl_v5ZhWQ  oCX8Ckb8a9EkmgRxhQBGdw  CpyDEbemEm8F4vaUYcL_VQ      5   \n",
       "_iXLfe9zp0QuWP0gF3Oc4A  KX-V0AGnu_E4i8PNiAkHYg  yYkvonvBGZB6UMnpzr6Ryw      1   \n",
       "IAwg4BOiKPq8D-HvEr7_eQ  edCPA-6lvh5wqclDBZPggQ  tjAeaGdxf7I4xN9M7wGJNQ      5   \n",
       "FMdyw0_6T72xh3WWtneMBg  SMYeSQlq8Q7fZx1giUG3Uw  46hnat0aLao-qYWZkN9aBg      5   \n",
       "OSjyy9eWdmXbLipiKNxkpA  enKET02ZEpDNWE7JJOWtHA  jYU4Nd71giCWpLuj5JIxgg      5   \n",
       "3HBysY6hsR1I8GPnmTaywg  RtGqdDBvvBCjcu5dUqwfzA  EneqsOFGCK4KXofNHsc5aQ      5   \n",
       "4N_HiM2d5-dIHSfKhlUgBA  ODU4UwsSnKNJ0PNfb9x5_w  i0mkpJFYJizVsOSfsivRVg      5   \n",
       "lnMvooeE9Agy2KQD8qg2bg  DEsJoqBSjCSA2iu-pe5QYA  JYzP9hYTwOQhFeCEAx2zng      1   \n",
       "NXpXkRxs4FkBMIzZnuaEhg  esIMplx-b4ilSvoh1PEh9Q  vNPJbqYuJEFDPOLhoq3bFA      5   \n",
       "cAumKmSXMLrR0ryjPHotog  GrbKHOcLurbZhuXHxEW3RQ  ZCYCNWA98718SZ0A4bHD7A      5   \n",
       "szg4VhzreMH42PINK-WTzA  sqhLA00LZoWO7_lIVFlXpw  4z_hAnw2UV5CzfcjtVvWsg      1   \n",
       "ckYAOCkCmybeYAH6KsmL8g  OCTRLL2xuLS_ma8iLjlYvQ  gRMYm-CeEdjXtaQcVo8vsw      5   \n",
       "\n",
       "                        useful  funny  cool  \\\n",
       "review_id                                     \n",
       "Q1sbwvVQXV2734tPgoKj4Q       6      1     0   \n",
       "GJXCdrto3ASJOqKeVWPi6Q       0      0     0   \n",
       "2TzJjDVDEuAW6MR5Vuc1ug       3      0     0   \n",
       "yi0R0Ugj_xUx_Nek0-_Qig       0      0     0   \n",
       "11a8sVPMUFtaC7_ABRkmtw       7      0     0   \n",
       "8e9HxxLjjqc9ez5ezzN7iQ       3      1     1   \n",
       "-I5umRTkhw15RqpKMl_o1Q       0      1     0   \n",
       "JVcjMhlavKKn3UIt9p9OXA       1      1     0   \n",
       "svK3nBU7Rk8VfGorlrN52A       0      0     0   \n",
       "rEITo90tpyKmEfNDp3Ou3A       0      0     0   \n",
       "Amo5gZBvCuPc_tZNpHwtsA       1      0     0   \n",
       "IPw8yWiyqnfBzzWmypUHgg       9      6     9   \n",
       "S337tATeouQJdoPYyir29w       0      0     0   \n",
       "D_UvaenM25iNd6aehTZ0MA       0      0     0   \n",
       "I9HBDyzCqLhTYHCAZIFZQQ       4      0     0   \n",
       "W1wbNaUnbMy4b9QqY3_SAg       7      1     1   \n",
       "qm97yMwREr7BKkexlwLFbg       0      0     1   \n",
       "1daGBpea0sleayFeeXuoYw       1      0     0   \n",
       "DAC4zWY2ZMa1vxpN9RrDvA       0      0     0   \n",
       "0AsmPiAQduxh5jE_si8cLA       0      0     0   \n",
       "bjD0Dqn3k-fi00BXatrytg       5      1     0   \n",
       "CelUWzp-GnJIiiV1mDUb-g       0      0     0   \n",
       "hUUfzKeDLo930LA9-v2tWQ       0      0     0   \n",
       "E6B-2U2sGG3xgmnNWZAEew       0      0     0   \n",
       "RLbWoIri29BcQ8yjzsvQLQ       0      0     0   \n",
       "vBRxlgkpDTXjWiYBp1V6GA       0      0     0   \n",
       "eed44nI0eZ4BGKtKXsRJhQ       6      2     1   \n",
       "NqYSX93Amv4sd5pPPr3Gag       0      0     0   \n",
       "j3vP8537KHvoXNHQIr3haA       1      0     1   \n",
       "f0B9-r14-bLudyu5S7aLhw       1      0     0   \n",
       "...                        ...    ...   ...   \n",
       "AbceaV-Un_yF0PwJaNYUQQ       1      1     2   \n",
       "oO9U3VhsprN-f08NtVprDg       0      0     0   \n",
       "fC41-sj0w7LEx23K4I3sAQ       0      0     0   \n",
       "nuWlsNUbvlg5jDzaW3CTkw       2      1     0   \n",
       "Te2MlHHxLcAqL5fK_8RBMw       0      0     0   \n",
       "4HD4Bq3xecY5y-4WEvBjDw       0      0     0   \n",
       "N8cz04NauKzOfJw885YnEA       3      2     2   \n",
       "uvNxd_T6y8_1FOqK-9FPdg       0      0     0   \n",
       "0oKCnvNsWUrr39eFhO540A       1      0     0   \n",
       "vt15sIYI4l6izTYCIXYXog       0      0     0   \n",
       "CX77JmILKKFTe5DLl8hHLA       0      0     0   \n",
       "2gTcwJ8yMD0uLenRm9mvBg       0      0     0   \n",
       "bo3oprc_VjmUrjIBsX5LAg       5      2     1   \n",
       "F5XXd8eyqrHPiXQ3WA5qzg       0      0     0   \n",
       "vSL2AhlVIYZkFrUooxL_Vw       0      0     0   \n",
       "CcC-KRpwFpnqCydR-R20LA       1      1     0   \n",
       "CKhUQeyb8zbgQAnkRG_NxA       3      0     0   \n",
       "OD-SGCp6hElAeyBgoOwEHQ       0      0     0   \n",
       "jtrwv623G7hWCzl_v5ZhWQ       0      0     0   \n",
       "_iXLfe9zp0QuWP0gF3Oc4A       0      0     0   \n",
       "IAwg4BOiKPq8D-HvEr7_eQ       1      0     0   \n",
       "FMdyw0_6T72xh3WWtneMBg       0      0     0   \n",
       "OSjyy9eWdmXbLipiKNxkpA       2      0     0   \n",
       "3HBysY6hsR1I8GPnmTaywg       1      2     2   \n",
       "4N_HiM2d5-dIHSfKhlUgBA       1      0     0   \n",
       "lnMvooeE9Agy2KQD8qg2bg       3      0     0   \n",
       "NXpXkRxs4FkBMIzZnuaEhg       0      0     0   \n",
       "cAumKmSXMLrR0ryjPHotog       1      0     0   \n",
       "szg4VhzreMH42PINK-WTzA       0      0     0   \n",
       "ckYAOCkCmybeYAH6KsmL8g       0      0     0   \n",
       "\n",
       "                                                                     text  \\\n",
       "review_id                                                                   \n",
       "Q1sbwvVQXV2734tPgoKj4Q  Total bill for this horrible service? Over $8G...   \n",
       "GJXCdrto3ASJOqKeVWPi6Q  I *adore* Travis at the Hard Rock's new Kelly ...   \n",
       "2TzJjDVDEuAW6MR5Vuc1ug  I have to say that this office really has it t...   \n",
       "yi0R0Ugj_xUx_Nek0-_Qig  Went in for a lunch. Steak sandwich was delici...   \n",
       "11a8sVPMUFtaC7_ABRkmtw  Today was my second out of three sessions I ha...   \n",
       "8e9HxxLjjqc9ez5ezzN7iQ  This place has gone down hill.  Clearly they h...   \n",
       "-I5umRTkhw15RqpKMl_o1Q  Walked in around 4 on a Friday afternoon, we s...   \n",
       "JVcjMhlavKKn3UIt9p9OXA  I cannot believe how things have changed in 3 ...   \n",
       "svK3nBU7Rk8VfGorlrN52A  You can't really find anything wrong with this...   \n",
       "rEITo90tpyKmEfNDp3Ou3A  We've been a huge Slim's fan since they opened...   \n",
       "Amo5gZBvCuPc_tZNpHwtsA  Our family LOVES the food here. Quick, friendl...   \n",
       "IPw8yWiyqnfBzzWmypUHgg  If you are looking for the best pierogies in P...   \n",
       "S337tATeouQJdoPYyir29w  Pick any meat on the planet and the chef will ...   \n",
       "D_UvaenM25iNd6aehTZ0MA  Great food, great service. Obviously fried chi...   \n",
       "I9HBDyzCqLhTYHCAZIFZQQ  PlumbSmart provided superior service from begi...   \n",
       "W1wbNaUnbMy4b9QqY3_SAg  Unfortunately, I must recommend not to conduct...   \n",
       "qm97yMwREr7BKkexlwLFbg  their pettuccine was fresh-made in the morning...   \n",
       "1daGBpea0sleayFeeXuoYw  if i can give this place no stars i would, i o...   \n",
       "DAC4zWY2ZMa1vxpN9RrDvA  This review is in regards to our experience wa...   \n",
       "0AsmPiAQduxh5jE_si8cLA  ended up here because Raku was closed and it r...   \n",
       "bjD0Dqn3k-fi00BXatrytg  I tried this place because my girls are away f...   \n",
       "CelUWzp-GnJIiiV1mDUb-g  Love this place downtown but the Scottsdale lo...   \n",
       "hUUfzKeDLo930LA9-v2tWQ  Best chinese resto. Highly recommended. 5 star...   \n",
       "E6B-2U2sGG3xgmnNWZAEew  Came here on a Thursday night at 6:30 p.m. My ...   \n",
       "RLbWoIri29BcQ8yjzsvQLQ  This place epitomizes the rumored transformati...   \n",
       "vBRxlgkpDTXjWiYBp1V6GA  They keep there appointments on time and are p...   \n",
       "eed44nI0eZ4BGKtKXsRJhQ  Met a friend for dinner there tonight. The ser...   \n",
       "NqYSX93Amv4sd5pPPr3Gag  I called the number provided and same day they...   \n",
       "j3vP8537KHvoXNHQIr3haA  Party of 3 ordered the fish tacos, pork belly ...   \n",
       "f0B9-r14-bLudyu5S7aLhw  We had dinner at the Bellagio Buffet last nigh...   \n",
       "...                                                                   ...   \n",
       "AbceaV-Un_yF0PwJaNYUQQ  Absolutely fantastic place. Looks like an Ital...   \n",
       "oO9U3VhsprN-f08NtVprDg  Wow! So far I am VERY happy with my experience...   \n",
       "fC41-sj0w7LEx23K4I3sAQ  I had the flu and just needed something in my ...   \n",
       "nuWlsNUbvlg5jDzaW3CTkw  I've wanted to start vaping for a while. I was...   \n",
       "Te2MlHHxLcAqL5fK_8RBMw  Choice Home Warranty assigned this company to ...   \n",
       "4HD4Bq3xecY5y-4WEvBjDw  I absolutely loved the vibe at Olive and Ivy! ...   \n",
       "N8cz04NauKzOfJw885YnEA  . I use to take my dry cleaning to a high-end ...   \n",
       "uvNxd_T6y8_1FOqK-9FPdg  Good vibes. Stayed at oasis. Bar is awesome/ f...   \n",
       "0oKCnvNsWUrr39eFhO540A  Best Chinese food in the west valley.  I've be...   \n",
       "vt15sIYI4l6izTYCIXYXog  Ok Chicken and waffle and watermelon dish was ...   \n",
       "CX77JmILKKFTe5DLl8hHLA  My wife and I went there last night to celebra...   \n",
       "2gTcwJ8yMD0uLenRm9mvBg  My man Edgar! He's finally opened his own plac...   \n",
       "bo3oprc_VjmUrjIBsX5LAg  Just say no. \\r\\nFirst off, they don't warn yo...   \n",
       "F5XXd8eyqrHPiXQ3WA5qzg  Hubby and i came for their non veg Thali dinne...   \n",
       "vSL2AhlVIYZkFrUooxL_Vw  Worth the hype and the wait! The line moves fa...   \n",
       "CcC-KRpwFpnqCydR-R20LA  THEY REDEEMED THEMSELVES IN A BIG WAY\\r\\n\\r\\nA...   \n",
       "CKhUQeyb8zbgQAnkRG_NxA  Do these people ever pick up the phone? I need...   \n",
       "OD-SGCp6hElAeyBgoOwEHQ  Came in for propane before football started an...   \n",
       "jtrwv623G7hWCzl_v5ZhWQ  Always have a good experience with Parking Spo...   \n",
       "_iXLfe9zp0QuWP0gF3Oc4A  Went here yesterday April 18th nigh time. Frie...   \n",
       "IAwg4BOiKPq8D-HvEr7_eQ  Only place worth eating pizza if you are comin...   \n",
       "FMdyw0_6T72xh3WWtneMBg  The roasted pork special was really amazing. W...   \n",
       "OSjyy9eWdmXbLipiKNxkpA  Charlie and his wife are so talented! More imp...   \n",
       "3HBysY6hsR1I8GPnmTaywg  I was actually nervous about eating at the In ...   \n",
       "4N_HiM2d5-dIHSfKhlUgBA  Probably the coolest little record store to fi...   \n",
       "lnMvooeE9Agy2KQD8qg2bg  I still have nothing from Natalie Pyles, Perso...   \n",
       "NXpXkRxs4FkBMIzZnuaEhg  I love EWC Crocker Park!  \\r\\n\\r\\nThe staff is...   \n",
       "cAumKmSXMLrR0ryjPHotog  Delicious! Came here today and tried the Oreo ...   \n",
       "szg4VhzreMH42PINK-WTzA  I'm here to comment on the conduct of one of t...   \n",
       "ckYAOCkCmybeYAH6KsmL8g  This place was really great!  I know all Teppa...   \n",
       "\n",
       "                                       date  length  \n",
       "review_id                                            \n",
       "Q1sbwvVQXV2734tPgoKj4Q  2013-05-07 04:34:36     204  \n",
       "GJXCdrto3ASJOqKeVWPi6Q  2017-01-14 21:30:33    1567  \n",
       "2TzJjDVDEuAW6MR5Vuc1ug  2016-11-09 20:09:03     615  \n",
       "yi0R0Ugj_xUx_Nek0-_Qig  2018-01-09 20:56:38     413  \n",
       "11a8sVPMUFtaC7_ABRkmtw  2018-01-30 23:07:38    3509  \n",
       "8e9HxxLjjqc9ez5ezzN7iQ  2010-10-05 19:12:35     380  \n",
       "-I5umRTkhw15RqpKMl_o1Q  2017-12-15 23:27:08     434  \n",
       "JVcjMhlavKKn3UIt9p9OXA  2012-07-16 00:37:14     968  \n",
       "svK3nBU7Rk8VfGorlrN52A  2017-04-07 21:27:49     405  \n",
       "rEITo90tpyKmEfNDp3Ou3A  2017-05-26 01:23:19     243  \n",
       "Amo5gZBvCuPc_tZNpHwtsA  2017-03-27 01:14:37     108  \n",
       "IPw8yWiyqnfBzzWmypUHgg  2017-05-13 10:41:43     743  \n",
       "S337tATeouQJdoPYyir29w  2016-07-25 03:57:19     155  \n",
       "D_UvaenM25iNd6aehTZ0MA  2012-11-06 03:41:43     232  \n",
       "I9HBDyzCqLhTYHCAZIFZQQ  2013-12-07 02:32:45     413  \n",
       "W1wbNaUnbMy4b9QqY3_SAg  2014-08-10 22:07:35    1332  \n",
       "qm97yMwREr7BKkexlwLFbg  2013-12-28 22:28:08     195  \n",
       "1daGBpea0sleayFeeXuoYw  2014-04-19 15:03:17     626  \n",
       "DAC4zWY2ZMa1vxpN9RrDvA  2017-02-09 03:43:25    2424  \n",
       "0AsmPiAQduxh5jE_si8cLA  2014-12-17 19:04:33     521  \n",
       "bjD0Dqn3k-fi00BXatrytg  2014-06-27 21:32:31    1635  \n",
       "CelUWzp-GnJIiiV1mDUb-g  2015-12-05 02:37:03     183  \n",
       "hUUfzKeDLo930LA9-v2tWQ  2016-03-07 01:03:08     151  \n",
       "E6B-2U2sGG3xgmnNWZAEew  2017-12-29 13:55:19    1082  \n",
       "RLbWoIri29BcQ8yjzsvQLQ  2015-06-21 00:59:14     275  \n",
       "vBRxlgkpDTXjWiYBp1V6GA  2018-02-01 19:01:16     919  \n",
       "eed44nI0eZ4BGKtKXsRJhQ  2014-09-25 08:15:44     746  \n",
       "NqYSX93Amv4sd5pPPr3Gag  2018-10-04 11:20:42     284  \n",
       "j3vP8537KHvoXNHQIr3haA  2018-05-28 20:56:05     495  \n",
       "f0B9-r14-bLudyu5S7aLhw  2013-12-07 00:14:06     791  \n",
       "...                                     ...     ...  \n",
       "AbceaV-Un_yF0PwJaNYUQQ  2018-08-14 16:07:10     610  \n",
       "oO9U3VhsprN-f08NtVprDg  2017-06-28 03:41:52     477  \n",
       "fC41-sj0w7LEx23K4I3sAQ  2017-12-29 18:20:28     569  \n",
       "nuWlsNUbvlg5jDzaW3CTkw  2013-07-13 13:41:29     494  \n",
       "Te2MlHHxLcAqL5fK_8RBMw  2018-07-26 16:07:57     765  \n",
       "4HD4Bq3xecY5y-4WEvBjDw  2014-09-25 19:02:55     397  \n",
       "N8cz04NauKzOfJw885YnEA  2012-04-28 19:44:50     781  \n",
       "uvNxd_T6y8_1FOqK-9FPdg  2015-06-09 00:26:23     117  \n",
       "0oKCnvNsWUrr39eFhO540A  2016-09-18 21:54:41     161  \n",
       "vt15sIYI4l6izTYCIXYXog  2018-05-28 21:25:49     313  \n",
       "CX77JmILKKFTe5DLl8hHLA  2014-11-12 18:09:15    1612  \n",
       "2gTcwJ8yMD0uLenRm9mvBg  2015-11-18 19:48:04     521  \n",
       "bo3oprc_VjmUrjIBsX5LAg  2015-07-28 16:35:25    1432  \n",
       "F5XXd8eyqrHPiXQ3WA5qzg  2016-08-13 00:10:44     510  \n",
       "vSL2AhlVIYZkFrUooxL_Vw  2018-04-04 14:30:20     108  \n",
       "CcC-KRpwFpnqCydR-R20LA  2013-12-07 10:40:47     537  \n",
       "CKhUQeyb8zbgQAnkRG_NxA  2017-06-06 21:01:18     355  \n",
       "OD-SGCp6hElAeyBgoOwEHQ  2016-01-17 18:09:33     127  \n",
       "jtrwv623G7hWCzl_v5ZhWQ  2017-08-28 20:09:17     285  \n",
       "_iXLfe9zp0QuWP0gF3Oc4A  2017-04-19 08:08:49     439  \n",
       "IAwg4BOiKPq8D-HvEr7_eQ  2015-08-07 02:19:55     445  \n",
       "FMdyw0_6T72xh3WWtneMBg  2016-11-22 00:31:54     287  \n",
       "OSjyy9eWdmXbLipiKNxkpA  2018-01-21 08:59:34     701  \n",
       "3HBysY6hsR1I8GPnmTaywg  2017-12-29 19:19:14    1131  \n",
       "4N_HiM2d5-dIHSfKhlUgBA  2015-08-19 18:00:03     214  \n",
       "lnMvooeE9Agy2KQD8qg2bg  2017-05-13 19:15:50     485  \n",
       "NXpXkRxs4FkBMIzZnuaEhg  2015-04-28 20:31:58     437  \n",
       "cAumKmSXMLrR0ryjPHotog  2018-06-09 00:24:40     681  \n",
       "szg4VhzreMH42PINK-WTzA  2017-11-18 21:07:11    2284  \n",
       "ckYAOCkCmybeYAH6KsmL8g  2018-04-04 04:12:28     388  \n",
       "\n",
       "[5953 rows x 9 columns]"
      ]
     },
     "execution_count": 478,
     "metadata": {},
     "output_type": "execute_result"
    }
   ],
   "source": [
    "yelp_class.set_index('review_id')"
   ]
  },
  {
   "cell_type": "code",
   "execution_count": 479,
   "metadata": {},
   "outputs": [],
   "source": [
    "business=df.business_id.unique()"
   ]
  },
  {
   "cell_type": "code",
   "execution_count": 480,
   "metadata": {},
   "outputs": [
    {
     "data": {
      "text/plain": [
       "(4618,)"
      ]
     },
     "execution_count": 480,
     "metadata": {},
     "output_type": "execute_result"
    }
   ],
   "source": [
    "business.shape"
   ]
  },
  {
   "cell_type": "markdown",
   "metadata": {},
   "source": [
    "So their are total of 4618 bussiness reviewed in the above dataset."
   ]
  },
  {
   "cell_type": "markdown",
   "metadata": {},
   "source": [
    "## Sentiment Analysis consists of two parts; Subjectivity and Polarity. Simply, Polarity and Subjectivity can be explained as follows:\n",
    "Polarity — It simply means emotions expressed in a sentence, across a range of negative, to positive.\n",
    "Subjectivity — Subjective sentence expresses some personal feelings, views, or beliefs."
   ]
  },
  {
   "cell_type": "code",
   "execution_count": 481,
   "metadata": {},
   "outputs": [],
   "source": [
    "COLS = ['date','text', 'sentiment','subjectivity','polarity']\n",
    "df_new = pd.DataFrame(columns=COLS)\n"
   ]
  },
  {
   "cell_type": "code",
   "execution_count": 482,
   "metadata": {},
   "outputs": [],
   "source": [
    "for index, row in islice(df.iterrows(), 0, None):\n",
    "\n",
    "    new_entry = []\n",
    "    text_lower=(row['text'].lower())\n",
    "    blob = TextBlob(text_lower)\n",
    "    sentiment = blob.sentiment\n",
    "    polarity = sentiment.polarity\n",
    "    subjectivity = sentiment.subjectivity\n",
    "    new_entry += [row['date'],text_lower,sentiment,subjectivity,polarity]\n",
    "    single_survey_sentimet_df = pd.DataFrame([new_entry], columns=COLS)\n",
    "    df_new = df_new.append(single_survey_sentimet_df, ignore_index=True)\n",
    "df_new.to_csv('Yelp_Text_Sentiment_Values.csv', mode='w', columns=COLS, index=False, encoding=\"utf-8\")\n"
   ]
  },
  {
   "cell_type": "code",
   "execution_count": 483,
   "metadata": {},
   "outputs": [
    {
     "data": {
      "text/plain": [
       "(10000, 5)"
      ]
     },
     "execution_count": 483,
     "metadata": {},
     "output_type": "execute_result"
    }
   ],
   "source": [
    "df_new.shape"
   ]
  },
  {
   "cell_type": "code",
   "execution_count": 484,
   "metadata": {},
   "outputs": [
    {
     "data": {
      "text/html": [
       "<div>\n",
       "<style scoped>\n",
       "    .dataframe tbody tr th:only-of-type {\n",
       "        vertical-align: middle;\n",
       "    }\n",
       "\n",
       "    .dataframe tbody tr th {\n",
       "        vertical-align: top;\n",
       "    }\n",
       "\n",
       "    .dataframe thead th {\n",
       "        text-align: right;\n",
       "    }\n",
       "</style>\n",
       "<table border=\"1\" class=\"dataframe\">\n",
       "  <thead>\n",
       "    <tr style=\"text-align: right;\">\n",
       "      <th></th>\n",
       "      <th>date</th>\n",
       "      <th>text</th>\n",
       "      <th>sentiment</th>\n",
       "      <th>subjectivity</th>\n",
       "      <th>polarity</th>\n",
       "    </tr>\n",
       "  </thead>\n",
       "  <tbody>\n",
       "    <tr>\n",
       "      <th>0</th>\n",
       "      <td>2013-05-07 04:34:36</td>\n",
       "      <td>total bill for this horrible service? over $8g...</td>\n",
       "      <td>(-0.3333333333333333, 0.6166666666666667)</td>\n",
       "      <td>0.616667</td>\n",
       "      <td>-0.333333</td>\n",
       "    </tr>\n",
       "    <tr>\n",
       "      <th>1</th>\n",
       "      <td>2017-01-14 21:30:33</td>\n",
       "      <td>i *adore* travis at the hard rock's new kelly ...</td>\n",
       "      <td>(0.3158096408096408, 0.5366678366678367)</td>\n",
       "      <td>0.536668</td>\n",
       "      <td>0.315810</td>\n",
       "    </tr>\n",
       "    <tr>\n",
       "      <th>2</th>\n",
       "      <td>2016-11-09 20:09:03</td>\n",
       "      <td>i have to say that this office really has it t...</td>\n",
       "      <td>(0.429125, 0.5840000000000001)</td>\n",
       "      <td>0.584000</td>\n",
       "      <td>0.429125</td>\n",
       "    </tr>\n",
       "    <tr>\n",
       "      <th>3</th>\n",
       "      <td>2018-01-09 20:56:38</td>\n",
       "      <td>went in for a lunch. steak sandwich was delici...</td>\n",
       "      <td>(0.8324999999999999, 0.885)</td>\n",
       "      <td>0.885000</td>\n",
       "      <td>0.832500</td>\n",
       "    </tr>\n",
       "    <tr>\n",
       "      <th>4</th>\n",
       "      <td>2018-01-30 23:07:38</td>\n",
       "      <td>today was my second out of three sessions i ha...</td>\n",
       "      <td>(0.04927662037037037, 0.43240740740740735)</td>\n",
       "      <td>0.432407</td>\n",
       "      <td>0.049277</td>\n",
       "    </tr>\n",
       "  </tbody>\n",
       "</table>\n",
       "</div>"
      ],
      "text/plain": [
       "                  date                                               text  \\\n",
       "0  2013-05-07 04:34:36  total bill for this horrible service? over $8g...   \n",
       "1  2017-01-14 21:30:33  i *adore* travis at the hard rock's new kelly ...   \n",
       "2  2016-11-09 20:09:03  i have to say that this office really has it t...   \n",
       "3  2018-01-09 20:56:38  went in for a lunch. steak sandwich was delici...   \n",
       "4  2018-01-30 23:07:38  today was my second out of three sessions i ha...   \n",
       "\n",
       "                                    sentiment  subjectivity  polarity  \n",
       "0   (-0.3333333333333333, 0.6166666666666667)      0.616667 -0.333333  \n",
       "1    (0.3158096408096408, 0.5366678366678367)      0.536668  0.315810  \n",
       "2              (0.429125, 0.5840000000000001)      0.584000  0.429125  \n",
       "3                 (0.8324999999999999, 0.885)      0.885000  0.832500  \n",
       "4  (0.04927662037037037, 0.43240740740740735)      0.432407  0.049277  "
      ]
     },
     "execution_count": 484,
     "metadata": {},
     "output_type": "execute_result"
    }
   ],
   "source": [
    "df_new.head()"
   ]
  },
  {
   "cell_type": "code",
   "execution_count": 485,
   "metadata": {},
   "outputs": [
    {
     "data": {
      "text/html": [
       "<div>\n",
       "<style scoped>\n",
       "    .dataframe tbody tr th:only-of-type {\n",
       "        vertical-align: middle;\n",
       "    }\n",
       "\n",
       "    .dataframe tbody tr th {\n",
       "        vertical-align: top;\n",
       "    }\n",
       "\n",
       "    .dataframe thead th {\n",
       "        text-align: right;\n",
       "    }\n",
       "</style>\n",
       "<table border=\"1\" class=\"dataframe\">\n",
       "  <thead>\n",
       "    <tr style=\"text-align: right;\">\n",
       "      <th></th>\n",
       "      <th>subjectivity</th>\n",
       "      <th>polarity</th>\n",
       "    </tr>\n",
       "  </thead>\n",
       "  <tbody>\n",
       "    <tr>\n",
       "      <th>count</th>\n",
       "      <td>10000.000000</td>\n",
       "      <td>10000.000000</td>\n",
       "    </tr>\n",
       "    <tr>\n",
       "      <th>mean</th>\n",
       "      <td>0.556653</td>\n",
       "      <td>0.237336</td>\n",
       "    </tr>\n",
       "    <tr>\n",
       "      <th>std</th>\n",
       "      <td>0.136217</td>\n",
       "      <td>0.231866</td>\n",
       "    </tr>\n",
       "    <tr>\n",
       "      <th>min</th>\n",
       "      <td>0.000000</td>\n",
       "      <td>-1.000000</td>\n",
       "    </tr>\n",
       "    <tr>\n",
       "      <th>25%</th>\n",
       "      <td>0.479207</td>\n",
       "      <td>0.100106</td>\n",
       "    </tr>\n",
       "    <tr>\n",
       "      <th>50%</th>\n",
       "      <td>0.555021</td>\n",
       "      <td>0.238889</td>\n",
       "    </tr>\n",
       "    <tr>\n",
       "      <th>75%</th>\n",
       "      <td>0.635556</td>\n",
       "      <td>0.377350</td>\n",
       "    </tr>\n",
       "    <tr>\n",
       "      <th>max</th>\n",
       "      <td>1.000000</td>\n",
       "      <td>1.000000</td>\n",
       "    </tr>\n",
       "  </tbody>\n",
       "</table>\n",
       "</div>"
      ],
      "text/plain": [
       "       subjectivity      polarity\n",
       "count  10000.000000  10000.000000\n",
       "mean       0.556653      0.237336\n",
       "std        0.136217      0.231866\n",
       "min        0.000000     -1.000000\n",
       "25%        0.479207      0.100106\n",
       "50%        0.555021      0.238889\n",
       "75%        0.635556      0.377350\n",
       "max        1.000000      1.000000"
      ]
     },
     "execution_count": 485,
     "metadata": {},
     "output_type": "execute_result"
    }
   ],
   "source": [
    "df_new.describe()"
   ]
  },
  {
   "cell_type": "markdown",
   "metadata": {},
   "source": [
    "So my program has confirmed to me that all the 10000 records are there and gave me a mean polarity of 0.24, which is good that means as an average, most people are in between neutral to positive with the services.\n",
    "And as you can see the 50% Value which means the median is above zero i.e., 0.24. "
   ]
  },
  {
   "cell_type": "code",
   "execution_count": 486,
   "metadata": {},
   "outputs": [
    {
     "data": {
      "text/plain": [
       "Text(0, 0.5, 'Range')"
      ]
     },
     "execution_count": 486,
     "metadata": {},
     "output_type": "execute_result"
    },
    {
     "data": {
      "image/png": "[encoded data removed]",
      "text/plain": [
       "<Figure size 720x720 with 1 Axes>"
      ]
     },
     "metadata": {
      "needs_background": "light"
     },
     "output_type": "display_data"
    }
   ],
   "source": [
    "#boxplot for df_new\n",
    "\n",
    "boxplot = df_new.boxplot(column=['subjectivity','polarity'], \n",
    "                     fontsize = 15,grid = True, vert=True,figsize=(10,10,))\n",
    "plt.ylabel('Range')"
   ]
  },
  {
   "cell_type": "code",
   "execution_count": 487,
   "metadata": {},
   "outputs": [
    {
     "data": {
      "text/plain": [
       "<seaborn.axisgrid.FacetGrid at 0x1a61b129b0>"
      ]
     },
     "execution_count": 487,
     "metadata": {},
     "output_type": "execute_result"
    },
    {
     "data": {
      "image/png": "[encoded data removed]",
      "text/plain": [
       "<Figure size 720x720 with 1 Axes>"
      ]
     },
     "metadata": {
      "needs_background": "light"
     },
     "output_type": "display_data"
    }
   ],
   "source": [
    "#scatter for dffilter\n",
    "\n",
    "sns.lmplot(x='subjectivity',y='polarity',data=df_new,fit_reg=True,scatter=True, height=10,palette=\"mute\") \n"
   ]
  },
  {
   "cell_type": "markdown",
   "metadata": {},
   "source": [
    "The scatter diagram is used to find the covariance and correlation between two variables. This diagram helps you determine how closely the two variables are related. After determining the correlation between the variables, you can then predict the behavior of the dependent variable based on the measure of the independent variable."
   ]
  },
  {
   "cell_type": "code",
   "execution_count": 488,
   "metadata": {},
   "outputs": [
    {
     "name": "stdout",
     "output_type": "stream",
     "text": [
      "[[0.018555   0.02876936]\n",
      " [0.02876936 0.09274557]]\n",
      "Pearsons correlation: 0.69351\n"
     ]
    }
   ],
   "source": [
    "#covariance and correlation for df_new\n",
    "# calculate the covariance between two variables\n",
    "\n",
    "from numpy.random import randn\n",
    "from numpy.random import seed\n",
    "from numpy import cov\n",
    "from scipy.stats import pearsonr\n",
    "\n",
    "# prepare data\n",
    "data1 = df_new['subjectivity']\n",
    "data2 = data1 + df_new['polarity']\n",
    "# calculate covariance matrix\n",
    "covariance = cov(data1, data2) \n",
    "print(covariance)\n",
    "\n",
    "corr, _ = pearsonr(data1, data2)\n",
    "print('Pearsons correlation: %.5f' % corr)"
   ]
  },
  {
   "cell_type": "markdown",
   "metadata": {},
   "source": [
    "The covariance between the two variables is 0.0287693. We can see that it is positive, suggesting the variables change in the same direction as we expect."
   ]
  },
  {
   "cell_type": "markdown",
   "metadata": {},
   "source": [
    "We can see that the two variables are positively correlated and that the correlation is 0.69351. This suggests a high level of correlation, e.g. a value above 0.5 and close to 1.0."
   ]
  },
  {
   "cell_type": "markdown",
   "metadata": {},
   "source": [
    "### The plot shows a positive correlation between Subjectivity and Polarity.\n",
    "Meaning, as subjectivity increase, the polarity in the response increase too, Or in other words, the more strong feelings are expressed, the more the overall comment is subjective."
   ]
  },
  {
   "cell_type": "code",
   "execution_count": 489,
   "metadata": {},
   "outputs": [],
   "source": [
    "a=df.text[0]"
   ]
  },
  {
   "cell_type": "code",
   "execution_count": 490,
   "metadata": {},
   "outputs": [],
   "source": [
    "stopwords_1 = set(STOPWORDS)\n",
    "stopwords_1.update([\"alway\",\"told\",\"us\",\"back\",\"really\",\"great\",\"said\",\"go\",\"way\",\"still\",\"\",\"Total\",\"will\",\"come\",\"much\",\"think\",\"good\", \"food\", \"got\", \"get\",\"came\",\"even\",\"ordered\",\"well\",\"place\",\"one\"])"
   ]
  },
  {
   "cell_type": "code",
   "execution_count": 491,
   "metadata": {},
   "outputs": [
    {
     "data": {
      "image/png": "[encoded data removed]",
      "text/plain": [
       "<Figure size 432x288 with 1 Axes>"
      ]
     },
     "metadata": {
      "needs_background": "light"
     },
     "output_type": "display_data"
    }
   ],
   "source": [
    "text1=\"\".join(review for review in df.text)\n",
    "wordcloud=WordCloud(stopwords=stopwords_1,background_color=\"white\").generate(text=text1)\n",
    "plt.imshow(wordcloud,interpolation='bilinear')\n",
    "plt.axis(\"off\")\n",
    "plt.show()"
   ]
  },
  {
   "cell_type": "markdown",
   "metadata": {},
   "source": [
    "From the above wordcloud we can see that most common theme was Service, Timings, Table service, Drinks more than food,location and in the food section it was pizza and burger."
   ]
  },
  {
   "cell_type": "markdown",
   "metadata": {},
   "source": [
    "## Data Preprocessing"
   ]
  },
  {
   "cell_type": "code",
   "execution_count": 492,
   "metadata": {},
   "outputs": [],
   "source": [
    "#remove html\n",
    "def remove_html(text):\n",
    "    soup= BeautifulSoup(text,'lxml')\n",
    "    htmlfree= soup.gettext()\n",
    "    return htmlfree"
   ]
  },
  {
   "cell_type": "code",
   "execution_count": 493,
   "metadata": {},
   "outputs": [],
   "source": [
    "# remove punctuation\n",
    "def remove_punctuation(text):\n",
    "    no_punctuation= \"\".join([w for w in text if w not in string.punctuation])\n",
    "    return no_punctuation"
   ]
  },
  {
   "cell_type": "markdown",
   "metadata": {},
   "source": [
    "### Remove punctuation and convert to lower case"
   ]
  },
  {
   "cell_type": "code",
   "execution_count": 494,
   "metadata": {},
   "outputs": [
    {
     "name": "stderr",
     "output_type": "stream",
     "text": [
      "/Users/ankit/anaconda3/lib/python3.7/site-packages/ipykernel_launcher.py:1: SettingWithCopyWarning: \n",
      "A value is trying to be set on a copy of a slice from a DataFrame.\n",
      "Try using .loc[row_indexer,col_indexer] = value instead\n",
      "\n",
      "See the caveats in the documentation: http://pandas.pydata.org/pandas-docs/stable/indexing.html#indexing-view-versus-copy\n",
      "  \"\"\"Entry point for launching an IPython kernel.\n"
     ]
    }
   ],
   "source": [
    "yelp_class['text']=yelp_class['text'].apply(lambda x: remove_punctuation(x).lower())"
   ]
  },
  {
   "cell_type": "code",
   "execution_count": 495,
   "metadata": {},
   "outputs": [
    {
     "data": {
      "text/plain": [
       "['ador', 'travi', 'hard', 'rock', 'new', 'kelli']"
      ]
     },
     "execution_count": 495,
     "metadata": {},
     "output_type": "execute_result"
    }
   ],
   "source": [
    "#yelp_class.text.apply(tokenize)\n",
    "def remove_stopwords(text):\n",
    "    text=tokenize(text)\n",
    "    words= [x for x in text if x not in stopwords.words('english')]\n",
    "    return words\n",
    "remove_stopwords(\"i ador travi at the hard rock new kelli\")"
   ]
  },
  {
   "cell_type": "code",
   "execution_count": 496,
   "metadata": {},
   "outputs": [
    {
     "data": {
      "text/html": [
       "<div>\n",
       "<style scoped>\n",
       "    .dataframe tbody tr th:only-of-type {\n",
       "        vertical-align: middle;\n",
       "    }\n",
       "\n",
       "    .dataframe tbody tr th {\n",
       "        vertical-align: top;\n",
       "    }\n",
       "\n",
       "    .dataframe thead th {\n",
       "        text-align: right;\n",
       "    }\n",
       "</style>\n",
       "<table border=\"1\" class=\"dataframe\">\n",
       "  <thead>\n",
       "    <tr style=\"text-align: right;\">\n",
       "      <th></th>\n",
       "      <th>review_id</th>\n",
       "      <th>user_id</th>\n",
       "      <th>business_id</th>\n",
       "      <th>stars</th>\n",
       "      <th>useful</th>\n",
       "      <th>funny</th>\n",
       "      <th>cool</th>\n",
       "      <th>text</th>\n",
       "      <th>date</th>\n",
       "      <th>length</th>\n",
       "    </tr>\n",
       "  </thead>\n",
       "  <tbody>\n",
       "    <tr>\n",
       "      <th>0</th>\n",
       "      <td>Q1sbwvVQXV2734tPgoKj4Q</td>\n",
       "      <td>hG7b0MtEbXx5QzbzE6C_VA</td>\n",
       "      <td>ujmEBvifdJM6h6RLv4wQIg</td>\n",
       "      <td>1</td>\n",
       "      <td>6</td>\n",
       "      <td>1</td>\n",
       "      <td>0</td>\n",
       "      <td>total bill for this horrible service over 8gs ...</td>\n",
       "      <td>2013-05-07 04:34:36</td>\n",
       "      <td>204</td>\n",
       "    </tr>\n",
       "    <tr>\n",
       "      <th>1</th>\n",
       "      <td>GJXCdrto3ASJOqKeVWPi6Q</td>\n",
       "      <td>yXQM5uF2jS6es16SJzNHfg</td>\n",
       "      <td>NZnhc2sEQy3RmzKTZnqtwQ</td>\n",
       "      <td>5</td>\n",
       "      <td>0</td>\n",
       "      <td>0</td>\n",
       "      <td>0</td>\n",
       "      <td>i adore travis at the hard rocks new kelly car...</td>\n",
       "      <td>2017-01-14 21:30:33</td>\n",
       "      <td>1567</td>\n",
       "    </tr>\n",
       "    <tr>\n",
       "      <th>2</th>\n",
       "      <td>2TzJjDVDEuAW6MR5Vuc1ug</td>\n",
       "      <td>n6-Gk65cPZL6Uz8qRm3NYw</td>\n",
       "      <td>WTqjgwHlXbSFevF32_DJVw</td>\n",
       "      <td>5</td>\n",
       "      <td>3</td>\n",
       "      <td>0</td>\n",
       "      <td>0</td>\n",
       "      <td>i have to say that this office really has it t...</td>\n",
       "      <td>2016-11-09 20:09:03</td>\n",
       "      <td>615</td>\n",
       "    </tr>\n",
       "    <tr>\n",
       "      <th>3</th>\n",
       "      <td>yi0R0Ugj_xUx_Nek0-_Qig</td>\n",
       "      <td>dacAIZ6fTM6mqwW5uxkskg</td>\n",
       "      <td>ikCg8xy5JIg_NGPx-MSIDA</td>\n",
       "      <td>5</td>\n",
       "      <td>0</td>\n",
       "      <td>0</td>\n",
       "      <td>0</td>\n",
       "      <td>went in for a lunch steak sandwich was delicio...</td>\n",
       "      <td>2018-01-09 20:56:38</td>\n",
       "      <td>413</td>\n",
       "    </tr>\n",
       "    <tr>\n",
       "      <th>4</th>\n",
       "      <td>11a8sVPMUFtaC7_ABRkmtw</td>\n",
       "      <td>ssoyf2_x0EQMed6fgHeMyQ</td>\n",
       "      <td>b1b1eb3uo-w561D0ZfCEiQ</td>\n",
       "      <td>1</td>\n",
       "      <td>7</td>\n",
       "      <td>0</td>\n",
       "      <td>0</td>\n",
       "      <td>today was my second out of three sessions i ha...</td>\n",
       "      <td>2018-01-30 23:07:38</td>\n",
       "      <td>3509</td>\n",
       "    </tr>\n",
       "  </tbody>\n",
       "</table>\n",
       "</div>"
      ],
      "text/plain": [
       "                review_id                 user_id             business_id  \\\n",
       "0  Q1sbwvVQXV2734tPgoKj4Q  hG7b0MtEbXx5QzbzE6C_VA  ujmEBvifdJM6h6RLv4wQIg   \n",
       "1  GJXCdrto3ASJOqKeVWPi6Q  yXQM5uF2jS6es16SJzNHfg  NZnhc2sEQy3RmzKTZnqtwQ   \n",
       "2  2TzJjDVDEuAW6MR5Vuc1ug  n6-Gk65cPZL6Uz8qRm3NYw  WTqjgwHlXbSFevF32_DJVw   \n",
       "3  yi0R0Ugj_xUx_Nek0-_Qig  dacAIZ6fTM6mqwW5uxkskg  ikCg8xy5JIg_NGPx-MSIDA   \n",
       "4  11a8sVPMUFtaC7_ABRkmtw  ssoyf2_x0EQMed6fgHeMyQ  b1b1eb3uo-w561D0ZfCEiQ   \n",
       "\n",
       "   stars  useful  funny  cool  \\\n",
       "0      1       6      1     0   \n",
       "1      5       0      0     0   \n",
       "2      5       3      0     0   \n",
       "3      5       0      0     0   \n",
       "4      1       7      0     0   \n",
       "\n",
       "                                                text                 date  \\\n",
       "0  total bill for this horrible service over 8gs ...  2013-05-07 04:34:36   \n",
       "1  i adore travis at the hard rocks new kelly car...  2017-01-14 21:30:33   \n",
       "2  i have to say that this office really has it t...  2016-11-09 20:09:03   \n",
       "3  went in for a lunch steak sandwich was delicio...  2018-01-09 20:56:38   \n",
       "4  today was my second out of three sessions i ha...  2018-01-30 23:07:38   \n",
       "\n",
       "   length  \n",
       "0     204  \n",
       "1    1567  \n",
       "2     615  \n",
       "3     413  \n",
       "4    3509  "
      ]
     },
     "execution_count": 496,
     "metadata": {},
     "output_type": "execute_result"
    }
   ],
   "source": [
    "yelp_class.head()"
   ]
  },
  {
   "cell_type": "markdown",
   "metadata": {},
   "source": [
    "#### Now we will perform tokenization for the purpose of stemming and lemmenting"
   ]
  },
  {
   "cell_type": "markdown",
   "metadata": {},
   "source": [
    "tokenizer= RegexpTokenizer('\\w+')st\n",
    "yelp_class['text']=yelp_class['text'].apply(lambda x :tokenizer.tokenize(x))"
   ]
  },
  {
   "cell_type": "code",
   "execution_count": 527,
   "metadata": {},
   "outputs": [
    {
     "name": "stdout",
     "output_type": "stream",
     "text": [
      "  th th i s    am is number  \n"
     ]
    }
   ],
   "source": [
    "def digit_replace(text):\n",
    "    return re.sub(\"(\\d)\",\" \",text)\n",
    "print(digit_replace(\"59th th2i1s 290am is number 9\"))\n"
   ]
  },
  {
   "cell_type": "code",
   "execution_count": 528,
   "metadata": {},
   "outputs": [
    {
     "data": {
      "text/plain": [
       "'   subdb best sudbf'"
      ]
     },
     "execution_count": 528,
     "metadata": {},
     "output_type": "execute_result"
    }
   ],
   "source": [
    "digit_replace(\"49 subdb best sudbf\")"
   ]
  },
  {
   "cell_type": "code",
   "execution_count": 529,
   "metadata": {},
   "outputs": [],
   "source": [
    "# tokenizing using split\n",
    "lemmatizer= WordNetLemmatizer()\n"
   ]
  },
  {
   "cell_type": "code",
   "execution_count": 530,
   "metadata": {},
   "outputs": [],
   "source": [
    "porter= PorterStemmer()"
   ]
  },
  {
   "cell_type": "code",
   "execution_count": 531,
   "metadata": {},
   "outputs": [],
   "source": [
    "def stemSentence(sentence):\n",
    "    token_words=tokenize(sentence)\n",
    "    stem_sentence=[]\n",
    "    for word in token_words:\n",
    "        stem_sentence.append(porter.stem(word))\n",
    "    return \" \".join(stem_sentence)"
   ]
  },
  {
   "cell_type": "code",
   "execution_count": 533,
   "metadata": {},
   "outputs": [
    {
     "ename": "NameError",
     "evalue": "name 'token_words' is not defined",
     "output_type": "error",
     "traceback": [
      "\u001b[0;31m---------------------------------------------------------------------------\u001b[0m",
      "\u001b[0;31mNameError\u001b[0m                                 Traceback (most recent call last)",
      "\u001b[0;32m<ipython-input-533-70bba487d146>\u001b[0m in \u001b[0;36m<module>\u001b[0;34m\u001b[0m\n\u001b[0;32m----> 1\u001b[0;31m \u001b[0mstemSentence\u001b[0m\u001b[0;34m(\u001b[0m\u001b[0;34m\"horrible service\"\u001b[0m\u001b[0;34m)\u001b[0m\u001b[0;34m\u001b[0m\u001b[0;34m\u001b[0m\u001b[0m\n\u001b[0m\u001b[1;32m      2\u001b[0m \u001b[0mnltk\u001b[0m\u001b[0;34m.\u001b[0m\u001b[0mdownload\u001b[0m\u001b[0;34m(\u001b[0m\u001b[0;34m'stopwords'\u001b[0m\u001b[0;34m)\u001b[0m\u001b[0;34m\u001b[0m\u001b[0;34m\u001b[0m\u001b[0m\n",
      "\u001b[0;32m<ipython-input-531-67087df9e0d6>\u001b[0m in \u001b[0;36mstemSentence\u001b[0;34m(sentence)\u001b[0m\n\u001b[1;32m      2\u001b[0m     \u001b[0;31m#token_words=tokenize(sentence)\u001b[0m\u001b[0;34m\u001b[0m\u001b[0;34m\u001b[0m\u001b[0;34m\u001b[0m\u001b[0m\n\u001b[1;32m      3\u001b[0m     \u001b[0;31m#stem_sentence=[]\u001b[0m\u001b[0;34m\u001b[0m\u001b[0;34m\u001b[0m\u001b[0;34m\u001b[0m\u001b[0m\n\u001b[0;32m----> 4\u001b[0;31m     \u001b[0;32mfor\u001b[0m \u001b[0mword\u001b[0m \u001b[0;32min\u001b[0m \u001b[0mtoken_words\u001b[0m\u001b[0;34m:\u001b[0m\u001b[0;34m\u001b[0m\u001b[0;34m\u001b[0m\u001b[0m\n\u001b[0m\u001b[1;32m      5\u001b[0m         \u001b[0mstem_sentence\u001b[0m\u001b[0;34m.\u001b[0m\u001b[0mappend\u001b[0m\u001b[0;34m(\u001b[0m\u001b[0mporter\u001b[0m\u001b[0;34m.\u001b[0m\u001b[0mstem\u001b[0m\u001b[0;34m(\u001b[0m\u001b[0mword\u001b[0m\u001b[0;34m)\u001b[0m\u001b[0;34m)\u001b[0m\u001b[0;34m\u001b[0m\u001b[0;34m\u001b[0m\u001b[0m\n\u001b[1;32m      6\u001b[0m     \u001b[0;32mreturn\u001b[0m \u001b[0;34m\" \"\u001b[0m\u001b[0;34m.\u001b[0m\u001b[0mjoin\u001b[0m\u001b[0;34m(\u001b[0m\u001b[0mstem_sentence\u001b[0m\u001b[0;34m)\u001b[0m\u001b[0;34m\u001b[0m\u001b[0;34m\u001b[0m\u001b[0m\n",
      "\u001b[0;31mNameError\u001b[0m: name 'token_words' is not defined"
     ]
    }
   ],
   "source": [
    "stemSentence(\"horrible service\")\n",
    "nltk.download('stopwords')"
   ]
  },
  {
   "cell_type": "code",
   "execution_count": 534,
   "metadata": {},
   "outputs": [
    {
     "name": "stderr",
     "output_type": "stream",
     "text": [
      "[nltk_data] Downloading package punkt to /Users/ankit/nltk_data...\n",
      "[nltk_data]   Package punkt is already up-to-date!\n"
     ]
    },
    {
     "data": {
      "text/plain": [
       "['apple']"
      ]
     },
     "execution_count": 534,
     "metadata": {},
     "output_type": "execute_result"
    }
   ],
   "source": [
    "def lemmatize(sentence):\n",
    "    token_words=tokenize(sentence)\n",
    "    tokenized_words = []\n",
    "    for word in token_words:\n",
    "        tokenized_words.append(lemmatizer.lemmatize(word))\n",
    "    return \" \".join(tokenized_words)\n",
    "\n",
    "nltk.download('punkt')\n",
    "\n",
    "def remove_stopwords(text):\n",
    "    word=word_tokenize(text)\n",
    "    words= [x for x in word if x not in stopwords.words('english')]\n",
    "    return words\n",
    "remove_stopwords(\"this is an apple\")"
   ]
  },
  {
   "cell_type": "code",
   "execution_count": 535,
   "metadata": {},
   "outputs": [
    {
     "ename": "TypeError",
     "evalue": "expected string or bytes-like object",
     "output_type": "error",
     "traceback": [
      "\u001b[0;31m---------------------------------------------------------------------------\u001b[0m",
      "\u001b[0;31mTypeError\u001b[0m                                 Traceback (most recent call last)",
      "\u001b[0;32m<ipython-input-535-b0d9c5abe1a4>\u001b[0m in \u001b[0;36m<module>\u001b[0;34m\u001b[0m\n\u001b[0;32m----> 1\u001b[0;31m \u001b[0myelp_class\u001b[0m\u001b[0;34m.\u001b[0m\u001b[0mtext\u001b[0m\u001b[0;34m=\u001b[0m\u001b[0myelp_class\u001b[0m\u001b[0;34m.\u001b[0m\u001b[0mtext\u001b[0m\u001b[0;34m.\u001b[0m\u001b[0mapply\u001b[0m\u001b[0;34m(\u001b[0m\u001b[0mremove_stopwords\u001b[0m\u001b[0;34m)\u001b[0m\u001b[0;34m\u001b[0m\u001b[0;34m\u001b[0m\u001b[0m\n\u001b[0m\u001b[1;32m      2\u001b[0m \u001b[0;34m\u001b[0m\u001b[0m\n",
      "\u001b[0;32m~/anaconda3/lib/python3.7/site-packages/pandas/core/series.py\u001b[0m in \u001b[0;36mapply\u001b[0;34m(self, func, convert_dtype, args, **kwds)\u001b[0m\n\u001b[1;32m   3589\u001b[0m             \u001b[0;32melse\u001b[0m\u001b[0;34m:\u001b[0m\u001b[0;34m\u001b[0m\u001b[0;34m\u001b[0m\u001b[0m\n\u001b[1;32m   3590\u001b[0m                 \u001b[0mvalues\u001b[0m \u001b[0;34m=\u001b[0m \u001b[0mself\u001b[0m\u001b[0;34m.\u001b[0m\u001b[0mastype\u001b[0m\u001b[0;34m(\u001b[0m\u001b[0mobject\u001b[0m\u001b[0;34m)\u001b[0m\u001b[0;34m.\u001b[0m\u001b[0mvalues\u001b[0m\u001b[0;34m\u001b[0m\u001b[0;34m\u001b[0m\u001b[0m\n\u001b[0;32m-> 3591\u001b[0;31m                 \u001b[0mmapped\u001b[0m \u001b[0;34m=\u001b[0m \u001b[0mlib\u001b[0m\u001b[0;34m.\u001b[0m\u001b[0mmap_infer\u001b[0m\u001b[0;34m(\u001b[0m\u001b[0mvalues\u001b[0m\u001b[0;34m,\u001b[0m \u001b[0mf\u001b[0m\u001b[0;34m,\u001b[0m \u001b[0mconvert\u001b[0m\u001b[0;34m=\u001b[0m\u001b[0mconvert_dtype\u001b[0m\u001b[0;34m)\u001b[0m\u001b[0;34m\u001b[0m\u001b[0;34m\u001b[0m\u001b[0m\n\u001b[0m\u001b[1;32m   3592\u001b[0m \u001b[0;34m\u001b[0m\u001b[0m\n\u001b[1;32m   3593\u001b[0m         \u001b[0;32mif\u001b[0m \u001b[0mlen\u001b[0m\u001b[0;34m(\u001b[0m\u001b[0mmapped\u001b[0m\u001b[0;34m)\u001b[0m \u001b[0;32mand\u001b[0m \u001b[0misinstance\u001b[0m\u001b[0;34m(\u001b[0m\u001b[0mmapped\u001b[0m\u001b[0;34m[\u001b[0m\u001b[0;36m0\u001b[0m\u001b[0;34m]\u001b[0m\u001b[0;34m,\u001b[0m \u001b[0mSeries\u001b[0m\u001b[0;34m)\u001b[0m\u001b[0;34m:\u001b[0m\u001b[0;34m\u001b[0m\u001b[0;34m\u001b[0m\u001b[0m\n",
      "\u001b[0;32mpandas/_libs/lib.pyx\u001b[0m in \u001b[0;36mpandas._libs.lib.map_infer\u001b[0;34m()\u001b[0m\n",
      "\u001b[0;32m<ipython-input-534-65e7fd8d38ad>\u001b[0m in \u001b[0;36mremove_stopwords\u001b[0;34m(text)\u001b[0m\n\u001b[1;32m      9\u001b[0m \u001b[0;34m\u001b[0m\u001b[0m\n\u001b[1;32m     10\u001b[0m \u001b[0;32mdef\u001b[0m \u001b[0mremove_stopwords\u001b[0m\u001b[0;34m(\u001b[0m\u001b[0mtext\u001b[0m\u001b[0;34m)\u001b[0m\u001b[0;34m:\u001b[0m\u001b[0;34m\u001b[0m\u001b[0;34m\u001b[0m\u001b[0m\n\u001b[0;32m---> 11\u001b[0;31m     \u001b[0mword\u001b[0m\u001b[0;34m=\u001b[0m\u001b[0mword_tokenize\u001b[0m\u001b[0;34m(\u001b[0m\u001b[0mtext\u001b[0m\u001b[0;34m)\u001b[0m\u001b[0;34m\u001b[0m\u001b[0;34m\u001b[0m\u001b[0m\n\u001b[0m\u001b[1;32m     12\u001b[0m     \u001b[0mwords\u001b[0m\u001b[0;34m=\u001b[0m \u001b[0;34m[\u001b[0m\u001b[0mx\u001b[0m \u001b[0;32mfor\u001b[0m \u001b[0mx\u001b[0m \u001b[0;32min\u001b[0m \u001b[0mword\u001b[0m \u001b[0;32mif\u001b[0m \u001b[0mx\u001b[0m \u001b[0;32mnot\u001b[0m \u001b[0;32min\u001b[0m \u001b[0mstopwords\u001b[0m\u001b[0;34m.\u001b[0m\u001b[0mwords\u001b[0m\u001b[0;34m(\u001b[0m\u001b[0;34m'english'\u001b[0m\u001b[0;34m)\u001b[0m\u001b[0;34m]\u001b[0m\u001b[0;34m\u001b[0m\u001b[0;34m\u001b[0m\u001b[0m\n\u001b[1;32m     13\u001b[0m     \u001b[0;32mreturn\u001b[0m \u001b[0mwords\u001b[0m\u001b[0;34m\u001b[0m\u001b[0;34m\u001b[0m\u001b[0m\n",
      "\u001b[0;32m~/anaconda3/lib/python3.7/site-packages/nltk/tokenize/__init__.py\u001b[0m in \u001b[0;36mword_tokenize\u001b[0;34m(text, language, preserve_line)\u001b[0m\n\u001b[1;32m    141\u001b[0m     \u001b[0;34m:\u001b[0m\u001b[0mtype\u001b[0m \u001b[0mpreserve_line\u001b[0m\u001b[0;34m:\u001b[0m \u001b[0mbool\u001b[0m\u001b[0;34m\u001b[0m\u001b[0;34m\u001b[0m\u001b[0m\n\u001b[1;32m    142\u001b[0m     \"\"\"\n\u001b[0;32m--> 143\u001b[0;31m     \u001b[0msentences\u001b[0m \u001b[0;34m=\u001b[0m \u001b[0;34m[\u001b[0m\u001b[0mtext\u001b[0m\u001b[0;34m]\u001b[0m \u001b[0;32mif\u001b[0m \u001b[0mpreserve_line\u001b[0m \u001b[0;32melse\u001b[0m \u001b[0msent_tokenize\u001b[0m\u001b[0;34m(\u001b[0m\u001b[0mtext\u001b[0m\u001b[0;34m,\u001b[0m \u001b[0mlanguage\u001b[0m\u001b[0;34m)\u001b[0m\u001b[0;34m\u001b[0m\u001b[0;34m\u001b[0m\u001b[0m\n\u001b[0m\u001b[1;32m    144\u001b[0m     return [\n\u001b[1;32m    145\u001b[0m         \u001b[0mtoken\u001b[0m \u001b[0;32mfor\u001b[0m \u001b[0msent\u001b[0m \u001b[0;32min\u001b[0m \u001b[0msentences\u001b[0m \u001b[0;32mfor\u001b[0m \u001b[0mtoken\u001b[0m \u001b[0;32min\u001b[0m \u001b[0m_treebank_word_tokenizer\u001b[0m\u001b[0;34m.\u001b[0m\u001b[0mtokenize\u001b[0m\u001b[0;34m(\u001b[0m\u001b[0msent\u001b[0m\u001b[0;34m)\u001b[0m\u001b[0;34m\u001b[0m\u001b[0;34m\u001b[0m\u001b[0m\n",
      "\u001b[0;32m~/anaconda3/lib/python3.7/site-packages/nltk/tokenize/__init__.py\u001b[0m in \u001b[0;36msent_tokenize\u001b[0;34m(text, language)\u001b[0m\n\u001b[1;32m    103\u001b[0m     \"\"\"\n\u001b[1;32m    104\u001b[0m     \u001b[0mtokenizer\u001b[0m \u001b[0;34m=\u001b[0m \u001b[0mload\u001b[0m\u001b[0;34m(\u001b[0m\u001b[0;34m'tokenizers/punkt/{0}.pickle'\u001b[0m\u001b[0;34m.\u001b[0m\u001b[0mformat\u001b[0m\u001b[0;34m(\u001b[0m\u001b[0mlanguage\u001b[0m\u001b[0;34m)\u001b[0m\u001b[0;34m)\u001b[0m\u001b[0;34m\u001b[0m\u001b[0;34m\u001b[0m\u001b[0m\n\u001b[0;32m--> 105\u001b[0;31m     \u001b[0;32mreturn\u001b[0m \u001b[0mtokenizer\u001b[0m\u001b[0;34m.\u001b[0m\u001b[0mtokenize\u001b[0m\u001b[0;34m(\u001b[0m\u001b[0mtext\u001b[0m\u001b[0;34m)\u001b[0m\u001b[0;34m\u001b[0m\u001b[0;34m\u001b[0m\u001b[0m\n\u001b[0m\u001b[1;32m    106\u001b[0m \u001b[0;34m\u001b[0m\u001b[0m\n\u001b[1;32m    107\u001b[0m \u001b[0;34m\u001b[0m\u001b[0m\n",
      "\u001b[0;32m~/anaconda3/lib/python3.7/site-packages/nltk/tokenize/punkt.py\u001b[0m in \u001b[0;36mtokenize\u001b[0;34m(self, text, realign_boundaries)\u001b[0m\n\u001b[1;32m   1267\u001b[0m         \u001b[0mGiven\u001b[0m \u001b[0ma\u001b[0m \u001b[0mtext\u001b[0m\u001b[0;34m,\u001b[0m \u001b[0mreturns\u001b[0m \u001b[0ma\u001b[0m \u001b[0mlist\u001b[0m \u001b[0mof\u001b[0m \u001b[0mthe\u001b[0m \u001b[0msentences\u001b[0m \u001b[0;32min\u001b[0m \u001b[0mthat\u001b[0m \u001b[0mtext\u001b[0m\u001b[0;34m.\u001b[0m\u001b[0;34m\u001b[0m\u001b[0;34m\u001b[0m\u001b[0m\n\u001b[1;32m   1268\u001b[0m         \"\"\"\n\u001b[0;32m-> 1269\u001b[0;31m         \u001b[0;32mreturn\u001b[0m \u001b[0mlist\u001b[0m\u001b[0;34m(\u001b[0m\u001b[0mself\u001b[0m\u001b[0;34m.\u001b[0m\u001b[0msentences_from_text\u001b[0m\u001b[0;34m(\u001b[0m\u001b[0mtext\u001b[0m\u001b[0;34m,\u001b[0m \u001b[0mrealign_boundaries\u001b[0m\u001b[0;34m)\u001b[0m\u001b[0;34m)\u001b[0m\u001b[0;34m\u001b[0m\u001b[0;34m\u001b[0m\u001b[0m\n\u001b[0m\u001b[1;32m   1270\u001b[0m \u001b[0;34m\u001b[0m\u001b[0m\n\u001b[1;32m   1271\u001b[0m     \u001b[0;32mdef\u001b[0m \u001b[0mdebug_decisions\u001b[0m\u001b[0;34m(\u001b[0m\u001b[0mself\u001b[0m\u001b[0;34m,\u001b[0m \u001b[0mtext\u001b[0m\u001b[0;34m)\u001b[0m\u001b[0;34m:\u001b[0m\u001b[0;34m\u001b[0m\u001b[0;34m\u001b[0m\u001b[0m\n",
      "\u001b[0;32m~/anaconda3/lib/python3.7/site-packages/nltk/tokenize/punkt.py\u001b[0m in \u001b[0;36msentences_from_text\u001b[0;34m(self, text, realign_boundaries)\u001b[0m\n\u001b[1;32m   1321\u001b[0m         \u001b[0mfollows\u001b[0m \u001b[0mthe\u001b[0m \u001b[0mperiod\u001b[0m\u001b[0;34m.\u001b[0m\u001b[0;34m\u001b[0m\u001b[0;34m\u001b[0m\u001b[0m\n\u001b[1;32m   1322\u001b[0m         \"\"\"\n\u001b[0;32m-> 1323\u001b[0;31m         \u001b[0;32mreturn\u001b[0m \u001b[0;34m[\u001b[0m\u001b[0mtext\u001b[0m\u001b[0;34m[\u001b[0m\u001b[0ms\u001b[0m\u001b[0;34m:\u001b[0m\u001b[0me\u001b[0m\u001b[0;34m]\u001b[0m \u001b[0;32mfor\u001b[0m \u001b[0ms\u001b[0m\u001b[0;34m,\u001b[0m \u001b[0me\u001b[0m \u001b[0;32min\u001b[0m \u001b[0mself\u001b[0m\u001b[0;34m.\u001b[0m\u001b[0mspan_tokenize\u001b[0m\u001b[0;34m(\u001b[0m\u001b[0mtext\u001b[0m\u001b[0;34m,\u001b[0m \u001b[0mrealign_boundaries\u001b[0m\u001b[0;34m)\u001b[0m\u001b[0;34m]\u001b[0m\u001b[0;34m\u001b[0m\u001b[0;34m\u001b[0m\u001b[0m\n\u001b[0m\u001b[1;32m   1324\u001b[0m \u001b[0;34m\u001b[0m\u001b[0m\n\u001b[1;32m   1325\u001b[0m     \u001b[0;32mdef\u001b[0m \u001b[0m_slices_from_text\u001b[0m\u001b[0;34m(\u001b[0m\u001b[0mself\u001b[0m\u001b[0;34m,\u001b[0m \u001b[0mtext\u001b[0m\u001b[0;34m)\u001b[0m\u001b[0;34m:\u001b[0m\u001b[0;34m\u001b[0m\u001b[0;34m\u001b[0m\u001b[0m\n",
      "\u001b[0;32m~/anaconda3/lib/python3.7/site-packages/nltk/tokenize/punkt.py\u001b[0m in \u001b[0;36m<listcomp>\u001b[0;34m(.0)\u001b[0m\n\u001b[1;32m   1321\u001b[0m         \u001b[0mfollows\u001b[0m \u001b[0mthe\u001b[0m \u001b[0mperiod\u001b[0m\u001b[0;34m.\u001b[0m\u001b[0;34m\u001b[0m\u001b[0;34m\u001b[0m\u001b[0m\n\u001b[1;32m   1322\u001b[0m         \"\"\"\n\u001b[0;32m-> 1323\u001b[0;31m         \u001b[0;32mreturn\u001b[0m \u001b[0;34m[\u001b[0m\u001b[0mtext\u001b[0m\u001b[0;34m[\u001b[0m\u001b[0ms\u001b[0m\u001b[0;34m:\u001b[0m\u001b[0me\u001b[0m\u001b[0;34m]\u001b[0m \u001b[0;32mfor\u001b[0m \u001b[0ms\u001b[0m\u001b[0;34m,\u001b[0m \u001b[0me\u001b[0m \u001b[0;32min\u001b[0m \u001b[0mself\u001b[0m\u001b[0;34m.\u001b[0m\u001b[0mspan_tokenize\u001b[0m\u001b[0;34m(\u001b[0m\u001b[0mtext\u001b[0m\u001b[0;34m,\u001b[0m \u001b[0mrealign_boundaries\u001b[0m\u001b[0;34m)\u001b[0m\u001b[0;34m]\u001b[0m\u001b[0;34m\u001b[0m\u001b[0;34m\u001b[0m\u001b[0m\n\u001b[0m\u001b[1;32m   1324\u001b[0m \u001b[0;34m\u001b[0m\u001b[0m\n\u001b[1;32m   1325\u001b[0m     \u001b[0;32mdef\u001b[0m \u001b[0m_slices_from_text\u001b[0m\u001b[0;34m(\u001b[0m\u001b[0mself\u001b[0m\u001b[0;34m,\u001b[0m \u001b[0mtext\u001b[0m\u001b[0;34m)\u001b[0m\u001b[0;34m:\u001b[0m\u001b[0;34m\u001b[0m\u001b[0;34m\u001b[0m\u001b[0m\n",
      "\u001b[0;32m~/anaconda3/lib/python3.7/site-packages/nltk/tokenize/punkt.py\u001b[0m in \u001b[0;36mspan_tokenize\u001b[0;34m(self, text, realign_boundaries)\u001b[0m\n\u001b[1;32m   1311\u001b[0m         \u001b[0;32mif\u001b[0m \u001b[0mrealign_boundaries\u001b[0m\u001b[0;34m:\u001b[0m\u001b[0;34m\u001b[0m\u001b[0;34m\u001b[0m\u001b[0m\n\u001b[1;32m   1312\u001b[0m             \u001b[0mslices\u001b[0m \u001b[0;34m=\u001b[0m \u001b[0mself\u001b[0m\u001b[0;34m.\u001b[0m\u001b[0m_realign_boundaries\u001b[0m\u001b[0;34m(\u001b[0m\u001b[0mtext\u001b[0m\u001b[0;34m,\u001b[0m \u001b[0mslices\u001b[0m\u001b[0;34m)\u001b[0m\u001b[0;34m\u001b[0m\u001b[0;34m\u001b[0m\u001b[0m\n\u001b[0;32m-> 1313\u001b[0;31m         \u001b[0;32mfor\u001b[0m \u001b[0msl\u001b[0m \u001b[0;32min\u001b[0m \u001b[0mslices\u001b[0m\u001b[0;34m:\u001b[0m\u001b[0;34m\u001b[0m\u001b[0;34m\u001b[0m\u001b[0m\n\u001b[0m\u001b[1;32m   1314\u001b[0m             \u001b[0;32myield\u001b[0m \u001b[0;34m(\u001b[0m\u001b[0msl\u001b[0m\u001b[0;34m.\u001b[0m\u001b[0mstart\u001b[0m\u001b[0;34m,\u001b[0m \u001b[0msl\u001b[0m\u001b[0;34m.\u001b[0m\u001b[0mstop\u001b[0m\u001b[0;34m)\u001b[0m\u001b[0;34m\u001b[0m\u001b[0;34m\u001b[0m\u001b[0m\n\u001b[1;32m   1315\u001b[0m \u001b[0;34m\u001b[0m\u001b[0m\n",
      "\u001b[0;32m~/anaconda3/lib/python3.7/site-packages/nltk/tokenize/punkt.py\u001b[0m in \u001b[0;36m_realign_boundaries\u001b[0;34m(self, text, slices)\u001b[0m\n\u001b[1;32m   1352\u001b[0m         \"\"\"\n\u001b[1;32m   1353\u001b[0m         \u001b[0mrealign\u001b[0m \u001b[0;34m=\u001b[0m \u001b[0;36m0\u001b[0m\u001b[0;34m\u001b[0m\u001b[0;34m\u001b[0m\u001b[0m\n\u001b[0;32m-> 1354\u001b[0;31m         \u001b[0;32mfor\u001b[0m \u001b[0msl1\u001b[0m\u001b[0;34m,\u001b[0m \u001b[0msl2\u001b[0m \u001b[0;32min\u001b[0m \u001b[0m_pair_iter\u001b[0m\u001b[0;34m(\u001b[0m\u001b[0mslices\u001b[0m\u001b[0;34m)\u001b[0m\u001b[0;34m:\u001b[0m\u001b[0;34m\u001b[0m\u001b[0;34m\u001b[0m\u001b[0m\n\u001b[0m\u001b[1;32m   1355\u001b[0m             \u001b[0msl1\u001b[0m \u001b[0;34m=\u001b[0m \u001b[0mslice\u001b[0m\u001b[0;34m(\u001b[0m\u001b[0msl1\u001b[0m\u001b[0;34m.\u001b[0m\u001b[0mstart\u001b[0m \u001b[0;34m+\u001b[0m \u001b[0mrealign\u001b[0m\u001b[0;34m,\u001b[0m \u001b[0msl1\u001b[0m\u001b[0;34m.\u001b[0m\u001b[0mstop\u001b[0m\u001b[0;34m)\u001b[0m\u001b[0;34m\u001b[0m\u001b[0;34m\u001b[0m\u001b[0m\n\u001b[1;32m   1356\u001b[0m             \u001b[0;32mif\u001b[0m \u001b[0;32mnot\u001b[0m \u001b[0msl2\u001b[0m\u001b[0;34m:\u001b[0m\u001b[0;34m\u001b[0m\u001b[0;34m\u001b[0m\u001b[0m\n",
      "\u001b[0;32m~/anaconda3/lib/python3.7/site-packages/nltk/tokenize/punkt.py\u001b[0m in \u001b[0;36m_pair_iter\u001b[0;34m(it)\u001b[0m\n\u001b[1;32m    315\u001b[0m     \"\"\"\n\u001b[1;32m    316\u001b[0m     \u001b[0mit\u001b[0m \u001b[0;34m=\u001b[0m \u001b[0miter\u001b[0m\u001b[0;34m(\u001b[0m\u001b[0mit\u001b[0m\u001b[0;34m)\u001b[0m\u001b[0;34m\u001b[0m\u001b[0;34m\u001b[0m\u001b[0m\n\u001b[0;32m--> 317\u001b[0;31m     \u001b[0mprev\u001b[0m \u001b[0;34m=\u001b[0m \u001b[0mnext\u001b[0m\u001b[0;34m(\u001b[0m\u001b[0mit\u001b[0m\u001b[0;34m)\u001b[0m\u001b[0;34m\u001b[0m\u001b[0;34m\u001b[0m\u001b[0m\n\u001b[0m\u001b[1;32m    318\u001b[0m     \u001b[0;32mfor\u001b[0m \u001b[0mel\u001b[0m \u001b[0;32min\u001b[0m \u001b[0mit\u001b[0m\u001b[0;34m:\u001b[0m\u001b[0;34m\u001b[0m\u001b[0;34m\u001b[0m\u001b[0m\n\u001b[1;32m    319\u001b[0m         \u001b[0;32myield\u001b[0m \u001b[0;34m(\u001b[0m\u001b[0mprev\u001b[0m\u001b[0;34m,\u001b[0m \u001b[0mel\u001b[0m\u001b[0;34m)\u001b[0m\u001b[0;34m\u001b[0m\u001b[0;34m\u001b[0m\u001b[0m\n",
      "\u001b[0;32m~/anaconda3/lib/python3.7/site-packages/nltk/tokenize/punkt.py\u001b[0m in \u001b[0;36m_slices_from_text\u001b[0;34m(self, text)\u001b[0m\n\u001b[1;32m   1325\u001b[0m     \u001b[0;32mdef\u001b[0m \u001b[0m_slices_from_text\u001b[0m\u001b[0;34m(\u001b[0m\u001b[0mself\u001b[0m\u001b[0;34m,\u001b[0m \u001b[0mtext\u001b[0m\u001b[0;34m)\u001b[0m\u001b[0;34m:\u001b[0m\u001b[0;34m\u001b[0m\u001b[0;34m\u001b[0m\u001b[0m\n\u001b[1;32m   1326\u001b[0m         \u001b[0mlast_break\u001b[0m \u001b[0;34m=\u001b[0m \u001b[0;36m0\u001b[0m\u001b[0;34m\u001b[0m\u001b[0;34m\u001b[0m\u001b[0m\n\u001b[0;32m-> 1327\u001b[0;31m         \u001b[0;32mfor\u001b[0m \u001b[0mmatch\u001b[0m \u001b[0;32min\u001b[0m \u001b[0mself\u001b[0m\u001b[0;34m.\u001b[0m\u001b[0m_lang_vars\u001b[0m\u001b[0;34m.\u001b[0m\u001b[0mperiod_context_re\u001b[0m\u001b[0;34m(\u001b[0m\u001b[0;34m)\u001b[0m\u001b[0;34m.\u001b[0m\u001b[0mfinditer\u001b[0m\u001b[0;34m(\u001b[0m\u001b[0mtext\u001b[0m\u001b[0;34m)\u001b[0m\u001b[0;34m:\u001b[0m\u001b[0;34m\u001b[0m\u001b[0;34m\u001b[0m\u001b[0m\n\u001b[0m\u001b[1;32m   1328\u001b[0m             \u001b[0mcontext\u001b[0m \u001b[0;34m=\u001b[0m \u001b[0mmatch\u001b[0m\u001b[0;34m.\u001b[0m\u001b[0mgroup\u001b[0m\u001b[0;34m(\u001b[0m\u001b[0;34m)\u001b[0m \u001b[0;34m+\u001b[0m \u001b[0mmatch\u001b[0m\u001b[0;34m.\u001b[0m\u001b[0mgroup\u001b[0m\u001b[0;34m(\u001b[0m\u001b[0;34m'after_tok'\u001b[0m\u001b[0;34m)\u001b[0m\u001b[0;34m\u001b[0m\u001b[0;34m\u001b[0m\u001b[0m\n\u001b[1;32m   1329\u001b[0m             \u001b[0;32mif\u001b[0m \u001b[0mself\u001b[0m\u001b[0;34m.\u001b[0m\u001b[0mtext_contains_sentbreak\u001b[0m\u001b[0;34m(\u001b[0m\u001b[0mcontext\u001b[0m\u001b[0;34m)\u001b[0m\u001b[0;34m:\u001b[0m\u001b[0;34m\u001b[0m\u001b[0;34m\u001b[0m\u001b[0m\n",
      "\u001b[0;31mTypeError\u001b[0m: expected string or bytes-like object"
     ]
    }
   ],
   "source": [
    "yelp_class.text=yelp_class.text.apply(remove_stopwords)\n",
    "\n"
   ]
  },
  {
   "cell_type": "code",
   "execution_count": 515,
   "metadata": {},
   "outputs": [
    {
     "ename": "TypeError",
     "evalue": "expected string or bytes-like object",
     "output_type": "error",
     "traceback": [
      "\u001b[0;31m---------------------------------------------------------------------------\u001b[0m",
      "\u001b[0;31mTypeError\u001b[0m                                 Traceback (most recent call last)",
      "\u001b[0;32m<ipython-input-515-027f041019f3>\u001b[0m in \u001b[0;36m<module>\u001b[0;34m\u001b[0m\n\u001b[0;32m----> 1\u001b[0;31m \u001b[0myelp_class\u001b[0m\u001b[0;34m.\u001b[0m\u001b[0mtext\u001b[0m\u001b[0;34m=\u001b[0m\u001b[0myelp_class\u001b[0m\u001b[0;34m.\u001b[0m\u001b[0mtext\u001b[0m\u001b[0;34m.\u001b[0m\u001b[0mapply\u001b[0m\u001b[0;34m(\u001b[0m\u001b[0mdigit_replace\u001b[0m\u001b[0;34m)\u001b[0m\u001b[0;34m\u001b[0m\u001b[0;34m\u001b[0m\u001b[0m\n\u001b[0m",
      "\u001b[0;32m~/anaconda3/lib/python3.7/site-packages/pandas/core/series.py\u001b[0m in \u001b[0;36mapply\u001b[0;34m(self, func, convert_dtype, args, **kwds)\u001b[0m\n\u001b[1;32m   3589\u001b[0m             \u001b[0;32melse\u001b[0m\u001b[0;34m:\u001b[0m\u001b[0;34m\u001b[0m\u001b[0;34m\u001b[0m\u001b[0m\n\u001b[1;32m   3590\u001b[0m                 \u001b[0mvalues\u001b[0m \u001b[0;34m=\u001b[0m \u001b[0mself\u001b[0m\u001b[0;34m.\u001b[0m\u001b[0mastype\u001b[0m\u001b[0;34m(\u001b[0m\u001b[0mobject\u001b[0m\u001b[0;34m)\u001b[0m\u001b[0;34m.\u001b[0m\u001b[0mvalues\u001b[0m\u001b[0;34m\u001b[0m\u001b[0;34m\u001b[0m\u001b[0m\n\u001b[0;32m-> 3591\u001b[0;31m                 \u001b[0mmapped\u001b[0m \u001b[0;34m=\u001b[0m \u001b[0mlib\u001b[0m\u001b[0;34m.\u001b[0m\u001b[0mmap_infer\u001b[0m\u001b[0;34m(\u001b[0m\u001b[0mvalues\u001b[0m\u001b[0;34m,\u001b[0m \u001b[0mf\u001b[0m\u001b[0;34m,\u001b[0m \u001b[0mconvert\u001b[0m\u001b[0;34m=\u001b[0m\u001b[0mconvert_dtype\u001b[0m\u001b[0;34m)\u001b[0m\u001b[0;34m\u001b[0m\u001b[0;34m\u001b[0m\u001b[0m\n\u001b[0m\u001b[1;32m   3592\u001b[0m \u001b[0;34m\u001b[0m\u001b[0m\n\u001b[1;32m   3593\u001b[0m         \u001b[0;32mif\u001b[0m \u001b[0mlen\u001b[0m\u001b[0;34m(\u001b[0m\u001b[0mmapped\u001b[0m\u001b[0;34m)\u001b[0m \u001b[0;32mand\u001b[0m \u001b[0misinstance\u001b[0m\u001b[0;34m(\u001b[0m\u001b[0mmapped\u001b[0m\u001b[0;34m[\u001b[0m\u001b[0;36m0\u001b[0m\u001b[0;34m]\u001b[0m\u001b[0;34m,\u001b[0m \u001b[0mSeries\u001b[0m\u001b[0;34m)\u001b[0m\u001b[0;34m:\u001b[0m\u001b[0;34m\u001b[0m\u001b[0;34m\u001b[0m\u001b[0m\n",
      "\u001b[0;32mpandas/_libs/lib.pyx\u001b[0m in \u001b[0;36mpandas._libs.lib.map_infer\u001b[0;34m()\u001b[0m\n",
      "\u001b[0;32m<ipython-input-497-a9c68568bbcc>\u001b[0m in \u001b[0;36mdigit_replace\u001b[0;34m(text)\u001b[0m\n\u001b[1;32m      1\u001b[0m \u001b[0;32mdef\u001b[0m \u001b[0mdigit_replace\u001b[0m\u001b[0;34m(\u001b[0m\u001b[0mtext\u001b[0m\u001b[0;34m)\u001b[0m\u001b[0;34m:\u001b[0m\u001b[0;34m\u001b[0m\u001b[0;34m\u001b[0m\u001b[0m\n\u001b[0;32m----> 2\u001b[0;31m     \u001b[0;32mreturn\u001b[0m \u001b[0mre\u001b[0m\u001b[0;34m.\u001b[0m\u001b[0msub\u001b[0m\u001b[0;34m(\u001b[0m\u001b[0;34m\"(\\d)\"\u001b[0m\u001b[0;34m,\u001b[0m\u001b[0;34m\" \"\u001b[0m\u001b[0;34m,\u001b[0m\u001b[0mtext\u001b[0m\u001b[0;34m)\u001b[0m\u001b[0;34m\u001b[0m\u001b[0;34m\u001b[0m\u001b[0m\n\u001b[0m\u001b[1;32m      3\u001b[0m \u001b[0mprint\u001b[0m\u001b[0;34m(\u001b[0m\u001b[0mdigit_replace\u001b[0m\u001b[0;34m(\u001b[0m\u001b[0;34m\"59th th2i1s 290am is number 9\"\u001b[0m\u001b[0;34m)\u001b[0m\u001b[0;34m)\u001b[0m\u001b[0;34m\u001b[0m\u001b[0;34m\u001b[0m\u001b[0m\n",
      "\u001b[0;32m~/anaconda3/lib/python3.7/re.py\u001b[0m in \u001b[0;36msub\u001b[0;34m(pattern, repl, string, count, flags)\u001b[0m\n\u001b[1;32m    190\u001b[0m     \u001b[0ma\u001b[0m \u001b[0mcallable\u001b[0m\u001b[0;34m,\u001b[0m \u001b[0mit\u001b[0m\u001b[0;31m'\u001b[0m\u001b[0ms\u001b[0m \u001b[0mpassed\u001b[0m \u001b[0mthe\u001b[0m \u001b[0mMatch\u001b[0m \u001b[0mobject\u001b[0m \u001b[0;32mand\u001b[0m \u001b[0mmust\u001b[0m \u001b[0;32mreturn\u001b[0m\u001b[0;34m\u001b[0m\u001b[0;34m\u001b[0m\u001b[0m\n\u001b[1;32m    191\u001b[0m     a replacement string to be used.\"\"\"\n\u001b[0;32m--> 192\u001b[0;31m     \u001b[0;32mreturn\u001b[0m \u001b[0m_compile\u001b[0m\u001b[0;34m(\u001b[0m\u001b[0mpattern\u001b[0m\u001b[0;34m,\u001b[0m \u001b[0mflags\u001b[0m\u001b[0;34m)\u001b[0m\u001b[0;34m.\u001b[0m\u001b[0msub\u001b[0m\u001b[0;34m(\u001b[0m\u001b[0mrepl\u001b[0m\u001b[0;34m,\u001b[0m \u001b[0mstring\u001b[0m\u001b[0;34m,\u001b[0m \u001b[0mcount\u001b[0m\u001b[0;34m)\u001b[0m\u001b[0;34m\u001b[0m\u001b[0;34m\u001b[0m\u001b[0m\n\u001b[0m\u001b[1;32m    193\u001b[0m \u001b[0;34m\u001b[0m\u001b[0m\n\u001b[1;32m    194\u001b[0m \u001b[0;32mdef\u001b[0m \u001b[0msubn\u001b[0m\u001b[0;34m(\u001b[0m\u001b[0mpattern\u001b[0m\u001b[0;34m,\u001b[0m \u001b[0mrepl\u001b[0m\u001b[0;34m,\u001b[0m \u001b[0mstring\u001b[0m\u001b[0;34m,\u001b[0m \u001b[0mcount\u001b[0m\u001b[0;34m=\u001b[0m\u001b[0;36m0\u001b[0m\u001b[0;34m,\u001b[0m \u001b[0mflags\u001b[0m\u001b[0;34m=\u001b[0m\u001b[0;36m0\u001b[0m\u001b[0;34m)\u001b[0m\u001b[0;34m:\u001b[0m\u001b[0;34m\u001b[0m\u001b[0;34m\u001b[0m\u001b[0m\n",
      "\u001b[0;31mTypeError\u001b[0m: expected string or bytes-like object"
     ]
    }
   ],
   "source": [
    "yelp_class.text=yelp_class.text.apply(digit_replace)\n"
   ]
  },
  {
   "cell_type": "code",
   "execution_count": 522,
   "metadata": {},
   "outputs": [
    {
     "ename": "NameError",
     "evalue": "name 'token_words' is not defined",
     "output_type": "error",
     "traceback": [
      "\u001b[0;31m---------------------------------------------------------------------------\u001b[0m",
      "\u001b[0;31mNameError\u001b[0m                                 Traceback (most recent call last)",
      "\u001b[0;32m<ipython-input-522-635ec205c1ce>\u001b[0m in \u001b[0;36m<module>\u001b[0;34m\u001b[0m\n\u001b[0;32m----> 1\u001b[0;31m \u001b[0myelp_class\u001b[0m\u001b[0;34m.\u001b[0m\u001b[0mtext\u001b[0m\u001b[0;34m=\u001b[0m\u001b[0myelp_class\u001b[0m\u001b[0;34m.\u001b[0m\u001b[0mtext\u001b[0m\u001b[0;34m.\u001b[0m\u001b[0mapply\u001b[0m\u001b[0;34m(\u001b[0m\u001b[0mlemmatize\u001b[0m\u001b[0;34m)\u001b[0m\u001b[0;34m\u001b[0m\u001b[0;34m\u001b[0m\u001b[0m\n\u001b[0m",
      "\u001b[0;32m~/anaconda3/lib/python3.7/site-packages/pandas/core/series.py\u001b[0m in \u001b[0;36mapply\u001b[0;34m(self, func, convert_dtype, args, **kwds)\u001b[0m\n\u001b[1;32m   3589\u001b[0m             \u001b[0;32melse\u001b[0m\u001b[0;34m:\u001b[0m\u001b[0;34m\u001b[0m\u001b[0;34m\u001b[0m\u001b[0m\n\u001b[1;32m   3590\u001b[0m                 \u001b[0mvalues\u001b[0m \u001b[0;34m=\u001b[0m \u001b[0mself\u001b[0m\u001b[0;34m.\u001b[0m\u001b[0mastype\u001b[0m\u001b[0;34m(\u001b[0m\u001b[0mobject\u001b[0m\u001b[0;34m)\u001b[0m\u001b[0;34m.\u001b[0m\u001b[0mvalues\u001b[0m\u001b[0;34m\u001b[0m\u001b[0;34m\u001b[0m\u001b[0m\n\u001b[0;32m-> 3591\u001b[0;31m                 \u001b[0mmapped\u001b[0m \u001b[0;34m=\u001b[0m \u001b[0mlib\u001b[0m\u001b[0;34m.\u001b[0m\u001b[0mmap_infer\u001b[0m\u001b[0;34m(\u001b[0m\u001b[0mvalues\u001b[0m\u001b[0;34m,\u001b[0m \u001b[0mf\u001b[0m\u001b[0;34m,\u001b[0m \u001b[0mconvert\u001b[0m\u001b[0;34m=\u001b[0m\u001b[0mconvert_dtype\u001b[0m\u001b[0;34m)\u001b[0m\u001b[0;34m\u001b[0m\u001b[0;34m\u001b[0m\u001b[0m\n\u001b[0m\u001b[1;32m   3592\u001b[0m \u001b[0;34m\u001b[0m\u001b[0m\n\u001b[1;32m   3593\u001b[0m         \u001b[0;32mif\u001b[0m \u001b[0mlen\u001b[0m\u001b[0;34m(\u001b[0m\u001b[0mmapped\u001b[0m\u001b[0;34m)\u001b[0m \u001b[0;32mand\u001b[0m \u001b[0misinstance\u001b[0m\u001b[0;34m(\u001b[0m\u001b[0mmapped\u001b[0m\u001b[0;34m[\u001b[0m\u001b[0;36m0\u001b[0m\u001b[0;34m]\u001b[0m\u001b[0;34m,\u001b[0m \u001b[0mSeries\u001b[0m\u001b[0;34m)\u001b[0m\u001b[0;34m:\u001b[0m\u001b[0;34m\u001b[0m\u001b[0;34m\u001b[0m\u001b[0m\n",
      "\u001b[0;32mpandas/_libs/lib.pyx\u001b[0m in \u001b[0;36mpandas._libs.lib.map_infer\u001b[0;34m()\u001b[0m\n",
      "\u001b[0;32m<ipython-input-521-8800d2d504c8>\u001b[0m in \u001b[0;36mlemmatize\u001b[0;34m(sentence)\u001b[0m\n\u001b[1;32m      2\u001b[0m     \u001b[0;31m#token_words=tokenize(sentence)\u001b[0m\u001b[0;34m\u001b[0m\u001b[0;34m\u001b[0m\u001b[0;34m\u001b[0m\u001b[0m\n\u001b[1;32m      3\u001b[0m     \u001b[0mtokenized_words\u001b[0m \u001b[0;34m=\u001b[0m \u001b[0;34m[\u001b[0m\u001b[0;34m]\u001b[0m\u001b[0;34m\u001b[0m\u001b[0;34m\u001b[0m\u001b[0m\n\u001b[0;32m----> 4\u001b[0;31m     \u001b[0;32mfor\u001b[0m \u001b[0mword\u001b[0m \u001b[0;32min\u001b[0m \u001b[0mtoken_words\u001b[0m\u001b[0;34m:\u001b[0m\u001b[0;34m\u001b[0m\u001b[0;34m\u001b[0m\u001b[0m\n\u001b[0m\u001b[1;32m      5\u001b[0m         \u001b[0mtokenized_words\u001b[0m\u001b[0;34m.\u001b[0m\u001b[0mappend\u001b[0m\u001b[0;34m(\u001b[0m\u001b[0mlemmatizer\u001b[0m\u001b[0;34m.\u001b[0m\u001b[0mlemmatize\u001b[0m\u001b[0;34m(\u001b[0m\u001b[0mword\u001b[0m\u001b[0;34m)\u001b[0m\u001b[0;34m)\u001b[0m\u001b[0;34m\u001b[0m\u001b[0;34m\u001b[0m\u001b[0m\n\u001b[1;32m      6\u001b[0m     \u001b[0;32mreturn\u001b[0m \u001b[0;34m\" \"\u001b[0m\u001b[0;34m.\u001b[0m\u001b[0mjoin\u001b[0m\u001b[0;34m(\u001b[0m\u001b[0mtokenized_words\u001b[0m\u001b[0;34m)\u001b[0m\u001b[0;34m\u001b[0m\u001b[0;34m\u001b[0m\u001b[0m\n",
      "\u001b[0;31mNameError\u001b[0m: name 'token_words' is not defined"
     ]
    }
   ],
   "source": [
    "yelp_class.text=yelp_class.text.apply(lemmatize)\n"
   ]
  },
  {
   "cell_type": "code",
   "execution_count": 523,
   "metadata": {},
   "outputs": [
    {
     "ename": "NameError",
     "evalue": "name 'token_words' is not defined",
     "output_type": "error",
     "traceback": [
      "\u001b[0;31m---------------------------------------------------------------------------\u001b[0m",
      "\u001b[0;31mNameError\u001b[0m                                 Traceback (most recent call last)",
      "\u001b[0;32m<ipython-input-523-910a61061678>\u001b[0m in \u001b[0;36m<module>\u001b[0;34m\u001b[0m\n\u001b[0;32m----> 1\u001b[0;31m \u001b[0myelp_class\u001b[0m\u001b[0;34m.\u001b[0m\u001b[0mtext\u001b[0m\u001b[0;34m=\u001b[0m\u001b[0myelp_class\u001b[0m\u001b[0;34m.\u001b[0m\u001b[0mtext\u001b[0m\u001b[0;34m.\u001b[0m\u001b[0mapply\u001b[0m\u001b[0;34m(\u001b[0m\u001b[0mstemSentence\u001b[0m\u001b[0;34m)\u001b[0m\u001b[0;34m\u001b[0m\u001b[0;34m\u001b[0m\u001b[0m\n\u001b[0m",
      "\u001b[0;32m~/anaconda3/lib/python3.7/site-packages/pandas/core/series.py\u001b[0m in \u001b[0;36mapply\u001b[0;34m(self, func, convert_dtype, args, **kwds)\u001b[0m\n\u001b[1;32m   3589\u001b[0m             \u001b[0;32melse\u001b[0m\u001b[0;34m:\u001b[0m\u001b[0;34m\u001b[0m\u001b[0;34m\u001b[0m\u001b[0m\n\u001b[1;32m   3590\u001b[0m                 \u001b[0mvalues\u001b[0m \u001b[0;34m=\u001b[0m \u001b[0mself\u001b[0m\u001b[0;34m.\u001b[0m\u001b[0mastype\u001b[0m\u001b[0;34m(\u001b[0m\u001b[0mobject\u001b[0m\u001b[0;34m)\u001b[0m\u001b[0;34m.\u001b[0m\u001b[0mvalues\u001b[0m\u001b[0;34m\u001b[0m\u001b[0;34m\u001b[0m\u001b[0m\n\u001b[0;32m-> 3591\u001b[0;31m                 \u001b[0mmapped\u001b[0m \u001b[0;34m=\u001b[0m \u001b[0mlib\u001b[0m\u001b[0;34m.\u001b[0m\u001b[0mmap_infer\u001b[0m\u001b[0;34m(\u001b[0m\u001b[0mvalues\u001b[0m\u001b[0;34m,\u001b[0m \u001b[0mf\u001b[0m\u001b[0;34m,\u001b[0m \u001b[0mconvert\u001b[0m\u001b[0;34m=\u001b[0m\u001b[0mconvert_dtype\u001b[0m\u001b[0;34m)\u001b[0m\u001b[0;34m\u001b[0m\u001b[0;34m\u001b[0m\u001b[0m\n\u001b[0m\u001b[1;32m   3592\u001b[0m \u001b[0;34m\u001b[0m\u001b[0m\n\u001b[1;32m   3593\u001b[0m         \u001b[0;32mif\u001b[0m \u001b[0mlen\u001b[0m\u001b[0;34m(\u001b[0m\u001b[0mmapped\u001b[0m\u001b[0;34m)\u001b[0m \u001b[0;32mand\u001b[0m \u001b[0misinstance\u001b[0m\u001b[0;34m(\u001b[0m\u001b[0mmapped\u001b[0m\u001b[0;34m[\u001b[0m\u001b[0;36m0\u001b[0m\u001b[0;34m]\u001b[0m\u001b[0;34m,\u001b[0m \u001b[0mSeries\u001b[0m\u001b[0;34m)\u001b[0m\u001b[0;34m:\u001b[0m\u001b[0;34m\u001b[0m\u001b[0;34m\u001b[0m\u001b[0m\n",
      "\u001b[0;32mpandas/_libs/lib.pyx\u001b[0m in \u001b[0;36mpandas._libs.lib.map_infer\u001b[0;34m()\u001b[0m\n",
      "\u001b[0;32m<ipython-input-518-67087df9e0d6>\u001b[0m in \u001b[0;36mstemSentence\u001b[0;34m(sentence)\u001b[0m\n\u001b[1;32m      2\u001b[0m     \u001b[0;31m#token_words=tokenize(sentence)\u001b[0m\u001b[0;34m\u001b[0m\u001b[0;34m\u001b[0m\u001b[0;34m\u001b[0m\u001b[0m\n\u001b[1;32m      3\u001b[0m     \u001b[0;31m#stem_sentence=[]\u001b[0m\u001b[0;34m\u001b[0m\u001b[0;34m\u001b[0m\u001b[0;34m\u001b[0m\u001b[0m\n\u001b[0;32m----> 4\u001b[0;31m     \u001b[0;32mfor\u001b[0m \u001b[0mword\u001b[0m \u001b[0;32min\u001b[0m \u001b[0mtoken_words\u001b[0m\u001b[0;34m:\u001b[0m\u001b[0;34m\u001b[0m\u001b[0;34m\u001b[0m\u001b[0m\n\u001b[0m\u001b[1;32m      5\u001b[0m         \u001b[0mstem_sentence\u001b[0m\u001b[0;34m.\u001b[0m\u001b[0mappend\u001b[0m\u001b[0;34m(\u001b[0m\u001b[0mporter\u001b[0m\u001b[0;34m.\u001b[0m\u001b[0mstem\u001b[0m\u001b[0;34m(\u001b[0m\u001b[0mword\u001b[0m\u001b[0;34m)\u001b[0m\u001b[0;34m)\u001b[0m\u001b[0;34m\u001b[0m\u001b[0;34m\u001b[0m\u001b[0m\n\u001b[1;32m      6\u001b[0m     \u001b[0;32mreturn\u001b[0m \u001b[0;34m\" \"\u001b[0m\u001b[0;34m.\u001b[0m\u001b[0mjoin\u001b[0m\u001b[0;34m(\u001b[0m\u001b[0mstem_sentence\u001b[0m\u001b[0;34m)\u001b[0m\u001b[0;34m\u001b[0m\u001b[0;34m\u001b[0m\u001b[0m\n",
      "\u001b[0;31mNameError\u001b[0m: name 'token_words' is not defined"
     ]
    }
   ],
   "source": [
    "yelp_class.text=yelp_class.text.apply(stemSentence)"
   ]
  },
  {
   "cell_type": "code",
   "execution_count": 507,
   "metadata": {},
   "outputs": [
    {
     "data": {
      "text/plain": [
       "pandas.core.series.Series"
      ]
     },
     "execution_count": 507,
     "metadata": {},
     "output_type": "execute_result"
    }
   ],
   "source": [
    "type(yelp_class.text)"
   ]
  },
  {
   "cell_type": "code",
   "execution_count": 508,
   "metadata": {},
   "outputs": [
    {
     "data": {
      "text/plain": [
       "0    total bill for this horrible service over 8gs ...\n",
       "1    i adore travis at the hard rocks new kelly car...\n",
       "2    i have to say that this office really has it t...\n",
       "3    went in for a lunch steak sandwich was delicio...\n",
       "4    today was my second out of three sessions i ha...\n",
       "Name: text, dtype: object"
      ]
     },
     "execution_count": 508,
     "metadata": {},
     "output_type": "execute_result"
    }
   ],
   "source": [
    "yelp_class['text'].head()"
   ]
  },
  {
   "cell_type": "code",
   "execution_count": 509,
   "metadata": {},
   "outputs": [
    {
     "data": {
      "text/html": [
       "<div>\n",
       "<style scoped>\n",
       "    .dataframe tbody tr th:only-of-type {\n",
       "        vertical-align: middle;\n",
       "    }\n",
       "\n",
       "    .dataframe tbody tr th {\n",
       "        vertical-align: top;\n",
       "    }\n",
       "\n",
       "    .dataframe thead th {\n",
       "        text-align: right;\n",
       "    }\n",
       "</style>\n",
       "<table border=\"1\" class=\"dataframe\">\n",
       "  <thead>\n",
       "    <tr style=\"text-align: right;\">\n",
       "      <th></th>\n",
       "      <th>review_id</th>\n",
       "      <th>user_id</th>\n",
       "      <th>business_id</th>\n",
       "      <th>stars</th>\n",
       "      <th>useful</th>\n",
       "      <th>funny</th>\n",
       "      <th>cool</th>\n",
       "      <th>text</th>\n",
       "      <th>date</th>\n",
       "      <th>length</th>\n",
       "    </tr>\n",
       "  </thead>\n",
       "  <tbody>\n",
       "    <tr>\n",
       "      <th>0</th>\n",
       "      <td>Q1sbwvVQXV2734tPgoKj4Q</td>\n",
       "      <td>hG7b0MtEbXx5QzbzE6C_VA</td>\n",
       "      <td>ujmEBvifdJM6h6RLv4wQIg</td>\n",
       "      <td>1</td>\n",
       "      <td>6</td>\n",
       "      <td>1</td>\n",
       "      <td>0</td>\n",
       "      <td>total bill for this horrible service over 8gs ...</td>\n",
       "      <td>2013-05-07 04:34:36</td>\n",
       "      <td>204</td>\n",
       "    </tr>\n",
       "    <tr>\n",
       "      <th>1</th>\n",
       "      <td>GJXCdrto3ASJOqKeVWPi6Q</td>\n",
       "      <td>yXQM5uF2jS6es16SJzNHfg</td>\n",
       "      <td>NZnhc2sEQy3RmzKTZnqtwQ</td>\n",
       "      <td>5</td>\n",
       "      <td>0</td>\n",
       "      <td>0</td>\n",
       "      <td>0</td>\n",
       "      <td>i adore travis at the hard rocks new kelly car...</td>\n",
       "      <td>2017-01-14 21:30:33</td>\n",
       "      <td>1567</td>\n",
       "    </tr>\n",
       "    <tr>\n",
       "      <th>2</th>\n",
       "      <td>2TzJjDVDEuAW6MR5Vuc1ug</td>\n",
       "      <td>n6-Gk65cPZL6Uz8qRm3NYw</td>\n",
       "      <td>WTqjgwHlXbSFevF32_DJVw</td>\n",
       "      <td>5</td>\n",
       "      <td>3</td>\n",
       "      <td>0</td>\n",
       "      <td>0</td>\n",
       "      <td>i have to say that this office really has it t...</td>\n",
       "      <td>2016-11-09 20:09:03</td>\n",
       "      <td>615</td>\n",
       "    </tr>\n",
       "    <tr>\n",
       "      <th>3</th>\n",
       "      <td>yi0R0Ugj_xUx_Nek0-_Qig</td>\n",
       "      <td>dacAIZ6fTM6mqwW5uxkskg</td>\n",
       "      <td>ikCg8xy5JIg_NGPx-MSIDA</td>\n",
       "      <td>5</td>\n",
       "      <td>0</td>\n",
       "      <td>0</td>\n",
       "      <td>0</td>\n",
       "      <td>went in for a lunch steak sandwich was delicio...</td>\n",
       "      <td>2018-01-09 20:56:38</td>\n",
       "      <td>413</td>\n",
       "    </tr>\n",
       "    <tr>\n",
       "      <th>4</th>\n",
       "      <td>11a8sVPMUFtaC7_ABRkmtw</td>\n",
       "      <td>ssoyf2_x0EQMed6fgHeMyQ</td>\n",
       "      <td>b1b1eb3uo-w561D0ZfCEiQ</td>\n",
       "      <td>1</td>\n",
       "      <td>7</td>\n",
       "      <td>0</td>\n",
       "      <td>0</td>\n",
       "      <td>today was my second out of three sessions i ha...</td>\n",
       "      <td>2018-01-30 23:07:38</td>\n",
       "      <td>3509</td>\n",
       "    </tr>\n",
       "  </tbody>\n",
       "</table>\n",
       "</div>"
      ],
      "text/plain": [
       "                review_id                 user_id             business_id  \\\n",
       "0  Q1sbwvVQXV2734tPgoKj4Q  hG7b0MtEbXx5QzbzE6C_VA  ujmEBvifdJM6h6RLv4wQIg   \n",
       "1  GJXCdrto3ASJOqKeVWPi6Q  yXQM5uF2jS6es16SJzNHfg  NZnhc2sEQy3RmzKTZnqtwQ   \n",
       "2  2TzJjDVDEuAW6MR5Vuc1ug  n6-Gk65cPZL6Uz8qRm3NYw  WTqjgwHlXbSFevF32_DJVw   \n",
       "3  yi0R0Ugj_xUx_Nek0-_Qig  dacAIZ6fTM6mqwW5uxkskg  ikCg8xy5JIg_NGPx-MSIDA   \n",
       "4  11a8sVPMUFtaC7_ABRkmtw  ssoyf2_x0EQMed6fgHeMyQ  b1b1eb3uo-w561D0ZfCEiQ   \n",
       "\n",
       "   stars  useful  funny  cool  \\\n",
       "0      1       6      1     0   \n",
       "1      5       0      0     0   \n",
       "2      5       3      0     0   \n",
       "3      5       0      0     0   \n",
       "4      1       7      0     0   \n",
       "\n",
       "                                                text                 date  \\\n",
       "0  total bill for this horrible service over 8gs ...  2013-05-07 04:34:36   \n",
       "1  i adore travis at the hard rocks new kelly car...  2017-01-14 21:30:33   \n",
       "2  i have to say that this office really has it t...  2016-11-09 20:09:03   \n",
       "3  went in for a lunch steak sandwich was delicio...  2018-01-09 20:56:38   \n",
       "4  today was my second out of three sessions i ha...  2018-01-30 23:07:38   \n",
       "\n",
       "   length  \n",
       "0     204  \n",
       "1    1567  \n",
       "2     615  \n",
       "3     413  \n",
       "4    3509  "
      ]
     },
     "execution_count": 509,
     "metadata": {},
     "output_type": "execute_result"
    }
   ],
   "source": [
    "yelp_class.head()"
   ]
  },
  {
   "cell_type": "markdown",
   "metadata": {},
   "source": [
    "## CountVectorizer for text classification\n"
   ]
  },
  {
   "cell_type": "markdown",
   "metadata": {},
   "source": [
    "In order to train our model we need to assign numbers to our words which are present in the reviews.Their are many ways to do this:\n",
    "\n",
    "Bag of words: but that would be inefficient, all words have same importance, no semantic information is preserved.\n",
    "\n",
    "Countervector: It can be used here as it counts the number of words used and the number of features depends on it. This converts our text features into numbers which helps in the model preparation.\n",
    "\n",
    "Tfidf: Uncommon words are given more importance than the common words."
   ]
  },
  {
   "cell_type": "code",
   "execution_count": 448,
   "metadata": {},
   "outputs": [
    {
     "name": "stdout",
     "output_type": "stream",
     "text": [
      "['01', '02', '0219th', '02212015', '04', '0700', '08', '092714', '0945am', '10']\n"
     ]
    }
   ],
   "source": [
    "\n",
    "# Create a series to store the labels: y\n",
    "y = yelp_class.stars\n",
    "\n",
    "# Create training and test sets\n",
    "X_train, X_test, y_train, y_test = train_test_split(yelp_class[\"text\"],y,test_size=0.33,random_state=53)\n",
    "\n",
    "# Initialize a CountVectorizer object: count_vectorizer\n",
    "count_vectorizer = CountVectorizer(stop_words=\"english\")\n",
    "\n",
    "# Transform the training data using only the 'text' column values: count_train \n",
    "count_train = count_vectorizer.fit_transform(X_train)\n",
    "\n",
    "# Transform the test data using only the 'text' column values: count_test \n",
    "count_test = count_vectorizer.transform(X_test)\n",
    "\n",
    "# Print the first 10 features of the count_vectorizer\n",
    "print(count_vectorizer.get_feature_names()[:10])"
   ]
  },
  {
   "cell_type": "code",
   "execution_count": 186,
   "metadata": {},
   "outputs": [],
   "source": [
    "## We can transform our train set to an array to see how it looks.\n",
    "a=count_train.toarray()"
   ]
  },
  {
   "cell_type": "code",
   "execution_count": null,
   "metadata": {},
   "outputs": [],
   "source": [
    "a[0]"
   ]
  },
  {
   "cell_type": "code",
   "execution_count": null,
   "metadata": {},
   "outputs": [],
   "source": [
    "X_train.iloc[0]"
   ]
  },
  {
   "cell_type": "markdown",
   "metadata": {},
   "source": [
    "## TfidfVectorizer for text classification\n"
   ]
  },
  {
   "cell_type": "markdown",
   "metadata": {},
   "source": [
    "As many of the common words like \"are\", \"the\" etc dominate our model hence we can use tfidf vectorizer which stands for Term frequency inverse document frequency.\n",
    "\n",
    "Tfidf= Term Frequency* Inverse Document Frequency\n",
    "where, term frequency= number of occurence of the word in the document/ number of words in the document\n",
    "       inverse document frequency= log(no. of documents/no. of documents containing the words)"
   ]
  },
  {
   "cell_type": "code",
   "execution_count": 449,
   "metadata": {},
   "outputs": [],
   "source": [
    "\n",
    "tf= TfidfVectorizer(stop_words=\"english\",max_df=0.7)\n",
    "tf_train=tf.fit_transform(X_train)\n",
    "tf_test= tf.transform(X_test)"
   ]
  },
  {
   "cell_type": "code",
   "execution_count": 450,
   "metadata": {},
   "outputs": [
    {
     "name": "stdout",
     "output_type": "stream",
     "text": [
      "['01', '02', '0219th', '02212015', '04', '0700', '08', '092714', '0945am', '10']\n",
      "[[0. 0. 0. ... 0. 0. 0.]\n",
      " [0. 0. 0. ... 0. 0. 0.]\n",
      " [0. 0. 0. ... 0. 0. 0.]\n",
      " [0. 0. 0. ... 0. 0. 0.]\n",
      " [0. 0. 0. ... 0. 0. 0.]]\n"
     ]
    }
   ],
   "source": [
    "\n",
    "# Print the first 10 features\n",
    "print(tf.get_feature_names()[:10])\n",
    "\n",
    "# Print the first 5 vectors of the tfidf training data\n",
    "print(tf_train.A[:5])"
   ]
  },
  {
   "cell_type": "code",
   "execution_count": 451,
   "metadata": {},
   "outputs": [],
   "source": [
    "count_df = pd.DataFrame(count_train.A, columns=count_vectorizer.get_feature_names())"
   ]
  },
  {
   "cell_type": "code",
   "execution_count": 452,
   "metadata": {},
   "outputs": [],
   "source": [
    "tfidf_df = pd.DataFrame(tf_train.A, columns=tf.get_feature_names())"
   ]
  },
  {
   "cell_type": "code",
   "execution_count": 453,
   "metadata": {},
   "outputs": [
    {
     "name": "stdout",
     "output_type": "stream",
     "text": [
      "   01  02  0219th  02212015  04  0700  08  092714  0945am  10  ...  フレンドリーで  \\\n",
      "0   0   0       0         0   0     0   0       0       0   0  ...        0   \n",
      "1   0   0       0         0   0     0   0       0       0   0  ...        0   \n",
      "2   0   0       0         0   0     0   0       0       0   0  ...        0   \n",
      "3   0   0       0         0   0     0   0       0       0   0  ...        0   \n",
      "4   0   0       0         0   0     0   0       0       0   1  ...        0   \n",
      "\n",
      "   ボトルで無くても楽しめます  リゾット  全ての料理が美味しかった  店員さんがとにかく  日本人にとっても快適  気が利きます  牛肉のタルタル  \\\n",
      "0              0     0             0          0           0       0        0   \n",
      "1              0     0             0          0           0       0        0   \n",
      "2              0     0             0          0           0       0        0   \n",
      "3              0     0             0          0           0       0        0   \n",
      "4              0     0             0          0           0       0        0   \n",
      "\n",
      "   盛り付けも丁寧で美味しい  聞いたことには丁寧に答えて下さいます  \n",
      "0             0                   0  \n",
      "1             0                   0  \n",
      "2             0                   0  \n",
      "3             0                   0  \n",
      "4             0                   0  \n",
      "\n",
      "[5 rows x 17979 columns]\n",
      "    01   02  0219th  02212015   04  0700   08  092714  0945am        10  ...  \\\n",
      "0  0.0  0.0     0.0       0.0  0.0   0.0  0.0     0.0     0.0  0.000000  ...   \n",
      "1  0.0  0.0     0.0       0.0  0.0   0.0  0.0     0.0     0.0  0.000000  ...   \n",
      "2  0.0  0.0     0.0       0.0  0.0   0.0  0.0     0.0     0.0  0.000000  ...   \n",
      "3  0.0  0.0     0.0       0.0  0.0   0.0  0.0     0.0     0.0  0.000000  ...   \n",
      "4  0.0  0.0     0.0       0.0  0.0   0.0  0.0     0.0     0.0  0.129497  ...   \n",
      "\n",
      "   フレンドリーで  ボトルで無くても楽しめます  リゾット  全ての料理が美味しかった  店員さんがとにかく  日本人にとっても快適  気が利きます  \\\n",
      "0      0.0            0.0   0.0           0.0        0.0         0.0     0.0   \n",
      "1      0.0            0.0   0.0           0.0        0.0         0.0     0.0   \n",
      "2      0.0            0.0   0.0           0.0        0.0         0.0     0.0   \n",
      "3      0.0            0.0   0.0           0.0        0.0         0.0     0.0   \n",
      "4      0.0            0.0   0.0           0.0        0.0         0.0     0.0   \n",
      "\n",
      "   牛肉のタルタル  盛り付けも丁寧で美味しい  聞いたことには丁寧に答えて下さいます  \n",
      "0      0.0           0.0                 0.0  \n",
      "1      0.0           0.0                 0.0  \n",
      "2      0.0           0.0                 0.0  \n",
      "3      0.0           0.0                 0.0  \n",
      "4      0.0           0.0                 0.0  \n",
      "\n",
      "[5 rows x 17979 columns]\n",
      "set()\n",
      "False\n"
     ]
    }
   ],
   "source": [
    "# Print the head of count_df\n",
    "print(count_df.head())\n",
    "\n",
    "# Print the head of tfidf_df\n",
    "print(tfidf_df.head())\n",
    "\n",
    "# Calculate the difference in columns: difference\n",
    "difference = set(count_df.columns) - set(tfidf_df.columns)\n",
    "print(difference)\n",
    "\n",
    "# Check whether the DataFrames are equal\n",
    "print(count_df.equals(tfidf_df))\n"
   ]
  },
  {
   "cell_type": "markdown",
   "metadata": {},
   "source": [
    "## Training and testing a classification model with scikit-learn\n"
   ]
  },
  {
   "cell_type": "code",
   "execution_count": 454,
   "metadata": {},
   "outputs": [
    {
     "name": "stdout",
     "output_type": "stream",
     "text": [
      "0.9358778625954198\n",
      "[[ 422   84]\n",
      " [  42 1417]]\n"
     ]
    }
   ],
   "source": [
    "\n",
    "# Instantiate a Multinomial Naive Bayes classifier: nb_classifier\n",
    "nb_classifier = MultinomialNB()\n",
    "\n",
    "# Fit the classifier to the training data\n",
    "nb_classifier.fit(count_train, y_train)\n",
    "\n",
    "# Create the predicted tags: pred\n",
    "pred = nb_classifier.predict(count_test)\n",
    "\n",
    "# Calculate the accuracy score: score\n",
    "score = metrics.accuracy_score(y_test, pred)\n",
    "print(score)\n",
    "\n",
    "# Calculate the confusion matrix: cm\n",
    "cm = metrics.confusion_matrix(y_test, pred)\n",
    "print(cm)\n"
   ]
  },
  {
   "cell_type": "markdown",
   "metadata": {},
   "source": [
    "### TfidfVectorizer"
   ]
  },
  {
   "cell_type": "code",
   "execution_count": 455,
   "metadata": {},
   "outputs": [
    {
     "name": "stdout",
     "output_type": "stream",
     "text": [
      "0.7760814249363868\n",
      "[[  66  440]\n",
      " [   0 1459]]\n"
     ]
    }
   ],
   "source": [
    "nb_classifier.fit(tf_train, y_train)\n",
    "\n",
    "# Create the predicted tags: pred\n",
    "pred = nb_classifier.predict(tf_test)\n",
    "\n",
    "# Calculate the accuracy score: score\n",
    "score = metrics.accuracy_score(y_test, pred)\n",
    "print(score)\n",
    "\n",
    "# Calculate the confusion matrix: cm\n",
    "cm = metrics.confusion_matrix(y_test, pred)\n",
    "print(cm)\n"
   ]
  },
  {
   "cell_type": "markdown",
   "metadata": {},
   "source": [
    "We see that the accuracy reduced as tfidf reduces the unwanted features which are not important for model building."
   ]
  },
  {
   "cell_type": "code",
   "execution_count": 456,
   "metadata": {},
   "outputs": [
    {
     "name": "stdout",
     "output_type": "stream",
     "text": [
      "Alpha:  0.0\n",
      "Score:  0.8585241730279898\n",
      "\n",
      "Alpha:  0.1\n",
      "Score:  0.9251908396946565\n",
      "\n",
      "Alpha:  0.2\n",
      "Score:  0.9073791348600508\n",
      "\n",
      "Alpha:  0.30000000000000004\n",
      "Score:  0.8834605597964377\n",
      "\n",
      "Alpha:  0.4\n",
      "Score:  0.8651399491094147\n",
      "\n",
      "Alpha:  0.5\n",
      "Score:  0.8483460559796437\n",
      "\n",
      "Alpha:  0.6000000000000001\n",
      "Score:  0.8305343511450382\n",
      "\n",
      "Alpha:  0.7000000000000001\n",
      "Score:  0.816793893129771\n",
      "\n",
      "Alpha:  0.8\n",
      "Score:  0.8045801526717558\n",
      "\n",
      "Alpha:  0.9\n",
      "Score:  0.7893129770992366\n",
      "\n"
     ]
    },
    {
     "name": "stderr",
     "output_type": "stream",
     "text": [
      "/Users/ankit/anaconda3/lib/python3.7/site-packages/sklearn/naive_bayes.py:485: UserWarning: alpha too small will result in numeric errors, setting alpha = 1.0e-10\n",
      "  'setting alpha = %.1e' % _ALPHA_MIN)\n"
     ]
    }
   ],
   "source": [
    "# Create the list of alphas: alphas\n",
    "alphas = np.arange(0, 1, .1)\n",
    "\n",
    "# Define train_and_predict()\n",
    "def train_and_predict(alpha):\n",
    "    # Instantiate the classifier: nb_classifier\n",
    "    nb_classifier = MultinomialNB(alpha=alpha)\n",
    "    # Fit to the training data\n",
    "    nb_classifier.fit(tf_train, y_train)\n",
    "    # Predict the labels: pred\n",
    "    pred = nb_classifier.predict(tf_test)\n",
    "    # Compute accuracy: score\n",
    "    score = metrics.accuracy_score(y_test, pred)\n",
    "    return score\n",
    "\n",
    "# Iterate over the alphas and print the corresponding score\n",
    "for alpha in alphas:\n",
    "    print('Alpha: ', alpha)\n",
    "    print('Score: ', train_and_predict(alpha))\n",
    "    print()\n",
    "    "
   ]
  },
  {
   "cell_type": "markdown",
   "metadata": {},
   "source": [
    "## We got the best accuracy at alpha=0.1"
   ]
  },
  {
   "cell_type": "markdown",
   "metadata": {},
   "source": [
    "### N gram Vectorization"
   ]
  },
  {
   "cell_type": "markdown",
   "metadata": {},
   "source": [
    "N grams are continous sequences of n-items in a sentence. N can be 1,2, or any positive number. Using this medthod the model can store more context."
   ]
  },
  {
   "cell_type": "code",
   "execution_count": 195,
   "metadata": {},
   "outputs": [],
   "source": [
    "#bigrams\n",
    "cv_n = CountVectorizer(ngram_range=(1,2)) # (1,2) will use both 1 and 2 "
   ]
  },
  {
   "cell_type": "code",
   "execution_count": 196,
   "metadata": {},
   "outputs": [
    {
     "name": "stdout",
     "output_type": "stream",
     "text": [
      "['01', '01 08', '01 good', '01 its', '02', '02 even', '02 its', '02 she', '0219th', '0219th at']\n"
     ]
    }
   ],
   "source": [
    "# Transform the training data using only the 'text' column values: count_train \n",
    "bigram_train = cv_n.fit_transform(X_train)\n",
    "\n",
    "# Transform the test data using only the 'text' column values: count_test \n",
    "bigram_test = cv_n.transform(X_test)\n",
    "\n",
    "# Print the first 10 features of the count_vectorizer\n",
    "print(cv_n.get_feature_names()[:10])"
   ]
  },
  {
   "cell_type": "code",
   "execution_count": 197,
   "metadata": {},
   "outputs": [
    {
     "name": "stdout",
     "output_type": "stream",
     "text": [
      "   01  01 08  01 good  01 its  02  02 even  02 its  02 she  0219th  0219th at  \\\n",
      "0   0      0        0       0   0        0       0       0       0          0   \n",
      "1   0      0        0       0   0        0       0       0       0          0   \n",
      "2   0      0        0       0   0        0       0       0       0          0   \n",
      "3   0      0        0       0   0        0       0       0       0          0   \n",
      "4   0      0        0       0   0        0       0       0       0          0   \n",
      "\n",
      "   ...  日本人にとっても快適  日本人にとっても快適 お料理も味付け  気が利きます  気が利きます フレンドリーで  牛肉のタルタル  \\\n",
      "0  ...           0                   0       0               0        0   \n",
      "1  ...           0                   0       0               0        0   \n",
      "2  ...           0                   0       0               0        0   \n",
      "3  ...           0                   0       0               0        0   \n",
      "4  ...           0                   0       0               0        0   \n",
      "\n",
      "   牛肉のタルタル リゾット  盛り付けも丁寧で美味しい  盛り付けも丁寧で美味しい オイスターやロブスター  聞いたことには丁寧に答えて下さいます  \\\n",
      "0             0             0                         0                   0   \n",
      "1             0             0                         0                   0   \n",
      "2             0             0                         0                   0   \n",
      "3             0             0                         0                   0   \n",
      "4             0             0                         0                   0   \n",
      "\n",
      "   聞いたことには丁寧に答えて下さいます 日本人にとっても快適  \n",
      "0                              0  \n",
      "1                              0  \n",
      "2                              0  \n",
      "3                              0  \n",
      "4                              0  \n",
      "\n",
      "[5 rows x 175143 columns]\n"
     ]
    }
   ],
   "source": [
    "bigram_df = pd.DataFrame(bigram_train.A, columns=cv_n.get_feature_names())\n",
    "print(bigram_df.head())"
   ]
  },
  {
   "cell_type": "code",
   "execution_count": 198,
   "metadata": {},
   "outputs": [
    {
     "name": "stdout",
     "output_type": "stream",
     "text": [
      "0.9251908396946565\n",
      "[[ 367  139]\n",
      " [   8 1451]]\n"
     ]
    }
   ],
   "source": [
    "nb_classifier.fit(bigram_train, y_train)\n",
    "\n",
    "# Create the predicted tags: pred\n",
    "pred = nb_classifier.predict(bigram_test)\n",
    "\n",
    "# Calculate the accuracy score: score\n",
    "score = metrics.accuracy_score(y_test, pred)\n",
    "print(score)\n",
    "\n",
    "# Calculate the confusion matrix: cm\n",
    "cm = metrics.confusion_matrix(y_test, pred)\n",
    "print(cm)\n"
   ]
  },
  {
   "cell_type": "markdown",
   "metadata": {},
   "source": [
    "The accuracy using bigrams comes to 93%"
   ]
  },
  {
   "cell_type": "markdown",
   "metadata": {},
   "source": [
    "### Word embedding"
   ]
  },
  {
   "cell_type": "markdown",
   "metadata": {},
   "source": [
    "Word embedding is a language modelling technique used for mapping words to vectors . Like one food gets related to other food items."
   ]
  },
  {
   "cell_type": "markdown",
   "metadata": {},
   "source": [
    "It uses the idea of context, which means vectors of completely unrelated words should be far from other. \n",
    "Like, difference between vectors for male and female should be closer to difference between male employeeand female employee in a firm."
   ]
  },
  {
   "cell_type": "markdown",
   "metadata": {},
   "source": [
    "Word2vec(model made by google), \n",
    "Co-occurence matrix(decomposition of large marix into smaller ones- glove method(log of co-occurence matrix))"
   ]
  },
  {
   "cell_type": "markdown",
   "metadata": {},
   "source": [
    "It preserves syntactical meaning of the text. \n",
    "Every word has a vector, we assign one hot vector initially where only one bit in a vector is 1. Then we take a window size and iterate hroughout our document. When we do this 2 words come into picture:\n",
    "CBOW and Skipgram"
   ]
  },
  {
   "cell_type": "code",
   "execution_count": null,
   "metadata": {},
   "outputs": [],
   "source": [
    "!pip install --upgrade gensim\n",
    "\n"
   ]
  },
  {
   "cell_type": "code",
   "execution_count": 199,
   "metadata": {},
   "outputs": [],
   "source": [
    "import gensim\n",
    "import gensim.models.word2vec as w2v\n"
   ]
  },
  {
   "cell_type": "code",
   "execution_count": 200,
   "metadata": {},
   "outputs": [],
   "source": [
    "\n",
    "import codecs\n",
    "import glob\n",
    "import logging\n",
    "import multiprocessing\n",
    "import os\n",
    "import pprint\n",
    "import re"
   ]
  },
  {
   "cell_type": "code",
   "execution_count": 201,
   "metadata": {},
   "outputs": [
    {
     "name": "stdout",
     "output_type": "stream",
     "text": [
      "Word2Vec vocabulary length: 6408\n"
     ]
    }
   ],
   "source": [
    "num_features = 300\n",
    "# Minimum word count threshold.\n",
    "min_word_count = 3\n",
    "\n",
    "# Number of threads to run in parallel.\n",
    "#more workers, faster we train\n",
    "num_workers = multiprocessing.cpu_count()\n",
    "\n",
    "# Context window length.\n",
    "context_size = 7\n",
    "\n",
    "# Downsample setting for frequent words.\n",
    "#0 - 1e-5 is good for this\n",
    "downsampling = 1e-3\n",
    "\n",
    "# Seed for the RNG, to make the results reproducible.\n",
    "#random number generator\n",
    "#deterministic, good for debugging\n",
    "\n",
    "seed = 1\n",
    "reviews2vec = w2v.Word2Vec(\n",
    "    sg=1,\n",
    "    seed=seed,\n",
    "    workers=num_workers,\n",
    "    size=num_features,\n",
    "    min_count=min_word_count,\n",
    "    window=context_size,\n",
    "    sample=downsampling\n",
    ")\n",
    "reviews2vec.build_vocab(yelp_class['text'].apply(lambda x :tokenizer.tokenize(x)))\n",
    "print(\"Word2Vec vocabulary length:\", len(reviews2vec.wv.vocab))"
   ]
  },
  {
   "cell_type": "code",
   "execution_count": 202,
   "metadata": {},
   "outputs": [],
   "source": [
    "import sklearn.manifold\n"
   ]
  },
  {
   "cell_type": "code",
   "execution_count": 203,
   "metadata": {},
   "outputs": [
    {
     "name": "stderr",
     "output_type": "stream",
     "text": [
      "/Users/ankit/anaconda3/lib/python3.7/site-packages/ipykernel_launcher.py:6: DeprecationWarning: Call to deprecated `syn0` (Attribute will be removed in 4.0.0, use self.vectors instead).\n",
      "  \n"
     ]
    }
   ],
   "source": [
    "sentences=yelp_class['text'].apply(lambda x :tokenizer.tokenize(x))\n",
    "#total_example=reviews2vec.wv.vocab\n",
    "reviews2vec.train(sentences,epochs=10,total_examples=reviews2vec.corpus_count)\n",
    "\n",
    "tsne = sklearn.manifold.TSNE(n_components=2, random_state=0)\n",
    "all_word_vectors_matrix = reviews2vec.wv.syn0\n",
    "\n",
    "all_word_vectors_matrix_2d = tsne.fit_transform(all_word_vectors_matrix)"
   ]
  },
  {
   "cell_type": "code",
   "execution_count": 204,
   "metadata": {},
   "outputs": [],
   "source": [
    "points = pd.DataFrame(\n",
    "    [\n",
    "        (word, coords[0], coords[1])\n",
    "        for word, coords in [\n",
    "            (word, all_word_vectors_matrix_2d[reviews2vec.wv.vocab[word].index])\n",
    "            for word in reviews2vec.wv.vocab\n",
    "        ]\n",
    "    ],\n",
    "    columns=[\"word\", \"x\", \"y\"])"
   ]
  },
  {
   "cell_type": "code",
   "execution_count": 205,
   "metadata": {},
   "outputs": [
    {
     "data": {
      "text/html": [
       "<div>\n",
       "<style scoped>\n",
       "    .dataframe tbody tr th:only-of-type {\n",
       "        vertical-align: middle;\n",
       "    }\n",
       "\n",
       "    .dataframe tbody tr th {\n",
       "        vertical-align: top;\n",
       "    }\n",
       "\n",
       "    .dataframe thead th {\n",
       "        text-align: right;\n",
       "    }\n",
       "</style>\n",
       "<table border=\"1\" class=\"dataframe\">\n",
       "  <thead>\n",
       "    <tr style=\"text-align: right;\">\n",
       "      <th></th>\n",
       "      <th>word</th>\n",
       "      <th>x</th>\n",
       "      <th>y</th>\n",
       "    </tr>\n",
       "  </thead>\n",
       "  <tbody>\n",
       "    <tr>\n",
       "      <th>0</th>\n",
       "      <td>total</td>\n",
       "      <td>-26.302122</td>\n",
       "      <td>-24.422993</td>\n",
       "    </tr>\n",
       "    <tr>\n",
       "      <th>1</th>\n",
       "      <td>bill</td>\n",
       "      <td>-50.700111</td>\n",
       "      <td>-8.140308</td>\n",
       "    </tr>\n",
       "    <tr>\n",
       "      <th>2</th>\n",
       "      <td>for</td>\n",
       "      <td>-24.279978</td>\n",
       "      <td>-21.211676</td>\n",
       "    </tr>\n",
       "    <tr>\n",
       "      <th>3</th>\n",
       "      <td>thi</td>\n",
       "      <td>5.232398</td>\n",
       "      <td>-5.341033</td>\n",
       "    </tr>\n",
       "    <tr>\n",
       "      <th>4</th>\n",
       "      <td>horribl</td>\n",
       "      <td>-3.415853</td>\n",
       "      <td>-13.690668</td>\n",
       "    </tr>\n",
       "    <tr>\n",
       "      <th>5</th>\n",
       "      <td>servic</td>\n",
       "      <td>1.973171</td>\n",
       "      <td>29.955378</td>\n",
       "    </tr>\n",
       "    <tr>\n",
       "      <th>6</th>\n",
       "      <td>over</td>\n",
       "      <td>-28.693535</td>\n",
       "      <td>-10.569721</td>\n",
       "    </tr>\n",
       "    <tr>\n",
       "      <th>7</th>\n",
       "      <td>these</td>\n",
       "      <td>-2.334032</td>\n",
       "      <td>8.367343</td>\n",
       "    </tr>\n",
       "    <tr>\n",
       "      <th>8</th>\n",
       "      <td>crook</td>\n",
       "      <td>-23.926537</td>\n",
       "      <td>1.121246</td>\n",
       "    </tr>\n",
       "    <tr>\n",
       "      <th>9</th>\n",
       "      <td>actual</td>\n",
       "      <td>-18.841124</td>\n",
       "      <td>5.529508</td>\n",
       "    </tr>\n",
       "  </tbody>\n",
       "</table>\n",
       "</div>"
      ],
      "text/plain": [
       "      word          x          y\n",
       "0    total -26.302122 -24.422993\n",
       "1     bill -50.700111  -8.140308\n",
       "2      for -24.279978 -21.211676\n",
       "3      thi   5.232398  -5.341033\n",
       "4  horribl  -3.415853 -13.690668\n",
       "5   servic   1.973171  29.955378\n",
       "6     over -28.693535 -10.569721\n",
       "7    these  -2.334032   8.367343\n",
       "8    crook -23.926537   1.121246\n",
       "9   actual -18.841124   5.529508"
      ]
     },
     "execution_count": 205,
     "metadata": {},
     "output_type": "execute_result"
    }
   ],
   "source": [
    "points.head(10)\n"
   ]
  },
  {
   "cell_type": "code",
   "execution_count": null,
   "metadata": {},
   "outputs": [],
   "source": []
  }
 ],
 "metadata": {
  "kernelspec": {
   "display_name": "Python 3",
   "language": "python",
   "name": "python3"
  },
  "language_info": {
   "codemirror_mode": {
    "name": "ipython",
    "version": 3
   },
   "file_extension": ".py",
   "mimetype": "text/x-python",
   "name": "python",
   "nbconvert_exporter": "python",
   "pygments_lexer": "ipython3",
   "version": "3.7.3"
  }
 },
 "nbformat": 4,
 "nbformat_minor": 2
}
