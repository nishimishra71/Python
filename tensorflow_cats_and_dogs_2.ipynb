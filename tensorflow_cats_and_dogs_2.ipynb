{
 "cells": [
  {
   "cell_type": "code",
   "execution_count": null,
   "metadata": {},
   "outputs": [],
   "source": [
    "!pip install tensorflow\n"
   ]
  },
  {
   "cell_type": "code",
   "execution_count": 9,
   "metadata": {},
   "outputs": [],
   "source": [
    "import tensorflow as tf\n",
    "from tensorflow.keras.models import Sequential\n",
    "from tensorflow.keras.layers import Dense, Dropout, Activation, Flatten, Conv2D, MaxPooling2D\n",
    "import pickle\n",
    "from tensorflow.keras.datasets import cifar10\n",
    "\n",
    "X= pickle.load(open(\"X.pickle\",\"rb\"))\n",
    "y= pickle.load(open(\"y.pickle\",\"rb\"))\n"
   ]
  },
  {
   "cell_type": "code",
   "execution_count": 10,
   "metadata": {},
   "outputs": [],
   "source": [
    "from tensorflow.keras.datasets import cifar10\n"
   ]
  },
  {
   "cell_type": "code",
   "execution_count": 11,
   "metadata": {},
   "outputs": [],
   "source": [
    "X=X/255.0"
   ]
  },
  {
   "cell_type": "code",
   "execution_count": 15,
   "metadata": {},
   "outputs": [
    {
     "data": {
      "text/plain": [
       "array([[[0.54901961],\n",
       "        [0.56470588],\n",
       "        [0.56078431],\n",
       "        ...,\n",
       "        [0.58431373],\n",
       "        [0.57254902],\n",
       "        [0.57647059]],\n",
       "\n",
       "       [[0.56470588],\n",
       "        [0.56470588],\n",
       "        [0.55686275],\n",
       "        ...,\n",
       "        [0.57254902],\n",
       "        [0.58039216],\n",
       "        [0.57647059]],\n",
       "\n",
       "       [[0.54509804],\n",
       "        [0.56862745],\n",
       "        [0.56470588],\n",
       "        ...,\n",
       "        [0.58823529],\n",
       "        [0.58431373],\n",
       "        [0.57254902]],\n",
       "\n",
       "       ...,\n",
       "\n",
       "       [[0.58039216],\n",
       "        [0.61960784],\n",
       "        [0.45098039],\n",
       "        ...,\n",
       "        [0.64313725],\n",
       "        [0.65098039],\n",
       "        [0.63921569]],\n",
       "\n",
       "       [[0.65490196],\n",
       "        [0.63529412],\n",
       "        [0.54901961],\n",
       "        ...,\n",
       "        [0.38039216],\n",
       "        [0.59607843],\n",
       "        [0.61960784]],\n",
       "\n",
       "       [[0.62745098],\n",
       "        [0.62352941],\n",
       "        [0.45098039],\n",
       "        ...,\n",
       "        [0.27058824],\n",
       "        [0.25490196],\n",
       "        [0.28627451]]])"
      ]
     },
     "execution_count": 15,
     "metadata": {},
     "output_type": "execute_result"
    }
   ],
   "source": [
    "X[1]"
   ]
  },
  {
   "cell_type": "code",
   "execution_count": 12,
   "metadata": {},
   "outputs": [],
   "source": [
    "model=Sequential()\n",
    "model.add(Conv2D(256,(3,3),input_shape=X.shape[1:]))\n",
    "model.add(Activation('relu'))\n",
    "model.add(MaxPooling2D(pool_size=(2,2)))\n",
    "\n",
    "model=Sequential()\n",
    "model.add(Conv2D(256,(3,3)))\n",
    "model.add(Activation('relu'))\n",
    "model.add(MaxPooling2D(pool_size=(2,2)))\n"
   ]
  },
  {
   "cell_type": "code",
   "execution_count": 17,
   "metadata": {},
   "outputs": [
    {
     "data": {
      "text/plain": [
       "list"
      ]
     },
     "execution_count": 17,
     "metadata": {},
     "output_type": "execute_result"
    }
   ],
   "source": [
    "type(y)"
   ]
  },
  {
   "cell_type": "code",
   "execution_count": 13,
   "metadata": {},
   "outputs": [],
   "source": [
    "model.add(Flatten())\n",
    "model.add(Dense(64))"
   ]
  },
  {
   "cell_type": "code",
   "execution_count": 19,
   "metadata": {},
   "outputs": [],
   "source": [
    "import numpy as np"
   ]
  },
  {
   "cell_type": "code",
   "execution_count": null,
   "metadata": {},
   "outputs": [
    {
     "name": "stdout",
     "output_type": "stream",
     "text": [
      "Train on 17462 samples, validate on 7484 samples\n",
      "Epoch 1/3\n",
      " 9632/17462 [===============>..............] - ETA: 1:07 - loss: 0.6943 - accuracy: 0.4949"
     ]
    }
   ],
   "source": [
    "model.add(Dense(1))\n",
    "model.add(Activation('sigmoid'))\n",
    "model.compile(loss='binary_crossentropy',optimizer='adam',metrics=['accuracy'])\n",
    "model.fit(X, np.uint8(y), batch_size=32, epochs=3, validation_split=0.3)\n"
   ]
  },
  {
   "cell_type": "code",
   "execution_count": null,
   "metadata": {},
   "outputs": [],
   "source": []
  }
 ],
 "metadata": {
  "kernelspec": {
   "display_name": "Python 3",
   "language": "python",
   "name": "python3"
  },
  "language_info": {
   "codemirror_mode": {
    "name": "ipython",
    "version": 3
   },
   "file_extension": ".py",
   "mimetype": "text/x-python",
   "name": "python",
   "nbconvert_exporter": "python",
   "pygments_lexer": "ipython3",
   "version": "3.7.3"
  }
 },
 "nbformat": 4,
 "nbformat_minor": 2
}
