{
 "cells": [
  {
   "cell_type": "markdown",
   "metadata": {},
   "source": [
    "# Lending Club Data Set Prediction"
   ]
  },
  {
   "cell_type": "code",
   "execution_count": 47,
   "metadata": {},
   "outputs": [],
   "source": [
    "import pandas as pd\n",
    "import numpy as np\n",
    "import matplotlib.pyplot as plt\n",
    "import seaborn as sns\n",
    "from scipy.stats import t\n",
    "from numpy.random import seed\n",
    "from scipy.stats import norm\n",
    "from scipy.stats import ttest_ind_from_stats\n",
    "df= pd.read_csv('/Users/ankit/Desktop/Springboard dox/Python/LoanStats3a_securev1_new.csv',low_memory=False)\n"
   ]
  },
  {
   "cell_type": "markdown",
   "metadata": {},
   "source": [
    "# Understanding the various features (columns) of the dataset\n"
   ]
  },
  {
   "cell_type": "code",
   "execution_count": 48,
   "metadata": {},
   "outputs": [
    {
     "name": "stdout",
     "output_type": "stream",
     "text": [
      "<class 'pandas.core.frame.DataFrame'>\n",
      "RangeIndex: 42542 entries, 0 to 42541\n",
      "Columns: 150 entries, id to settlement_term\n",
      "dtypes: float64(120), object(30)\n",
      "memory usage: 48.7+ MB\n",
      "None\n"
     ]
    },
    {
     "data": {
      "text/plain": [
       "Index(['id', 'member_id', 'loan_amnt', 'funded_amnt', 'funded_amnt_inv',\n",
       "       'term', 'int_rate', 'installment', 'grade', 'sub_grade',\n",
       "       ...\n",
       "       'orig_projected_additional_accrued_interest',\n",
       "       'hardship_payoff_balance_amount', 'hardship_last_payment_amount',\n",
       "       'debt_settlement_flag', 'debt_settlement_flag_date',\n",
       "       'settlement_status', 'settlement_date', 'settlement_amount',\n",
       "       'settlement_percentage', 'settlement_term'],\n",
       "      dtype='object', length=150)"
      ]
     },
     "execution_count": 48,
     "metadata": {},
     "output_type": "execute_result"
    }
   ],
   "source": [
    "print(df.info())\n",
    "df.head()\n",
    "df.columns"
   ]
  },
  {
   "cell_type": "code",
   "execution_count": 49,
   "metadata": {},
   "outputs": [
    {
     "name": "stdout",
     "output_type": "stream",
     "text": [
      "(42542, 150)\n"
     ]
    }
   ],
   "source": [
    "print(df.shape)"
   ]
  },
  {
   "cell_type": "code",
   "execution_count": 50,
   "metadata": {},
   "outputs": [],
   "source": [
    "#Drop columns with data NaN"
   ]
  },
  {
   "cell_type": "code",
   "execution_count": 51,
   "metadata": {},
   "outputs": [],
   "source": [
    "#df=df.dropna(axis=1)"
   ]
  },
  {
   "cell_type": "code",
   "execution_count": 52,
   "metadata": {},
   "outputs": [],
   "source": [
    "#df.shape"
   ]
  },
  {
   "cell_type": "code",
   "execution_count": 53,
   "metadata": {},
   "outputs": [
    {
     "data": {
      "text/html": [
       "<div>\n",
       "<style scoped>\n",
       "    .dataframe tbody tr th:only-of-type {\n",
       "        vertical-align: middle;\n",
       "    }\n",
       "\n",
       "    .dataframe tbody tr th {\n",
       "        vertical-align: top;\n",
       "    }\n",
       "\n",
       "    .dataframe thead th {\n",
       "        text-align: right;\n",
       "    }\n",
       "</style>\n",
       "<table border=\"1\" class=\"dataframe\">\n",
       "  <thead>\n",
       "    <tr style=\"text-align: right;\">\n",
       "      <th></th>\n",
       "      <th>id</th>\n",
       "      <th>member_id</th>\n",
       "      <th>loan_amnt</th>\n",
       "      <th>funded_amnt</th>\n",
       "      <th>funded_amnt_inv</th>\n",
       "      <th>term</th>\n",
       "      <th>int_rate</th>\n",
       "      <th>installment</th>\n",
       "      <th>grade</th>\n",
       "      <th>sub_grade</th>\n",
       "      <th>...</th>\n",
       "      <th>orig_projected_additional_accrued_interest</th>\n",
       "      <th>hardship_payoff_balance_amount</th>\n",
       "      <th>hardship_last_payment_amount</th>\n",
       "      <th>debt_settlement_flag</th>\n",
       "      <th>debt_settlement_flag_date</th>\n",
       "      <th>settlement_status</th>\n",
       "      <th>settlement_date</th>\n",
       "      <th>settlement_amount</th>\n",
       "      <th>settlement_percentage</th>\n",
       "      <th>settlement_term</th>\n",
       "    </tr>\n",
       "  </thead>\n",
       "  <tbody>\n",
       "    <tr>\n",
       "      <th>0</th>\n",
       "      <td>1077501</td>\n",
       "      <td>NaN</td>\n",
       "      <td>5000.0</td>\n",
       "      <td>5000.0</td>\n",
       "      <td>4975.0</td>\n",
       "      <td>36 months</td>\n",
       "      <td>10.65%</td>\n",
       "      <td>162.87</td>\n",
       "      <td>B</td>\n",
       "      <td>B2</td>\n",
       "      <td>...</td>\n",
       "      <td>NaN</td>\n",
       "      <td>NaN</td>\n",
       "      <td>NaN</td>\n",
       "      <td>N</td>\n",
       "      <td>NaN</td>\n",
       "      <td>NaN</td>\n",
       "      <td>NaN</td>\n",
       "      <td>NaN</td>\n",
       "      <td>NaN</td>\n",
       "      <td>NaN</td>\n",
       "    </tr>\n",
       "    <tr>\n",
       "      <th>1</th>\n",
       "      <td>1077430</td>\n",
       "      <td>NaN</td>\n",
       "      <td>2500.0</td>\n",
       "      <td>2500.0</td>\n",
       "      <td>2500.0</td>\n",
       "      <td>60 months</td>\n",
       "      <td>15.27%</td>\n",
       "      <td>59.83</td>\n",
       "      <td>C</td>\n",
       "      <td>C4</td>\n",
       "      <td>...</td>\n",
       "      <td>NaN</td>\n",
       "      <td>NaN</td>\n",
       "      <td>NaN</td>\n",
       "      <td>N</td>\n",
       "      <td>NaN</td>\n",
       "      <td>NaN</td>\n",
       "      <td>NaN</td>\n",
       "      <td>NaN</td>\n",
       "      <td>NaN</td>\n",
       "      <td>NaN</td>\n",
       "    </tr>\n",
       "    <tr>\n",
       "      <th>2</th>\n",
       "      <td>1077175</td>\n",
       "      <td>NaN</td>\n",
       "      <td>2400.0</td>\n",
       "      <td>2400.0</td>\n",
       "      <td>2400.0</td>\n",
       "      <td>36 months</td>\n",
       "      <td>15.96%</td>\n",
       "      <td>84.33</td>\n",
       "      <td>C</td>\n",
       "      <td>C5</td>\n",
       "      <td>...</td>\n",
       "      <td>NaN</td>\n",
       "      <td>NaN</td>\n",
       "      <td>NaN</td>\n",
       "      <td>N</td>\n",
       "      <td>NaN</td>\n",
       "      <td>NaN</td>\n",
       "      <td>NaN</td>\n",
       "      <td>NaN</td>\n",
       "      <td>NaN</td>\n",
       "      <td>NaN</td>\n",
       "    </tr>\n",
       "    <tr>\n",
       "      <th>3</th>\n",
       "      <td>1076863</td>\n",
       "      <td>NaN</td>\n",
       "      <td>10000.0</td>\n",
       "      <td>10000.0</td>\n",
       "      <td>10000.0</td>\n",
       "      <td>36 months</td>\n",
       "      <td>13.49%</td>\n",
       "      <td>339.31</td>\n",
       "      <td>C</td>\n",
       "      <td>C1</td>\n",
       "      <td>...</td>\n",
       "      <td>NaN</td>\n",
       "      <td>NaN</td>\n",
       "      <td>NaN</td>\n",
       "      <td>N</td>\n",
       "      <td>NaN</td>\n",
       "      <td>NaN</td>\n",
       "      <td>NaN</td>\n",
       "      <td>NaN</td>\n",
       "      <td>NaN</td>\n",
       "      <td>NaN</td>\n",
       "    </tr>\n",
       "    <tr>\n",
       "      <th>4</th>\n",
       "      <td>1075358</td>\n",
       "      <td>NaN</td>\n",
       "      <td>3000.0</td>\n",
       "      <td>3000.0</td>\n",
       "      <td>3000.0</td>\n",
       "      <td>60 months</td>\n",
       "      <td>12.69%</td>\n",
       "      <td>67.79</td>\n",
       "      <td>B</td>\n",
       "      <td>B5</td>\n",
       "      <td>...</td>\n",
       "      <td>NaN</td>\n",
       "      <td>NaN</td>\n",
       "      <td>NaN</td>\n",
       "      <td>N</td>\n",
       "      <td>NaN</td>\n",
       "      <td>NaN</td>\n",
       "      <td>NaN</td>\n",
       "      <td>NaN</td>\n",
       "      <td>NaN</td>\n",
       "      <td>NaN</td>\n",
       "    </tr>\n",
       "  </tbody>\n",
       "</table>\n",
       "<p>5 rows × 150 columns</p>\n",
       "</div>"
      ],
      "text/plain": [
       "        id  member_id  loan_amnt  funded_amnt  funded_amnt_inv       term  \\\n",
       "0  1077501        NaN     5000.0       5000.0           4975.0  36 months   \n",
       "1  1077430        NaN     2500.0       2500.0           2500.0  60 months   \n",
       "2  1077175        NaN     2400.0       2400.0           2400.0  36 months   \n",
       "3  1076863        NaN    10000.0      10000.0          10000.0  36 months   \n",
       "4  1075358        NaN     3000.0       3000.0           3000.0  60 months   \n",
       "\n",
       "  int_rate  installment grade sub_grade  ...  \\\n",
       "0   10.65%       162.87     B        B2  ...   \n",
       "1   15.27%        59.83     C        C4  ...   \n",
       "2   15.96%        84.33     C        C5  ...   \n",
       "3   13.49%       339.31     C        C1  ...   \n",
       "4   12.69%        67.79     B        B5  ...   \n",
       "\n",
       "  orig_projected_additional_accrued_interest hardship_payoff_balance_amount  \\\n",
       "0                                        NaN                            NaN   \n",
       "1                                        NaN                            NaN   \n",
       "2                                        NaN                            NaN   \n",
       "3                                        NaN                            NaN   \n",
       "4                                        NaN                            NaN   \n",
       "\n",
       "  hardship_last_payment_amount  debt_settlement_flag  \\\n",
       "0                          NaN                     N   \n",
       "1                          NaN                     N   \n",
       "2                          NaN                     N   \n",
       "3                          NaN                     N   \n",
       "4                          NaN                     N   \n",
       "\n",
       "  debt_settlement_flag_date settlement_status settlement_date  \\\n",
       "0                       NaN               NaN             NaN   \n",
       "1                       NaN               NaN             NaN   \n",
       "2                       NaN               NaN             NaN   \n",
       "3                       NaN               NaN             NaN   \n",
       "4                       NaN               NaN             NaN   \n",
       "\n",
       "  settlement_amount settlement_percentage settlement_term  \n",
       "0               NaN                   NaN             NaN  \n",
       "1               NaN                   NaN             NaN  \n",
       "2               NaN                   NaN             NaN  \n",
       "3               NaN                   NaN             NaN  \n",
       "4               NaN                   NaN             NaN  \n",
       "\n",
       "[5 rows x 150 columns]"
      ]
     },
     "execution_count": 53,
     "metadata": {},
     "output_type": "execute_result"
    }
   ],
   "source": [
    "df.head()"
   ]
  },
  {
   "cell_type": "markdown",
   "metadata": {},
   "source": [
    "# Data Wrangling"
   ]
  },
  {
   "cell_type": "code",
   "execution_count": 54,
   "metadata": {},
   "outputs": [],
   "source": [
    "#rename the column names\n",
    "\n",
    "df = df.rename(columns={\"loan_amnt\": \"loan_amount\", \"funded_amnt\": \"funded_amount\", \"funded_amnt_inv\": \"investor_funds\",\n",
    "                       \"int_rate\": \"interest_rate\", \"annual_inc\": \"annual_income\"})\n"
   ]
  },
  {
   "cell_type": "code",
   "execution_count": 55,
   "metadata": {},
   "outputs": [
    {
     "name": "stdout",
     "output_type": "stream",
     "text": [
      "<class 'str'>\n"
     ]
    }
   ],
   "source": [
    "df.head()\n",
    "print(type(df['interest_rate'][0]))"
   ]
  },
  {
   "cell_type": "code",
   "execution_count": 56,
   "metadata": {},
   "outputs": [
    {
     "name": "stdout",
     "output_type": "stream",
     "text": [
      "0    10.65\n",
      "1    15.27\n",
      "2    15.96\n",
      "3    13.49\n",
      "4    12.69\n",
      "Name: interest_rate, dtype: float64\n"
     ]
    }
   ],
   "source": [
    "#removing percentage sign from the interest_rate\n",
    "df.interest_rate = df.interest_rate.str.replace('%', '').astype('float64')\n",
    "print(df.interest_rate.head())"
   ]
  },
  {
   "cell_type": "code",
   "execution_count": 57,
   "metadata": {},
   "outputs": [
    {
     "data": {
      "text/plain": [
       "0    36 \n",
       "1    60 \n",
       "2    36 \n",
       "3    36 \n",
       "4    60 \n",
       "Name: term, dtype: object"
      ]
     },
     "execution_count": 57,
     "metadata": {},
     "output_type": "execute_result"
    }
   ],
   "source": [
    "#remove months from term colums\n",
    "df.term = df.term.str.replace('months', '')\n",
    "df.term.head()"
   ]
  },
  {
   "cell_type": "code",
   "execution_count": 58,
   "metadata": {},
   "outputs": [
    {
     "data": {
      "text/plain": [
       "False"
      ]
     },
     "execution_count": 58,
     "metadata": {},
     "output_type": "execute_result"
    }
   ],
   "source": [
    "#selecting unique column as index\n",
    "\n",
    "df['id'].is_unique"
   ]
  },
  {
   "cell_type": "code",
   "execution_count": 59,
   "metadata": {},
   "outputs": [],
   "source": [
    "df.set_index('id')\n",
    "df.drop(['member_id'],axis=1,inplace=True)"
   ]
  },
  {
   "cell_type": "code",
   "execution_count": 60,
   "metadata": {},
   "outputs": [
    {
     "data": {
      "text/plain": [
       "inq_fi                            1.0\n",
       "percent_bc_gt_75                  1.0\n",
       "mths_since_recent_bc_dlq          1.0\n",
       "mths_since_recent_inq             1.0\n",
       "mths_since_recent_revol_delinq    1.0\n",
       "num_accts_ever_120_pd             1.0\n",
       "num_actv_bc_tl                    1.0\n",
       "num_actv_rev_tl                   1.0\n",
       "num_bc_sats                       1.0\n",
       "num_bc_tl                         1.0\n",
       "num_il_tl                         1.0\n",
       "num_op_rev_tl                     1.0\n",
       "num_rev_accts                     1.0\n",
       "num_rev_tl_bal_gt_0               1.0\n",
       "num_sats                          1.0\n",
       "num_tl_120dpd_2m                  1.0\n",
       "num_tl_30dpd                      1.0\n",
       "num_tl_90g_dpd_24m                1.0\n",
       "num_tl_op_past_12m                1.0\n",
       "mths_since_recent_bc              1.0\n",
       "dtype: float64"
      ]
     },
     "execution_count": 60,
     "metadata": {},
     "output_type": "execute_result"
    }
   ],
   "source": [
    "missing_fractions = df.isnull().mean().sort_values(ascending=False)\n",
    "missing_fractions.head(20)"
   ]
  },
  {
   "cell_type": "code",
   "execution_count": 61,
   "metadata": {},
   "outputs": [
    {
     "data": {
      "text/plain": [
       "Text(0, 0.5, 'Feature count')"
      ]
     },
     "execution_count": 61,
     "metadata": {},
     "output_type": "execute_result"
    },
    {
     "data": {
      "image/png": "[encoded data removed]",
      "text/plain": [
       "<Figure size 540x270 with 1 Axes>"
      ]
     },
     "metadata": {
      "needs_background": "light"
     },
     "output_type": "display_data"
    }
   ],
   "source": [
    "plt.figure(figsize=(6,3), dpi=90)\n",
    "missing_fractions.plot.hist(bins=20)\n",
    "plt.title('Histogram of Feature Incompleteness')\n",
    "plt.xlabel('Fraction of data missing')\n",
    "plt.ylabel('Feature count')"
   ]
  },
  {
   "cell_type": "markdown",
   "metadata": {},
   "source": [
    "From the above histogram, we see there's a large gap between features missing \"some\" data (<20%) and those missing \"lots\" of data (>40%). Because it's generally very difficult to accurately impute data with more than 30% missing values, we drop such columns. First store all variables missing more than 30% data in an alphabetical list:"
   ]
  },
  {
   "cell_type": "code",
   "execution_count": 62,
   "metadata": {},
   "outputs": [
    {
     "name": "stdout",
     "output_type": "stream",
     "text": [
      "91\n"
     ]
    },
    {
     "data": {
      "text/plain": [
       "(42542, 58)"
      ]
     },
     "execution_count": 62,
     "metadata": {},
     "output_type": "execute_result"
    }
   ],
   "source": [
    "drop_list = sorted(list(missing_fractions[missing_fractions > 0.3].index))\n",
    "print(len(drop_list))\n",
    "df.drop(labels=drop_list, axis=1, inplace=True)\n",
    "df.shape"
   ]
  },
  {
   "cell_type": "markdown",
   "metadata": {},
   "source": [
    "So now we dropped the columns with more than 30% missing values."
   ]
  },
  {
   "cell_type": "code",
   "execution_count": 63,
   "metadata": {},
   "outputs": [
    {
     "name": "stdout",
     "output_type": "stream",
     "text": [
      "Index(['id', 'loan_amount', 'funded_amount', 'investor_funds', 'term',\n",
      "       'interest_rate', 'installment', 'grade', 'sub_grade', 'emp_title',\n",
      "       'emp_length', 'home_ownership', 'annual_income', 'verification_status',\n",
      "       'issue_d', 'loan_status', 'pymnt_plan', 'url', 'purpose', 'title',\n",
      "       'zip_code', 'addr_state', 'dti', 'delinq_2yrs', 'earliest_cr_line',\n",
      "       'fico_range_low', 'fico_range_high', 'inq_last_6mths', 'open_acc',\n",
      "       'pub_rec', 'revol_bal', 'revol_util', 'total_acc',\n",
      "       'initial_list_status', 'out_prncp', 'out_prncp_inv', 'total_pymnt',\n",
      "       'total_pymnt_inv', 'total_rec_prncp', 'total_rec_int',\n",
      "       'total_rec_late_fee', 'recoveries', 'collection_recovery_fee',\n",
      "       'last_pymnt_d', 'last_pymnt_amnt', 'last_credit_pull_d',\n",
      "       'last_fico_range_high', 'last_fico_range_low',\n",
      "       'collections_12_mths_ex_med', 'policy_code', 'application_type',\n",
      "       'acc_now_delinq', 'chargeoff_within_12_mths', 'delinq_amnt',\n",
      "       'pub_rec_bankruptcies', 'tax_liens', 'hardship_flag',\n",
      "       'debt_settlement_flag'],\n",
      "      dtype='object')\n",
      "<class 'pandas.core.frame.DataFrame'>\n",
      "RangeIndex: 42542 entries, 0 to 42541\n",
      "Data columns (total 58 columns):\n",
      "id                            42538 non-null object\n",
      "loan_amount                   42535 non-null float64\n",
      "funded_amount                 42535 non-null float64\n",
      "investor_funds                42535 non-null float64\n",
      "term                          42535 non-null object\n",
      "interest_rate                 42535 non-null float64\n",
      "installment                   42535 non-null float64\n",
      "grade                         42535 non-null object\n",
      "sub_grade                     42535 non-null object\n",
      "emp_title                     39909 non-null object\n",
      "emp_length                    41423 non-null object\n",
      "home_ownership                42535 non-null object\n",
      "annual_income                 42531 non-null float64\n",
      "verification_status           42535 non-null object\n",
      "issue_d                       42535 non-null object\n",
      "loan_status                   42535 non-null object\n",
      "pymnt_plan                    42535 non-null object\n",
      "url                           42535 non-null object\n",
      "purpose                       42535 non-null object\n",
      "title                         42522 non-null object\n",
      "zip_code                      42535 non-null object\n",
      "addr_state                    42535 non-null object\n",
      "dti                           42535 non-null float64\n",
      "delinq_2yrs                   42506 non-null float64\n",
      "earliest_cr_line              42506 non-null object\n",
      "fico_range_low                42535 non-null float64\n",
      "fico_range_high               42535 non-null float64\n",
      "inq_last_6mths                42506 non-null float64\n",
      "open_acc                      42506 non-null float64\n",
      "pub_rec                       42506 non-null float64\n",
      "revol_bal                     42535 non-null float64\n",
      "revol_util                    42445 non-null object\n",
      "total_acc                     42506 non-null float64\n",
      "initial_list_status           42535 non-null object\n",
      "out_prncp                     42535 non-null float64\n",
      "out_prncp_inv                 42535 non-null float64\n",
      "total_pymnt                   42535 non-null float64\n",
      "total_pymnt_inv               42535 non-null float64\n",
      "total_rec_prncp               42535 non-null float64\n",
      "total_rec_int                 42535 non-null float64\n",
      "total_rec_late_fee            42535 non-null float64\n",
      "recoveries                    42535 non-null float64\n",
      "collection_recovery_fee       42535 non-null float64\n",
      "last_pymnt_d                  42452 non-null object\n",
      "last_pymnt_amnt               42535 non-null float64\n",
      "last_credit_pull_d            42531 non-null object\n",
      "last_fico_range_high          42535 non-null float64\n",
      "last_fico_range_low           42535 non-null float64\n",
      "collections_12_mths_ex_med    42390 non-null float64\n",
      "policy_code                   42535 non-null float64\n",
      "application_type              42535 non-null object\n",
      "acc_now_delinq                42506 non-null float64\n",
      "chargeoff_within_12_mths      42390 non-null float64\n",
      "delinq_amnt                   42506 non-null float64\n",
      "pub_rec_bankruptcies          41170 non-null float64\n",
      "tax_liens                     42430 non-null float64\n",
      "hardship_flag                 42535 non-null object\n",
      "debt_settlement_flag          42535 non-null object\n",
      "dtypes: float64(34), object(24)\n",
      "memory usage: 18.8+ MB\n"
     ]
    }
   ],
   "source": [
    "print(df.columns)\n",
    "df.info()"
   ]
  },
  {
   "cell_type": "code",
   "execution_count": 64,
   "metadata": {},
   "outputs": [
    {
     "data": {
      "text/plain": [
       "count       39909\n",
       "unique      30656\n",
       "top       US Army\n",
       "freq          139\n",
       "Name: emp_title, dtype: object"
      ]
     },
     "execution_count": 64,
     "metadata": {},
     "output_type": "execute_result"
    }
   ],
   "source": [
    "df['emp_title'].describe()\n",
    "\n"
   ]
  },
  {
   "cell_type": "markdown",
   "metadata": {},
   "source": [
    "There are too many different job titles for this feature to be useful, so we drop it.\n",
    "\n",
    "\n"
   ]
  },
  {
   "cell_type": "code",
   "execution_count": 65,
   "metadata": {},
   "outputs": [],
   "source": [
    "df.drop(labels='emp_title', axis=1, inplace=True)"
   ]
  },
  {
   "cell_type": "code",
   "execution_count": 66,
   "metadata": {},
   "outputs": [
    {
     "data": {
      "text/plain": [
       "1 year       3595\n",
       "10+ years    9369\n",
       "2 years      4743\n",
       "3 years      4364\n",
       "4 years      3649\n",
       "5 years      3458\n",
       "6 years      2375\n",
       "7 years      1875\n",
       "8 years      1592\n",
       "9 years      1341\n",
       "< 1 year     5062\n",
       "NaN          1119\n",
       "Name: emp_length, dtype: int64"
      ]
     },
     "execution_count": 66,
     "metadata": {},
     "output_type": "execute_result"
    }
   ],
   "source": [
    "df['emp_length'].value_counts(dropna=False).sort_index()"
   ]
  },
  {
   "cell_type": "code",
   "execution_count": 67,
   "metadata": {},
   "outputs": [],
   "source": [
    "df['emp_length'].replace(to_replace='10+ years', value='10 years', inplace=True)\n",
    "df['emp_length'].replace('< 1 year', '0 years', inplace=True)"
   ]
  },
  {
   "cell_type": "code",
   "execution_count": 68,
   "metadata": {},
   "outputs": [
    {
     "data": {
      "text/plain": [
       "0.0     5062\n",
       "1.0     3595\n",
       "2.0     4743\n",
       "3.0     4364\n",
       "4.0     3649\n",
       "5.0     3458\n",
       "6.0     2375\n",
       "7.0     1875\n",
       "8.0     1592\n",
       "9.0     1341\n",
       "10.0    9369\n",
       "NaN     1119\n",
       "Name: emp_length, dtype: int64"
      ]
     },
     "execution_count": 68,
     "metadata": {},
     "output_type": "execute_result"
    }
   ],
   "source": [
    "def emp_length_to_int(s):\n",
    "    if pd.isnull(s):\n",
    "        return s\n",
    "    else:\n",
    "        return np.int8(s.split()[0])\n",
    "df['emp_length'] = df['emp_length'].apply(emp_length_to_int)\n",
    "df['emp_length'].value_counts(dropna=False).sort_index()"
   ]
  },
  {
   "cell_type": "markdown",
   "metadata": {},
   "source": [
    "Annual income ranges from \\$0 to \\$9,550,000, with a median of \\$65,000. Because of the large range of incomes, we should take a log transform of the annual income variable.\n"
   ]
  },
  {
   "cell_type": "code",
   "execution_count": 69,
   "metadata": {},
   "outputs": [
    {
     "data": {
      "text/plain": [
       "count    42531.000000\n",
       "mean         4.764398\n",
       "std          0.246615\n",
       "min          3.278067\n",
       "25%          4.602071\n",
       "50%          4.770859\n",
       "75%          4.916459\n",
       "max          6.778151\n",
       "Name: log_annual_inc, dtype: float64"
      ]
     },
     "execution_count": 69,
     "metadata": {},
     "output_type": "execute_result"
    }
   ],
   "source": [
    "\n",
    "df['log_annual_inc'] = df['annual_income'].apply(lambda x: np.log10(x+1))\n",
    "df['log_annual_inc'].describe()"
   ]
  },
  {
   "cell_type": "code",
   "execution_count": null,
   "metadata": {},
   "outputs": [],
   "source": []
  },
  {
   "cell_type": "code",
   "execution_count": 70,
   "metadata": {},
   "outputs": [
    {
     "data": {
      "text/html": [
       "<div>\n",
       "<style scoped>\n",
       "    .dataframe tbody tr th:only-of-type {\n",
       "        vertical-align: middle;\n",
       "    }\n",
       "\n",
       "    .dataframe tbody tr th {\n",
       "        vertical-align: top;\n",
       "    }\n",
       "\n",
       "    .dataframe thead th {\n",
       "        text-align: right;\n",
       "    }\n",
       "</style>\n",
       "<table border=\"1\" class=\"dataframe\">\n",
       "  <thead>\n",
       "    <tr style=\"text-align: right;\">\n",
       "      <th></th>\n",
       "      <th>loan_amount</th>\n",
       "      <th>funded_amount</th>\n",
       "      <th>investor_funds</th>\n",
       "      <th>interest_rate</th>\n",
       "      <th>installment</th>\n",
       "      <th>emp_length</th>\n",
       "      <th>annual_income</th>\n",
       "      <th>dti</th>\n",
       "      <th>delinq_2yrs</th>\n",
       "      <th>fico_range_low</th>\n",
       "      <th>...</th>\n",
       "      <th>last_fico_range_high</th>\n",
       "      <th>last_fico_range_low</th>\n",
       "      <th>collections_12_mths_ex_med</th>\n",
       "      <th>policy_code</th>\n",
       "      <th>acc_now_delinq</th>\n",
       "      <th>chargeoff_within_12_mths</th>\n",
       "      <th>delinq_amnt</th>\n",
       "      <th>pub_rec_bankruptcies</th>\n",
       "      <th>tax_liens</th>\n",
       "      <th>log_annual_inc</th>\n",
       "    </tr>\n",
       "  </thead>\n",
       "  <tbody>\n",
       "    <tr>\n",
       "      <th>loan_amount</th>\n",
       "      <td>1.000000</td>\n",
       "      <td>0.981746</td>\n",
       "      <td>0.929600</td>\n",
       "      <td>0.292346</td>\n",
       "      <td>0.930869</td>\n",
       "      <td>0.158339</td>\n",
       "      <td>0.276122</td>\n",
       "      <td>0.065112</td>\n",
       "      <td>-0.032767</td>\n",
       "      <td>0.133232</td>\n",
       "      <td>...</td>\n",
       "      <td>0.080470</td>\n",
       "      <td>0.073939</td>\n",
       "      <td>NaN</td>\n",
       "      <td>NaN</td>\n",
       "      <td>-0.005777</td>\n",
       "      <td>NaN</td>\n",
       "      <td>-0.003974</td>\n",
       "      <td>-0.037557</td>\n",
       "      <td>-0.005963</td>\n",
       "      <td>0.443773</td>\n",
       "    </tr>\n",
       "    <tr>\n",
       "      <th>funded_amount</th>\n",
       "      <td>0.981746</td>\n",
       "      <td>1.000000</td>\n",
       "      <td>0.947527</td>\n",
       "      <td>0.295154</td>\n",
       "      <td>0.956522</td>\n",
       "      <td>0.157903</td>\n",
       "      <td>0.272067</td>\n",
       "      <td>0.064821</td>\n",
       "      <td>-0.033421</td>\n",
       "      <td>0.125637</td>\n",
       "      <td>...</td>\n",
       "      <td>0.080178</td>\n",
       "      <td>0.073785</td>\n",
       "      <td>NaN</td>\n",
       "      <td>NaN</td>\n",
       "      <td>-0.005627</td>\n",
       "      <td>NaN</td>\n",
       "      <td>-0.003938</td>\n",
       "      <td>-0.038855</td>\n",
       "      <td>-0.006001</td>\n",
       "      <td>0.439721</td>\n",
       "    </tr>\n",
       "    <tr>\n",
       "      <th>investor_funds</th>\n",
       "      <td>0.929600</td>\n",
       "      <td>0.947527</td>\n",
       "      <td>1.000000</td>\n",
       "      <td>0.279995</td>\n",
       "      <td>0.890151</td>\n",
       "      <td>0.173111</td>\n",
       "      <td>0.252329</td>\n",
       "      <td>0.071073</td>\n",
       "      <td>-0.043868</td>\n",
       "      <td>0.144942</td>\n",
       "      <td>...</td>\n",
       "      <td>0.091407</td>\n",
       "      <td>0.086590</td>\n",
       "      <td>NaN</td>\n",
       "      <td>NaN</td>\n",
       "      <td>-0.012590</td>\n",
       "      <td>NaN</td>\n",
       "      <td>-0.006201</td>\n",
       "      <td>-0.046124</td>\n",
       "      <td>-0.006242</td>\n",
       "      <td>0.413387</td>\n",
       "    </tr>\n",
       "    <tr>\n",
       "      <th>interest_rate</th>\n",
       "      <td>0.292346</td>\n",
       "      <td>0.295154</td>\n",
       "      <td>0.279995</td>\n",
       "      <td>1.000000</td>\n",
       "      <td>0.271433</td>\n",
       "      <td>0.000062</td>\n",
       "      <td>0.054365</td>\n",
       "      <td>0.119607</td>\n",
       "      <td>0.154699</td>\n",
       "      <td>-0.702587</td>\n",
       "      <td>...</td>\n",
       "      <td>-0.303422</td>\n",
       "      <td>-0.238442</td>\n",
       "      <td>NaN</td>\n",
       "      <td>NaN</td>\n",
       "      <td>0.003324</td>\n",
       "      <td>NaN</td>\n",
       "      <td>0.002522</td>\n",
       "      <td>0.085286</td>\n",
       "      <td>0.001651</td>\n",
       "      <td>0.075772</td>\n",
       "    </tr>\n",
       "    <tr>\n",
       "      <th>installment</th>\n",
       "      <td>0.930869</td>\n",
       "      <td>0.956522</td>\n",
       "      <td>0.890151</td>\n",
       "      <td>0.271433</td>\n",
       "      <td>1.000000</td>\n",
       "      <td>0.128330</td>\n",
       "      <td>0.278339</td>\n",
       "      <td>0.054948</td>\n",
       "      <td>-0.020096</td>\n",
       "      <td>0.064362</td>\n",
       "      <td>...</td>\n",
       "      <td>0.075406</td>\n",
       "      <td>0.069030</td>\n",
       "      <td>NaN</td>\n",
       "      <td>NaN</td>\n",
       "      <td>-0.004109</td>\n",
       "      <td>NaN</td>\n",
       "      <td>-0.003495</td>\n",
       "      <td>-0.033746</td>\n",
       "      <td>-0.005929</td>\n",
       "      <td>0.442504</td>\n",
       "    </tr>\n",
       "    <tr>\n",
       "      <th>emp_length</th>\n",
       "      <td>0.158339</td>\n",
       "      <td>0.157903</td>\n",
       "      <td>0.173111</td>\n",
       "      <td>0.000062</td>\n",
       "      <td>0.128330</td>\n",
       "      <td>1.000000</td>\n",
       "      <td>0.115990</td>\n",
       "      <td>0.058428</td>\n",
       "      <td>0.012322</td>\n",
       "      <td>0.089997</td>\n",
       "      <td>...</td>\n",
       "      <td>0.020976</td>\n",
       "      <td>0.024964</td>\n",
       "      <td>NaN</td>\n",
       "      <td>NaN</td>\n",
       "      <td>-0.000483</td>\n",
       "      <td>NaN</td>\n",
       "      <td>-0.004048</td>\n",
       "      <td>0.060733</td>\n",
       "      <td>0.002856</td>\n",
       "      <td>0.213810</td>\n",
       "    </tr>\n",
       "    <tr>\n",
       "      <th>annual_income</th>\n",
       "      <td>0.276122</td>\n",
       "      <td>0.272067</td>\n",
       "      <td>0.252329</td>\n",
       "      <td>0.054365</td>\n",
       "      <td>0.278339</td>\n",
       "      <td>0.115990</td>\n",
       "      <td>1.000000</td>\n",
       "      <td>-0.116559</td>\n",
       "      <td>0.022161</td>\n",
       "      <td>0.052027</td>\n",
       "      <td>...</td>\n",
       "      <td>0.064124</td>\n",
       "      <td>0.058180</td>\n",
       "      <td>NaN</td>\n",
       "      <td>NaN</td>\n",
       "      <td>-0.000926</td>\n",
       "      <td>NaN</td>\n",
       "      <td>-0.001809</td>\n",
       "      <td>-0.015437</td>\n",
       "      <td>-0.001828</td>\n",
       "      <td>0.708420</td>\n",
       "    </tr>\n",
       "    <tr>\n",
       "      <th>dti</th>\n",
       "      <td>0.065112</td>\n",
       "      <td>0.064821</td>\n",
       "      <td>0.071073</td>\n",
       "      <td>0.119607</td>\n",
       "      <td>0.054948</td>\n",
       "      <td>0.058428</td>\n",
       "      <td>-0.116559</td>\n",
       "      <td>1.000000</td>\n",
       "      <td>-0.036577</td>\n",
       "      <td>-0.191153</td>\n",
       "      <td>...</td>\n",
       "      <td>-0.048400</td>\n",
       "      <td>-0.022551</td>\n",
       "      <td>NaN</td>\n",
       "      <td>NaN</td>\n",
       "      <td>-0.013132</td>\n",
       "      <td>NaN</td>\n",
       "      <td>-0.009262</td>\n",
       "      <td>0.008671</td>\n",
       "      <td>-0.003346</td>\n",
       "      <td>-0.088996</td>\n",
       "    </tr>\n",
       "    <tr>\n",
       "      <th>delinq_2yrs</th>\n",
       "      <td>-0.032767</td>\n",
       "      <td>-0.033421</td>\n",
       "      <td>-0.043868</td>\n",
       "      <td>0.154699</td>\n",
       "      <td>-0.020096</td>\n",
       "      <td>0.012322</td>\n",
       "      <td>0.022161</td>\n",
       "      <td>-0.036577</td>\n",
       "      <td>1.000000</td>\n",
       "      <td>-0.218583</td>\n",
       "      <td>...</td>\n",
       "      <td>-0.074326</td>\n",
       "      <td>-0.049844</td>\n",
       "      <td>NaN</td>\n",
       "      <td>NaN</td>\n",
       "      <td>0.072845</td>\n",
       "      <td>NaN</td>\n",
       "      <td>0.121651</td>\n",
       "      <td>0.004708</td>\n",
       "      <td>-0.001452</td>\n",
       "      <td>0.032322</td>\n",
       "    </tr>\n",
       "    <tr>\n",
       "      <th>fico_range_low</th>\n",
       "      <td>0.133232</td>\n",
       "      <td>0.125637</td>\n",
       "      <td>0.144942</td>\n",
       "      <td>-0.702587</td>\n",
       "      <td>0.064362</td>\n",
       "      <td>0.089997</td>\n",
       "      <td>0.052027</td>\n",
       "      <td>-0.191153</td>\n",
       "      <td>-0.218583</td>\n",
       "      <td>1.000000</td>\n",
       "      <td>...</td>\n",
       "      <td>0.353463</td>\n",
       "      <td>0.276505</td>\n",
       "      <td>NaN</td>\n",
       "      <td>NaN</td>\n",
       "      <td>-0.013217</td>\n",
       "      <td>NaN</td>\n",
       "      <td>-0.009830</td>\n",
       "      <td>-0.131334</td>\n",
       "      <td>-0.009143</td>\n",
       "      <td>0.083294</td>\n",
       "    </tr>\n",
       "    <tr>\n",
       "      <th>fico_range_high</th>\n",
       "      <td>0.133232</td>\n",
       "      <td>0.125637</td>\n",
       "      <td>0.144942</td>\n",
       "      <td>-0.702587</td>\n",
       "      <td>0.064362</td>\n",
       "      <td>0.089997</td>\n",
       "      <td>0.052027</td>\n",
       "      <td>-0.191153</td>\n",
       "      <td>-0.218583</td>\n",
       "      <td>1.000000</td>\n",
       "      <td>...</td>\n",
       "      <td>0.353463</td>\n",
       "      <td>0.276505</td>\n",
       "      <td>NaN</td>\n",
       "      <td>NaN</td>\n",
       "      <td>-0.013217</td>\n",
       "      <td>NaN</td>\n",
       "      <td>-0.009830</td>\n",
       "      <td>-0.131334</td>\n",
       "      <td>-0.009143</td>\n",
       "      <td>0.083294</td>\n",
       "    </tr>\n",
       "    <tr>\n",
       "      <th>inq_last_6mths</th>\n",
       "      <td>-0.030314</td>\n",
       "      <td>-0.030048</td>\n",
       "      <td>-0.074913</td>\n",
       "      <td>0.179444</td>\n",
       "      <td>-0.010882</td>\n",
       "      <td>-0.020521</td>\n",
       "      <td>0.027764</td>\n",
       "      <td>0.014241</td>\n",
       "      <td>0.020872</td>\n",
       "      <td>-0.136062</td>\n",
       "      <td>...</td>\n",
       "      <td>-0.115536</td>\n",
       "      <td>-0.096144</td>\n",
       "      <td>NaN</td>\n",
       "      <td>NaN</td>\n",
       "      <td>0.002658</td>\n",
       "      <td>NaN</td>\n",
       "      <td>0.015604</td>\n",
       "      <td>0.047311</td>\n",
       "      <td>0.022088</td>\n",
       "      <td>0.026365</td>\n",
       "    </tr>\n",
       "    <tr>\n",
       "      <th>open_acc</th>\n",
       "      <td>0.176525</td>\n",
       "      <td>0.174705</td>\n",
       "      <td>0.156361</td>\n",
       "      <td>0.024635</td>\n",
       "      <td>0.175349</td>\n",
       "      <td>0.099414</td>\n",
       "      <td>0.168129</td>\n",
       "      <td>0.297951</td>\n",
       "      <td>0.014247</td>\n",
       "      <td>-0.025670</td>\n",
       "      <td>...</td>\n",
       "      <td>0.066404</td>\n",
       "      <td>0.068596</td>\n",
       "      <td>NaN</td>\n",
       "      <td>NaN</td>\n",
       "      <td>-0.004518</td>\n",
       "      <td>NaN</td>\n",
       "      <td>-0.002497</td>\n",
       "      <td>0.009678</td>\n",
       "      <td>-0.002533</td>\n",
       "      <td>0.293768</td>\n",
       "    </tr>\n",
       "    <tr>\n",
       "      <th>pub_rec</th>\n",
       "      <td>-0.051636</td>\n",
       "      <td>-0.052625</td>\n",
       "      <td>-0.055742</td>\n",
       "      <td>0.100363</td>\n",
       "      <td>-0.045850</td>\n",
       "      <td>0.060333</td>\n",
       "      <td>-0.016348</td>\n",
       "      <td>-0.002854</td>\n",
       "      <td>0.010305</td>\n",
       "      <td>-0.152486</td>\n",
       "      <td>...</td>\n",
       "      <td>-0.087947</td>\n",
       "      <td>-0.075748</td>\n",
       "      <td>NaN</td>\n",
       "      <td>NaN</td>\n",
       "      <td>-0.002296</td>\n",
       "      <td>NaN</td>\n",
       "      <td>-0.001153</td>\n",
       "      <td>0.841454</td>\n",
       "      <td>0.018610</td>\n",
       "      <td>-0.012055</td>\n",
       "    </tr>\n",
       "    <tr>\n",
       "      <th>revol_bal</th>\n",
       "      <td>0.254293</td>\n",
       "      <td>0.250313</td>\n",
       "      <td>0.212346</td>\n",
       "      <td>0.081883</td>\n",
       "      <td>0.264837</td>\n",
       "      <td>0.125292</td>\n",
       "      <td>0.283593</td>\n",
       "      <td>0.190727</td>\n",
       "      <td>-0.043068</td>\n",
       "      <td>-0.022011</td>\n",
       "      <td>...</td>\n",
       "      <td>0.020191</td>\n",
       "      <td>0.022509</td>\n",
       "      <td>NaN</td>\n",
       "      <td>NaN</td>\n",
       "      <td>-0.006116</td>\n",
       "      <td>NaN</td>\n",
       "      <td>-0.003137</td>\n",
       "      <td>-0.039378</td>\n",
       "      <td>-0.002801</td>\n",
       "      <td>0.367032</td>\n",
       "    </tr>\n",
       "    <tr>\n",
       "      <th>total_acc</th>\n",
       "      <td>0.256931</td>\n",
       "      <td>0.251134</td>\n",
       "      <td>0.240858</td>\n",
       "      <td>-0.031641</td>\n",
       "      <td>0.233905</td>\n",
       "      <td>0.210390</td>\n",
       "      <td>0.246163</td>\n",
       "      <td>0.241306</td>\n",
       "      <td>0.068529</td>\n",
       "      <td>0.110684</td>\n",
       "      <td>...</td>\n",
       "      <td>0.113852</td>\n",
       "      <td>0.114016</td>\n",
       "      <td>NaN</td>\n",
       "      <td>NaN</td>\n",
       "      <td>-0.006590</td>\n",
       "      <td>NaN</td>\n",
       "      <td>-0.000474</td>\n",
       "      <td>-0.003934</td>\n",
       "      <td>-0.006341</td>\n",
       "      <td>0.415614</td>\n",
       "    </tr>\n",
       "    <tr>\n",
       "      <th>out_prncp</th>\n",
       "      <td>NaN</td>\n",
       "      <td>NaN</td>\n",
       "      <td>NaN</td>\n",
       "      <td>NaN</td>\n",
       "      <td>NaN</td>\n",
       "      <td>NaN</td>\n",
       "      <td>NaN</td>\n",
       "      <td>NaN</td>\n",
       "      <td>NaN</td>\n",
       "      <td>NaN</td>\n",
       "      <td>...</td>\n",
       "      <td>NaN</td>\n",
       "      <td>NaN</td>\n",
       "      <td>NaN</td>\n",
       "      <td>NaN</td>\n",
       "      <td>NaN</td>\n",
       "      <td>NaN</td>\n",
       "      <td>NaN</td>\n",
       "      <td>NaN</td>\n",
       "      <td>NaN</td>\n",
       "      <td>NaN</td>\n",
       "    </tr>\n",
       "    <tr>\n",
       "      <th>out_prncp_inv</th>\n",
       "      <td>NaN</td>\n",
       "      <td>NaN</td>\n",
       "      <td>NaN</td>\n",
       "      <td>NaN</td>\n",
       "      <td>NaN</td>\n",
       "      <td>NaN</td>\n",
       "      <td>NaN</td>\n",
       "      <td>NaN</td>\n",
       "      <td>NaN</td>\n",
       "      <td>NaN</td>\n",
       "      <td>...</td>\n",
       "      <td>NaN</td>\n",
       "      <td>NaN</td>\n",
       "      <td>NaN</td>\n",
       "      <td>NaN</td>\n",
       "      <td>NaN</td>\n",
       "      <td>NaN</td>\n",
       "      <td>NaN</td>\n",
       "      <td>NaN</td>\n",
       "      <td>NaN</td>\n",
       "      <td>NaN</td>\n",
       "    </tr>\n",
       "    <tr>\n",
       "      <th>total_pymnt</th>\n",
       "      <td>0.882860</td>\n",
       "      <td>0.899003</td>\n",
       "      <td>0.873412</td>\n",
       "      <td>0.291541</td>\n",
       "      <td>0.848612</td>\n",
       "      <td>0.143291</td>\n",
       "      <td>0.258207</td>\n",
       "      <td>0.063897</td>\n",
       "      <td>-0.023712</td>\n",
       "      <td>0.096758</td>\n",
       "      <td>...</td>\n",
       "      <td>0.166556</td>\n",
       "      <td>0.154821</td>\n",
       "      <td>NaN</td>\n",
       "      <td>NaN</td>\n",
       "      <td>-0.003842</td>\n",
       "      <td>NaN</td>\n",
       "      <td>-0.003107</td>\n",
       "      <td>-0.045368</td>\n",
       "      <td>-0.005120</td>\n",
       "      <td>0.413025</td>\n",
       "    </tr>\n",
       "    <tr>\n",
       "      <th>total_pymnt_inv</th>\n",
       "      <td>0.844208</td>\n",
       "      <td>0.860099</td>\n",
       "      <td>0.913026</td>\n",
       "      <td>0.280188</td>\n",
       "      <td>0.799658</td>\n",
       "      <td>0.157097</td>\n",
       "      <td>0.243246</td>\n",
       "      <td>0.068952</td>\n",
       "      <td>-0.033623</td>\n",
       "      <td>0.111696</td>\n",
       "      <td>...</td>\n",
       "      <td>0.168728</td>\n",
       "      <td>0.157789</td>\n",
       "      <td>NaN</td>\n",
       "      <td>NaN</td>\n",
       "      <td>-0.010977</td>\n",
       "      <td>NaN</td>\n",
       "      <td>-0.005390</td>\n",
       "      <td>-0.050332</td>\n",
       "      <td>-0.005436</td>\n",
       "      <td>0.392960</td>\n",
       "    </tr>\n",
       "    <tr>\n",
       "      <th>total_rec_prncp</th>\n",
       "      <td>0.850882</td>\n",
       "      <td>0.868776</td>\n",
       "      <td>0.841547</td>\n",
       "      <td>0.173956</td>\n",
       "      <td>0.843359</td>\n",
       "      <td>0.134213</td>\n",
       "      <td>0.259516</td>\n",
       "      <td>0.041432</td>\n",
       "      <td>-0.038992</td>\n",
       "      <td>0.165914</td>\n",
       "      <td>...</td>\n",
       "      <td>0.229875</td>\n",
       "      <td>0.205769</td>\n",
       "      <td>NaN</td>\n",
       "      <td>NaN</td>\n",
       "      <td>-0.004094</td>\n",
       "      <td>NaN</td>\n",
       "      <td>-0.003174</td>\n",
       "      <td>-0.055960</td>\n",
       "      <td>-0.005251</td>\n",
       "      <td>0.415875</td>\n",
       "    </tr>\n",
       "    <tr>\n",
       "      <th>total_rec_int</th>\n",
       "      <td>0.729111</td>\n",
       "      <td>0.736391</td>\n",
       "      <td>0.726552</td>\n",
       "      <td>0.512403</td>\n",
       "      <td>0.633615</td>\n",
       "      <td>0.127858</td>\n",
       "      <td>0.187831</td>\n",
       "      <td>0.104547</td>\n",
       "      <td>0.020130</td>\n",
       "      <td>-0.103917</td>\n",
       "      <td>...</td>\n",
       "      <td>-0.008013</td>\n",
       "      <td>0.011555</td>\n",
       "      <td>NaN</td>\n",
       "      <td>NaN</td>\n",
       "      <td>-0.001871</td>\n",
       "      <td>NaN</td>\n",
       "      <td>-0.002007</td>\n",
       "      <td>-0.005105</td>\n",
       "      <td>-0.003383</td>\n",
       "      <td>0.298720</td>\n",
       "    </tr>\n",
       "    <tr>\n",
       "      <th>total_rec_late_fee</th>\n",
       "      <td>0.043398</td>\n",
       "      <td>0.045791</td>\n",
       "      <td>0.020079</td>\n",
       "      <td>0.098134</td>\n",
       "      <td>0.057244</td>\n",
       "      <td>-0.020670</td>\n",
       "      <td>0.009743</td>\n",
       "      <td>-0.010959</td>\n",
       "      <td>0.034574</td>\n",
       "      <td>-0.073169</td>\n",
       "      <td>...</td>\n",
       "      <td>-0.147308</td>\n",
       "      <td>-0.124937</td>\n",
       "      <td>NaN</td>\n",
       "      <td>NaN</td>\n",
       "      <td>-0.001880</td>\n",
       "      <td>NaN</td>\n",
       "      <td>-0.000944</td>\n",
       "      <td>-0.006021</td>\n",
       "      <td>-0.000940</td>\n",
       "      <td>0.006001</td>\n",
       "    </tr>\n",
       "    <tr>\n",
       "      <th>recoveries</th>\n",
       "      <td>0.133240</td>\n",
       "      <td>0.134357</td>\n",
       "      <td>0.115882</td>\n",
       "      <td>0.122173</td>\n",
       "      <td>0.117954</td>\n",
       "      <td>0.025451</td>\n",
       "      <td>0.025330</td>\n",
       "      <td>0.022465</td>\n",
       "      <td>0.012331</td>\n",
       "      <td>-0.040317</td>\n",
       "      <td>...</td>\n",
       "      <td>-0.131206</td>\n",
       "      <td>-0.112479</td>\n",
       "      <td>NaN</td>\n",
       "      <td>NaN</td>\n",
       "      <td>-0.001358</td>\n",
       "      <td>NaN</td>\n",
       "      <td>-0.000682</td>\n",
       "      <td>-0.003043</td>\n",
       "      <td>-0.000680</td>\n",
       "      <td>0.039410</td>\n",
       "    </tr>\n",
       "    <tr>\n",
       "      <th>collection_recovery_fee</th>\n",
       "      <td>0.073193</td>\n",
       "      <td>0.075330</td>\n",
       "      <td>0.056041</td>\n",
       "      <td>0.072530</td>\n",
       "      <td>0.076430</td>\n",
       "      <td>0.006858</td>\n",
       "      <td>0.017232</td>\n",
       "      <td>0.008505</td>\n",
       "      <td>0.013803</td>\n",
       "      <td>-0.028597</td>\n",
       "      <td>...</td>\n",
       "      <td>-0.060927</td>\n",
       "      <td>-0.051538</td>\n",
       "      <td>NaN</td>\n",
       "      <td>NaN</td>\n",
       "      <td>-0.000861</td>\n",
       "      <td>NaN</td>\n",
       "      <td>-0.000432</td>\n",
       "      <td>-0.003135</td>\n",
       "      <td>-0.000431</td>\n",
       "      <td>0.022611</td>\n",
       "    </tr>\n",
       "    <tr>\n",
       "      <th>last_pymnt_amnt</th>\n",
       "      <td>0.447702</td>\n",
       "      <td>0.452262</td>\n",
       "      <td>0.441508</td>\n",
       "      <td>0.145607</td>\n",
       "      <td>0.400162</td>\n",
       "      <td>0.078998</td>\n",
       "      <td>0.139387</td>\n",
       "      <td>0.003743</td>\n",
       "      <td>-0.013937</td>\n",
       "      <td>0.088732</td>\n",
       "      <td>...</td>\n",
       "      <td>0.148067</td>\n",
       "      <td>0.130137</td>\n",
       "      <td>NaN</td>\n",
       "      <td>NaN</td>\n",
       "      <td>-0.005276</td>\n",
       "      <td>NaN</td>\n",
       "      <td>-0.002897</td>\n",
       "      <td>-0.023337</td>\n",
       "      <td>-0.002819</td>\n",
       "      <td>0.224443</td>\n",
       "    </tr>\n",
       "    <tr>\n",
       "      <th>last_fico_range_high</th>\n",
       "      <td>0.080470</td>\n",
       "      <td>0.080178</td>\n",
       "      <td>0.091407</td>\n",
       "      <td>-0.303422</td>\n",
       "      <td>0.075406</td>\n",
       "      <td>0.020976</td>\n",
       "      <td>0.064124</td>\n",
       "      <td>-0.048400</td>\n",
       "      <td>-0.074326</td>\n",
       "      <td>0.353463</td>\n",
       "      <td>...</td>\n",
       "      <td>1.000000</td>\n",
       "      <td>0.851696</td>\n",
       "      <td>NaN</td>\n",
       "      <td>NaN</td>\n",
       "      <td>-0.011612</td>\n",
       "      <td>NaN</td>\n",
       "      <td>-0.006450</td>\n",
       "      <td>-0.073628</td>\n",
       "      <td>-0.002830</td>\n",
       "      <td>0.123545</td>\n",
       "    </tr>\n",
       "    <tr>\n",
       "      <th>last_fico_range_low</th>\n",
       "      <td>0.073939</td>\n",
       "      <td>0.073785</td>\n",
       "      <td>0.086590</td>\n",
       "      <td>-0.238442</td>\n",
       "      <td>0.069030</td>\n",
       "      <td>0.024964</td>\n",
       "      <td>0.058180</td>\n",
       "      <td>-0.022551</td>\n",
       "      <td>-0.049844</td>\n",
       "      <td>0.276505</td>\n",
       "      <td>...</td>\n",
       "      <td>0.851696</td>\n",
       "      <td>1.000000</td>\n",
       "      <td>NaN</td>\n",
       "      <td>NaN</td>\n",
       "      <td>-0.007026</td>\n",
       "      <td>NaN</td>\n",
       "      <td>-0.003943</td>\n",
       "      <td>-0.068476</td>\n",
       "      <td>-0.001522</td>\n",
       "      <td>0.111626</td>\n",
       "    </tr>\n",
       "    <tr>\n",
       "      <th>collections_12_mths_ex_med</th>\n",
       "      <td>NaN</td>\n",
       "      <td>NaN</td>\n",
       "      <td>NaN</td>\n",
       "      <td>NaN</td>\n",
       "      <td>NaN</td>\n",
       "      <td>NaN</td>\n",
       "      <td>NaN</td>\n",
       "      <td>NaN</td>\n",
       "      <td>NaN</td>\n",
       "      <td>NaN</td>\n",
       "      <td>...</td>\n",
       "      <td>NaN</td>\n",
       "      <td>NaN</td>\n",
       "      <td>NaN</td>\n",
       "      <td>NaN</td>\n",
       "      <td>NaN</td>\n",
       "      <td>NaN</td>\n",
       "      <td>NaN</td>\n",
       "      <td>NaN</td>\n",
       "      <td>NaN</td>\n",
       "      <td>NaN</td>\n",
       "    </tr>\n",
       "    <tr>\n",
       "      <th>policy_code</th>\n",
       "      <td>NaN</td>\n",
       "      <td>NaN</td>\n",
       "      <td>NaN</td>\n",
       "      <td>NaN</td>\n",
       "      <td>NaN</td>\n",
       "      <td>NaN</td>\n",
       "      <td>NaN</td>\n",
       "      <td>NaN</td>\n",
       "      <td>NaN</td>\n",
       "      <td>NaN</td>\n",
       "      <td>...</td>\n",
       "      <td>NaN</td>\n",
       "      <td>NaN</td>\n",
       "      <td>NaN</td>\n",
       "      <td>NaN</td>\n",
       "      <td>NaN</td>\n",
       "      <td>NaN</td>\n",
       "      <td>NaN</td>\n",
       "      <td>NaN</td>\n",
       "      <td>NaN</td>\n",
       "      <td>NaN</td>\n",
       "    </tr>\n",
       "    <tr>\n",
       "      <th>acc_now_delinq</th>\n",
       "      <td>-0.005777</td>\n",
       "      <td>-0.005627</td>\n",
       "      <td>-0.012590</td>\n",
       "      <td>0.003324</td>\n",
       "      <td>-0.004109</td>\n",
       "      <td>-0.000483</td>\n",
       "      <td>-0.000926</td>\n",
       "      <td>-0.013132</td>\n",
       "      <td>0.072845</td>\n",
       "      <td>-0.013217</td>\n",
       "      <td>...</td>\n",
       "      <td>-0.011612</td>\n",
       "      <td>-0.007026</td>\n",
       "      <td>NaN</td>\n",
       "      <td>NaN</td>\n",
       "      <td>1.000000</td>\n",
       "      <td>NaN</td>\n",
       "      <td>0.502208</td>\n",
       "      <td>NaN</td>\n",
       "      <td>-0.000041</td>\n",
       "      <td>-0.005641</td>\n",
       "    </tr>\n",
       "    <tr>\n",
       "      <th>chargeoff_within_12_mths</th>\n",
       "      <td>NaN</td>\n",
       "      <td>NaN</td>\n",
       "      <td>NaN</td>\n",
       "      <td>NaN</td>\n",
       "      <td>NaN</td>\n",
       "      <td>NaN</td>\n",
       "      <td>NaN</td>\n",
       "      <td>NaN</td>\n",
       "      <td>NaN</td>\n",
       "      <td>NaN</td>\n",
       "      <td>...</td>\n",
       "      <td>NaN</td>\n",
       "      <td>NaN</td>\n",
       "      <td>NaN</td>\n",
       "      <td>NaN</td>\n",
       "      <td>NaN</td>\n",
       "      <td>NaN</td>\n",
       "      <td>NaN</td>\n",
       "      <td>NaN</td>\n",
       "      <td>NaN</td>\n",
       "      <td>NaN</td>\n",
       "    </tr>\n",
       "    <tr>\n",
       "      <th>delinq_amnt</th>\n",
       "      <td>-0.003974</td>\n",
       "      <td>-0.003938</td>\n",
       "      <td>-0.006201</td>\n",
       "      <td>0.002522</td>\n",
       "      <td>-0.003495</td>\n",
       "      <td>-0.004048</td>\n",
       "      <td>-0.001809</td>\n",
       "      <td>-0.009262</td>\n",
       "      <td>0.121651</td>\n",
       "      <td>-0.009830</td>\n",
       "      <td>...</td>\n",
       "      <td>-0.006450</td>\n",
       "      <td>-0.003943</td>\n",
       "      <td>NaN</td>\n",
       "      <td>NaN</td>\n",
       "      <td>0.502208</td>\n",
       "      <td>NaN</td>\n",
       "      <td>1.000000</td>\n",
       "      <td>NaN</td>\n",
       "      <td>-0.000024</td>\n",
       "      <td>-0.002161</td>\n",
       "    </tr>\n",
       "    <tr>\n",
       "      <th>pub_rec_bankruptcies</th>\n",
       "      <td>-0.037557</td>\n",
       "      <td>-0.038855</td>\n",
       "      <td>-0.046124</td>\n",
       "      <td>0.085286</td>\n",
       "      <td>-0.033746</td>\n",
       "      <td>0.060733</td>\n",
       "      <td>-0.015437</td>\n",
       "      <td>0.008671</td>\n",
       "      <td>0.004708</td>\n",
       "      <td>-0.131334</td>\n",
       "      <td>...</td>\n",
       "      <td>-0.073628</td>\n",
       "      <td>-0.068476</td>\n",
       "      <td>NaN</td>\n",
       "      <td>NaN</td>\n",
       "      <td>NaN</td>\n",
       "      <td>NaN</td>\n",
       "      <td>NaN</td>\n",
       "      <td>1.000000</td>\n",
       "      <td>NaN</td>\n",
       "      <td>-0.012400</td>\n",
       "    </tr>\n",
       "    <tr>\n",
       "      <th>tax_liens</th>\n",
       "      <td>-0.005963</td>\n",
       "      <td>-0.006001</td>\n",
       "      <td>-0.006242</td>\n",
       "      <td>0.001651</td>\n",
       "      <td>-0.005929</td>\n",
       "      <td>0.002856</td>\n",
       "      <td>-0.001828</td>\n",
       "      <td>-0.003346</td>\n",
       "      <td>-0.001452</td>\n",
       "      <td>-0.009143</td>\n",
       "      <td>...</td>\n",
       "      <td>-0.002830</td>\n",
       "      <td>-0.001522</td>\n",
       "      <td>NaN</td>\n",
       "      <td>NaN</td>\n",
       "      <td>-0.000041</td>\n",
       "      <td>NaN</td>\n",
       "      <td>-0.000024</td>\n",
       "      <td>NaN</td>\n",
       "      <td>1.000000</td>\n",
       "      <td>-0.002198</td>\n",
       "    </tr>\n",
       "    <tr>\n",
       "      <th>log_annual_inc</th>\n",
       "      <td>0.443773</td>\n",
       "      <td>0.439721</td>\n",
       "      <td>0.413387</td>\n",
       "      <td>0.075772</td>\n",
       "      <td>0.442504</td>\n",
       "      <td>0.213810</td>\n",
       "      <td>0.708420</td>\n",
       "      <td>-0.088996</td>\n",
       "      <td>0.032322</td>\n",
       "      <td>0.083294</td>\n",
       "      <td>...</td>\n",
       "      <td>0.123545</td>\n",
       "      <td>0.111626</td>\n",
       "      <td>NaN</td>\n",
       "      <td>NaN</td>\n",
       "      <td>-0.005641</td>\n",
       "      <td>NaN</td>\n",
       "      <td>-0.002161</td>\n",
       "      <td>-0.012400</td>\n",
       "      <td>-0.002198</td>\n",
       "      <td>1.000000</td>\n",
       "    </tr>\n",
       "  </tbody>\n",
       "</table>\n",
       "<p>36 rows × 36 columns</p>\n",
       "</div>"
      ],
      "text/plain": [
       "                            loan_amount  funded_amount  investor_funds  \\\n",
       "loan_amount                    1.000000       0.981746        0.929600   \n",
       "funded_amount                  0.981746       1.000000        0.947527   \n",
       "investor_funds                 0.929600       0.947527        1.000000   \n",
       "interest_rate                  0.292346       0.295154        0.279995   \n",
       "installment                    0.930869       0.956522        0.890151   \n",
       "emp_length                     0.158339       0.157903        0.173111   \n",
       "annual_income                  0.276122       0.272067        0.252329   \n",
       "dti                            0.065112       0.064821        0.071073   \n",
       "delinq_2yrs                   -0.032767      -0.033421       -0.043868   \n",
       "fico_range_low                 0.133232       0.125637        0.144942   \n",
       "fico_range_high                0.133232       0.125637        0.144942   \n",
       "inq_last_6mths                -0.030314      -0.030048       -0.074913   \n",
       "open_acc                       0.176525       0.174705        0.156361   \n",
       "pub_rec                       -0.051636      -0.052625       -0.055742   \n",
       "revol_bal                      0.254293       0.250313        0.212346   \n",
       "total_acc                      0.256931       0.251134        0.240858   \n",
       "out_prncp                           NaN            NaN             NaN   \n",
       "out_prncp_inv                       NaN            NaN             NaN   \n",
       "total_pymnt                    0.882860       0.899003        0.873412   \n",
       "total_pymnt_inv                0.844208       0.860099        0.913026   \n",
       "total_rec_prncp                0.850882       0.868776        0.841547   \n",
       "total_rec_int                  0.729111       0.736391        0.726552   \n",
       "total_rec_late_fee             0.043398       0.045791        0.020079   \n",
       "recoveries                     0.133240       0.134357        0.115882   \n",
       "collection_recovery_fee        0.073193       0.075330        0.056041   \n",
       "last_pymnt_amnt                0.447702       0.452262        0.441508   \n",
       "last_fico_range_high           0.080470       0.080178        0.091407   \n",
       "last_fico_range_low            0.073939       0.073785        0.086590   \n",
       "collections_12_mths_ex_med          NaN            NaN             NaN   \n",
       "policy_code                         NaN            NaN             NaN   \n",
       "acc_now_delinq                -0.005777      -0.005627       -0.012590   \n",
       "chargeoff_within_12_mths            NaN            NaN             NaN   \n",
       "delinq_amnt                   -0.003974      -0.003938       -0.006201   \n",
       "pub_rec_bankruptcies          -0.037557      -0.038855       -0.046124   \n",
       "tax_liens                     -0.005963      -0.006001       -0.006242   \n",
       "log_annual_inc                 0.443773       0.439721        0.413387   \n",
       "\n",
       "                            interest_rate  installment  emp_length  \\\n",
       "loan_amount                      0.292346     0.930869    0.158339   \n",
       "funded_amount                    0.295154     0.956522    0.157903   \n",
       "investor_funds                   0.279995     0.890151    0.173111   \n",
       "interest_rate                    1.000000     0.271433    0.000062   \n",
       "installment                      0.271433     1.000000    0.128330   \n",
       "emp_length                       0.000062     0.128330    1.000000   \n",
       "annual_income                    0.054365     0.278339    0.115990   \n",
       "dti                              0.119607     0.054948    0.058428   \n",
       "delinq_2yrs                      0.154699    -0.020096    0.012322   \n",
       "fico_range_low                  -0.702587     0.064362    0.089997   \n",
       "fico_range_high                 -0.702587     0.064362    0.089997   \n",
       "inq_last_6mths                   0.179444    -0.010882   -0.020521   \n",
       "open_acc                         0.024635     0.175349    0.099414   \n",
       "pub_rec                          0.100363    -0.045850    0.060333   \n",
       "revol_bal                        0.081883     0.264837    0.125292   \n",
       "total_acc                       -0.031641     0.233905    0.210390   \n",
       "out_prncp                             NaN          NaN         NaN   \n",
       "out_prncp_inv                         NaN          NaN         NaN   \n",
       "total_pymnt                      0.291541     0.848612    0.143291   \n",
       "total_pymnt_inv                  0.280188     0.799658    0.157097   \n",
       "total_rec_prncp                  0.173956     0.843359    0.134213   \n",
       "total_rec_int                    0.512403     0.633615    0.127858   \n",
       "total_rec_late_fee               0.098134     0.057244   -0.020670   \n",
       "recoveries                       0.122173     0.117954    0.025451   \n",
       "collection_recovery_fee          0.072530     0.076430    0.006858   \n",
       "last_pymnt_amnt                  0.145607     0.400162    0.078998   \n",
       "last_fico_range_high            -0.303422     0.075406    0.020976   \n",
       "last_fico_range_low             -0.238442     0.069030    0.024964   \n",
       "collections_12_mths_ex_med            NaN          NaN         NaN   \n",
       "policy_code                           NaN          NaN         NaN   \n",
       "acc_now_delinq                   0.003324    -0.004109   -0.000483   \n",
       "chargeoff_within_12_mths              NaN          NaN         NaN   \n",
       "delinq_amnt                      0.002522    -0.003495   -0.004048   \n",
       "pub_rec_bankruptcies             0.085286    -0.033746    0.060733   \n",
       "tax_liens                        0.001651    -0.005929    0.002856   \n",
       "log_annual_inc                   0.075772     0.442504    0.213810   \n",
       "\n",
       "                            annual_income       dti  delinq_2yrs  \\\n",
       "loan_amount                      0.276122  0.065112    -0.032767   \n",
       "funded_amount                    0.272067  0.064821    -0.033421   \n",
       "investor_funds                   0.252329  0.071073    -0.043868   \n",
       "interest_rate                    0.054365  0.119607     0.154699   \n",
       "installment                      0.278339  0.054948    -0.020096   \n",
       "emp_length                       0.115990  0.058428     0.012322   \n",
       "annual_income                    1.000000 -0.116559     0.022161   \n",
       "dti                             -0.116559  1.000000    -0.036577   \n",
       "delinq_2yrs                      0.022161 -0.036577     1.000000   \n",
       "fico_range_low                   0.052027 -0.191153    -0.218583   \n",
       "fico_range_high                  0.052027 -0.191153    -0.218583   \n",
       "inq_last_6mths                   0.027764  0.014241     0.020872   \n",
       "open_acc                         0.168129  0.297951     0.014247   \n",
       "pub_rec                         -0.016348 -0.002854     0.010305   \n",
       "revol_bal                        0.283593  0.190727    -0.043068   \n",
       "total_acc                        0.246163  0.241306     0.068529   \n",
       "out_prncp                             NaN       NaN          NaN   \n",
       "out_prncp_inv                         NaN       NaN          NaN   \n",
       "total_pymnt                      0.258207  0.063897    -0.023712   \n",
       "total_pymnt_inv                  0.243246  0.068952    -0.033623   \n",
       "total_rec_prncp                  0.259516  0.041432    -0.038992   \n",
       "total_rec_int                    0.187831  0.104547     0.020130   \n",
       "total_rec_late_fee               0.009743 -0.010959     0.034574   \n",
       "recoveries                       0.025330  0.022465     0.012331   \n",
       "collection_recovery_fee          0.017232  0.008505     0.013803   \n",
       "last_pymnt_amnt                  0.139387  0.003743    -0.013937   \n",
       "last_fico_range_high             0.064124 -0.048400    -0.074326   \n",
       "last_fico_range_low              0.058180 -0.022551    -0.049844   \n",
       "collections_12_mths_ex_med            NaN       NaN          NaN   \n",
       "policy_code                           NaN       NaN          NaN   \n",
       "acc_now_delinq                  -0.000926 -0.013132     0.072845   \n",
       "chargeoff_within_12_mths              NaN       NaN          NaN   \n",
       "delinq_amnt                     -0.001809 -0.009262     0.121651   \n",
       "pub_rec_bankruptcies            -0.015437  0.008671     0.004708   \n",
       "tax_liens                       -0.001828 -0.003346    -0.001452   \n",
       "log_annual_inc                   0.708420 -0.088996     0.032322   \n",
       "\n",
       "                            fico_range_low  ...  last_fico_range_high  \\\n",
       "loan_amount                       0.133232  ...              0.080470   \n",
       "funded_amount                     0.125637  ...              0.080178   \n",
       "investor_funds                    0.144942  ...              0.091407   \n",
       "interest_rate                    -0.702587  ...             -0.303422   \n",
       "installment                       0.064362  ...              0.075406   \n",
       "emp_length                        0.089997  ...              0.020976   \n",
       "annual_income                     0.052027  ...              0.064124   \n",
       "dti                              -0.191153  ...             -0.048400   \n",
       "delinq_2yrs                      -0.218583  ...             -0.074326   \n",
       "fico_range_low                    1.000000  ...              0.353463   \n",
       "fico_range_high                   1.000000  ...              0.353463   \n",
       "inq_last_6mths                   -0.136062  ...             -0.115536   \n",
       "open_acc                         -0.025670  ...              0.066404   \n",
       "pub_rec                          -0.152486  ...             -0.087947   \n",
       "revol_bal                        -0.022011  ...              0.020191   \n",
       "total_acc                         0.110684  ...              0.113852   \n",
       "out_prncp                              NaN  ...                   NaN   \n",
       "out_prncp_inv                          NaN  ...                   NaN   \n",
       "total_pymnt                       0.096758  ...              0.166556   \n",
       "total_pymnt_inv                   0.111696  ...              0.168728   \n",
       "total_rec_prncp                   0.165914  ...              0.229875   \n",
       "total_rec_int                    -0.103917  ...             -0.008013   \n",
       "total_rec_late_fee               -0.073169  ...             -0.147308   \n",
       "recoveries                       -0.040317  ...             -0.131206   \n",
       "collection_recovery_fee          -0.028597  ...             -0.060927   \n",
       "last_pymnt_amnt                   0.088732  ...              0.148067   \n",
       "last_fico_range_high              0.353463  ...              1.000000   \n",
       "last_fico_range_low               0.276505  ...              0.851696   \n",
       "collections_12_mths_ex_med             NaN  ...                   NaN   \n",
       "policy_code                            NaN  ...                   NaN   \n",
       "acc_now_delinq                   -0.013217  ...             -0.011612   \n",
       "chargeoff_within_12_mths               NaN  ...                   NaN   \n",
       "delinq_amnt                      -0.009830  ...             -0.006450   \n",
       "pub_rec_bankruptcies             -0.131334  ...             -0.073628   \n",
       "tax_liens                        -0.009143  ...             -0.002830   \n",
       "log_annual_inc                    0.083294  ...              0.123545   \n",
       "\n",
       "                            last_fico_range_low  collections_12_mths_ex_med  \\\n",
       "loan_amount                            0.073939                         NaN   \n",
       "funded_amount                          0.073785                         NaN   \n",
       "investor_funds                         0.086590                         NaN   \n",
       "interest_rate                         -0.238442                         NaN   \n",
       "installment                            0.069030                         NaN   \n",
       "emp_length                             0.024964                         NaN   \n",
       "annual_income                          0.058180                         NaN   \n",
       "dti                                   -0.022551                         NaN   \n",
       "delinq_2yrs                           -0.049844                         NaN   \n",
       "fico_range_low                         0.276505                         NaN   \n",
       "fico_range_high                        0.276505                         NaN   \n",
       "inq_last_6mths                        -0.096144                         NaN   \n",
       "open_acc                               0.068596                         NaN   \n",
       "pub_rec                               -0.075748                         NaN   \n",
       "revol_bal                              0.022509                         NaN   \n",
       "total_acc                              0.114016                         NaN   \n",
       "out_prncp                                   NaN                         NaN   \n",
       "out_prncp_inv                               NaN                         NaN   \n",
       "total_pymnt                            0.154821                         NaN   \n",
       "total_pymnt_inv                        0.157789                         NaN   \n",
       "total_rec_prncp                        0.205769                         NaN   \n",
       "total_rec_int                          0.011555                         NaN   \n",
       "total_rec_late_fee                    -0.124937                         NaN   \n",
       "recoveries                            -0.112479                         NaN   \n",
       "collection_recovery_fee               -0.051538                         NaN   \n",
       "last_pymnt_amnt                        0.130137                         NaN   \n",
       "last_fico_range_high                   0.851696                         NaN   \n",
       "last_fico_range_low                    1.000000                         NaN   \n",
       "collections_12_mths_ex_med                  NaN                         NaN   \n",
       "policy_code                                 NaN                         NaN   \n",
       "acc_now_delinq                        -0.007026                         NaN   \n",
       "chargeoff_within_12_mths                    NaN                         NaN   \n",
       "delinq_amnt                           -0.003943                         NaN   \n",
       "pub_rec_bankruptcies                  -0.068476                         NaN   \n",
       "tax_liens                             -0.001522                         NaN   \n",
       "log_annual_inc                         0.111626                         NaN   \n",
       "\n",
       "                            policy_code  acc_now_delinq  \\\n",
       "loan_amount                         NaN       -0.005777   \n",
       "funded_amount                       NaN       -0.005627   \n",
       "investor_funds                      NaN       -0.012590   \n",
       "interest_rate                       NaN        0.003324   \n",
       "installment                         NaN       -0.004109   \n",
       "emp_length                          NaN       -0.000483   \n",
       "annual_income                       NaN       -0.000926   \n",
       "dti                                 NaN       -0.013132   \n",
       "delinq_2yrs                         NaN        0.072845   \n",
       "fico_range_low                      NaN       -0.013217   \n",
       "fico_range_high                     NaN       -0.013217   \n",
       "inq_last_6mths                      NaN        0.002658   \n",
       "open_acc                            NaN       -0.004518   \n",
       "pub_rec                             NaN       -0.002296   \n",
       "revol_bal                           NaN       -0.006116   \n",
       "total_acc                           NaN       -0.006590   \n",
       "out_prncp                           NaN             NaN   \n",
       "out_prncp_inv                       NaN             NaN   \n",
       "total_pymnt                         NaN       -0.003842   \n",
       "total_pymnt_inv                     NaN       -0.010977   \n",
       "total_rec_prncp                     NaN       -0.004094   \n",
       "total_rec_int                       NaN       -0.001871   \n",
       "total_rec_late_fee                  NaN       -0.001880   \n",
       "recoveries                          NaN       -0.001358   \n",
       "collection_recovery_fee             NaN       -0.000861   \n",
       "last_pymnt_amnt                     NaN       -0.005276   \n",
       "last_fico_range_high                NaN       -0.011612   \n",
       "last_fico_range_low                 NaN       -0.007026   \n",
       "collections_12_mths_ex_med          NaN             NaN   \n",
       "policy_code                         NaN             NaN   \n",
       "acc_now_delinq                      NaN        1.000000   \n",
       "chargeoff_within_12_mths            NaN             NaN   \n",
       "delinq_amnt                         NaN        0.502208   \n",
       "pub_rec_bankruptcies                NaN             NaN   \n",
       "tax_liens                           NaN       -0.000041   \n",
       "log_annual_inc                      NaN       -0.005641   \n",
       "\n",
       "                            chargeoff_within_12_mths  delinq_amnt  \\\n",
       "loan_amount                                      NaN    -0.003974   \n",
       "funded_amount                                    NaN    -0.003938   \n",
       "investor_funds                                   NaN    -0.006201   \n",
       "interest_rate                                    NaN     0.002522   \n",
       "installment                                      NaN    -0.003495   \n",
       "emp_length                                       NaN    -0.004048   \n",
       "annual_income                                    NaN    -0.001809   \n",
       "dti                                              NaN    -0.009262   \n",
       "delinq_2yrs                                      NaN     0.121651   \n",
       "fico_range_low                                   NaN    -0.009830   \n",
       "fico_range_high                                  NaN    -0.009830   \n",
       "inq_last_6mths                                   NaN     0.015604   \n",
       "open_acc                                         NaN    -0.002497   \n",
       "pub_rec                                          NaN    -0.001153   \n",
       "revol_bal                                        NaN    -0.003137   \n",
       "total_acc                                        NaN    -0.000474   \n",
       "out_prncp                                        NaN          NaN   \n",
       "out_prncp_inv                                    NaN          NaN   \n",
       "total_pymnt                                      NaN    -0.003107   \n",
       "total_pymnt_inv                                  NaN    -0.005390   \n",
       "total_rec_prncp                                  NaN    -0.003174   \n",
       "total_rec_int                                    NaN    -0.002007   \n",
       "total_rec_late_fee                               NaN    -0.000944   \n",
       "recoveries                                       NaN    -0.000682   \n",
       "collection_recovery_fee                          NaN    -0.000432   \n",
       "last_pymnt_amnt                                  NaN    -0.002897   \n",
       "last_fico_range_high                             NaN    -0.006450   \n",
       "last_fico_range_low                              NaN    -0.003943   \n",
       "collections_12_mths_ex_med                       NaN          NaN   \n",
       "policy_code                                      NaN          NaN   \n",
       "acc_now_delinq                                   NaN     0.502208   \n",
       "chargeoff_within_12_mths                         NaN          NaN   \n",
       "delinq_amnt                                      NaN     1.000000   \n",
       "pub_rec_bankruptcies                             NaN          NaN   \n",
       "tax_liens                                        NaN    -0.000024   \n",
       "log_annual_inc                                   NaN    -0.002161   \n",
       "\n",
       "                            pub_rec_bankruptcies  tax_liens  log_annual_inc  \n",
       "loan_amount                            -0.037557  -0.005963        0.443773  \n",
       "funded_amount                          -0.038855  -0.006001        0.439721  \n",
       "investor_funds                         -0.046124  -0.006242        0.413387  \n",
       "interest_rate                           0.085286   0.001651        0.075772  \n",
       "installment                            -0.033746  -0.005929        0.442504  \n",
       "emp_length                              0.060733   0.002856        0.213810  \n",
       "annual_income                          -0.015437  -0.001828        0.708420  \n",
       "dti                                     0.008671  -0.003346       -0.088996  \n",
       "delinq_2yrs                             0.004708  -0.001452        0.032322  \n",
       "fico_range_low                         -0.131334  -0.009143        0.083294  \n",
       "fico_range_high                        -0.131334  -0.009143        0.083294  \n",
       "inq_last_6mths                          0.047311   0.022088        0.026365  \n",
       "open_acc                                0.009678  -0.002533        0.293768  \n",
       "pub_rec                                 0.841454   0.018610       -0.012055  \n",
       "revol_bal                              -0.039378  -0.002801        0.367032  \n",
       "total_acc                              -0.003934  -0.006341        0.415614  \n",
       "out_prncp                                    NaN        NaN             NaN  \n",
       "out_prncp_inv                                NaN        NaN             NaN  \n",
       "total_pymnt                            -0.045368  -0.005120        0.413025  \n",
       "total_pymnt_inv                        -0.050332  -0.005436        0.392960  \n",
       "total_rec_prncp                        -0.055960  -0.005251        0.415875  \n",
       "total_rec_int                          -0.005105  -0.003383        0.298720  \n",
       "total_rec_late_fee                     -0.006021  -0.000940        0.006001  \n",
       "recoveries                             -0.003043  -0.000680        0.039410  \n",
       "collection_recovery_fee                -0.003135  -0.000431        0.022611  \n",
       "last_pymnt_amnt                        -0.023337  -0.002819        0.224443  \n",
       "last_fico_range_high                   -0.073628  -0.002830        0.123545  \n",
       "last_fico_range_low                    -0.068476  -0.001522        0.111626  \n",
       "collections_12_mths_ex_med                   NaN        NaN             NaN  \n",
       "policy_code                                  NaN        NaN             NaN  \n",
       "acc_now_delinq                               NaN  -0.000041       -0.005641  \n",
       "chargeoff_within_12_mths                     NaN        NaN             NaN  \n",
       "delinq_amnt                                  NaN  -0.000024       -0.002161  \n",
       "pub_rec_bankruptcies                    1.000000        NaN       -0.012400  \n",
       "tax_liens                                    NaN   1.000000       -0.002198  \n",
       "log_annual_inc                         -0.012400  -0.002198        1.000000  \n",
       "\n",
       "[36 rows x 36 columns]"
      ]
     },
     "execution_count": 70,
     "metadata": {},
     "output_type": "execute_result"
    }
   ],
   "source": [
    "df.corr()"
   ]
  },
  {
   "cell_type": "code",
   "execution_count": null,
   "metadata": {},
   "outputs": [],
   "source": []
  },
  {
   "cell_type": "code",
   "execution_count": 71,
   "metadata": {},
   "outputs": [
    {
     "data": {
      "text/plain": [
       "Fully Paid                                             34116\n",
       "Charged Off                                             5670\n",
       "Does not meet the credit policy. Status:Fully Paid      1988\n",
       "Does not meet the credit policy. Status:Charged Off      761\n",
       "Name: loan_status, dtype: int64"
      ]
     },
     "execution_count": 71,
     "metadata": {},
     "output_type": "execute_result"
    }
   ],
   "source": [
    "df[\"loan_status\"].value_counts()\n"
   ]
  },
  {
   "cell_type": "code",
   "execution_count": 72,
   "metadata": {},
   "outputs": [],
   "source": [
    "# Determining the loans that are bad from loan_status column\n",
    "\n",
    "bad_loan = [\"Charged Off\", \"Default\", \"Does not meet the credit policy. Status:Charged Off\", \"In Grace Period\", \n",
    "            \"Late (16-30 days)\", \"Late (31-120 days)\"]\n",
    "\n",
    "\n",
    "df['loan_condition'] = np.nan\n",
    "\n",
    "def loan_condition(status):\n",
    "    if status in bad_loan:\n",
    "        return 'Bad Loan'\n",
    "    else:\n",
    "        return 'Good Loan'\n",
    "    \n",
    "    \n",
    "df['loan_condition'] = df['loan_status'].apply(loan_condition)"
   ]
  },
  {
   "cell_type": "markdown",
   "metadata": {},
   "source": [
    "# Pie Chart for Loan Conditions"
   ]
  },
  {
   "cell_type": "code",
   "execution_count": 73,
   "metadata": {},
   "outputs": [
    {
     "data": {
      "text/plain": [
       "<matplotlib.axes._subplots.AxesSubplot at 0x1a370d3ac8>"
      ]
     },
     "execution_count": 73,
     "metadata": {},
     "output_type": "execute_result"
    },
    {
     "data": {
      "image/png": "[encoded data removed]",
      "text/plain": [
       "<Figure size 432x288 with 1 Axes>"
      ]
     },
     "metadata": {},
     "output_type": "display_data"
    }
   ],
   "source": [
    "#f, ax = plt.subplots(1,2, figsize=(16,8))\n",
    "\n",
    "labels =\"Good Loans\", \"Bad Loans\"\n",
    "\n",
    "plt.suptitle('Information on Loan Conditions', fontsize=15)\n",
    "\n",
    "df[\"loan_condition\"].value_counts().plot.pie(explode=[0,0.10],autopct='%1.0f%%', shadow=True,labels=labels, fontsize=12, startangle=90)\n",
    "\n",
    "\n"
   ]
  },
  {
   "cell_type": "code",
   "execution_count": null,
   "metadata": {},
   "outputs": [],
   "source": []
  },
  {
   "cell_type": "code",
   "execution_count": 74,
   "metadata": {},
   "outputs": [],
   "source": [
    "df['income_category'] = np.nan\n",
    "lst = [df]\n",
    "\n",
    "for col in lst:\n",
    "    col.loc[col['annual_income'] <= 100000, 'income_category'] = 'Low'\n",
    "    col.loc[(col['annual_income'] > 100000) & (col['annual_income'] <= 200000), 'income_category'] = 'Medium'\n",
    "    col.loc[col['annual_income'] > 200000, 'income_category'] = 'High'"
   ]
  },
  {
   "cell_type": "code",
   "execution_count": 75,
   "metadata": {},
   "outputs": [
    {
     "data": {
      "text/plain": [
       "<matplotlib.axes._subplots.AxesSubplot at 0x1a30612358>"
      ]
     },
     "execution_count": 75,
     "metadata": {},
     "output_type": "execute_result"
    },
    {
     "data": {
      "image/png": "[encoded data removed]",
      "text/plain": [
       "<Figure size 1008x432 with 2 Axes>"
      ]
     },
     "metadata": {
      "needs_background": "light"
     },
     "output_type": "display_data"
    }
   ],
   "source": [
    "# Let's transform the column loan_condition into integrers.\n",
    "\n",
    "lst = [df]\n",
    "df['loan_condition_int'] = np.nan\n",
    "\n",
    "for col in lst:\n",
    "    col.loc[df['loan_condition'] == 'Good Loan', 'loan_condition_int'] = 0 # Negative (Bad Loan)\n",
    "    col.loc[df['loan_condition'] == 'Bad Loan', 'loan_condition_int'] = 1 # Positive (Good Loan)\n",
    "    \n",
    "# Convert from float to int the column (This is our label)  \n",
    "df['loan_condition_int'] = df['loan_condition_int'].astype(int)\n",
    "fig, (ax1, ax2)= plt.subplots(nrows=1, ncols=2, figsize=(14,6))\n",
    "\n",
    "# Change the Palette types tomorrow!\n",
    "\n",
    "sns.violinplot(x=\"income_category\", y=\"loan_amount\", data=df, palette=\"Set2\", ax=ax1 )\n",
    "sns.violinplot(x=\"income_category\", y=\"loan_condition_int\", data=df, palette=\"Set2\", ax=ax2)\n"
   ]
  },
  {
   "cell_type": "code",
   "execution_count": 76,
   "metadata": {},
   "outputs": [],
   "source": [
    "#df.corr(loan_status,annual_income)"
   ]
  },
  {
   "cell_type": "markdown",
   "metadata": {},
   "source": [
    "# Loan Condition V/s Income"
   ]
  },
  {
   "cell_type": "code",
   "execution_count": 77,
   "metadata": {},
   "outputs": [
    {
     "data": {
      "image/png": "[encoded data removed]",
      "text/plain": [
       "<Figure size 432x288 with 1 Axes>"
      ]
     },
     "metadata": {
      "needs_background": "light"
     },
     "output_type": "display_data"
    }
   ],
   "source": [
    "plt.scatter(df.loan_condition,df.annual_income)\n",
    "plt.xlabel(\"condition\")\n",
    "plt.ylabel(\"income\")\n",
    "plt.ylim(0,1400000)\n",
    "plt.title(\"Range of income with respect to loan condition\")\n",
    "plt.show()"
   ]
  },
  {
   "cell_type": "markdown",
   "metadata": {},
   "source": [
    "# Loan Consition V/s Fico Scores"
   ]
  },
  {
   "cell_type": "code",
   "execution_count": 78,
   "metadata": {},
   "outputs": [
    {
     "data": {
      "image/png": "[encoded data removed]",
      "text/plain": [
       "<Figure size 432x288 with 1 Axes>"
      ]
     },
     "metadata": {
      "needs_background": "light"
     },
     "output_type": "display_data"
    }
   ],
   "source": [
    "sns.violinplot(x=\"fico_range_high\", y=\"loan_condition\", data=df, palette=\"Set2\" )\n",
    "plt.show()"
   ]
  },
  {
   "cell_type": "markdown",
   "metadata": {},
   "source": [
    "The mean of the good loans is more than 700 and most of the values of fico_score lies near 700 score hence the fico score for good loans should be closer to 700."
   ]
  },
  {
   "cell_type": "code",
   "execution_count": 79,
   "metadata": {},
   "outputs": [
    {
     "data": {
      "image/png": "[encoded data removed]",
      "text/plain": [
       "<Figure size 432x288 with 1 Axes>"
      ]
     },
     "metadata": {
      "needs_background": "light"
     },
     "output_type": "display_data"
    }
   ],
   "source": [
    "df.home_ownership.groupby(df.loan_condition).value_counts().plot.bar()\n",
    "plt.show()"
   ]
  },
  {
   "cell_type": "markdown",
   "metadata": {},
   "source": [
    "Loan Grades and Subgrades are assigned by Lending Club based on the borrower’s credit worthiness and also on some variables specific to that Loan."
   ]
  },
  {
   "cell_type": "code",
   "execution_count": 80,
   "metadata": {},
   "outputs": [
    {
     "data": {
      "image/png": "[encoded data removed]",
      "text/plain": [
       "<Figure size 432x288 with 1 Axes>"
      ]
     },
     "metadata": {
      "needs_background": "light"
     },
     "output_type": "display_data"
    }
   ],
   "source": [
    "df.grade.groupby(df.loan_condition).value_counts().plot.bar()\n",
    "plt.show()"
   ]
  },
  {
   "cell_type": "markdown",
   "metadata": {},
   "source": [
    "The majority of loans is either graded as B or C — together these correspond to more than 50% of the loan population.\n",
    "While there is a considerable amount of A graded or “prime” loans (~17%), there is a small amount of E graded, or “uncollectible” loans (~0,06%). Which is a good sign for Lending Club.\n",
    "But, are these the right grades?"
   ]
  },
  {
   "cell_type": "markdown",
   "metadata": {},
   "source": [
    "# Statistical Inferences of the Dataset"
   ]
  },
  {
   "cell_type": "code",
   "execution_count": 81,
   "metadata": {},
   "outputs": [
    {
     "ename": "ValueError",
     "evalue": "cannot convert float NaN to integer",
     "output_type": "error",
     "traceback": [
      "\u001b[0;31m---------------------------------------------------------------------------\u001b[0m",
      "\u001b[0;31mValueError\u001b[0m                                Traceback (most recent call last)",
      "\u001b[0;32m<ipython-input-81-cf1cad3ed785>\u001b[0m in \u001b[0;36m<module>\u001b[0;34m\u001b[0m\n\u001b[1;32m      4\u001b[0m \u001b[0mfunded_amount\u001b[0m \u001b[0;34m=\u001b[0m \u001b[0mdf\u001b[0m\u001b[0;34m[\u001b[0m\u001b[0;34m\"funded_amount\"\u001b[0m\u001b[0;34m]\u001b[0m\u001b[0;34m.\u001b[0m\u001b[0mvalues\u001b[0m\u001b[0;34m\u001b[0m\u001b[0;34m\u001b[0m\u001b[0m\n\u001b[1;32m      5\u001b[0m \u001b[0minvestor_funds\u001b[0m \u001b[0;34m=\u001b[0m \u001b[0mdf\u001b[0m\u001b[0;34m[\u001b[0m\u001b[0;34m\"investor_funds\"\u001b[0m\u001b[0;34m]\u001b[0m\u001b[0;34m.\u001b[0m\u001b[0mvalues\u001b[0m\u001b[0;34m\u001b[0m\u001b[0;34m\u001b[0m\u001b[0m\n\u001b[0;32m----> 6\u001b[0;31m \u001b[0msns\u001b[0m\u001b[0;34m.\u001b[0m\u001b[0mdistplot\u001b[0m\u001b[0;34m(\u001b[0m\u001b[0mloan_amount\u001b[0m\u001b[0;34m,\u001b[0m \u001b[0max\u001b[0m\u001b[0;34m=\u001b[0m\u001b[0max\u001b[0m\u001b[0;34m[\u001b[0m\u001b[0;36m0\u001b[0m\u001b[0;34m]\u001b[0m\u001b[0;34m,\u001b[0m \u001b[0mcolor\u001b[0m\u001b[0;34m=\u001b[0m\u001b[0;34m\"red\"\u001b[0m\u001b[0;34m)\u001b[0m\u001b[0;34m\u001b[0m\u001b[0;34m\u001b[0m\u001b[0m\n\u001b[0m\u001b[1;32m      7\u001b[0m \u001b[0max\u001b[0m\u001b[0;34m[\u001b[0m\u001b[0;36m0\u001b[0m\u001b[0;34m]\u001b[0m\u001b[0;34m.\u001b[0m\u001b[0mset_title\u001b[0m\u001b[0;34m(\u001b[0m\u001b[0;34m\"Loan Applied by the Borrower\"\u001b[0m\u001b[0;34m,\u001b[0m \u001b[0mfontsize\u001b[0m\u001b[0;34m=\u001b[0m\u001b[0;36m14\u001b[0m\u001b[0;34m)\u001b[0m\u001b[0;34m\u001b[0m\u001b[0;34m\u001b[0m\u001b[0m\n\u001b[1;32m      8\u001b[0m \u001b[0msns\u001b[0m\u001b[0;34m.\u001b[0m\u001b[0mdistplot\u001b[0m\u001b[0;34m(\u001b[0m\u001b[0mfunded_amount\u001b[0m\u001b[0;34m,\u001b[0m \u001b[0max\u001b[0m\u001b[0;34m=\u001b[0m\u001b[0max\u001b[0m\u001b[0;34m[\u001b[0m\u001b[0;36m1\u001b[0m\u001b[0;34m]\u001b[0m\u001b[0;34m,\u001b[0m \u001b[0mcolor\u001b[0m\u001b[0;34m=\u001b[0m\u001b[0;34m\"blue\"\u001b[0m\u001b[0;34m)\u001b[0m\u001b[0;34m\u001b[0m\u001b[0;34m\u001b[0m\u001b[0m\n",
      "\u001b[0;32m~/anaconda3/lib/python3.7/site-packages/seaborn/distributions.py\u001b[0m in \u001b[0;36mdistplot\u001b[0;34m(a, bins, hist, kde, rug, fit, hist_kws, kde_kws, rug_kws, fit_kws, color, vertical, norm_hist, axlabel, label, ax)\u001b[0m\n\u001b[1;32m    213\u001b[0m     \u001b[0;32mif\u001b[0m \u001b[0mhist\u001b[0m\u001b[0;34m:\u001b[0m\u001b[0;34m\u001b[0m\u001b[0;34m\u001b[0m\u001b[0m\n\u001b[1;32m    214\u001b[0m         \u001b[0;32mif\u001b[0m \u001b[0mbins\u001b[0m \u001b[0;32mis\u001b[0m \u001b[0;32mNone\u001b[0m\u001b[0;34m:\u001b[0m\u001b[0;34m\u001b[0m\u001b[0;34m\u001b[0m\u001b[0m\n\u001b[0;32m--> 215\u001b[0;31m             \u001b[0mbins\u001b[0m \u001b[0;34m=\u001b[0m \u001b[0mmin\u001b[0m\u001b[0;34m(\u001b[0m\u001b[0m_freedman_diaconis_bins\u001b[0m\u001b[0;34m(\u001b[0m\u001b[0ma\u001b[0m\u001b[0;34m)\u001b[0m\u001b[0;34m,\u001b[0m \u001b[0;36m50\u001b[0m\u001b[0;34m)\u001b[0m\u001b[0;34m\u001b[0m\u001b[0;34m\u001b[0m\u001b[0m\n\u001b[0m\u001b[1;32m    216\u001b[0m         \u001b[0mhist_kws\u001b[0m\u001b[0;34m.\u001b[0m\u001b[0msetdefault\u001b[0m\u001b[0;34m(\u001b[0m\u001b[0;34m\"alpha\"\u001b[0m\u001b[0;34m,\u001b[0m \u001b[0;36m0.4\u001b[0m\u001b[0;34m)\u001b[0m\u001b[0;34m\u001b[0m\u001b[0;34m\u001b[0m\u001b[0m\n\u001b[1;32m    217\u001b[0m         \u001b[0;32mif\u001b[0m \u001b[0mLooseVersion\u001b[0m\u001b[0;34m(\u001b[0m\u001b[0mmpl\u001b[0m\u001b[0;34m.\u001b[0m\u001b[0m__version__\u001b[0m\u001b[0;34m)\u001b[0m \u001b[0;34m<\u001b[0m \u001b[0mLooseVersion\u001b[0m\u001b[0;34m(\u001b[0m\u001b[0;34m\"2.2\"\u001b[0m\u001b[0;34m)\u001b[0m\u001b[0;34m:\u001b[0m\u001b[0;34m\u001b[0m\u001b[0;34m\u001b[0m\u001b[0m\n",
      "\u001b[0;32m~/anaconda3/lib/python3.7/site-packages/seaborn/distributions.py\u001b[0m in \u001b[0;36m_freedman_diaconis_bins\u001b[0;34m(a)\u001b[0m\n\u001b[1;32m     37\u001b[0m         \u001b[0;32mreturn\u001b[0m \u001b[0mint\u001b[0m\u001b[0;34m(\u001b[0m\u001b[0mnp\u001b[0m\u001b[0;34m.\u001b[0m\u001b[0msqrt\u001b[0m\u001b[0;34m(\u001b[0m\u001b[0ma\u001b[0m\u001b[0;34m.\u001b[0m\u001b[0msize\u001b[0m\u001b[0;34m)\u001b[0m\u001b[0;34m)\u001b[0m\u001b[0;34m\u001b[0m\u001b[0;34m\u001b[0m\u001b[0m\n\u001b[1;32m     38\u001b[0m     \u001b[0;32melse\u001b[0m\u001b[0;34m:\u001b[0m\u001b[0;34m\u001b[0m\u001b[0;34m\u001b[0m\u001b[0m\n\u001b[0;32m---> 39\u001b[0;31m         \u001b[0;32mreturn\u001b[0m \u001b[0mint\u001b[0m\u001b[0;34m(\u001b[0m\u001b[0mnp\u001b[0m\u001b[0;34m.\u001b[0m\u001b[0mceil\u001b[0m\u001b[0;34m(\u001b[0m\u001b[0;34m(\u001b[0m\u001b[0ma\u001b[0m\u001b[0;34m.\u001b[0m\u001b[0mmax\u001b[0m\u001b[0;34m(\u001b[0m\u001b[0;34m)\u001b[0m \u001b[0;34m-\u001b[0m \u001b[0ma\u001b[0m\u001b[0;34m.\u001b[0m\u001b[0mmin\u001b[0m\u001b[0;34m(\u001b[0m\u001b[0;34m)\u001b[0m\u001b[0;34m)\u001b[0m \u001b[0;34m/\u001b[0m \u001b[0mh\u001b[0m\u001b[0;34m)\u001b[0m\u001b[0;34m)\u001b[0m\u001b[0;34m\u001b[0m\u001b[0;34m\u001b[0m\u001b[0m\n\u001b[0m\u001b[1;32m     40\u001b[0m \u001b[0;34m\u001b[0m\u001b[0m\n\u001b[1;32m     41\u001b[0m \u001b[0;34m\u001b[0m\u001b[0m\n",
      "\u001b[0;31mValueError\u001b[0m: cannot convert float NaN to integer"
     ]
    },
    {
     "data": {
      "image/png": "[encoded data removed]",
      "text/plain": [
       "<Figure size 1152x360 with 3 Axes>"
      ]
     },
     "metadata": {
      "needs_background": "light"
     },
     "output_type": "display_data"
    }
   ],
   "source": [
    "fig, ax = plt.subplots(1, 3, figsize=(16,5))\n",
    "\n",
    "loan_amount = df[\"loan_amount\"].values\n",
    "funded_amount = df[\"funded_amount\"].values\n",
    "investor_funds = df[\"investor_funds\"].values\n",
    "sns.distplot(loan_amount, ax=ax[0], color=\"red\")\n",
    "ax[0].set_title(\"Loan Applied by the Borrower\", fontsize=14)\n",
    "sns.distplot(funded_amount, ax=ax[1], color=\"blue\")\n",
    "ax[1].set_title(\"Amount Funded by the Lender\", fontsize=14)\n",
    "sns.distplot(investor_funds, ax=ax[2], color=\"green\")\n",
    "ax[2].set_title(\"Total committed by Investors\", fontsize=14)"
   ]
  },
  {
   "cell_type": "code",
   "execution_count": 82,
   "metadata": {},
   "outputs": [
    {
     "data": {
      "text/plain": [
       "<matplotlib.axes._subplots.AxesSubplot at 0x1a31d4af60>"
      ]
     },
     "execution_count": 82,
     "metadata": {},
     "output_type": "execute_result"
    },
    {
     "data": {
      "image/png": "[encoded data removed]",
      "text/plain": [
       "<Figure size 432x288 with 1 Axes>"
      ]
     },
     "metadata": {
      "needs_background": "light"
     },
     "output_type": "display_data"
    }
   ],
   "source": [
    "df.boxplot(column='loan_amount')\n"
   ]
  },
  {
   "cell_type": "code",
   "execution_count": 83,
   "metadata": {},
   "outputs": [
    {
     "name": "stdout",
     "output_type": "stream",
     "text": [
      "10821.585752909368\n",
      "7146.830662349949\n"
     ]
    }
   ],
   "source": [
    "mean =np.mean(df.funded_amount)\n",
    "std =np.std(df.funded_amount)\n",
    "print(mean)\n",
    "print(std)"
   ]
  },
  {
   "cell_type": "markdown",
   "metadata": {},
   "source": [
    "# Null hypothesis: The mean interest rates offered for A grade loans are less than the other grades."
   ]
  },
  {
   "cell_type": "code",
   "execution_count": 84,
   "metadata": {},
   "outputs": [
    {
     "data": {
      "image/png": "[encoded data removed]",
      "text/plain": [
       "<Figure size 432x288 with 1 Axes>"
      ]
     },
     "metadata": {
      "needs_background": "light"
     },
     "output_type": "display_data"
    }
   ],
   "source": [
    "df.interest_rate.groupby(df.grade).value_counts().plot.bar()\n",
    "plt.show()\n"
   ]
  },
  {
   "cell_type": "code",
   "execution_count": 85,
   "metadata": {},
   "outputs": [
    {
     "ename": "ValueError",
     "evalue": "cannot convert float NaN to integer",
     "output_type": "error",
     "traceback": [
      "\u001b[0;31m---------------------------------------------------------------------------\u001b[0m",
      "\u001b[0;31mValueError\u001b[0m                                Traceback (most recent call last)",
      "\u001b[0;32m<ipython-input-85-209fd975ff5d>\u001b[0m in \u001b[0;36m<module>\u001b[0;34m\u001b[0m\n\u001b[0;32m----> 1\u001b[0;31m \u001b[0msns\u001b[0m\u001b[0;34m.\u001b[0m\u001b[0mdistplot\u001b[0m\u001b[0;34m(\u001b[0m\u001b[0mdf\u001b[0m\u001b[0;34m.\u001b[0m\u001b[0minterest_rate\u001b[0m\u001b[0;34m[\u001b[0m\u001b[0mdf\u001b[0m\u001b[0;34m.\u001b[0m\u001b[0mgrade\u001b[0m\u001b[0;34m!=\u001b[0m\u001b[0;34m'A'\u001b[0m\u001b[0;34m]\u001b[0m\u001b[0;34m.\u001b[0m\u001b[0mastype\u001b[0m\u001b[0;34m(\u001b[0m\u001b[0;34m'float64'\u001b[0m\u001b[0;34m)\u001b[0m\u001b[0;34m.\u001b[0m\u001b[0mvalues\u001b[0m\u001b[0;34m,\u001b[0m\u001b[0mcolor\u001b[0m\u001b[0;34m=\u001b[0m\u001b[0;34m\"red\"\u001b[0m\u001b[0;34m)\u001b[0m\u001b[0;34m\u001b[0m\u001b[0;34m\u001b[0m\u001b[0m\n\u001b[0m",
      "\u001b[0;32m~/anaconda3/lib/python3.7/site-packages/seaborn/distributions.py\u001b[0m in \u001b[0;36mdistplot\u001b[0;34m(a, bins, hist, kde, rug, fit, hist_kws, kde_kws, rug_kws, fit_kws, color, vertical, norm_hist, axlabel, label, ax)\u001b[0m\n\u001b[1;32m    213\u001b[0m     \u001b[0;32mif\u001b[0m \u001b[0mhist\u001b[0m\u001b[0;34m:\u001b[0m\u001b[0;34m\u001b[0m\u001b[0;34m\u001b[0m\u001b[0m\n\u001b[1;32m    214\u001b[0m         \u001b[0;32mif\u001b[0m \u001b[0mbins\u001b[0m \u001b[0;32mis\u001b[0m \u001b[0;32mNone\u001b[0m\u001b[0;34m:\u001b[0m\u001b[0;34m\u001b[0m\u001b[0;34m\u001b[0m\u001b[0m\n\u001b[0;32m--> 215\u001b[0;31m             \u001b[0mbins\u001b[0m \u001b[0;34m=\u001b[0m \u001b[0mmin\u001b[0m\u001b[0;34m(\u001b[0m\u001b[0m_freedman_diaconis_bins\u001b[0m\u001b[0;34m(\u001b[0m\u001b[0ma\u001b[0m\u001b[0;34m)\u001b[0m\u001b[0;34m,\u001b[0m \u001b[0;36m50\u001b[0m\u001b[0;34m)\u001b[0m\u001b[0;34m\u001b[0m\u001b[0;34m\u001b[0m\u001b[0m\n\u001b[0m\u001b[1;32m    216\u001b[0m         \u001b[0mhist_kws\u001b[0m\u001b[0;34m.\u001b[0m\u001b[0msetdefault\u001b[0m\u001b[0;34m(\u001b[0m\u001b[0;34m\"alpha\"\u001b[0m\u001b[0;34m,\u001b[0m \u001b[0;36m0.4\u001b[0m\u001b[0;34m)\u001b[0m\u001b[0;34m\u001b[0m\u001b[0;34m\u001b[0m\u001b[0m\n\u001b[1;32m    217\u001b[0m         \u001b[0;32mif\u001b[0m \u001b[0mLooseVersion\u001b[0m\u001b[0;34m(\u001b[0m\u001b[0mmpl\u001b[0m\u001b[0;34m.\u001b[0m\u001b[0m__version__\u001b[0m\u001b[0;34m)\u001b[0m \u001b[0;34m<\u001b[0m \u001b[0mLooseVersion\u001b[0m\u001b[0;34m(\u001b[0m\u001b[0;34m\"2.2\"\u001b[0m\u001b[0;34m)\u001b[0m\u001b[0;34m:\u001b[0m\u001b[0;34m\u001b[0m\u001b[0;34m\u001b[0m\u001b[0m\n",
      "\u001b[0;32m~/anaconda3/lib/python3.7/site-packages/seaborn/distributions.py\u001b[0m in \u001b[0;36m_freedman_diaconis_bins\u001b[0;34m(a)\u001b[0m\n\u001b[1;32m     37\u001b[0m         \u001b[0;32mreturn\u001b[0m \u001b[0mint\u001b[0m\u001b[0;34m(\u001b[0m\u001b[0mnp\u001b[0m\u001b[0;34m.\u001b[0m\u001b[0msqrt\u001b[0m\u001b[0;34m(\u001b[0m\u001b[0ma\u001b[0m\u001b[0;34m.\u001b[0m\u001b[0msize\u001b[0m\u001b[0;34m)\u001b[0m\u001b[0;34m)\u001b[0m\u001b[0;34m\u001b[0m\u001b[0;34m\u001b[0m\u001b[0m\n\u001b[1;32m     38\u001b[0m     \u001b[0;32melse\u001b[0m\u001b[0;34m:\u001b[0m\u001b[0;34m\u001b[0m\u001b[0;34m\u001b[0m\u001b[0m\n\u001b[0;32m---> 39\u001b[0;31m         \u001b[0;32mreturn\u001b[0m \u001b[0mint\u001b[0m\u001b[0;34m(\u001b[0m\u001b[0mnp\u001b[0m\u001b[0;34m.\u001b[0m\u001b[0mceil\u001b[0m\u001b[0;34m(\u001b[0m\u001b[0;34m(\u001b[0m\u001b[0ma\u001b[0m\u001b[0;34m.\u001b[0m\u001b[0mmax\u001b[0m\u001b[0;34m(\u001b[0m\u001b[0;34m)\u001b[0m \u001b[0;34m-\u001b[0m \u001b[0ma\u001b[0m\u001b[0;34m.\u001b[0m\u001b[0mmin\u001b[0m\u001b[0;34m(\u001b[0m\u001b[0;34m)\u001b[0m\u001b[0;34m)\u001b[0m \u001b[0;34m/\u001b[0m \u001b[0mh\u001b[0m\u001b[0;34m)\u001b[0m\u001b[0;34m)\u001b[0m\u001b[0;34m\u001b[0m\u001b[0;34m\u001b[0m\u001b[0m\n\u001b[0m\u001b[1;32m     40\u001b[0m \u001b[0;34m\u001b[0m\u001b[0m\n\u001b[1;32m     41\u001b[0m \u001b[0;34m\u001b[0m\u001b[0m\n",
      "\u001b[0;31mValueError\u001b[0m: cannot convert float NaN to integer"
     ]
    },
    {
     "data": {
      "image/png": "[encoded data removed]",
      "text/plain": [
       "<Figure size 432x288 with 1 Axes>"
      ]
     },
     "metadata": {
      "needs_background": "light"
     },
     "output_type": "display_data"
    }
   ],
   "source": [
    "sns.distplot(df.interest_rate[df.grade!='A'].astype('float64').values,color=\"red\")\n"
   ]
  },
  {
   "cell_type": "code",
   "execution_count": 86,
   "metadata": {},
   "outputs": [],
   "source": [
    "def loan_sampler_A(n):\n",
    "    return np.random.choice(df.interest_rate[df.grade=='A'].astype('float64'), n)\n",
    "def loan_sampler_other(n):\n",
    "    return np.random.choice(df.interest_rate[df.grade!='A'].astype('float64'),n)"
   ]
  },
  {
   "cell_type": "code",
   "execution_count": 87,
   "metadata": {},
   "outputs": [
    {
     "name": "stdout",
     "output_type": "stream",
     "text": [
      "[7.66 6.62 7.14 7.74 5.42 6.99 7.88 8.94 7.49 8.49 7.9  6.54 5.79 7.88\n",
      " 7.51 7.88 8.   7.14 7.37 8.49 7.66 5.42 7.66 7.49 8.94 9.32 7.29 6.91\n",
      " 8.9  6.03 7.74 6.17 6.17 7.88 6.91 8.49 6.54 7.66 7.49 8.   5.42 5.42\n",
      " 7.9  5.42 7.51 7.9  7.75 7.49 7.75 7.12]\n"
     ]
    },
    {
     "data": {
      "text/plain": [
       "numpy.float64"
      ]
     },
     "execution_count": 87,
     "metadata": {},
     "output_type": "execute_result"
    }
   ],
   "source": [
    "seed(47)\n",
    "size=50\n",
    "sample1 = loan_sampler_A(size).astype('float64')\n",
    "sample2 = loan_sampler_other(size).astype('float64')\n",
    "print(sample1)\n",
    "type(sample1[0])"
   ]
  },
  {
   "cell_type": "code",
   "execution_count": 88,
   "metadata": {},
   "outputs": [],
   "source": [
    "mean_A = np.mean(sample1)\n",
    "mean_other = np.mean(sample2)\n",
    "std_A=np.std(sample1)\n",
    "std_other=np.std(sample2)\n",
    "seed(47)\n",
    "N=500\n",
    "# take your samples here\n",
    "total_mean_A=np.empty(N)\n",
    "total_mean_other=np.empty(N)\n",
    "for i in range (N):\n",
    "    total_mean_A[i]=np.mean(loan_sampler_A(size))\n",
    "    total_mean_other[i]=np.mean(loan_sampler_other(size))\n"
   ]
  },
  {
   "cell_type": "code",
   "execution_count": 89,
   "metadata": {},
   "outputs": [
    {
     "data": {
      "image/png": "[encoded data removed]",
      "text/plain": [
       "<Figure size 432x288 with 1 Axes>"
      ]
     },
     "metadata": {
      "needs_background": "light"
     },
     "output_type": "display_data"
    }
   ],
   "source": [
    "n=len(total_mean_A)\n",
    "x=np.sort(total_mean_A)\n",
    "y=np.arange(1,n+1)/n\n",
    "plt.plot(x,y,marker='.',linestyle='none')\n",
    "# Label the axes\n",
    "plt.xlabel('Interest rate for Grade A Loans')\n",
    "plt.ylabel('ECDF')\n",
    "plt.show()"
   ]
  },
  {
   "cell_type": "code",
   "execution_count": 90,
   "metadata": {},
   "outputs": [
    {
     "data": {
      "image/png": "[encoded data removed]",
      "text/plain": [
       "<Figure size 432x288 with 1 Axes>"
      ]
     },
     "metadata": {
      "needs_background": "light"
     },
     "output_type": "display_data"
    }
   ],
   "source": [
    "n=len(total_mean_other)\n",
    "x=np.sort(total_mean_other)\n",
    "y=np.arange(1,n+1)/n\n",
    "plt.plot(x,y,marker='.',linestyle='none')\n",
    "# Label the axes\n",
    "plt.xlabel('Interest rate for Other Grade Loans')\n",
    "plt.ylabel('ECDF')\n",
    "plt.show()"
   ]
  },
  {
   "cell_type": "markdown",
   "metadata": {},
   "source": [
    "It is very much clear from the above ECDF graph that the interest rates for the other grades lies in the range of (12.5,15)"
   ]
  },
  {
   "cell_type": "code",
   "execution_count": 91,
   "metadata": {},
   "outputs": [
    {
     "name": "stdout",
     "output_type": "stream",
     "text": [
      "Ttest_indResult(statistic=nan, pvalue=nan)\n",
      "The confidence interval for A grade loans is: (7.339761200000001, 7.327202348671294, 7.352320051328707)\n",
      "The confidence interval for all other loan other than A grade loans is:(nan, nan, nan)\n"
     ]
    }
   ],
   "source": [
    "from scipy import stats\n",
    "import scipy.stats\n",
    "print(stats.ttest_ind(total_mean_other,total_mean_A))\n",
    "\n",
    "def mean_confidence_interval(data, confidence=0.95):\n",
    "    a = 1.0 * np.array(data)\n",
    "    n = len(a)\n",
    "    m, se = np.mean(a), scipy.stats.sem(a)\n",
    "    h = se * scipy.stats.t.ppf((1 + confidence) / 2., n-1)\n",
    "    return m, m-h, m+h\n",
    "print(\"The confidence interval for A grade loans is: \"+str(mean_confidence_interval(total_mean_A)))\n",
    "print(\"The confidence interval for all other loan other than A grade loans is:\"+ str(mean_confidence_interval(total_mean_other)))\n",
    "           \n",
    "      "
   ]
  },
  {
   "cell_type": "markdown",
   "metadata": {},
   "source": [
    "Here, the p value is less than 0.05 hence the result is of high significance."
   ]
  },
  {
   "cell_type": "markdown",
   "metadata": {},
   "source": []
  },
  {
   "cell_type": "code",
   "execution_count": 92,
   "metadata": {},
   "outputs": [
    {
     "data": {
      "image/png": "[encoded data removed]",
      "text/plain": [
       "<Figure size 432x288 with 1 Axes>"
      ]
     },
     "metadata": {
      "needs_background": "light"
     },
     "output_type": "display_data"
    }
   ],
   "source": [
    "df.verification_status.groupby(df.loan_condition).value_counts().plot.bar()\n",
    "plt.show()\n"
   ]
  },
  {
   "cell_type": "markdown",
   "metadata": {},
   "source": [
    "The observation is quite unexpected as it was expected that people with verified status should have less charged off loans but it is the opposit. Hence,verification status does not give any clear idea of the impact on the loan condition. So we try to see in other way.\n"
   ]
  },
  {
   "cell_type": "markdown",
   "metadata": {},
   "source": []
  },
  {
   "cell_type": "code",
   "execution_count": 93,
   "metadata": {},
   "outputs": [
    {
     "data": {
      "text/html": [
       "<div>\n",
       "<style scoped>\n",
       "    .dataframe tbody tr th:only-of-type {\n",
       "        vertical-align: middle;\n",
       "    }\n",
       "\n",
       "    .dataframe tbody tr th {\n",
       "        vertical-align: top;\n",
       "    }\n",
       "\n",
       "    .dataframe thead th {\n",
       "        text-align: right;\n",
       "    }\n",
       "</style>\n",
       "<table border=\"1\" class=\"dataframe\">\n",
       "  <thead>\n",
       "    <tr style=\"text-align: right;\">\n",
       "      <th>loan_condition</th>\n",
       "      <th>Bad Loan</th>\n",
       "      <th>Good Loan</th>\n",
       "      <th>All</th>\n",
       "    </tr>\n",
       "    <tr>\n",
       "      <th>verification_status</th>\n",
       "      <th></th>\n",
       "      <th></th>\n",
       "      <th></th>\n",
       "    </tr>\n",
       "  </thead>\n",
       "  <tbody>\n",
       "    <tr>\n",
       "      <th>Not Verified</th>\n",
       "      <td>2655</td>\n",
       "      <td>16103</td>\n",
       "      <td>18758</td>\n",
       "    </tr>\n",
       "    <tr>\n",
       "      <th>Source Verified</th>\n",
       "      <td>1534</td>\n",
       "      <td>8772</td>\n",
       "      <td>10306</td>\n",
       "    </tr>\n",
       "    <tr>\n",
       "      <th>Verified</th>\n",
       "      <td>2242</td>\n",
       "      <td>11229</td>\n",
       "      <td>13471</td>\n",
       "    </tr>\n",
       "    <tr>\n",
       "      <th>All</th>\n",
       "      <td>6431</td>\n",
       "      <td>36104</td>\n",
       "      <td>42535</td>\n",
       "    </tr>\n",
       "  </tbody>\n",
       "</table>\n",
       "</div>"
      ],
      "text/plain": [
       "loan_condition       Bad Loan  Good Loan    All\n",
       "verification_status                            \n",
       "Not Verified             2655      16103  18758\n",
       "Source Verified          1534       8772  10306\n",
       "Verified                 2242      11229  13471\n",
       "All                      6431      36104  42535"
      ]
     },
     "execution_count": 93,
     "metadata": {},
     "output_type": "execute_result"
    }
   ],
   "source": [
    "pd.crosstab(df ['verification_status'], df ['loan_condition'], margins=True)\n"
   ]
  },
  {
   "cell_type": "markdown",
   "metadata": {},
   "source": [
    "This shows that 41.3% of the bad loans were not verified."
   ]
  },
  {
   "cell_type": "code",
   "execution_count": 94,
   "metadata": {},
   "outputs": [
    {
     "data": {
      "text/html": [
       "<div>\n",
       "<style scoped>\n",
       "    .dataframe tbody tr th:only-of-type {\n",
       "        vertical-align: middle;\n",
       "    }\n",
       "\n",
       "    .dataframe tbody tr th {\n",
       "        vertical-align: top;\n",
       "    }\n",
       "\n",
       "    .dataframe thead th {\n",
       "        text-align: right;\n",
       "    }\n",
       "</style>\n",
       "<table border=\"1\" class=\"dataframe\">\n",
       "  <thead>\n",
       "    <tr style=\"text-align: right;\">\n",
       "      <th></th>\n",
       "      <th>fico_range_low</th>\n",
       "      <th>fico_range_high</th>\n",
       "    </tr>\n",
       "  </thead>\n",
       "  <tbody>\n",
       "    <tr>\n",
       "      <th>count</th>\n",
       "      <td>42535.000000</td>\n",
       "      <td>42535.000000</td>\n",
       "    </tr>\n",
       "    <tr>\n",
       "      <th>mean</th>\n",
       "      <td>713.052545</td>\n",
       "      <td>717.052545</td>\n",
       "    </tr>\n",
       "    <tr>\n",
       "      <th>std</th>\n",
       "      <td>36.188439</td>\n",
       "      <td>36.188439</td>\n",
       "    </tr>\n",
       "    <tr>\n",
       "      <th>min</th>\n",
       "      <td>610.000000</td>\n",
       "      <td>614.000000</td>\n",
       "    </tr>\n",
       "    <tr>\n",
       "      <th>25%</th>\n",
       "      <td>685.000000</td>\n",
       "      <td>689.000000</td>\n",
       "    </tr>\n",
       "    <tr>\n",
       "      <th>50%</th>\n",
       "      <td>710.000000</td>\n",
       "      <td>714.000000</td>\n",
       "    </tr>\n",
       "    <tr>\n",
       "      <th>75%</th>\n",
       "      <td>740.000000</td>\n",
       "      <td>744.000000</td>\n",
       "    </tr>\n",
       "    <tr>\n",
       "      <th>max</th>\n",
       "      <td>825.000000</td>\n",
       "      <td>829.000000</td>\n",
       "    </tr>\n",
       "  </tbody>\n",
       "</table>\n",
       "</div>"
      ],
      "text/plain": [
       "       fico_range_low  fico_range_high\n",
       "count    42535.000000     42535.000000\n",
       "mean       713.052545       717.052545\n",
       "std         36.188439        36.188439\n",
       "min        610.000000       614.000000\n",
       "25%        685.000000       689.000000\n",
       "50%        710.000000       714.000000\n",
       "75%        740.000000       744.000000\n",
       "max        825.000000       829.000000"
      ]
     },
     "execution_count": 94,
     "metadata": {},
     "output_type": "execute_result"
    }
   ],
   "source": [
    "df[['fico_range_low', 'fico_range_high']].describe()\n"
   ]
  },
  {
   "cell_type": "code",
   "execution_count": 95,
   "metadata": {},
   "outputs": [
    {
     "data": {
      "image/png": "[encoded data removed]",
      "text/plain": [
       "<Figure size 432x288 with 1 Axes>"
      ]
     },
     "metadata": {
      "needs_background": "light"
     },
     "output_type": "display_data"
    }
   ],
   "source": [
    "df.grade.groupby(df.loan_condition).value_counts().plot.bar()\n",
    "plt.show()"
   ]
  },
  {
   "cell_type": "markdown",
   "metadata": {},
   "source": [
    "Number of bad loans were less in the category A jobs and it had more number of good loans as compared to the other category."
   ]
  },
  {
   "cell_type": "markdown",
   "metadata": {},
   "source": [
    "# Correlation among the features"
   ]
  },
  {
   "cell_type": "markdown",
   "metadata": {},
   "source": [
    "Few important columns are selected from the full dataset based on the significance and the data present prior to the approval of the loan. The columns are saved in 'imp_columns' list.\n",
    "\n",
    "Now we will see the correlation between the numerical data"
   ]
  },
  {
   "cell_type": "code",
   "execution_count": 96,
   "metadata": {},
   "outputs": [
    {
     "data": {
      "text/html": [
       "<div>\n",
       "<style scoped>\n",
       "    .dataframe tbody tr th:only-of-type {\n",
       "        vertical-align: middle;\n",
       "    }\n",
       "\n",
       "    .dataframe tbody tr th {\n",
       "        vertical-align: top;\n",
       "    }\n",
       "\n",
       "    .dataframe thead th {\n",
       "        text-align: right;\n",
       "    }\n",
       "</style>\n",
       "<table border=\"1\" class=\"dataframe\">\n",
       "  <thead>\n",
       "    <tr style=\"text-align: right;\">\n",
       "      <th></th>\n",
       "      <th>loan_amount</th>\n",
       "      <th>interest_rate</th>\n",
       "      <th>emp_length</th>\n",
       "      <th>annual_income</th>\n",
       "      <th>fico_range_low</th>\n",
       "      <th>fico_range_high</th>\n",
       "    </tr>\n",
       "  </thead>\n",
       "  <tbody>\n",
       "    <tr>\n",
       "      <th>loan_amount</th>\n",
       "      <td>1.000000</td>\n",
       "      <td>0.292346</td>\n",
       "      <td>0.158339</td>\n",
       "      <td>0.276122</td>\n",
       "      <td>0.133232</td>\n",
       "      <td>0.133232</td>\n",
       "    </tr>\n",
       "    <tr>\n",
       "      <th>interest_rate</th>\n",
       "      <td>0.292346</td>\n",
       "      <td>1.000000</td>\n",
       "      <td>0.000062</td>\n",
       "      <td>0.054365</td>\n",
       "      <td>-0.702587</td>\n",
       "      <td>-0.702587</td>\n",
       "    </tr>\n",
       "    <tr>\n",
       "      <th>emp_length</th>\n",
       "      <td>0.158339</td>\n",
       "      <td>0.000062</td>\n",
       "      <td>1.000000</td>\n",
       "      <td>0.115990</td>\n",
       "      <td>0.089997</td>\n",
       "      <td>0.089997</td>\n",
       "    </tr>\n",
       "    <tr>\n",
       "      <th>annual_income</th>\n",
       "      <td>0.276122</td>\n",
       "      <td>0.054365</td>\n",
       "      <td>0.115990</td>\n",
       "      <td>1.000000</td>\n",
       "      <td>0.052027</td>\n",
       "      <td>0.052027</td>\n",
       "    </tr>\n",
       "    <tr>\n",
       "      <th>fico_range_low</th>\n",
       "      <td>0.133232</td>\n",
       "      <td>-0.702587</td>\n",
       "      <td>0.089997</td>\n",
       "      <td>0.052027</td>\n",
       "      <td>1.000000</td>\n",
       "      <td>1.000000</td>\n",
       "    </tr>\n",
       "    <tr>\n",
       "      <th>fico_range_high</th>\n",
       "      <td>0.133232</td>\n",
       "      <td>-0.702587</td>\n",
       "      <td>0.089997</td>\n",
       "      <td>0.052027</td>\n",
       "      <td>1.000000</td>\n",
       "      <td>1.000000</td>\n",
       "    </tr>\n",
       "  </tbody>\n",
       "</table>\n",
       "</div>"
      ],
      "text/plain": [
       "                 loan_amount  interest_rate  emp_length  annual_income  \\\n",
       "loan_amount         1.000000       0.292346    0.158339       0.276122   \n",
       "interest_rate       0.292346       1.000000    0.000062       0.054365   \n",
       "emp_length          0.158339       0.000062    1.000000       0.115990   \n",
       "annual_income       0.276122       0.054365    0.115990       1.000000   \n",
       "fico_range_low      0.133232      -0.702587    0.089997       0.052027   \n",
       "fico_range_high     0.133232      -0.702587    0.089997       0.052027   \n",
       "\n",
       "                 fico_range_low  fico_range_high  \n",
       "loan_amount            0.133232         0.133232  \n",
       "interest_rate         -0.702587        -0.702587  \n",
       "emp_length             0.089997         0.089997  \n",
       "annual_income          0.052027         0.052027  \n",
       "fico_range_low         1.000000         1.000000  \n",
       "fico_range_high        1.000000         1.000000  "
      ]
     },
     "execution_count": 96,
     "metadata": {},
     "output_type": "execute_result"
    }
   ],
   "source": [
    "imp_columns=['loan_amount','term','interest_rate','grade','emp_length','home_ownership','annual_income','verification_status','loan_status','loan_condition','purpose','title','addr_state','fico_range_low','fico_range_high','income_category']\n",
    "df2=df[imp_columns]\n",
    "df2.corr()"
   ]
  },
  {
   "cell_type": "markdown",
   "metadata": {},
   "source": [
    "employee length,annual income and fico scores have strong positive correlation with the loan amount ."
   ]
  },
  {
   "cell_type": "code",
   "execution_count": 97,
   "metadata": {},
   "outputs": [
    {
     "data": {
      "text/html": [
       "<div>\n",
       "<style scoped>\n",
       "    .dataframe tbody tr th:only-of-type {\n",
       "        vertical-align: middle;\n",
       "    }\n",
       "\n",
       "    .dataframe tbody tr th {\n",
       "        vertical-align: top;\n",
       "    }\n",
       "\n",
       "    .dataframe thead th {\n",
       "        text-align: right;\n",
       "    }\n",
       "</style>\n",
       "<table border=\"1\" class=\"dataframe\">\n",
       "  <thead>\n",
       "    <tr style=\"text-align: right;\">\n",
       "      <th></th>\n",
       "      <th>loan_amount</th>\n",
       "      <th>term</th>\n",
       "      <th>interest_rate</th>\n",
       "      <th>grade</th>\n",
       "      <th>emp_length</th>\n",
       "      <th>home_ownership</th>\n",
       "      <th>annual_income</th>\n",
       "      <th>verification_status</th>\n",
       "      <th>loan_status</th>\n",
       "      <th>loan_condition</th>\n",
       "      <th>purpose</th>\n",
       "      <th>title</th>\n",
       "      <th>addr_state</th>\n",
       "      <th>fico_range_low</th>\n",
       "      <th>fico_range_high</th>\n",
       "      <th>income_category</th>\n",
       "    </tr>\n",
       "  </thead>\n",
       "  <tbody>\n",
       "    <tr>\n",
       "      <th>0</th>\n",
       "      <td>5000.0</td>\n",
       "      <td>36</td>\n",
       "      <td>10.65</td>\n",
       "      <td>B</td>\n",
       "      <td>10.0</td>\n",
       "      <td>RENT</td>\n",
       "      <td>24000.0</td>\n",
       "      <td>Verified</td>\n",
       "      <td>Fully Paid</td>\n",
       "      <td>Good Loan</td>\n",
       "      <td>credit_card</td>\n",
       "      <td>Computer</td>\n",
       "      <td>AZ</td>\n",
       "      <td>735.0</td>\n",
       "      <td>739.0</td>\n",
       "      <td>Low</td>\n",
       "    </tr>\n",
       "    <tr>\n",
       "      <th>1</th>\n",
       "      <td>2500.0</td>\n",
       "      <td>60</td>\n",
       "      <td>15.27</td>\n",
       "      <td>C</td>\n",
       "      <td>0.0</td>\n",
       "      <td>RENT</td>\n",
       "      <td>30000.0</td>\n",
       "      <td>Source Verified</td>\n",
       "      <td>Charged Off</td>\n",
       "      <td>Bad Loan</td>\n",
       "      <td>car</td>\n",
       "      <td>bike</td>\n",
       "      <td>GA</td>\n",
       "      <td>740.0</td>\n",
       "      <td>744.0</td>\n",
       "      <td>Low</td>\n",
       "    </tr>\n",
       "    <tr>\n",
       "      <th>2</th>\n",
       "      <td>2400.0</td>\n",
       "      <td>36</td>\n",
       "      <td>15.96</td>\n",
       "      <td>C</td>\n",
       "      <td>10.0</td>\n",
       "      <td>RENT</td>\n",
       "      <td>12252.0</td>\n",
       "      <td>Not Verified</td>\n",
       "      <td>Fully Paid</td>\n",
       "      <td>Good Loan</td>\n",
       "      <td>small_business</td>\n",
       "      <td>real estate business</td>\n",
       "      <td>IL</td>\n",
       "      <td>735.0</td>\n",
       "      <td>739.0</td>\n",
       "      <td>Low</td>\n",
       "    </tr>\n",
       "    <tr>\n",
       "      <th>3</th>\n",
       "      <td>10000.0</td>\n",
       "      <td>36</td>\n",
       "      <td>13.49</td>\n",
       "      <td>C</td>\n",
       "      <td>10.0</td>\n",
       "      <td>RENT</td>\n",
       "      <td>49200.0</td>\n",
       "      <td>Source Verified</td>\n",
       "      <td>Fully Paid</td>\n",
       "      <td>Good Loan</td>\n",
       "      <td>other</td>\n",
       "      <td>personel</td>\n",
       "      <td>CA</td>\n",
       "      <td>690.0</td>\n",
       "      <td>694.0</td>\n",
       "      <td>Low</td>\n",
       "    </tr>\n",
       "    <tr>\n",
       "      <th>4</th>\n",
       "      <td>3000.0</td>\n",
       "      <td>60</td>\n",
       "      <td>12.69</td>\n",
       "      <td>B</td>\n",
       "      <td>1.0</td>\n",
       "      <td>RENT</td>\n",
       "      <td>80000.0</td>\n",
       "      <td>Source Verified</td>\n",
       "      <td>Fully Paid</td>\n",
       "      <td>Good Loan</td>\n",
       "      <td>other</td>\n",
       "      <td>Personal</td>\n",
       "      <td>OR</td>\n",
       "      <td>695.0</td>\n",
       "      <td>699.0</td>\n",
       "      <td>Low</td>\n",
       "    </tr>\n",
       "  </tbody>\n",
       "</table>\n",
       "</div>"
      ],
      "text/plain": [
       "   loan_amount term  interest_rate grade  emp_length home_ownership  \\\n",
       "0       5000.0  36           10.65     B        10.0           RENT   \n",
       "1       2500.0  60           15.27     C         0.0           RENT   \n",
       "2       2400.0  36           15.96     C        10.0           RENT   \n",
       "3      10000.0  36           13.49     C        10.0           RENT   \n",
       "4       3000.0  60           12.69     B         1.0           RENT   \n",
       "\n",
       "   annual_income verification_status  loan_status loan_condition  \\\n",
       "0        24000.0            Verified   Fully Paid      Good Loan   \n",
       "1        30000.0     Source Verified  Charged Off       Bad Loan   \n",
       "2        12252.0        Not Verified   Fully Paid      Good Loan   \n",
       "3        49200.0     Source Verified   Fully Paid      Good Loan   \n",
       "4        80000.0     Source Verified   Fully Paid      Good Loan   \n",
       "\n",
       "          purpose                 title addr_state  fico_range_low  \\\n",
       "0     credit_card              Computer         AZ           735.0   \n",
       "1             car                  bike         GA           740.0   \n",
       "2  small_business  real estate business         IL           735.0   \n",
       "3           other              personel         CA           690.0   \n",
       "4           other              Personal         OR           695.0   \n",
       "\n",
       "   fico_range_high income_category  \n",
       "0            739.0             Low  \n",
       "1            744.0             Low  \n",
       "2            739.0             Low  \n",
       "3            694.0             Low  \n",
       "4            699.0             Low  "
      ]
     },
     "execution_count": 97,
     "metadata": {},
     "output_type": "execute_result"
    }
   ],
   "source": [
    "df[imp_columns].head()"
   ]
  },
  {
   "cell_type": "markdown",
   "metadata": {},
   "source": [
    "Correlation between all the important columns:"
   ]
  },
  {
   "cell_type": "code",
   "execution_count": 98,
   "metadata": {},
   "outputs": [],
   "source": [
    "df2.apply(lambda x: x.factorize()[0]).corr()\n",
    "corr_imp=df2.apply(lambda x: x.factorize()[0]).corr()\n"
   ]
  },
  {
   "cell_type": "code",
   "execution_count": 99,
   "metadata": {},
   "outputs": [
    {
     "data": {
      "text/plain": [
       "<matplotlib.axes._subplots.AxesSubplot at 0x1a215006d8>"
      ]
     },
     "execution_count": 99,
     "metadata": {},
     "output_type": "execute_result"
    },
    {
     "data": {
      "image/png": "[encoded data removed]",
      "text/plain": [
       "<Figure size 432x288 with 2 Axes>"
      ]
     },
     "metadata": {
      "needs_background": "light"
     },
     "output_type": "display_data"
    }
   ],
   "source": [
    "import seaborn as sns\n",
    "\n",
    "sns.heatmap(corr_imp, \n",
    "        xticklabels=corr_imp.columns,\n",
    "        yticklabels=corr_imp.columns)"
   ]
  },
  {
   "cell_type": "code",
   "execution_count": null,
   "metadata": {},
   "outputs": [],
   "source": []
  },
  {
   "cell_type": "code",
   "execution_count": null,
   "metadata": {},
   "outputs": [],
   "source": []
  },
  {
   "cell_type": "markdown",
   "metadata": {},
   "source": [
    "# Data Preparation for Model Building"
   ]
  },
  {
   "cell_type": "code",
   "execution_count": 100,
   "metadata": {},
   "outputs": [
    {
     "data": {
      "text/plain": [
       "loan_amount            int64\n",
       "term                   int64\n",
       "interest_rate          int64\n",
       "grade                  int64\n",
       "emp_length             int64\n",
       "home_ownership         int64\n",
       "annual_income          int64\n",
       "verification_status    int64\n",
       "loan_status            int64\n",
       "loan_condition         int64\n",
       "purpose                int64\n",
       "title                  int64\n",
       "addr_state             int64\n",
       "fico_range_low         int64\n",
       "fico_range_high        int64\n",
       "income_category        int64\n",
       "dtype: object"
      ]
     },
     "execution_count": 100,
     "metadata": {},
     "output_type": "execute_result"
    }
   ],
   "source": [
    "# Convert all non-numeric values to number\n",
    "from sklearn import preprocessing\n",
    "from sklearn.preprocessing import LabelEncoder\n",
    "for var in df.columns:\n",
    "    le = LabelEncoder()\n",
    "    df[var]=df[var].astype('str')\n",
    "    df[var]=le.fit_transform(df[var])\n",
    "df[imp_columns].dtypes\n"
   ]
  },
  {
   "cell_type": "markdown",
   "metadata": {},
   "source": [
    "# Model building"
   ]
  },
  {
   "cell_type": "code",
   "execution_count": 101,
   "metadata": {},
   "outputs": [],
   "source": [
    "from sklearn import preprocessing\n",
    "target_name='loan_condition'\n",
    "y= df.loan_condition\n",
    "X= df.drop(target_name,axis=1)\n",
    "from sklearn.model_selection import train_test_split\n",
    "X_train, X_test, y_train, y_test = train_test_split(X, y, stratify=y, random_state=123)\n",
    "from sklearn import neighbors\n",
    "knn = neighbors.KNeighborsClassifier(n_neighbors=5)"
   ]
  },
  {
   "cell_type": "code",
   "execution_count": 102,
   "metadata": {},
   "outputs": [
    {
     "data": {
      "text/plain": [
       "KNeighborsClassifier(algorithm='auto', leaf_size=30, metric='minkowski',\n",
       "                     metric_params=None, n_jobs=None, n_neighbors=5, p=2,\n",
       "                     weights='uniform')"
      ]
     },
     "execution_count": 102,
     "metadata": {},
     "output_type": "execute_result"
    }
   ],
   "source": [
    "knn.fit(X_train, y_train)"
   ]
  },
  {
   "cell_type": "code",
   "execution_count": 103,
   "metadata": {},
   "outputs": [],
   "source": [
    "y_predict=knn.predict(X_test)\n",
    "#y_predict=y_predict.reshape(-1,1)"
   ]
  },
  {
   "cell_type": "code",
   "execution_count": 114,
   "metadata": {},
   "outputs": [
    {
     "name": "stdout",
     "output_type": "stream",
     "text": [
      "Accuracy: 0.9310831139526138\n"
     ]
    }
   ],
   "source": [
    "from sklearn import metrics\n",
    "# Model Accuracy, how often is the classifier correct?\n",
    "print(\"Accuracy:\",metrics.accuracy_score(y_test, y_predict))"
   ]
  },
  {
   "cell_type": "markdown",
   "metadata": {},
   "source": [
    "We got an accuracy of 0.93 . As our model has good loans dominating the sample we may need to over sample our data with bad sample."
   ]
  },
  {
   "cell_type": "markdown",
   "metadata": {},
   "source": [
    "We would now check the effect on the accuracy by changing n in the model and the graph is plotted below:"
   ]
  },
  {
   "cell_type": "code",
   "execution_count": 112,
   "metadata": {},
   "outputs": [
    {
     "data": {
      "image/png": "[encoded data removed]",
      "text/plain": [
       "<Figure size 432x288 with 1 Axes>"
      ]
     },
     "metadata": {
      "needs_background": "light"
     },
     "output_type": "display_data"
    }
   ],
   "source": [
    "neighbors = np.arange(1, 9)\n",
    "train_accuracy = np.empty(len(neighbors))\n",
    "test_accuracy = np.empty(len(neighbors))\n",
    "from sklearn.neighbors import KNeighborsClassifier\n",
    "# Loop over different values of k\n",
    "for i, k in enumerate(neighbors):\n",
    "    # Setup a k-NN Classifier with k neighbors: knn\n",
    "    knn = KNeighborsClassifier(n_neighbors=k)\n",
    "\n",
    "    # Fit the classifier to the training data\n",
    "    knn.fit(X_train,y_train)\n",
    "    \n",
    "    #Compute accuracy on the training set\n",
    "    train_accuracy[i] = knn.score(X_train, y_train)\n",
    "\n",
    "    #Compute accuracy on the testing set\n",
    "    test_accuracy[i] = knn.score(X_test, y_test)\n",
    "\n",
    "# Generate plot\n",
    "plt.title('k-NN: Varying Number of Neighbors')\n",
    "plt.plot(neighbors, test_accuracy, label = 'Testing Accuracy')\n",
    "plt.plot(neighbors, train_accuracy, label = 'Training Accuracy')\n",
    "plt.legend()\n",
    "plt.xlabel('Number of Neighbors')\n",
    "plt.ylabel('Accuracy')\n",
    "plt.show()\n"
   ]
  },
  {
   "cell_type": "markdown",
   "metadata": {},
   "source": [
    "From the above graph we can see that we get best result at n= 4 which gives us training accuracy as 0.96 and testing accuracy as 0.94"
   ]
  },
  {
   "cell_type": "markdown",
   "metadata": {},
   "source": [
    "# Confusion Matrix"
   ]
  },
  {
   "cell_type": "code",
   "execution_count": 115,
   "metadata": {},
   "outputs": [
    {
     "name": "stdout",
     "output_type": "stream",
     "text": [
      "[[1608    0]\n",
      " [   0 9028]]\n",
      "[[1608    0]\n",
      " [   0 9028]]\n"
     ]
    }
   ],
   "source": [
    "#Random Forest\n",
    "from sklearn.metrics import confusion_matrix\n",
    "from sklearn.ensemble import RandomForestClassifier\n",
    "rf = RandomForestClassifier(n_estimators = 10000, random_state = 42)\n",
    "rf.fit(X_train, y_train);\n",
    "predictions = rf.predict(X_test)\n",
    "cm = confusion_matrix(y_test,predictions)\n",
    "print(cm)\n",
    "\n",
    "#Decision Tree\n",
    "\n",
    "from sklearn import tree\n",
    "clf = tree.DecisionTreeClassifier()\n",
    "clf = clf.fit(X_train, y_train)\n",
    "predictions = clf.predict(X_test)\n",
    "cm2 = confusion_matrix(y_test,predictions)\n",
    "print(cm2)"
   ]
  },
  {
   "cell_type": "markdown",
   "metadata": {},
   "source": [
    "Imbalanced datasets can be seen everywhere. Usually banks want to predict fraudulent credit card charges but only a small fraction of observations are actually positives. I’d guess that only 1 in 10,000 credit card charges are fraudulent, at most. Recently, oversampling the minority class observations has become a common approach to improve the quality of predictive modeling. By oversampling, models are sometimes better able to learn patterns that differentiate classes."
   ]
  },
  {
   "cell_type": "code",
   "execution_count": 1131,
   "metadata": {},
   "outputs": [
    {
     "name": "stdout",
     "output_type": "stream",
     "text": [
      "Collecting imblearn\n",
      "  Downloading https://files.pythonhosted.org/packages/81/a7/4179e6ebfd654bd0eac0b9c06125b8b4c96a9d0a8ff9e9507eb2a26d2d7e/imblearn-0.0-py2.py3-none-any.whl\n",
      "Collecting imbalanced-learn (from imblearn)\n",
      "\u001b[?25l  Downloading https://files.pythonhosted.org/packages/e6/62/08c14224a7e242df2cef7b312d2ef821c3931ec9b015ff93bb52ec8a10a3/imbalanced_learn-0.5.0-py3-none-any.whl (173kB)\n",
      "\u001b[K    100% |████████████████████████████████| 174kB 3.3MB/s ta 0:00:01\n",
      "\u001b[?25hRequirement already satisfied: scipy>=0.17 in /Users/ankit/anaconda3/lib/python3.7/site-packages (from imbalanced-learn->imblearn) (1.2.1)\n",
      "Requirement already satisfied: numpy>=1.11 in /Users/ankit/anaconda3/lib/python3.7/site-packages (from imbalanced-learn->imblearn) (1.16.2)\n",
      "Collecting scikit-learn>=0.21 (from imbalanced-learn->imblearn)\n",
      "\u001b[?25l  Downloading https://files.pythonhosted.org/packages/e9/57/8a9889d49d0d77905af5a7524fb2b468d2ef5fc723684f51f5ca63efed0d/scikit_learn-0.21.3-cp37-cp37m-macosx_10_6_intel.macosx_10_9_intel.macosx_10_9_x86_64.macosx_10_10_intel.macosx_10_10_x86_64.whl (10.5MB)\n",
      "\u001b[K    100% |████████████████████████████████| 10.5MB 1.0MB/s ta 0:00:01\n",
      "\u001b[?25hRequirement already satisfied: joblib>=0.11 in /Users/ankit/anaconda3/lib/python3.7/site-packages (from imbalanced-learn->imblearn) (0.12.5)\n",
      "Installing collected packages: scikit-learn, imbalanced-learn, imblearn\n",
      "  Found existing installation: scikit-learn 0.20.3\n",
      "    Uninstalling scikit-learn-0.20.3:\n",
      "      Successfully uninstalled scikit-learn-0.20.3\n",
      "Successfully installed imbalanced-learn-0.5.0 imblearn-0.0 scikit-learn-0.21.3\n"
     ]
    }
   ],
   "source": [
    "!pip install imblearn\n"
   ]
  },
  {
   "cell_type": "code",
   "execution_count": 116,
   "metadata": {},
   "outputs": [],
   "source": [
    "from imblearn.over_sampling import SMOTE\n"
   ]
  },
  {
   "cell_type": "code",
   "execution_count": 117,
   "metadata": {},
   "outputs": [],
   "source": [
    "sm = SMOTE(random_state=12, ratio = 1.0)\n",
    "x_train_res, y_train_res = sm.fit_sample(X_train, y_train)\n",
    "print y_train.value_counts(), np.bincount(y_res)\n"
   ]
  },
  {
   "cell_type": "code",
   "execution_count": 119,
   "metadata": {},
   "outputs": [
    {
     "data": {
      "text/plain": [
       "array([[18463,   379,   446, ...,  4955,     2,     0],\n",
       "       [25199,   834,   983, ...,  2021,     1,     0],\n",
       "       [ 7970,    84,    89, ...,  4286,     1,     0],\n",
       "       ...,\n",
       "       [25073,   304,   354, ...,  1543,     1,     1],\n",
       "       [ 6383,   407,   487, ...,  1526,     1,     1],\n",
       "       [12079,   319,   365, ...,  3444,     1,     1]])"
      ]
     },
     "execution_count": 119,
     "metadata": {},
     "output_type": "execute_result"
    }
   ],
   "source": [
    "x_train_res"
   ]
  },
  {
   "cell_type": "code",
   "execution_count": 128,
   "metadata": {},
   "outputs": [
    {
     "name": "stdout",
     "output_type": "stream",
     "text": [
      "Validation Results\n",
      "1.0\n",
      "1.0\n"
     ]
    },
    {
     "ename": "NameError",
     "evalue": "name 'test_features' is not defined",
     "output_type": "error",
     "traceback": [
      "\u001b[0;31m---------------------------------------------------------------------------\u001b[0m",
      "\u001b[0;31mNameError\u001b[0m                                 Traceback (most recent call last)",
      "\u001b[0;32m<ipython-input-128-0853762c1841>\u001b[0m in \u001b[0;36m<module>\u001b[0;34m\u001b[0m\n\u001b[1;32m      6\u001b[0m \u001b[0mprint\u001b[0m\u001b[0;34m(\u001b[0m\u001b[0mclf_rf\u001b[0m\u001b[0;34m.\u001b[0m\u001b[0mscore\u001b[0m\u001b[0;34m(\u001b[0m\u001b[0mX_test\u001b[0m\u001b[0;34m,\u001b[0m \u001b[0my_test\u001b[0m\u001b[0;34m)\u001b[0m\u001b[0;34m)\u001b[0m\u001b[0;34m\u001b[0m\u001b[0;34m\u001b[0m\u001b[0m\n\u001b[1;32m      7\u001b[0m \u001b[0mprint\u001b[0m\u001b[0;34m(\u001b[0m\u001b[0mrecall_score\u001b[0m\u001b[0;34m(\u001b[0m\u001b[0my_test\u001b[0m\u001b[0;34m,\u001b[0m \u001b[0mclf_rf\u001b[0m\u001b[0;34m.\u001b[0m\u001b[0mpredict\u001b[0m\u001b[0;34m(\u001b[0m\u001b[0mX_test\u001b[0m\u001b[0;34m)\u001b[0m\u001b[0;34m)\u001b[0m\u001b[0;34m)\u001b[0m\u001b[0;34m\u001b[0m\u001b[0;34m\u001b[0m\u001b[0m\n\u001b[0;32m----> 8\u001b[0;31m \u001b[0mprint\u001b[0m\u001b[0;34m(\u001b[0m\u001b[0mclf_rf\u001b[0m\u001b[0;34m.\u001b[0m\u001b[0mscore\u001b[0m\u001b[0;34m(\u001b[0m\u001b[0mtest_features\u001b[0m\u001b[0;34m,\u001b[0m \u001b[0mtest_target\u001b[0m\u001b[0;34m)\u001b[0m\u001b[0;34m)\u001b[0m\u001b[0;34m\u001b[0m\u001b[0;34m\u001b[0m\u001b[0m\n\u001b[0m\u001b[1;32m      9\u001b[0m \u001b[0mprint\u001b[0m\u001b[0;34m(\u001b[0m\u001b[0mrecall_score\u001b[0m\u001b[0;34m(\u001b[0m\u001b[0mtest_target\u001b[0m\u001b[0;34m,\u001b[0m \u001b[0mclf_rf\u001b[0m\u001b[0;34m.\u001b[0m\u001b[0mpredict\u001b[0m\u001b[0;34m(\u001b[0m\u001b[0mtest_features\u001b[0m\u001b[0;34m)\u001b[0m\u001b[0;34m)\u001b[0m\u001b[0;34m)\u001b[0m\u001b[0;34m\u001b[0m\u001b[0;34m\u001b[0m\u001b[0m\n",
      "\u001b[0;31mNameError\u001b[0m: name 'test_features' is not defined"
     ]
    }
   ],
   "source": [
    "from sklearn.metrics import recall_score\n",
    "\n",
    "clf_rf = RandomForestClassifier(n_estimators=25, random_state=12)\n",
    "clf_rf.fit(x_train_res, y_train_res)\n",
    "print('Validation Results')\n",
    "print(clf_rf.score(X_test, y_test))\n",
    "print(recall_score(y_test, clf_rf.predict(X_test)))\n",
    "print(clf_rf.score(test_features, test_target))\n",
    "print(recall_score(test_target, clf_rf.predict(test_features)))"
   ]
  },
  {
   "cell_type": "code",
   "execution_count": null,
   "metadata": {},
   "outputs": [],
   "source": []
  }
 ],
 "metadata": {
  "kernelspec": {
   "display_name": "Python 3",
   "language": "python",
   "name": "python3"
  },
  "language_info": {
   "codemirror_mode": {
    "name": "ipython",
    "version": 3
   },
   "file_extension": ".py",
   "mimetype": "text/x-python",
   "name": "python",
   "nbconvert_exporter": "python",
   "pygments_lexer": "ipython3",
   "version": "3.7.3"
  }
 },
 "nbformat": 4,
 "nbformat_minor": 2
}
