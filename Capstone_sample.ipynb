{
 "cells": [
  {
   "cell_type": "markdown",
   "metadata": {},
   "source": [
    "# Lending Club Data Set Prediction"
   ]
  },
  {
   "cell_type": "markdown",
   "metadata": {},
   "source": [
    "#### Company Information:\n",
    "\n",
    "Lending Club is a peer to peer lending company based in the United States, in which investors provide funds for potential borrowers and investors earn a profit depending on the risk they take (the borrowers credit score). Lending Club provides the \"bridge\" between investors and borrowers.\n",
    "\n"
   ]
  },
  {
   "cell_type": "markdown",
   "metadata": {},
   "source": [
    "#### Questions to be Answered:\n",
    "    \n",
    "We will use data science and exploratory data analysis to take a peek Lending Club’s loan data from 2007 to 2011, focusing on the following questions regarding this period:\n",
    "\n",
    "Loan Absolute Variables Distribution: How does loan value, amount funded by lender and total committed by investors distribution looks like?\n",
    "Applicants income range: Range of Applicants income for both good and bad loans\n",
    "\n",
    "Defaults Volume: How many loans were defaulted?\n",
    "\n",
    "Average Interest Rates: What was the range of interest rate for the loans?\n",
    "\n",
    "Loan Purpose: What were the most frequent Loan Purposes?\n",
    "\n",
    "Loan Grades: Variation of interest rates for the different grades of loans\n",
    "\n",
    "Delinquency Breakdown: How many loans were Charged Off(Bad loans)?\n",
    "\n",
    "How does the loan data distribution look like? Using Data Science, we will paint a picture detailing the most important aspects related to the loans and perform EDA (Exploratory Data Analysis).\n",
    "\n",
    "Are the loan grades from LC optimal? Loan grades are critical for P2P Marketplaces, as they measure the probability of a client going incurring into default, thus being crucial for businesses’ profitability.\n",
    "\n",
    "Can we create a better, optimized model to predict credit risk using machine learning? \n",
    "\n",
    "By analyzing these aspects, we will be able to understand our data better and also get to know a bit of Lending Club’s story.\n",
    "The dataset contains 887K loan applications from 2007 through 2011 and it can be downloaded from the url www.lendingclub.com.\n",
    "    \n",
    "\n"
   ]
  },
  {
   "cell_type": "code",
   "execution_count": null,
   "metadata": {},
   "outputs": [],
   "source": [
    "#import warnings\n",
    "#warnings.filterwarnings(\"ignore\")\n",
    "import pandas as pd\n",
    "import numpy as np\n",
    "import matplotlib.pyplot as plt\n",
    "import seaborn as sns\n",
    "from scipy.stats import t\n",
    "from numpy.random import seed\n",
    "from scipy.stats import norm\n",
    "from scipy.stats import ttest_ind_from_stats\n",
    "df= pd.read_csv('LoanStats3a_securev1_new.csv',low_memory=False)\n"
   ]
  },
  {
   "cell_type": "markdown",
   "metadata": {},
   "source": [
    "## Understanding the various features (columns) of the dataset\n"
   ]
  },
  {
   "cell_type": "code",
   "execution_count": null,
   "metadata": {},
   "outputs": [],
   "source": [
    "print(df.info())\n",
    "df.head()\n",
    "df.columns"
   ]
  },
  {
   "cell_type": "code",
   "execution_count": null,
   "metadata": {},
   "outputs": [],
   "source": [
    "print(df.shape)"
   ]
  },
  {
   "cell_type": "code",
   "execution_count": null,
   "metadata": {},
   "outputs": [],
   "source": [
    "df.head()"
   ]
  },
  {
   "cell_type": "markdown",
   "metadata": {},
   "source": [
    "## Data Wrangling"
   ]
  },
  {
   "cell_type": "code",
   "execution_count": null,
   "metadata": {},
   "outputs": [],
   "source": [
    "#rename the column names\n",
    "\n",
    "df = df.rename(columns={\"loan_amnt\": \"loan_amount\", \"funded_amnt\": \"funded_amount\", \"funded_amnt_inv\": \"investor_funds\",\n",
    "                       \"int_rate\": \"interest_rate\", \"annual_inc\": \"annual_income\"})\n"
   ]
  },
  {
   "cell_type": "code",
   "execution_count": null,
   "metadata": {},
   "outputs": [],
   "source": [
    "df.head()\n",
    "print(type(df['interest_rate'][0]))"
   ]
  },
  {
   "cell_type": "code",
   "execution_count": null,
   "metadata": {},
   "outputs": [],
   "source": [
    "#removing percentage sign from the interest_rate and convert it to float from string\n",
    "df.interest_rate = df.interest_rate.str.replace('%', '').astype('float64')\n",
    "print(df.interest_rate.head())"
   ]
  },
  {
   "cell_type": "code",
   "execution_count": null,
   "metadata": {},
   "outputs": [],
   "source": [
    "#remove months from term colums\n",
    "df.term = df.term.str.replace('months', '')\n",
    "df.term.head()"
   ]
  },
  {
   "cell_type": "code",
   "execution_count": null,
   "metadata": {},
   "outputs": [],
   "source": [
    "#setting up the index\n",
    "df.set_index('id')\n",
    "\n",
    "#member_id column shows Nan value and is of less significance hence we drop it\n",
    "df.drop(['member_id'],axis=1,inplace=True)"
   ]
  },
  {
   "cell_type": "code",
   "execution_count": null,
   "metadata": {},
   "outputs": [],
   "source": [
    "missing_fractions = df.isnull().mean().sort_values(ascending=False)\n",
    "missing_fractions.head(20)"
   ]
  },
  {
   "cell_type": "code",
   "execution_count": null,
   "metadata": {},
   "outputs": [],
   "source": [
    "plt.figure(figsize=(6,3), dpi=90)\n",
    "missing_fractions.plot.hist(bins=20)\n",
    "plt.title('Histogram of Feature Incompleteness')\n",
    "plt.xlabel('Fraction of data missing')\n",
    "plt.ylabel('Feature count')"
   ]
  },
  {
   "cell_type": "markdown",
   "metadata": {},
   "source": [
    "From the above histogram, we see there's a large gap between features missing \"some\" data (<20%) and those missing \"lots\" of data (>40%). Because it's generally very difficult to accurately impute data with more than 30% missing values, we drop such columns. First store all variables missing more than 30% data in an alphabetical list:"
   ]
  },
  {
   "cell_type": "code",
   "execution_count": null,
   "metadata": {},
   "outputs": [],
   "source": [
    "drop_list = sorted(list(missing_fractions[missing_fractions > 0.3].index))\n",
    "print(len(drop_list))\n",
    "df.drop(labels=drop_list, axis=1, inplace=True)\n",
    "df.shape"
   ]
  },
  {
   "cell_type": "markdown",
   "metadata": {},
   "source": [
    "So now we dropped the columns with more than 30% missing values and hare left with 58 columns."
   ]
  },
  {
   "cell_type": "code",
   "execution_count": null,
   "metadata": {},
   "outputs": [],
   "source": [
    "print(df.columns)\n",
    "df.info()"
   ]
  },
  {
   "cell_type": "code",
   "execution_count": null,
   "metadata": {},
   "outputs": [],
   "source": [
    "df['emp_title'].describe()\n",
    "\n"
   ]
  },
  {
   "cell_type": "markdown",
   "metadata": {},
   "source": [
    "There are too many different job titles for this feature to be useful, so we drop it.\n",
    "\n",
    "\n"
   ]
  },
  {
   "cell_type": "code",
   "execution_count": null,
   "metadata": {},
   "outputs": [],
   "source": [
    "df.drop(labels='emp_title', axis=1, inplace=True)"
   ]
  },
  {
   "cell_type": "code",
   "execution_count": null,
   "metadata": {},
   "outputs": [],
   "source": [
    "df['emp_length'].value_counts(dropna=False).sort_index()"
   ]
  },
  {
   "cell_type": "markdown",
   "metadata": {},
   "source": [
    "In the above column we need to change the details of 10+ years and <1 year into a readable format which is done below:"
   ]
  },
  {
   "cell_type": "code",
   "execution_count": null,
   "metadata": {},
   "outputs": [],
   "source": [
    "df['emp_length'].replace(to_replace='10+ years', value='10 years', inplace=True)\n",
    "df['emp_length'].replace('< 1 year', '0 years', inplace=True)"
   ]
  },
  {
   "cell_type": "markdown",
   "metadata": {},
   "source": [
    "Now we convert hte employee length into an int value :"
   ]
  },
  {
   "cell_type": "code",
   "execution_count": null,
   "metadata": {},
   "outputs": [],
   "source": [
    "def emp_length_to_int(s):\n",
    "    if pd.isnull(s):\n",
    "        return s\n",
    "    else:\n",
    "        return np.int8(s.split()[0])\n",
    "df['emp_length'] = df['emp_length'].apply(emp_length_to_int)\n",
    "df['emp_length'].value_counts(dropna=False).sort_index()"
   ]
  },
  {
   "cell_type": "markdown",
   "metadata": {},
   "source": [
    "Because of the large range of incomes, we should take a log transform of the annual income variable.\n"
   ]
  },
  {
   "cell_type": "code",
   "execution_count": null,
   "metadata": {},
   "outputs": [],
   "source": [
    "\n",
    "df['log_annual_inc'] = df['annual_income'].apply(lambda x: np.log10(x+1))\n",
    "df['log_annual_inc'].describe()"
   ]
  },
  {
   "cell_type": "code",
   "execution_count": null,
   "metadata": {},
   "outputs": [],
   "source": [
    "df[\"loan_status\"].value_counts()\n"
   ]
  },
  {
   "cell_type": "code",
   "execution_count": null,
   "metadata": {},
   "outputs": [],
   "source": [
    "# Determining the loans that are bad from loan_status column\n",
    "\n",
    "bad_loan = [\"Charged Off\", \"Default\", \"Does not meet the credit policy. Status:Charged Off\", \"In Grace Period\", \n",
    "            \"Late (16-30 days)\", \"Late (31-120 days)\"]\n",
    "\n",
    "\n",
    "df['loan_condition'] = np.nan\n",
    "\n",
    "def loan_condition(status):\n",
    "    if status in bad_loan:\n",
    "        return 'Bad Loan'\n",
    "    else:\n",
    "        return 'Good Loan'\n",
    "    \n",
    "    \n",
    "df['loan_condition'] = df['loan_status'].apply(loan_condition)"
   ]
  },
  {
   "cell_type": "markdown",
   "metadata": {},
   "source": [
    "### Pie Chart for Loan Conditions"
   ]
  },
  {
   "cell_type": "code",
   "execution_count": null,
   "metadata": {},
   "outputs": [],
   "source": [
    "#f, ax = plt.subplots(1,2, figsize=(16,8))\n",
    "\n",
    "labels =\"Good Loans\", \"Bad Loans\"\n",
    "\n",
    "plt.suptitle('Information on Loan Conditions', fontsize=15)\n",
    "\n",
    "df[\"loan_condition\"].value_counts().plot.pie(explode=[0,0.10],autopct='%3.0f%%', shadow=True,labels=labels, fontsize=12, startangle=90)\n",
    "\n",
    "\n"
   ]
  },
  {
   "cell_type": "markdown",
   "metadata": {},
   "source": [
    "The above pie chart shows that the data is imbalanced and it has 85% of good loans and 15% of bad loans . We might have to do oversampling of the bad loans for better results at the end . That will be decided after building the model for this data at later stage."
   ]
  },
  {
   "cell_type": "code",
   "execution_count": null,
   "metadata": {},
   "outputs": [],
   "source": [
    "df['income_category'] = np.nan\n",
    "lst = [df]\n",
    "\n",
    "for col in lst:\n",
    "    col.loc[col['annual_income'] <= 100000, 'income_category'] = 'Low'\n",
    "    col.loc[(col['annual_income'] > 100000) & (col['annual_income'] <= 200000), 'income_category'] = 'Medium'\n",
    "    col.loc[col['annual_income'] > 200000, 'income_category'] = 'High'"
   ]
  },
  {
   "cell_type": "code",
   "execution_count": null,
   "metadata": {},
   "outputs": [],
   "source": [
    "# Let's transform the column loan_condition into integrers.\n",
    "\n",
    "lst = [df]\n",
    "df['loan_condition_int'] = np.nan\n",
    "\n",
    "for col in lst:\n",
    "    col.loc[df['loan_condition'] == 'Good Loan', 'loan_condition_int'] = 0 # Negative (Bad Loan)\n",
    "    col.loc[df['loan_condition'] == 'Bad Loan', 'loan_condition_int'] = 1 # Positive (Good Loan)\n",
    "    \n",
    "# Convert from float to int the column (This is our label)  \n",
    "df['loan_condition_int'] = df['loan_condition_int'].astype(int)\n",
    "fig, (ax1, ax2)= plt.subplots(nrows=1, ncols=2, figsize=(14,6))\n",
    "\n",
    "sns.violinplot(x=\"income_category\", y=\"loan_amount\", data=df, palette=\"Set2\", ax=ax1 )\n",
    "sns.violinplot(x=\"income_category\", y=\"loan_condition_int\", data=df, palette=\"Set2\", ax=ax2)\n"
   ]
  },
  {
   "cell_type": "markdown",
   "metadata": {},
   "source": [
    "#### Loan Condition V/s Income"
   ]
  },
  {
   "cell_type": "code",
   "execution_count": null,
   "metadata": {},
   "outputs": [],
   "source": [
    "plt.scatter(df.loan_condition,df.annual_income)\n",
    "plt.xlabel(\"condition\")\n",
    "plt.ylabel(\"income\")\n",
    "plt.ylim(0,1400000)\n",
    "plt.title(\"Range of income with respect to loan condition\")\n",
    "plt.show()"
   ]
  },
  {
   "cell_type": "markdown",
   "metadata": {},
   "source": [
    "#### Loan Condition V/s Fico Scores"
   ]
  },
  {
   "cell_type": "code",
   "execution_count": null,
   "metadata": {},
   "outputs": [],
   "source": [
    "sns.violinplot(x=\"fico_range_high\", y=\"loan_condition\", data=df, palette=\"Set2\" )\n",
    "plt.show()"
   ]
  },
  {
   "cell_type": "markdown",
   "metadata": {},
   "source": [
    "The mean of the good loans is more than 700 and most of the values of fico_score lies near 700 score hence the fico score for good loans should be closer to 700."
   ]
  },
  {
   "cell_type": "code",
   "execution_count": null,
   "metadata": {},
   "outputs": [],
   "source": [
    "df.home_ownership.groupby(df.loan_condition).value_counts().plot.bar()\n",
    "plt.show()"
   ]
  },
  {
   "cell_type": "markdown",
   "metadata": {},
   "source": [
    "Loan Grades and Subgrades are assigned by Lending Club based on the borrower’s credit worthiness and also on some variables specific to that Loan."
   ]
  },
  {
   "cell_type": "code",
   "execution_count": null,
   "metadata": {},
   "outputs": [],
   "source": [
    "df.grade.groupby(df.loan_condition).value_counts().plot.bar()\n",
    "plt.show()"
   ]
  },
  {
   "cell_type": "markdown",
   "metadata": {},
   "source": [
    "The majority of loans is either graded as B or C — together these correspond to more than 50% of the loan population.\n",
    "While there is a considerable amount of A graded or “prime” loans (~17%), there is a small amount of E graded, or “uncollectible” loans (~0,06%). Which is a good sign for Lending Club.\n",
    "But, are these the right grades?"
   ]
  },
  {
   "cell_type": "markdown",
   "metadata": {},
   "source": [
    "### Data visualization to see how the loan value, amount funded by lender and total committed by investors distribution looks like?"
   ]
  },
  {
   "cell_type": "code",
   "execution_count": null,
   "metadata": {},
   "outputs": [],
   "source": [
    "fig, ax = plt.subplots(1, 3, figsize=(16,5))\n",
    "\n",
    "loan_amount = df[\"loan_amount\"].values\n",
    "funded_amount = df[\"funded_amount\"].values\n",
    "investor_funds = df[\"investor_funds\"].values\n",
    "sns.distplot(loan_amount, ax=ax[0], color=\"red\",bins=(100,100))\n",
    "ax[0].set_title(\"Loan Applied by the Borrower\", fontsize=14)\n",
    "sns.distplot(funded_amount, ax=ax[1], color=\"blue\",bins=(100,100))\n",
    "ax[1].set_title(\"Amount Funded by the Lender\", fontsize=14)\n",
    "sns.distplot(investor_funds, ax=ax[2], color=\"green\",bins=(100,100))\n",
    "ax[2].set_title(\"Total committed by Investors\", fontsize=14)"
   ]
  },
  {
   "cell_type": "code",
   "execution_count": null,
   "metadata": {},
   "outputs": [],
   "source": [
    "df.boxplot(column='loan_amount')\n"
   ]
  },
  {
   "cell_type": "code",
   "execution_count": null,
   "metadata": {},
   "outputs": [],
   "source": [
    "mean =np.mean(df.funded_amount)\n",
    "std =np.std(df.funded_amount)\n",
    "print(mean)\n",
    "print(std)"
   ]
  },
  {
   "cell_type": "code",
   "execution_count": null,
   "metadata": {},
   "outputs": [],
   "source": [
    "df.verification_status.groupby(df.loan_condition).value_counts().plot.bar()\n",
    "plt.show()\n"
   ]
  },
  {
   "cell_type": "code",
   "execution_count": null,
   "metadata": {},
   "outputs": [],
   "source": [
    "pd.crosstab(df ['verification_status'], df ['loan_condition'], margins=True)\n"
   ]
  },
  {
   "cell_type": "markdown",
   "metadata": {},
   "source": [
    "This shows that 41.3% of the bad loans were not verified."
   ]
  },
  {
   "cell_type": "code",
   "execution_count": null,
   "metadata": {},
   "outputs": [],
   "source": [
    "df[['fico_range_low', 'fico_range_high']].describe()\n"
   ]
  },
  {
   "cell_type": "code",
   "execution_count": null,
   "metadata": {},
   "outputs": [],
   "source": [
    "df.grade.groupby(df.loan_condition).value_counts().plot.bar()\n",
    "plt.show()"
   ]
  },
  {
   "cell_type": "markdown",
   "metadata": {},
   "source": [
    "Number of bad loans were less in the category A jobs and it had more number of good loans as compared to the other category."
   ]
  },
  {
   "cell_type": "markdown",
   "metadata": {},
   "source": [
    "  # Statistical Inferences"
   ]
  },
  {
   "cell_type": "markdown",
   "metadata": {},
   "source": [
    "We want to check whether the interest rates offered for A grade loans were lesser than the other grades hence we are going to use single tail Welch's t-test as the variance is not equal."
   ]
  },
  {
   "cell_type": "markdown",
   "metadata": {},
   "source": [
    "$H_{0}$ : The  interest rates offered for other grade loans is greater than the A grade loan.\n",
    "\n",
    "\n",
    "$H_{1}$ : The  interest rates offered for other grade loans is not greater than the A grade loan."
   ]
  },
  {
   "cell_type": "code",
   "execution_count": null,
   "metadata": {},
   "outputs": [],
   "source": [
    "x=df.interest_rate[df.grade=='A']\n",
    "sns.distplot(x)\n"
   ]
  },
  {
   "cell_type": "code",
   "execution_count": null,
   "metadata": {},
   "outputs": [],
   "source": [
    "x=df.interest_rate[df.grade!='A']\n",
    "x = x[np.logical_not(np.isnan(x))]\n",
    "sns.distplot(x)\n"
   ]
  },
  {
   "cell_type": "code",
   "execution_count": null,
   "metadata": {},
   "outputs": [],
   "source": [
    "def loan_sampler_A(n):\n",
    "    return np.random.choice(df.interest_rate[df.grade=='A'].astype('float64'), n)\n",
    "def loan_sampler_other(n):\n",
    "    return np.random.choice(df.interest_rate[df.grade!='A'].astype('float64'),n)"
   ]
  },
  {
   "cell_type": "code",
   "execution_count": null,
   "metadata": {},
   "outputs": [],
   "source": [
    "seed(47)\n",
    "size=50\n",
    "sample1 = loan_sampler_A(size)\n",
    "sample2 = loan_sampler_other(size)\n",
    "type(sample1[0])"
   ]
  },
  {
   "cell_type": "code",
   "execution_count": null,
   "metadata": {},
   "outputs": [],
   "source": [
    "mean_A = np.mean(sample1)\n",
    "mean_other = np.mean(sample2)\n",
    "std_A=np.std(sample1)\n",
    "std_other=np.std(sample2)\n",
    "seed(47)\n",
    "N=500\n",
    "# take your samples here\n",
    "total_mean_A=np.empty(N)\n",
    "total_mean_other=np.empty(N)\n",
    "for i in range (N):\n",
    "    total_mean_A[i]=np.mean(loan_sampler_A(size))\n",
    "    total_mean_other[i]=np.mean(loan_sampler_other(size))\n"
   ]
  },
  {
   "cell_type": "code",
   "execution_count": null,
   "metadata": {},
   "outputs": [],
   "source": [
    "n=len(total_mean_A)\n",
    "x=np.sort(total_mean_A)\n",
    "y=np.arange(1,n+1)/n\n",
    "plt.plot(x,y,marker='.',linestyle='none')\n",
    "# Label the axes\n",
    "plt.xlabel('Interest rate for Grade A Loans')\n",
    "plt.ylabel('ECDF')\n",
    "plt.show()"
   ]
  },
  {
   "cell_type": "code",
   "execution_count": null,
   "metadata": {},
   "outputs": [],
   "source": [
    "n=len(total_mean_other)\n",
    "x=np.sort(total_mean_other)\n",
    "y=np.arange(1,n+1)/n\n",
    "plt.plot(x,y,marker='.',linestyle='none')\n",
    "# Label the axes\n",
    "plt.xlabel('Interest rate for Other Grade Loans')\n",
    "plt.ylabel('ECDF')\n",
    "plt.show()"
   ]
  },
  {
   "cell_type": "markdown",
   "metadata": {},
   "source": [
    "It is very much clear from the above ECDF graph that the interest rates for the other grades lies in the range of (12.5,15)"
   ]
  },
  {
   "cell_type": "code",
   "execution_count": null,
   "metadata": {},
   "outputs": [],
   "source": [
    "total_mean_other = total_mean_other[np.logical_not(np.isnan(total_mean_other))]\n"
   ]
  },
  {
   "cell_type": "code",
   "execution_count": null,
   "metadata": {},
   "outputs": [],
   "source": [
    "from scipy import stats\n",
    "import scipy.stats\n",
    "print(stats.ttest_ind(total_mean_other,total_mean_A,equal_var=False))\n",
    "\n",
    "def mean_confidence_interval(data, confidence=0.95):\n",
    "    a = 1.0 * np.array(data)\n",
    "    n = len(a)\n",
    "    m, se = np.mean(a), scipy.stats.sem(a)\n",
    "    h = se * scipy.stats.t.ppf((1 + confidence) / 2., n-1)\n",
    "    return m, m-h, m+h\n",
    "print(\"The confidence interval for A grade loans is: \"+str(mean_confidence_interval(total_mean_A)))\n",
    "print(\"The confidence interval for all other loan other than A grade loans is:\"+ str(mean_confidence_interval(total_mean_other)))\n",
    "           \n",
    "      "
   ]
  },
  {
   "cell_type": "markdown",
   "metadata": {},
   "source": [
    "Here, the p value is less than 0.05 hence the result is of high significance .Hence, we reject the null hypothesis."
   ]
  },
  {
   "cell_type": "markdown",
   "metadata": {},
   "source": [
    "### Correlation among the features"
   ]
  },
  {
   "cell_type": "markdown",
   "metadata": {},
   "source": [
    "Few important columns are selected from the full dataset based on the significance and the data present prior to the approval of the loan. The columns are saved in 'imp_columns' list.\n",
    "\n",
    "Now we will see the correlation between the numerical data"
   ]
  },
  {
   "cell_type": "code",
   "execution_count": null,
   "metadata": {},
   "outputs": [],
   "source": [
    "imp_columns=['loan_amount','term','interest_rate','grade','emp_length','home_ownership','annual_income','verification_status','loan_status','loan_condition','purpose','title','addr_state','fico_range_low','fico_range_high','income_category']\n",
    "df2=df[imp_columns]\n",
    "df2.corr()"
   ]
  },
  {
   "cell_type": "markdown",
   "metadata": {},
   "source": [
    "employee length,annual income and fico scores have strong positive correlation with the loan amount ."
   ]
  },
  {
   "cell_type": "code",
   "execution_count": null,
   "metadata": {},
   "outputs": [],
   "source": [
    "df[imp_columns].head()"
   ]
  },
  {
   "cell_type": "markdown",
   "metadata": {},
   "source": [
    "Correlation between all the important columns:"
   ]
  },
  {
   "cell_type": "code",
   "execution_count": null,
   "metadata": {},
   "outputs": [],
   "source": [
    "df2.apply(lambda x: x.factorize()[0]).corr()\n",
    "corr_imp=df2.apply(lambda x: x.factorize()[0]).corr()\n",
    "print(corr_imp)"
   ]
  },
  {
   "cell_type": "code",
   "execution_count": null,
   "metadata": {},
   "outputs": [],
   "source": [
    "import seaborn as sns\n",
    "\n",
    "sns.heatmap(corr_imp, \n",
    "        xticklabels=corr_imp.columns,\n",
    "        yticklabels=corr_imp.columns)"
   ]
  },
  {
   "cell_type": "code",
   "execution_count": null,
   "metadata": {},
   "outputs": [],
   "source": []
  },
  {
   "cell_type": "markdown",
   "metadata": {},
   "source": [
    "# Model Building"
   ]
  },
  {
   "cell_type": "code",
   "execution_count": null,
   "metadata": {},
   "outputs": [],
   "source": [
    "# Convert all non-numeric values to number\n",
    "from sklearn import preprocessing\n",
    "from sklearn.preprocessing import LabelEncoder\n",
    "for var in df.columns:\n",
    "    le = LabelEncoder()\n",
    "    df[var]=df[var].astype('str')\n",
    "    df[var]=le.fit_transform(df[var])\n",
    "df[imp_columns].dtypes\n"
   ]
  },
  {
   "cell_type": "code",
   "execution_count": null,
   "metadata": {},
   "outputs": [],
   "source": [
    "from sklearn import preprocessing\n",
    "target_name='loan_condition'\n",
    "y= df.loan_condition\n",
    "X= df.drop(target_name,axis=1)\n",
    "from sklearn.model_selection import train_test_split\n",
    "X_train, X_test, y_train, y_test = train_test_split(X, y, stratify=y, random_state=123)\n",
    "from sklearn import neighbors\n",
    "knn = neighbors.KNeighborsClassifier(n_neighbors=5)"
   ]
  },
  {
   "cell_type": "code",
   "execution_count": null,
   "metadata": {},
   "outputs": [],
   "source": [
    "knn.fit(X_train, y_train)"
   ]
  },
  {
   "cell_type": "code",
   "execution_count": null,
   "metadata": {},
   "outputs": [],
   "source": [
    "y_predict=knn.predict(X_test)\n",
    "#y_predict=y_predict.reshape(-1,1)"
   ]
  },
  {
   "cell_type": "code",
   "execution_count": null,
   "metadata": {},
   "outputs": [],
   "source": [
    "from sklearn import metrics\n",
    "# Model Accuracy, how often is the classifier correct?\n",
    "print(\"Accuracy:\",metrics.accuracy_score(y_test, y_predict))"
   ]
  },
  {
   "cell_type": "markdown",
   "metadata": {},
   "source": [
    "We got an accuracy of 0.93 . As our model has good loans dominating the sample we may need to over sample our data with bad sample."
   ]
  },
  {
   "cell_type": "markdown",
   "metadata": {},
   "source": [
    "We would now check the effect on the accuracy by changing n in the model and the graph is plotted below:"
   ]
  },
  {
   "cell_type": "code",
   "execution_count": null,
   "metadata": {},
   "outputs": [],
   "source": [
    "neighbors = np.arange(1, 9)\n",
    "train_accuracy = np.empty(len(neighbors))\n",
    "test_accuracy = np.empty(len(neighbors))\n",
    "from sklearn.neighbors import KNeighborsClassifier\n",
    "# Loop over different values of k\n",
    "for i, k in enumerate(neighbors):\n",
    "    # Setup a k-NN Classifier with k neighbors: knn\n",
    "    knn = KNeighborsClassifier(n_neighbors=k)\n",
    "\n",
    "    # Fit the classifier to the training data\n",
    "    knn.fit(X_train,y_train)\n",
    "    \n",
    "    #Compute accuracy on the training set\n",
    "    train_accuracy[i] = knn.score(X_train, y_train)\n",
    "\n",
    "    #Compute accuracy on the testing set\n",
    "    test_accuracy[i] = knn.score(X_test, y_test)\n",
    "\n",
    "# Generate plot\n",
    "plt.title('k-NN: Varying Number of Neighbors')\n",
    "plt.plot(neighbors, test_accuracy, label = 'Testing Accuracy')\n",
    "plt.plot(neighbors, train_accuracy, label = 'Training Accuracy')\n",
    "plt.legend()\n",
    "plt.xlabel('Number of Neighbors')\n",
    "plt.ylabel('Accuracy')\n",
    "plt.show()\n"
   ]
  },
  {
   "cell_type": "markdown",
   "metadata": {},
   "source": [
    "From the above graph we can see that we get best result at n= 4 which gives us training accuracy as 0.96 and testing accuracy as 0.94"
   ]
  },
  {
   "cell_type": "markdown",
   "metadata": {},
   "source": [
    "### Confusion Matrix"
   ]
  },
  {
   "cell_type": "code",
   "execution_count": null,
   "metadata": {},
   "outputs": [],
   "source": [
    "#Random Forest\n",
    "from sklearn.metrics import confusion_matrix\n",
    "from sklearn.ensemble import RandomForestClassifier\n",
    "rf = RandomForestClassifier(n_estimators = 10000, random_state = 42)\n",
    "rf.fit(X_train, y_train);\n",
    "predictions = rf.predict(X_test)\n",
    "cm = confusion_matrix(y_test,predictions)\n",
    "print(cm)\n",
    "\n",
    "#Decision Tree\n",
    "\n",
    "from sklearn import tree\n",
    "clf = tree.DecisionTreeClassifier()\n",
    "clf = clf.fit(X_train, y_train)\n",
    "predictions = clf.predict(X_test)\n",
    "cm2 = confusion_matrix(y_test,predictions)\n",
    "print(cm2)"
   ]
  },
  {
   "cell_type": "code",
   "execution_count": null,
   "metadata": {},
   "outputs": [],
   "source": [
    "from sklearn.metrics import recall_score\n",
    "print (clf.score(X_test, y_test))\n",
    "print (recall_score(y_test, clf.predict(X_test)))\n"
   ]
  },
  {
   "cell_type": "markdown",
   "metadata": {},
   "source": [
    "Imbalanced datasets can be seen everywhere. Usually banks want to predict fraudulent credit card charges but only a small fraction of observations are actually positives. I’d guess that only 1 in 10,000 credit card charges are fraudulent, at most. Recently, oversampling the minority class observations has become a common approach to improve the quality of predictive modeling. By oversampling, models are sometimes better able to learn patterns that differentiate classes."
   ]
  },
  {
   "cell_type": "markdown",
   "metadata": {},
   "source": [
    "### Using imblearn for oversampling"
   ]
  },
  {
   "cell_type": "code",
   "execution_count": null,
   "metadata": {},
   "outputs": [],
   "source": [
    "!pip install imblearn\n"
   ]
  },
  {
   "cell_type": "code",
   "execution_count": null,
   "metadata": {},
   "outputs": [],
   "source": [
    "from imblearn.over_sampling import SMOTE\n",
    "\n",
    "x_train, x_val, yy_train, y_val = train_test_split(X_train, y_train,\n",
    "                                                  test_size = .1,\n",
    "                                                  random_state=42)\n",
    "sm = SMOTE(random_state=12, ratio = 1.0)\n",
    "x_train_res, y_train_res = sm.fit_sample(x_train, yy_train)\n",
    "clf_rf = RandomForestClassifier(n_estimators=1000, random_state=42)\n",
    "clf_rf.fit(x_train_res, y_train_res)\n",
    "print ('Validation Results')\n",
    "print( clf_rf.score(x_val, y_val))\n",
    "print (recall_score(y_val, clf_rf.predict(x_val)))\n",
    "print (clf_rf.score(X_test, y_test))\n",
    "print (recall_score(y_test, clf_rf.predict(X_test)))\n"
   ]
  },
  {
   "cell_type": "markdown",
   "metadata": {},
   "source": [
    "We see that the recall score and precision score comes out to be 1, which does not seen to be right. it can also be because of the dominating class of good loans or some other dominating features."
   ]
  },
  {
   "cell_type": "markdown",
   "metadata": {},
   "source": [
    "We can use check the important features in the model:"
   ]
  },
  {
   "cell_type": "code",
   "execution_count": null,
   "metadata": {},
   "outputs": [],
   "source": [
    "!pip install tabulate\n"
   ]
  },
  {
   "cell_type": "code",
   "execution_count": null,
   "metadata": {},
   "outputs": [],
   "source": [
    "from tabulate import tabulate\n",
    "model = clf_rf.fit(X_train, y_train)\n",
    "headers = [\"name\", \"score\"]\n",
    "values = sorted(zip(X_train.columns, model.feature_importances_), key=lambda x: x[1] * -1)\n",
    "print(tabulate(values, headers, tablefmt=\"plain\"))"
   ]
  },
  {
   "cell_type": "markdown",
   "metadata": {},
   "source": [
    "We can see that few features such as:\n",
    "loan_status,loan_condition_int,recoveries,collection_recovery_fee,last_credit_pull_d,total_rec_late_fee,total_rec_int,installment,total_pymnt,last_pymnt_d,total_pymnt_inv are to be dropped due to there insignificance/unavailability before the approval or similar terms to the loan_condition(target variable).\n",
    "\n",
    "Hence we drop the above columns from the new data set and train our model again."
   ]
  },
  {
   "cell_type": "code",
   "execution_count": null,
   "metadata": {},
   "outputs": [],
   "source": [
    "type(df)"
   ]
  },
  {
   "cell_type": "code",
   "execution_count": null,
   "metadata": {},
   "outputs": [],
   "source": [
    "delete=['loan_status','recoveries','collection_recovery_fee','last_credit_pull_d','total_rec_late_fee','total_rec_int','installment','total_pymnt','last_pymnt_d','total_pymnt_inv']\n",
    "df.drop(delete,axis=1,inplace=True)\n"
   ]
  },
  {
   "cell_type": "code",
   "execution_count": null,
   "metadata": {},
   "outputs": [],
   "source": [
    "for var in df.columns:\n",
    "    le = LabelEncoder()\n",
    "    df[var]=df[var].astype('str')\n",
    "    df[var]=le.fit_transform(df[var])\n",
    "df.drop('loan_condition_int',axis=1,inplace=True)\n",
    "target_name='loan_condition'\n",
    "y= df.loan_condition\n",
    "X= df.drop(target_name,axis=1)\n",
    "from sklearn.model_selection import train_test_split\n",
    "X_train, X_test, y_train, y_test = train_test_split(X, y, stratify=y, random_state=123)\n",
    "x_train, x_val, yy_train, y_val = train_test_split(X_train, y_train,\n",
    "                                                  test_size = .3,\n",
    "                                                  random_state=123)\n",
    "sm = SMOTE(random_state=12, ratio = 1.0)\n",
    "x_train_res, y_train_res = sm.fit_sample(x_train, yy_train)\n",
    "clf_rf = RandomForestClassifier(n_estimators=1000, random_state=123)\n",
    "clf_rf.fit(x_train_res, y_train_res)\n",
    "print ('Validation Results')\n",
    "print( clf_rf.score(x_val, y_val))\n",
    "print (recall_score(y_val, clf_rf.predict(x_val)))\n",
    "print (clf_rf.score(X_test, y_test))\n",
    "print (recall_score(y_test, clf_rf.predict(X_test)))\n",
    "#le.inverse_transform([0, 0, 1, 2])\n"
   ]
  },
  {
   "cell_type": "markdown",
   "metadata": {},
   "source": [
    "##### Now we can see some realistic results when we have removed the after approval columns from the data set.\n"
   ]
  },
  {
   "cell_type": "markdown",
   "metadata": {},
   "source": [
    "We can see the model seems pretty good as their has been very less variation in the score of the test set and the validation set.\n",
    "We will also deal with the same dataset by oversampling manually."
   ]
  },
  {
   "cell_type": "markdown",
   "metadata": {},
   "source": [
    "### Creating a Balanced Dataset Manually"
   ]
  },
  {
   "cell_type": "code",
   "execution_count": 142,
   "metadata": {},
   "outputs": [
    {
     "name": "stdout",
     "output_type": "stream",
     "text": [
      "[1 0 1 ... 1 1 1]\n"
     ]
    }
   ],
   "source": [
    "print(df.loan_condition.values)"
   ]
  },
  {
   "cell_type": "code",
   "execution_count": 146,
   "metadata": {},
   "outputs": [
    {
     "name": "stdout",
     "output_type": "stream",
     "text": [
      "(6431, 50)\n",
      "(4244, 50)\n"
     ]
    }
   ],
   "source": [
    "bad_loans=df[df.loan_condition.values==0]\n",
    "print(bad_loans.shape)\n",
    "good_loans=df[df.loan_condition.values==1][:int(bad_loans.shape[0]*0.66)]\n",
    "print(good_loans.shape)"
   ]
  },
  {
   "cell_type": "markdown",
   "metadata": {},
   "source": [
    "It shows that out of 43000 datasets 6431 data represents the bad loans . So to make our dataset balanced we will create a new dataset \"balanced\" coprising both the type in 3:2 ratio"
   ]
  },
  {
   "cell_type": "code",
   "execution_count": 147,
   "metadata": {},
   "outputs": [
    {
     "data": {
      "text/plain": [
       "(10675, 50)"
      ]
     },
     "execution_count": 147,
     "metadata": {},
     "output_type": "execute_result"
    }
   ],
   "source": [
    "balanced_df=pd.concat([bad_loans,good_loans])\n",
    "balanced_df.shape"
   ]
  },
  {
   "cell_type": "code",
   "execution_count": 148,
   "metadata": {},
   "outputs": [],
   "source": [
    "# Convert all non-numeric values to number\n",
    "from sklearn import preprocessing\n",
    "from sklearn.preprocessing import LabelEncoder\n",
    "for var in balanced_df.columns:\n",
    "    le = LabelEncoder()\n",
    "    balanced_df[var]=balanced_df[var].astype('str')\n",
    "    balanced_df[var]=le.fit_transform(balanced_df[var])\n"
   ]
  },
  {
   "cell_type": "markdown",
   "metadata": {},
   "source": [
    "### Now we will use the above balanced data set to run and improve our model "
   ]
  },
  {
   "cell_type": "markdown",
   "metadata": {},
   "source": [
    "Wewill be using two models separately to plot the ROC curve using the manually over sampled data.The two models to be used are:\n",
    "\n",
    "\n",
    "1) KNN Classifier\n",
    "  2)Logistic Regression"
   ]
  },
  {
   "cell_type": "code",
   "execution_count": 149,
   "metadata": {},
   "outputs": [],
   "source": [
    "#knn Classifier\n",
    "from sklearn import preprocessing\n",
    "target_name='loan_condition'\n",
    "y1= balanced_df['loan_condition']\n",
    "X1= balanced_df.drop(target_name,axis=1)\n"
   ]
  },
  {
   "cell_type": "code",
   "execution_count": 150,
   "metadata": {},
   "outputs": [
    {
     "name": "stdout",
     "output_type": "stream",
     "text": [
      "Accuracy: 0.6489321843387036\n"
     ]
    }
   ],
   "source": [
    "from sklearn.model_selection import train_test_split\n",
    "X1_train, X1_test, y1_train, y1_test = train_test_split(X1, y1, stratify=y1, random_state=123)\n",
    "from sklearn import neighbors\n",
    "knn = neighbors.KNeighborsClassifier(n_neighbors=5)\n",
    "knn.fit(X1_train, y1_train)\n",
    "y1_predict=knn.predict(X1_test)\n",
    "from sklearn import metrics\n",
    "# Model Accuracy, how often is the classifier correct?\n",
    "print(\"Accuracy:\",metrics.accuracy_score(y1_test, y1_predict))\n",
    "\n"
   ]
  },
  {
   "cell_type": "code",
   "execution_count": 151,
   "metadata": {},
   "outputs": [
    {
     "data": {
      "text/plain": [
       "0.5240339302544769"
      ]
     },
     "execution_count": 151,
     "metadata": {},
     "output_type": "execute_result"
    }
   ],
   "source": [
    "recall_score(y1_test,y1_predict)"
   ]
  },
  {
   "cell_type": "code",
   "execution_count": 152,
   "metadata": {},
   "outputs": [
    {
     "name": "stdout",
     "output_type": "stream",
     "text": [
      "              precision    recall  f1-score   support\n",
      "\n",
      "           0     0.6996    0.7313    0.7151      1608\n",
      "           1     0.5628    0.5240    0.5427      1061\n",
      "\n",
      "    accuracy                         0.6489      2669\n",
      "   macro avg     0.6312    0.6277    0.6289      2669\n",
      "weighted avg     0.6452    0.6489    0.6466      2669\n",
      "\n"
     ]
    }
   ],
   "source": [
    "from sklearn.metrics import classification_report\n",
    "print(classification_report(y1_test, knn.predict(X1_test), digits=4))\n"
   ]
  },
  {
   "cell_type": "code",
   "execution_count": 153,
   "metadata": {},
   "outputs": [],
   "source": [
    "fpr, tpr, thresholds = metrics.roc_curve(y1_test, y1_predict)\n"
   ]
  },
  {
   "cell_type": "code",
   "execution_count": 154,
   "metadata": {},
   "outputs": [
    {
     "name": "stdout",
     "output_type": "stream",
     "text": [
      "False Positive Rate[0.         0.26865672 1.        ]\n",
      "True Positive Rate[0.         0.52403393 1.        ]\n",
      "Treshold[2 1 0]\n"
     ]
    }
   ],
   "source": [
    "print(\"False Positive Rate\"+str(fpr))\n",
    "print(\"True Positive Rate\"+str(tpr))\n",
    "print(\"Treshold\"+str(thresholds))"
   ]
  },
  {
   "cell_type": "code",
   "execution_count": 155,
   "metadata": {},
   "outputs": [],
   "source": [
    "roc_auc=metrics.auc(fpr, tpr)\n"
   ]
  },
  {
   "cell_type": "code",
   "execution_count": 156,
   "metadata": {},
   "outputs": [
    {
     "data": {
      "image/png": "[encoded data removed]",
      "text/plain": [
       "<Figure size 432x288 with 1 Axes>"
      ]
     },
     "metadata": {
      "needs_background": "light"
     },
     "output_type": "display_data"
    }
   ],
   "source": [
    "import matplotlib.pyplot as plt\n",
    "plt.title('Receiver Operating Characteristic')\n",
    "plt.plot(fpr, tpr, 'b', label = 'AUC = %0.2f' % roc_auc)\n",
    "plt.legend(loc = 'lower right')\n",
    "plt.plot([0, 1], [0, 1],'r--')\n",
    "plt.xlim([0, 1])\n",
    "plt.ylim([0, 1])\n",
    "plt.ylabel('True Positive Rate')\n",
    "plt.xlabel('False Positive Rate')\n",
    "plt.show()"
   ]
  },
  {
   "cell_type": "markdown",
   "metadata": {},
   "source": [
    "### Using Logistic Regression for the above balanced dataset"
   ]
  },
  {
   "cell_type": "code",
   "execution_count": 157,
   "metadata": {},
   "outputs": [],
   "source": [
    "from sklearn.linear_model import LogisticRegression\n",
    "lr= LogisticRegression()\n",
    "X_lr_train,X_lr_test,y_lr_train,y_lr_test=train_test_split(X1, y1, random_state=123)\n"
   ]
  },
  {
   "cell_type": "code",
   "execution_count": 158,
   "metadata": {},
   "outputs": [
    {
     "name": "stderr",
     "output_type": "stream",
     "text": [
      "/Users/ankit/anaconda3/lib/python3.7/site-packages/sklearn/linear_model/logistic.py:432: FutureWarning: Default solver will be changed to 'lbfgs' in 0.22. Specify a solver to silence this warning.\n",
      "  FutureWarning)\n"
     ]
    },
    {
     "data": {
      "text/plain": [
       "LogisticRegression(C=1.0, class_weight=None, dual=False, fit_intercept=True,\n",
       "                   intercept_scaling=1, l1_ratio=None, max_iter=100,\n",
       "                   multi_class='warn', n_jobs=None, penalty='l2',\n",
       "                   random_state=None, solver='warn', tol=0.0001, verbose=0,\n",
       "                   warm_start=False)"
      ]
     },
     "execution_count": 158,
     "metadata": {},
     "output_type": "execute_result"
    }
   ],
   "source": [
    "lr.fit(X_lr_train, y_lr_train)\n"
   ]
  },
  {
   "cell_type": "code",
   "execution_count": 159,
   "metadata": {},
   "outputs": [
    {
     "name": "stdout",
     "output_type": "stream",
     "text": [
      "[[ 1.05069031e-01  1.49945157e-04 -7.25457286e-05 -1.27129403e-04\n",
      "  -3.76923827e-01 -6.34920728e-04 -4.84585748e-01 -1.92713323e-02\n",
      "   1.12096218e-02 -6.44587457e-03 -7.75467719e-06  2.13250233e-01\n",
      "   6.58307616e-02  0.00000000e+00 -1.05006988e-01 -3.47476731e-02\n",
      "  -9.90186147e-05 -3.49859121e-04 -4.30537653e-03 -1.12202737e-04\n",
      "  -4.57324888e-02 -1.46064695e-04  3.79923786e-03  3.79923786e-03\n",
      "  -1.01768128e-02 -6.84276577e-03 -1.54298585e-01 -4.23143936e-05\n",
      "   2.09164153e-04 -7.96188612e-04  0.00000000e+00  0.00000000e+00\n",
      "   0.00000000e+00 -6.34169300e-05 -1.45056225e-05  1.67153643e-02\n",
      "   9.31524391e-03 -1.47967487e-02  0.00000000e+00  0.00000000e+00\n",
      "  -1.83464674e-03 -1.47967487e-02 -1.83464674e-03 -8.50066863e-01\n",
      "  -3.28132888e-03  0.00000000e+00 -5.78765791e-01 -1.23786561e-04\n",
      "   6.58666819e-02]]\n",
      "[-0.79670961]\n"
     ]
    }
   ],
   "source": [
    "print(lr.coef_)\n",
    "print(lr.intercept_)"
   ]
  },
  {
   "cell_type": "code",
   "execution_count": 160,
   "metadata": {},
   "outputs": [],
   "source": [
    "y_lr_pred = lr.predict(X_lr_test)\n"
   ]
  },
  {
   "cell_type": "code",
   "execution_count": 161,
   "metadata": {},
   "outputs": [
    {
     "data": {
      "text/plain": [
       "array([[1299,  321],\n",
       "       [ 373,  676]])"
      ]
     },
     "execution_count": 161,
     "metadata": {},
     "output_type": "execute_result"
    }
   ],
   "source": [
    "confusion_matrix(y_lr_test, y_lr_pred)\n"
   ]
  },
  {
   "cell_type": "code",
   "execution_count": 162,
   "metadata": {},
   "outputs": [
    {
     "data": {
      "text/plain": [
       "0.7231375560498534"
      ]
     },
     "execution_count": 162,
     "metadata": {},
     "output_type": "execute_result"
    }
   ],
   "source": [
    "recall_score(y_lr_test, y_lr_pred, average='macro')  \n"
   ]
  },
  {
   "cell_type": "code",
   "execution_count": 163,
   "metadata": {},
   "outputs": [
    {
     "data": {
      "text/plain": [
       "0.7274739889525035"
      ]
     },
     "execution_count": 163,
     "metadata": {},
     "output_type": "execute_result"
    }
   ],
   "source": [
    "from sklearn.metrics import precision_score\n",
    "\n",
    "precision_score(y_lr_test, y_lr_pred, average='macro')  \n"
   ]
  },
  {
   "cell_type": "code",
   "execution_count": 164,
   "metadata": {},
   "outputs": [
    {
     "data": {
      "image/png": "[encoded data removed]",
      "text/plain": [
       "<Figure size 432x288 with 1 Axes>"
      ]
     },
     "metadata": {
      "needs_background": "light"
     },
     "output_type": "display_data"
    },
    {
     "name": "stdout",
     "output_type": "stream",
     "text": [
      "False Positive Rate[0.         0.19814815 1.        ]\n",
      "True Positive Rate[0.         0.64442326 1.        ]\n",
      "Treshold[2 1 0]\n"
     ]
    }
   ],
   "source": [
    "fpr, tpr, thresholds = metrics.roc_curve(y_lr_test, y_lr_pred)\n",
    "roc_auc=metrics.auc(fpr, tpr)\n",
    "import matplotlib.pyplot as plt\n",
    "plt.title('Receiver Operating Characteristic')\n",
    "plt.plot(fpr, tpr, 'b', label = 'AUC = %0.2f' % roc_auc)\n",
    "plt.legend(loc = 'lower right')\n",
    "plt.plot([0, 1], [0, 1],'r--')\n",
    "plt.xlim([0, 1])\n",
    "plt.ylim([0, 1])\n",
    "plt.ylabel('True Positive Rate')\n",
    "plt.xlabel('False Positive Rate')\n",
    "plt.show()\n",
    "print(\"False Positive Rate\"+str(fpr))\n",
    "print(\"True Positive Rate\"+str(tpr))\n",
    "print(\"Treshold\"+str(thresholds))"
   ]
  },
  {
   "cell_type": "markdown",
   "metadata": {},
   "source": [
    "On the training set, we compute the Pearson correlation, $F$-statistic, and $p$ value of each predictor with the response variable charged_off.\n",
    "\n"
   ]
  },
  {
   "cell_type": "code",
   "execution_count": 166,
   "metadata": {},
   "outputs": [],
   "source": [
    "\n",
    "linear_dep = pd.DataFrame()\n",
    "for col in X_lr_train.columns:\n",
    "    linear_dep.loc[col, 'pearson_corr'] = X_lr_train[col].corr(y_lr_train)\n",
    "linear_dep['abs_pearson_corr'] = abs(linear_dep['pearson_corr'])\n",
    "\n"
   ]
  },
  {
   "cell_type": "code",
   "execution_count": 167,
   "metadata": {},
   "outputs": [
    {
     "name": "stderr",
     "output_type": "stream",
     "text": [
      "/Users/ankit/anaconda3/lib/python3.7/site-packages/sklearn/feature_selection/univariate_selection.py:114: UserWarning: Features [0] are constant.\n",
      "  UserWarning)\n",
      "/Users/ankit/anaconda3/lib/python3.7/site-packages/sklearn/feature_selection/univariate_selection.py:115: RuntimeWarning: invalid value encountered in true_divide\n",
      "  f = msb / msw\n",
      "/Users/ankit/anaconda3/lib/python3.7/site-packages/sklearn/feature_selection/univariate_selection.py:114: UserWarning: Features [0] are constant.\n",
      "  UserWarning)\n",
      "/Users/ankit/anaconda3/lib/python3.7/site-packages/sklearn/feature_selection/univariate_selection.py:115: RuntimeWarning: invalid value encountered in true_divide\n",
      "  f = msb / msw\n",
      "/Users/ankit/anaconda3/lib/python3.7/site-packages/sklearn/feature_selection/univariate_selection.py:114: UserWarning: Features [0] are constant.\n",
      "  UserWarning)\n",
      "/Users/ankit/anaconda3/lib/python3.7/site-packages/sklearn/feature_selection/univariate_selection.py:115: RuntimeWarning: invalid value encountered in true_divide\n",
      "  f = msb / msw\n",
      "/Users/ankit/anaconda3/lib/python3.7/site-packages/sklearn/feature_selection/univariate_selection.py:114: UserWarning: Features [0] are constant.\n",
      "  UserWarning)\n",
      "/Users/ankit/anaconda3/lib/python3.7/site-packages/sklearn/feature_selection/univariate_selection.py:115: RuntimeWarning: invalid value encountered in true_divide\n",
      "  f = msb / msw\n",
      "/Users/ankit/anaconda3/lib/python3.7/site-packages/sklearn/feature_selection/univariate_selection.py:114: UserWarning: Features [0] are constant.\n",
      "  UserWarning)\n",
      "/Users/ankit/anaconda3/lib/python3.7/site-packages/sklearn/feature_selection/univariate_selection.py:115: RuntimeWarning: invalid value encountered in true_divide\n",
      "  f = msb / msw\n",
      "/Users/ankit/anaconda3/lib/python3.7/site-packages/sklearn/feature_selection/univariate_selection.py:114: UserWarning: Features [0] are constant.\n",
      "  UserWarning)\n",
      "/Users/ankit/anaconda3/lib/python3.7/site-packages/sklearn/feature_selection/univariate_selection.py:115: RuntimeWarning: invalid value encountered in true_divide\n",
      "  f = msb / msw\n",
      "/Users/ankit/anaconda3/lib/python3.7/site-packages/sklearn/feature_selection/univariate_selection.py:114: UserWarning: Features [0] are constant.\n",
      "  UserWarning)\n",
      "/Users/ankit/anaconda3/lib/python3.7/site-packages/sklearn/feature_selection/univariate_selection.py:115: RuntimeWarning: invalid value encountered in true_divide\n",
      "  f = msb / msw\n"
     ]
    }
   ],
   "source": [
    "from sklearn.feature_selection import f_classif\n",
    "for col in X_lr_train.columns:\n",
    "    mask = X_lr_train[col].notnull()\n",
    "    (linear_dep.loc[col, 'F'], linear_dep.loc[col, 'p_value']) = f_classif(pd.DataFrame(X_lr_train.loc[mask, col]), y_lr_train.loc[mask])\n"
   ]
  },
  {
   "cell_type": "markdown",
   "metadata": {},
   "source": [
    "Sort the results by the absolute value of the Pearson correlation:\n",
    "\n"
   ]
  },
  {
   "cell_type": "code",
   "execution_count": 168,
   "metadata": {},
   "outputs": [],
   "source": [
    "linear_dep.sort_values('abs_pearson_corr', ascending=False, inplace=True)\n",
    "linear_dep.drop('abs_pearson_corr', axis=1, inplace=True)\n"
   ]
  },
  {
   "cell_type": "markdown",
   "metadata": {},
   "source": [
    "Reset the index:\n",
    "\n"
   ]
  },
  {
   "cell_type": "code",
   "execution_count": 169,
   "metadata": {},
   "outputs": [],
   "source": [
    "linear_dep.reset_index(inplace=True)\n",
    "linear_dep.rename(columns={'index':'variable'}, inplace=True)\n",
    "\n"
   ]
  },
  {
   "cell_type": "markdown",
   "metadata": {},
   "source": [
    "View the results for the top 20 predictors most correlated with charged_off:\n",
    "\n"
   ]
  },
  {
   "cell_type": "code",
   "execution_count": 170,
   "metadata": {},
   "outputs": [
    {
     "data": {
      "text/html": [
       "<div>\n",
       "<style scoped>\n",
       "    .dataframe tbody tr th:only-of-type {\n",
       "        vertical-align: middle;\n",
       "    }\n",
       "\n",
       "    .dataframe tbody tr th {\n",
       "        vertical-align: top;\n",
       "    }\n",
       "\n",
       "    .dataframe thead th {\n",
       "        text-align: right;\n",
       "    }\n",
       "</style>\n",
       "<table border=\"1\" class=\"dataframe\">\n",
       "  <thead>\n",
       "    <tr style=\"text-align: right;\">\n",
       "      <th></th>\n",
       "      <th>variable</th>\n",
       "      <th>pearson_corr</th>\n",
       "      <th>F</th>\n",
       "      <th>p_value</th>\n",
       "    </tr>\n",
       "  </thead>\n",
       "  <tbody>\n",
       "    <tr>\n",
       "      <th>0</th>\n",
       "      <td>issue_d</td>\n",
       "      <td>0.348538</td>\n",
       "      <td>1106.765682</td>\n",
       "      <td>2.013476e-227</td>\n",
       "    </tr>\n",
       "    <tr>\n",
       "      <th>1</th>\n",
       "      <td>grade</td>\n",
       "      <td>-0.303534</td>\n",
       "      <td>812.270913</td>\n",
       "      <td>2.966116e-170</td>\n",
       "    </tr>\n",
       "    <tr>\n",
       "      <th>2</th>\n",
       "      <td>last_fico_range_high</td>\n",
       "      <td>0.261521</td>\n",
       "      <td>587.607228</td>\n",
       "      <td>2.518588e-125</td>\n",
       "    </tr>\n",
       "    <tr>\n",
       "      <th>3</th>\n",
       "      <td>last_fico_range_low</td>\n",
       "      <td>0.240806</td>\n",
       "      <td>492.701703</td>\n",
       "      <td>5.529379e-106</td>\n",
       "    </tr>\n",
       "    <tr>\n",
       "      <th>4</th>\n",
       "      <td>pub_rec_bankruptcies</td>\n",
       "      <td>-0.168312</td>\n",
       "      <td>233.354705</td>\n",
       "      <td>5.951227e-52</td>\n",
       "    </tr>\n",
       "    <tr>\n",
       "      <th>5</th>\n",
       "      <td>term</td>\n",
       "      <td>-0.129487</td>\n",
       "      <td>136.491143</td>\n",
       "      <td>2.793326e-31</td>\n",
       "    </tr>\n",
       "    <tr>\n",
       "      <th>6</th>\n",
       "      <td>pub_rec</td>\n",
       "      <td>-0.110699</td>\n",
       "      <td>99.299270</td>\n",
       "      <td>2.964555e-23</td>\n",
       "    </tr>\n",
       "    <tr>\n",
       "      <th>7</th>\n",
       "      <td>debt_settlement_flag</td>\n",
       "      <td>-0.100951</td>\n",
       "      <td>82.409046</td>\n",
       "      <td>1.372916e-19</td>\n",
       "    </tr>\n",
       "    <tr>\n",
       "      <th>8</th>\n",
       "      <td>verification_status</td>\n",
       "      <td>0.077342</td>\n",
       "      <td>48.166643</td>\n",
       "      <td>4.220454e-12</td>\n",
       "    </tr>\n",
       "    <tr>\n",
       "      <th>9</th>\n",
       "      <td>interest_rate</td>\n",
       "      <td>0.074254</td>\n",
       "      <td>44.376214</td>\n",
       "      <td>2.888735e-11</td>\n",
       "    </tr>\n",
       "    <tr>\n",
       "      <th>10</th>\n",
       "      <td>inq_last_6mths</td>\n",
       "      <td>-0.072144</td>\n",
       "      <td>41.877128</td>\n",
       "      <td>1.029112e-10</td>\n",
       "    </tr>\n",
       "    <tr>\n",
       "      <th>11</th>\n",
       "      <td>fico_range_low</td>\n",
       "      <td>-0.067423</td>\n",
       "      <td>36.551566</td>\n",
       "      <td>1.553460e-09</td>\n",
       "    </tr>\n",
       "    <tr>\n",
       "      <th>12</th>\n",
       "      <td>fico_range_high</td>\n",
       "      <td>-0.067423</td>\n",
       "      <td>36.551566</td>\n",
       "      <td>1.553460e-09</td>\n",
       "    </tr>\n",
       "    <tr>\n",
       "      <th>13</th>\n",
       "      <td>delinq_2yrs</td>\n",
       "      <td>-0.059986</td>\n",
       "      <td>28.904947</td>\n",
       "      <td>7.816236e-08</td>\n",
       "    </tr>\n",
       "    <tr>\n",
       "      <th>14</th>\n",
       "      <td>purpose</td>\n",
       "      <td>-0.056531</td>\n",
       "      <td>25.660973</td>\n",
       "      <td>4.160692e-07</td>\n",
       "    </tr>\n",
       "    <tr>\n",
       "      <th>15</th>\n",
       "      <td>income_category</td>\n",
       "      <td>0.054551</td>\n",
       "      <td>23.889128</td>\n",
       "      <td>1.040306e-06</td>\n",
       "    </tr>\n",
       "    <tr>\n",
       "      <th>16</th>\n",
       "      <td>title</td>\n",
       "      <td>-0.053206</td>\n",
       "      <td>22.722351</td>\n",
       "      <td>1.904806e-06</td>\n",
       "    </tr>\n",
       "    <tr>\n",
       "      <th>17</th>\n",
       "      <td>emp_length</td>\n",
       "      <td>0.048351</td>\n",
       "      <td>18.755458</td>\n",
       "      <td>1.504092e-05</td>\n",
       "    </tr>\n",
       "    <tr>\n",
       "      <th>18</th>\n",
       "      <td>chargeoff_within_12_mths</td>\n",
       "      <td>-0.044686</td>\n",
       "      <td>16.014382</td>\n",
       "      <td>6.343011e-05</td>\n",
       "    </tr>\n",
       "    <tr>\n",
       "      <th>19</th>\n",
       "      <td>collections_12_mths_ex_med</td>\n",
       "      <td>-0.044686</td>\n",
       "      <td>16.014382</td>\n",
       "      <td>6.343011e-05</td>\n",
       "    </tr>\n",
       "  </tbody>\n",
       "</table>\n",
       "</div>"
      ],
      "text/plain": [
       "                      variable  pearson_corr            F        p_value\n",
       "0                      issue_d      0.348538  1106.765682  2.013476e-227\n",
       "1                        grade     -0.303534   812.270913  2.966116e-170\n",
       "2         last_fico_range_high      0.261521   587.607228  2.518588e-125\n",
       "3          last_fico_range_low      0.240806   492.701703  5.529379e-106\n",
       "4         pub_rec_bankruptcies     -0.168312   233.354705   5.951227e-52\n",
       "5                         term     -0.129487   136.491143   2.793326e-31\n",
       "6                      pub_rec     -0.110699    99.299270   2.964555e-23\n",
       "7         debt_settlement_flag     -0.100951    82.409046   1.372916e-19\n",
       "8          verification_status      0.077342    48.166643   4.220454e-12\n",
       "9                interest_rate      0.074254    44.376214   2.888735e-11\n",
       "10              inq_last_6mths     -0.072144    41.877128   1.029112e-10\n",
       "11              fico_range_low     -0.067423    36.551566   1.553460e-09\n",
       "12             fico_range_high     -0.067423    36.551566   1.553460e-09\n",
       "13                 delinq_2yrs     -0.059986    28.904947   7.816236e-08\n",
       "14                     purpose     -0.056531    25.660973   4.160692e-07\n",
       "15             income_category      0.054551    23.889128   1.040306e-06\n",
       "16                       title     -0.053206    22.722351   1.904806e-06\n",
       "17                  emp_length      0.048351    18.755458   1.504092e-05\n",
       "18    chargeoff_within_12_mths     -0.044686    16.014382   6.343011e-05\n",
       "19  collections_12_mths_ex_med     -0.044686    16.014382   6.343011e-05"
      ]
     },
     "execution_count": 170,
     "metadata": {},
     "output_type": "execute_result"
    }
   ],
   "source": [
    "\n",
    "linear_dep.head(20)"
   ]
  },
  {
   "cell_type": "markdown",
   "metadata": {},
   "source": [
    "### We will be proceeding for an Ensembled Learning Model and hence we will now observe the performance of Six models together using a FOR loop."
   ]
  },
  {
   "cell_type": "markdown",
   "metadata": {},
   "source": [
    "The six models used below are:\n",
    "    \n",
    "1)LogisticRegression\n",
    "\n",
    "\n",
    "2)DecisionTreeClassifier\n",
    "\n",
    "\n",
    "3)LinearDiscriminantAnalysis\n",
    "\n",
    "\n",
    "4)SVC\n",
    "\n",
    "\n",
    "5)KNeighborsClassifier\n",
    "\n",
    "\n",
    "6)MultinomialNB\n"
   ]
  },
  {
   "cell_type": "markdown",
   "metadata": {},
   "source": [
    "#### Six models on the balanced data:"
   ]
  },
  {
   "cell_type": "code",
   "execution_count": 171,
   "metadata": {},
   "outputs": [
    {
     "name": "stderr",
     "output_type": "stream",
     "text": [
      "/Users/ankit/anaconda3/lib/python3.7/site-packages/sklearn/linear_model/logistic.py:432: FutureWarning: Default solver will be changed to 'lbfgs' in 0.22. Specify a solver to silence this warning.\n",
      "  FutureWarning)\n",
      "/Users/ankit/anaconda3/lib/python3.7/site-packages/sklearn/linear_model/logistic.py:432: FutureWarning: Default solver will be changed to 'lbfgs' in 0.22. Specify a solver to silence this warning.\n",
      "  FutureWarning)\n",
      "/Users/ankit/anaconda3/lib/python3.7/site-packages/sklearn/linear_model/logistic.py:432: FutureWarning: Default solver will be changed to 'lbfgs' in 0.22. Specify a solver to silence this warning.\n",
      "  FutureWarning)\n",
      "/Users/ankit/anaconda3/lib/python3.7/site-packages/sklearn/linear_model/logistic.py:432: FutureWarning: Default solver will be changed to 'lbfgs' in 0.22. Specify a solver to silence this warning.\n",
      "  FutureWarning)\n",
      "/Users/ankit/anaconda3/lib/python3.7/site-packages/sklearn/linear_model/logistic.py:432: FutureWarning: Default solver will be changed to 'lbfgs' in 0.22. Specify a solver to silence this warning.\n",
      "  FutureWarning)\n",
      "/Users/ankit/anaconda3/lib/python3.7/site-packages/sklearn/linear_model/logistic.py:432: FutureWarning: Default solver will be changed to 'lbfgs' in 0.22. Specify a solver to silence this warning.\n",
      "  FutureWarning)\n",
      "/Users/ankit/anaconda3/lib/python3.7/site-packages/sklearn/linear_model/logistic.py:432: FutureWarning: Default solver will be changed to 'lbfgs' in 0.22. Specify a solver to silence this warning.\n",
      "  FutureWarning)\n",
      "/Users/ankit/anaconda3/lib/python3.7/site-packages/sklearn/linear_model/logistic.py:432: FutureWarning: Default solver will be changed to 'lbfgs' in 0.22. Specify a solver to silence this warning.\n",
      "  FutureWarning)\n",
      "/Users/ankit/anaconda3/lib/python3.7/site-packages/sklearn/linear_model/logistic.py:432: FutureWarning: Default solver will be changed to 'lbfgs' in 0.22. Specify a solver to silence this warning.\n",
      "  FutureWarning)\n",
      "/Users/ankit/anaconda3/lib/python3.7/site-packages/sklearn/linear_model/logistic.py:432: FutureWarning: Default solver will be changed to 'lbfgs' in 0.22. Specify a solver to silence this warning.\n",
      "  FutureWarning)\n",
      "/Users/ankit/anaconda3/lib/python3.7/site-packages/sklearn/linear_model/logistic.py:432: FutureWarning: Default solver will be changed to 'lbfgs' in 0.22. Specify a solver to silence this warning.\n",
      "  FutureWarning)\n"
     ]
    },
    {
     "name": "stdout",
     "output_type": "stream",
     "text": [
      "Results on the Test Data: logreg 0.729180 0.022243 0.737546 0.742152\n",
      "Results on the Validation data: 0.721736 0.726542\n",
      "Results on the Test Data: tree 0.882242 0.017047 0.874120 0.881226\n",
      "Results on the Validation data: 0.883430 0.885413\n"
     ]
    },
    {
     "name": "stderr",
     "output_type": "stream",
     "text": [
      "/Users/ankit/anaconda3/lib/python3.7/site-packages/sklearn/discriminant_analysis.py:388: UserWarning: Variables are collinear.\n",
      "  warnings.warn(\"Variables are collinear.\")\n",
      "/Users/ankit/anaconda3/lib/python3.7/site-packages/sklearn/discriminant_analysis.py:388: UserWarning: Variables are collinear.\n",
      "  warnings.warn(\"Variables are collinear.\")\n",
      "/Users/ankit/anaconda3/lib/python3.7/site-packages/sklearn/discriminant_analysis.py:388: UserWarning: Variables are collinear.\n",
      "  warnings.warn(\"Variables are collinear.\")\n",
      "/Users/ankit/anaconda3/lib/python3.7/site-packages/sklearn/discriminant_analysis.py:388: UserWarning: Variables are collinear.\n",
      "  warnings.warn(\"Variables are collinear.\")\n",
      "/Users/ankit/anaconda3/lib/python3.7/site-packages/sklearn/discriminant_analysis.py:388: UserWarning: Variables are collinear.\n",
      "  warnings.warn(\"Variables are collinear.\")\n",
      "/Users/ankit/anaconda3/lib/python3.7/site-packages/sklearn/discriminant_analysis.py:388: UserWarning: Variables are collinear.\n",
      "  warnings.warn(\"Variables are collinear.\")\n",
      "/Users/ankit/anaconda3/lib/python3.7/site-packages/sklearn/discriminant_analysis.py:388: UserWarning: Variables are collinear.\n",
      "  warnings.warn(\"Variables are collinear.\")\n",
      "/Users/ankit/anaconda3/lib/python3.7/site-packages/sklearn/discriminant_analysis.py:388: UserWarning: Variables are collinear.\n",
      "  warnings.warn(\"Variables are collinear.\")\n",
      "/Users/ankit/anaconda3/lib/python3.7/site-packages/sklearn/discriminant_analysis.py:388: UserWarning: Variables are collinear.\n",
      "  warnings.warn(\"Variables are collinear.\")\n",
      "/Users/ankit/anaconda3/lib/python3.7/site-packages/sklearn/discriminant_analysis.py:388: UserWarning: Variables are collinear.\n",
      "  warnings.warn(\"Variables are collinear.\")\n",
      "/Users/ankit/anaconda3/lib/python3.7/site-packages/sklearn/discriminant_analysis.py:388: UserWarning: Variables are collinear.\n",
      "  warnings.warn(\"Variables are collinear.\")\n",
      "/Users/ankit/anaconda3/lib/python3.7/site-packages/sklearn/svm/base.py:193: FutureWarning: The default value of gamma will change from 'auto' to 'scale' in version 0.22 to account better for unscaled features. Set gamma explicitly to 'auto' or 'scale' to avoid this warning.\n",
      "  \"avoid this warning.\", FutureWarning)\n"
     ]
    },
    {
     "name": "stdout",
     "output_type": "stream",
     "text": [
      "Results on the Test Data: lda 0.738006 0.024670 0.738838 0.741548\n",
      "Results on the Validation data: 0.725525 0.728460\n"
     ]
    },
    {
     "name": "stderr",
     "output_type": "stream",
     "text": [
      "/Users/ankit/anaconda3/lib/python3.7/site-packages/sklearn/svm/base.py:193: FutureWarning: The default value of gamma will change from 'auto' to 'scale' in version 0.22 to account better for unscaled features. Set gamma explicitly to 'auto' or 'scale' to avoid this warning.\n",
      "  \"avoid this warning.\", FutureWarning)\n",
      "/Users/ankit/anaconda3/lib/python3.7/site-packages/sklearn/svm/base.py:193: FutureWarning: The default value of gamma will change from 'auto' to 'scale' in version 0.22 to account better for unscaled features. Set gamma explicitly to 'auto' or 'scale' to avoid this warning.\n",
      "  \"avoid this warning.\", FutureWarning)\n",
      "/Users/ankit/anaconda3/lib/python3.7/site-packages/sklearn/svm/base.py:193: FutureWarning: The default value of gamma will change from 'auto' to 'scale' in version 0.22 to account better for unscaled features. Set gamma explicitly to 'auto' or 'scale' to avoid this warning.\n",
      "  \"avoid this warning.\", FutureWarning)\n",
      "/Users/ankit/anaconda3/lib/python3.7/site-packages/sklearn/svm/base.py:193: FutureWarning: The default value of gamma will change from 'auto' to 'scale' in version 0.22 to account better for unscaled features. Set gamma explicitly to 'auto' or 'scale' to avoid this warning.\n",
      "  \"avoid this warning.\", FutureWarning)\n",
      "/Users/ankit/anaconda3/lib/python3.7/site-packages/sklearn/svm/base.py:193: FutureWarning: The default value of gamma will change from 'auto' to 'scale' in version 0.22 to account better for unscaled features. Set gamma explicitly to 'auto' or 'scale' to avoid this warning.\n",
      "  \"avoid this warning.\", FutureWarning)\n",
      "/Users/ankit/anaconda3/lib/python3.7/site-packages/sklearn/svm/base.py:193: FutureWarning: The default value of gamma will change from 'auto' to 'scale' in version 0.22 to account better for unscaled features. Set gamma explicitly to 'auto' or 'scale' to avoid this warning.\n",
      "  \"avoid this warning.\", FutureWarning)\n",
      "/Users/ankit/anaconda3/lib/python3.7/site-packages/sklearn/svm/base.py:193: FutureWarning: The default value of gamma will change from 'auto' to 'scale' in version 0.22 to account better for unscaled features. Set gamma explicitly to 'auto' or 'scale' to avoid this warning.\n",
      "  \"avoid this warning.\", FutureWarning)\n",
      "/Users/ankit/anaconda3/lib/python3.7/site-packages/sklearn/svm/base.py:193: FutureWarning: The default value of gamma will change from 'auto' to 'scale' in version 0.22 to account better for unscaled features. Set gamma explicitly to 'auto' or 'scale' to avoid this warning.\n",
      "  \"avoid this warning.\", FutureWarning)\n",
      "/Users/ankit/anaconda3/lib/python3.7/site-packages/sklearn/svm/base.py:193: FutureWarning: The default value of gamma will change from 'auto' to 'scale' in version 0.22 to account better for unscaled features. Set gamma explicitly to 'auto' or 'scale' to avoid this warning.\n",
      "  \"avoid this warning.\", FutureWarning)\n",
      "/Users/ankit/anaconda3/lib/python3.7/site-packages/sklearn/svm/base.py:193: FutureWarning: The default value of gamma will change from 'auto' to 'scale' in version 0.22 to account better for unscaled features. Set gamma explicitly to 'auto' or 'scale' to avoid this warning.\n",
      "  \"avoid this warning.\", FutureWarning)\n",
      "/Users/ankit/anaconda3/lib/python3.7/site-packages/sklearn/metrics/classification.py:1437: UndefinedMetricWarning: Precision is ill-defined and being set to 0.0 in labels with no predicted samples.\n",
      "  'precision', 'predicted', average, warn_for)\n"
     ]
    },
    {
     "name": "stdout",
     "output_type": "stream",
     "text": [
      "Results on the Test Data: svc 0.605763 0.022685 0.500000 0.301236\n"
     ]
    },
    {
     "name": "stderr",
     "output_type": "stream",
     "text": [
      "/Users/ankit/anaconda3/lib/python3.7/site-packages/sklearn/metrics/classification.py:1437: UndefinedMetricWarning: Precision is ill-defined and being set to 0.0 in labels with no predicted samples.\n",
      "  'precision', 'predicted', average, warn_for)\n"
     ]
    },
    {
     "name": "stdout",
     "output_type": "stream",
     "text": [
      "Results on the Validation data: 0.500000 0.296204\n",
      "Results on the Test Data: knn 0.641071 0.018189 0.622495 0.626699\n",
      "Results on the Validation data: 0.640372 0.644752\n",
      "Results on the Test Data: nb 0.534643 0.025895 0.537188 0.535632\n",
      "Results on the Validation data: 0.548731 0.547077\n"
     ]
    }
   ],
   "source": [
    "from sklearn.model_selection import train_test_split\n",
    "train_X,val_X,train_y,val_y=train_test_split(X1_train,y1_train,random_state=123)\n",
    "from sklearn.discriminant_analysis import LinearDiscriminantAnalysis\n",
    "from sklearn.linear_model import LogisticRegression\n",
    "from sklearn.tree import DecisionTreeClassifier\n",
    "from sklearn.svm import SVC\n",
    "from sklearn.neighbors import KNeighborsClassifier\n",
    "from sklearn.naive_bayes import MultinomialNB\n",
    "models=[]\n",
    "models.append((\"logreg\",LogisticRegression()))\n",
    "models.append((\"tree\",DecisionTreeClassifier()))\n",
    "models.append((\"lda\",LinearDiscriminantAnalysis()))\n",
    "models.append((\"svc\",SVC()))\n",
    "models.append((\"knn\",KNeighborsClassifier()))\n",
    "models.append((\"nb\",MultinomialNB()))\n",
    "seed=123\n",
    "scoring='accuracy'\n",
    "from sklearn.model_selection import KFold \n",
    "from sklearn.model_selection import cross_val_score\n",
    "result=[]\n",
    "names=[]\n",
    "for name,model in models:\n",
    "    #print(model)\n",
    "    kfold=KFold(n_splits=10,random_state=seed)\n",
    "    model.fit(train_X,train_y)\n",
    "    y1_predict=model.predict(val_X)\n",
    "    cv_result=cross_val_score(model,train_X,train_y,cv=kfold,scoring=scoring)\n",
    "    result.append(cv_result)\n",
    "    names.append(name)\n",
    "    print(\"Results on the Test Data: %s %f %f %f %f\" % (name,cv_result.mean(),cv_result.std(),recall_score(y1_test, model.predict(X1_test), average='macro'),precision_score(y1_test, model.predict(X1_test), average='macro')))  \n",
    "    print(\"Results on the Validation data: %f %f\" % (recall_score(val_y, model.predict(val_X), average='macro'),precision_score(val_y, model.predict(val_X), average='macro')))\n"
   ]
  },
  {
   "cell_type": "markdown",
   "metadata": {},
   "source": [
    "It seems like except for the SVC model all other models agree to each other.Hence we will finally use Ensemble Model as our main aim is to increase the Precision(decrease the False Positives which are more dangerous in our case).\n"
   ]
  },
  {
   "cell_type": "markdown",
   "metadata": {},
   "source": [
    "# Ensemble Model"
   ]
  },
  {
   "cell_type": "markdown",
   "metadata": {},
   "source": [
    "This method combines the decisions from multiple models to improve the overall performance. This can be achieved in various ways,the first method which we would use is Max Voting.\n",
    "\n",
    "### Max voting Ensemble Method "
   ]
  },
  {
   "cell_type": "code",
   "execution_count": 173,
   "metadata": {},
   "outputs": [
    {
     "name": "stderr",
     "output_type": "stream",
     "text": [
      "/Users/ankit/anaconda3/lib/python3.7/site-packages/sklearn/linear_model/logistic.py:432: FutureWarning: Default solver will be changed to 'lbfgs' in 0.22. Specify a solver to silence this warning.\n",
      "  FutureWarning)\n",
      "/Users/ankit/anaconda3/lib/python3.7/site-packages/sklearn/discriminant_analysis.py:388: UserWarning: Variables are collinear.\n",
      "  warnings.warn(\"Variables are collinear.\")\n"
     ]
    },
    {
     "name": "stdout",
     "output_type": "stream",
     "text": [
      "The accuracy score of the test model using the Max Voting Ensemble Method is:\n",
      "0.8141626077182466\n"
     ]
    }
   ],
   "source": [
    "from sklearn.ensemble import VotingClassifier\n",
    "model1 = LogisticRegression()\n",
    "model2 = LinearDiscriminantAnalysis()\n",
    "model3 = KNeighborsClassifier()\n",
    "model4 = DecisionTreeClassifier()\n",
    "model_final = VotingClassifier(estimators=[('lr', model1), ('ld', model2),('knn',model3),('nb',model4)], voting='hard')\n",
    "model_final.fit(train_X,train_y)\n",
    "print(\"The accuracy score of the test model using the Max Voting Ensemble Method is:\")\n",
    "print (model_final.score(X1_test,y1_test))"
   ]
  },
  {
   "cell_type": "code",
   "execution_count": 174,
   "metadata": {},
   "outputs": [
    {
     "name": "stdout",
     "output_type": "stream",
     "text": [
      "              precision    recall  f1-score   support\n",
      "\n",
      "           0     0.7920    0.9378    0.8588      1608\n",
      "           1     0.8693    0.6268    0.7284      1061\n",
      "\n",
      "    accuracy                         0.8142      2669\n",
      "   macro avg     0.8306    0.7823    0.7936      2669\n",
      "weighted avg     0.8227    0.8142    0.8069      2669\n",
      "\n"
     ]
    }
   ],
   "source": [
    "print(classification_report(y1_test, model_final.predict(X1_test), digits=4))\n"
   ]
  },
  {
   "cell_type": "markdown",
   "metadata": {},
   "source": [
    "We can see that the Ensemble Method has improved our model to a great extend. Our precision has increaed."
   ]
  },
  {
   "cell_type": "markdown",
   "metadata": {},
   "source": [
    "#### The last model which we can train our model is the \n",
    "\n",
    "### Advanced Ensemble Method of Bagging meta-estimator\n",
    "\n",
    "Bagging meta-estimator is an ensembling algorithm that can be used for both classification (BaggingClassifier) and regression (BaggingRegressor) problems. It follows the typical bagging technique to make predictions. Following are the steps for the bagging meta-estimator algorithm:\n",
    "\n",
    "Random subsets are created from the original dataset (Bootstrapping).\n",
    "The subset of the dataset includes all features.\n",
    "A user-specified base estimator is fitted on each of these smaller sets.\n",
    "Predictions from each model are combined to get the final result.:"
   ]
  },
  {
   "cell_type": "code",
   "execution_count": 179,
   "metadata": {},
   "outputs": [
    {
     "name": "stdout",
     "output_type": "stream",
     "text": [
      "The score using the Decision Tree bagging Classifier is:\n",
      "0.9153240914200075\n"
     ]
    }
   ],
   "source": [
    "from sklearn.ensemble import BaggingClassifier\n",
    "from sklearn import tree\n",
    "model1 = BaggingClassifier(DecisionTreeClassifier())\n",
    "model2 = BaggingClassifier(KNeighborsClassifier())\n",
    "model1.fit(train_X, train_y)\n",
    "print(\"The score using the Decision Tree bagging Classifier is:\")\n",
    "print(model1.score(X1_test,y1_test))\n"
   ]
  },
  {
   "cell_type": "markdown",
   "metadata": {},
   "source": [
    "We can see that there has been a good increase in the score using bagging classifier."
   ]
  },
  {
   "cell_type": "code",
   "execution_count": 177,
   "metadata": {},
   "outputs": [],
   "source": [
    "from sklearn.metrics import roc_auc_score\n"
   ]
  },
  {
   "cell_type": "code",
   "execution_count": 180,
   "metadata": {},
   "outputs": [
    {
     "data": {
      "text/plain": [
       "0.9726286100130825"
      ]
     },
     "execution_count": 180,
     "metadata": {},
     "output_type": "execute_result"
    }
   ],
   "source": [
    "y_score = model1.predict_proba(X1_test)[:,1]\n",
    "roc_auc_score(y1_test, y_score)"
   ]
  },
  {
   "cell_type": "markdown",
   "metadata": {},
   "source": [
    "## Conclusion\n",
    "\n",
    "We applied machine learning methods to predict the probability that a requested loan on LendingClub will charge off/turn into a bad loan. After training and evaluating with different models (logistic regression, random forest, and k-nearest neighbors)and finally using ensemble method we found that all Decision tree performed the best.We selected Decision tree Bagging Classifier as our final model with AUC SCORE 0.97 on a test set.\n",
    "\n",
    "This model, while far from perfect, can provide a somewhat informed prediction of the likelihood that a loan will charge off, using only data available to potential investors before the loan is fully funded.The major importance by far was found as the FICO score and the annual income. Hence, deviating from the basic prnciples of banking(FICO) would be risky for an investor.\n",
    "\n",
    "We also found that, according to the Pearson correlations between the predictors and the response, the most important variables for predicting charge-off are the loan interest rate and term, and the borrower's FICO score and debt-to-income ratio."
   ]
  },
  {
   "cell_type": "code",
   "execution_count": null,
   "metadata": {},
   "outputs": [],
   "source": []
  }
 ],
 "metadata": {
  "kernelspec": {
   "display_name": "Python 3",
   "language": "python",
   "name": "python3"
  },
  "language_info": {
   "codemirror_mode": {
    "name": "ipython",
    "version": 3
   },
   "file_extension": ".py",
   "mimetype": "text/x-python",
   "name": "python",
   "nbconvert_exporter": "python",
   "pygments_lexer": "ipython3",
   "version": "3.7.3"
  }
 },
 "nbformat": 4,
 "nbformat_minor": 2
}
